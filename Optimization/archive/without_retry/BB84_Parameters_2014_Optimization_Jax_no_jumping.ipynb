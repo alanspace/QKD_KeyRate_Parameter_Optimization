{
 "cells": [
  {
   "cell_type": "markdown",
   "metadata": {},
   "source": [
    "# BB84 QKD Parameters Optimization"
   ]
  },
  {
   "cell_type": "markdown",
   "metadata": {},
   "source": [
    "## Fiber Lengths and n_X Values\n",
    "Fiber lengths are created from 0 to 200 km in 0.1 km steps, resulting in 2001 unique fiber lengths. \\\n",
    "$n_X$ values are used ranging from $10^6$ to $10^{10}$, creating 5 unique values. \\\n",
    "Form all combinations of fiber lengths and $n_X$, resulting in 2001 $\\times$ 5 = 10,005 combinations, which aligns with the aim to generate a large dataset.\n",
    "\n",
    "## Optimization Process:\n",
    "For each combination of fiber length $L$ and $n_X$, The parameters $\\vec{p}$ = $ [ \\mu_1, \\mu_2, P_{\\mu_1}, P_{\\mu_2}, P_X ]$ are optimized using dual_annealing, which is a global optimization algorithm. \\\n",
    "The objective function is wrapped to evaluate the key rate for a specific combination of fiber length and $n_X$. \n",
    "\n",
    "## Parallelization:\n",
    "joblib’s Parallel is used to run the optimization for all combinations in parallel, with 12 threads, making the process efficient. \\\n",
    "tqdm-joblib is also used to track progress visually. \n",
    "\n",
    "## Dataset Creation:\n",
    "The results of the optimization ($e_1, e_2, e_3, e_4, n_X, R, p_{opt}$) are collected into a dataset. \\\n",
    "This dataset is saved to a file (training_dataset.json) for training a neural network. \n",
    "\n",
    "\n"
   ]
  },
  {
   "cell_type": "markdown",
   "metadata": {},
   "source": [
    "## Setup"
   ]
  },
  {
   "cell_type": "markdown",
   "metadata": {},
   "source": [
    "### Framework Selection:JAX\n",
    "Functional Programming: Simplify scientific computation and optimization workflows. \\\n",
    "Smaller Footprint: Ideal if the project doesn’t leverage TensorFlow’s broader ecosystem.\n",
    "\n",
    "##### Key Considerations\n",
    "For numerically intensive workloads (e.g., optimization tasks like QKD key rate calculations), JAX excels due to its lightweight functional paradigm.\n",
    "\n",
    "##### Conclusion\n",
    "Use JAX for performance-critical, purely numerical optimization tasks with minimal dependencies on machine learning frameworks."
   ]
  },
  {
   "cell_type": "markdown",
   "metadata": {},
   "source": [
    "## Imports"
   ]
  },
  {
   "cell_type": "code",
   "execution_count": 1,
   "metadata": {},
   "outputs": [
    {
     "name": "stderr",
     "output_type": "stream",
     "text": [
      "/Users/daai6ga1hou2/anaconda3/envs/qkd-training_set/lib/python3.9/site-packages/tqdm_joblib/__init__.py:4: TqdmExperimentalWarning: Using `tqdm.autonotebook.tqdm` in notebook mode. Use `tqdm.tqdm` instead to force console mode (e.g. in jupyter console)\n",
      "  from tqdm.autonotebook import tqdm\n"
     ]
    }
   ],
   "source": [
    "# Import necessary libraries\n",
    "import os\n",
    "import sys\n",
    "import time\n",
    "import json\n",
    "import functools\n",
    "import numpy as np\n",
    "import pandas as pd\n",
    "import matplotlib.pyplot as plt\n",
    "from tqdm import tqdm\n",
    "from tqdm_joblib import tqdm_joblib\n",
    "from joblib import Parallel, delayed\n",
    "from concurrent.futures import ProcessPoolExecutor\n",
    "from collections import defaultdict\n",
    "from scipy.optimize import minimize, dual_annealing, differential_evolution, Bounds\n",
    "\n",
    "# JAX imports\n",
    "import jax\n",
    "import jax.numpy as jnp\n",
    "from jax import grad, jit, vmap\n",
    "from jax.scipy.special import logsumexp, gamma\n",
    "from jax.experimental import pjit\n",
    "from jax.sharding import Mesh\n",
    "\n",
    "# SciPy imports\n",
    "from math import exp, factorial\n",
    "\n",
    "# JAX configuration for double precision\n",
    "jax.config.update(\"jax_enable_x64\", True)\n",
    "\n",
    "# Get the notebook's directory\n",
    "notebook_dir = os.getcwd()\n",
    "# Add parent directory to path\n",
    "project_root = os.path.dirname(notebook_dir)\n",
    "sys.path.append(project_root)"
   ]
  },
  {
   "cell_type": "code",
   "execution_count": 2,
   "metadata": {},
   "outputs": [
    {
     "name": "stdout",
     "output_type": "stream",
     "text": [
      "[CpuDevice(id=0)]\n"
     ]
    }
   ],
   "source": [
    "print(jax.devices())"
   ]
  },
  {
   "cell_type": "code",
   "execution_count": 3,
   "metadata": {},
   "outputs": [],
   "source": [
    "# pip install jax --upgrade s"
   ]
  },
  {
   "cell_type": "markdown",
   "metadata": {},
   "source": [
    "## Experimental Parameters"
   ]
  },
  {
   "cell_type": "code",
   "execution_count": 4,
   "metadata": {},
   "outputs": [],
   "source": [
    "# e_1\n",
    "# Fiber lengths\n",
    "Ls = jnp.linspace(1e-12, 200, 1000)  # Fiber lengths in km\n",
    "L_BC = Ls\n",
    "e_1 = L_BC / 100\n",
    "    \n",
    "#e_2\n",
    "P_dc_value = 6*10**-7  # Dark count probability\n",
    "Y_0 = P_dc_value\n",
    "# 2.7*10** -7\n",
    "# P_dc = 6 * 10 ** (-7)   # given in the paper, discussed with range from 10^-8 to 10^-5\n",
    "e_2 = -jnp.log(Y_0)\n",
    "\n",
    "# e_3\n",
    "e_mis = 5 * 10 ** -3  # Misalignment error probability\n",
    "# 0.026 \n",
    "e_d = e_mis\n",
    "e_3 = e_d * 100\n",
    "e_mis = 5*1e-3 # given in the paper, discussed with range from 0 to 0.1 \n",
    "\n",
    "# e_4\n",
    "# Detected events\n",
    "n_X_values = [10**6] #[10 ** s for s in range(4, 11)]  # Detected events\n",
    "# n_X_values = jnp.array([10**s for s in range(6, 11)], dtype=jnp.int64)\n",
    "N = jnp.array(n_X_values)\n",
    "e_4 = jnp.log(N)"
   ]
  },
  {
   "cell_type": "markdown",
   "metadata": {},
   "source": [
    "## Other Parameters"
   ]
  },
  {
   "cell_type": "code",
   "execution_count": 5,
   "metadata": {},
   "outputs": [],
   "source": [
    "alpha = 0.2  # Attenuation coefficient (dB/km), given in the paper\n",
    "eta_Bob = 0.1  # Detector efficiency, given in the paper\n",
    "P_ap = 0  # After-pulse probability\n",
    "f_EC = 1.16  # Error correction efficiency\n",
    "# secutity error \n",
    "epsilon_sec = 1e-10 # is equal to kappa * secrecy length Kl, range around 1e-10 Scalar, as it is a single value throughout the calculations.\n",
    "# correlation error\n",
    "epsilon_cor = 1e-15 # given in the paper, discussed with range from 0 to 10e-10\n",
    "# Dark count probability\n",
    "n_event = 1  # for single photon event\n",
    "# Misalignment error probability\n",
    "# 4*1e-2          # given in the paper, discussed with range from 0 to 0.1\n",
    "kappa = 1e-15           # given in the paper\n",
    "f_EC = 1.16             # given in the paper, range around 1.1\n"
   ]
  },
  {
   "cell_type": "markdown",
   "metadata": {},
   "source": [
    "## Optimal Paramters"
   ]
  },
  {
   "cell_type": "code",
   "execution_count": 6,
   "metadata": {},
   "outputs": [],
   "source": [
    "def optimal_parameters(params):\n",
    "    mu_1, mu_2, P_mu_1, P_mu_2, P_X_value = params\n",
    "    mu_3 = 2e-4\n",
    "    P_mu_3 = 1 - P_mu_1 - P_mu_2\n",
    "    P_Z_value = 1 - P_X_value\n",
    "    mu_k_values = jnp.array([mu_1, mu_2, mu_3])\n",
    "    return params, mu_3, P_mu_3, P_Z_value, mu_k_values"
   ]
  },
  {
   "cell_type": "markdown",
   "metadata": {},
   "source": [
    "## Functions\n",
    "\n",
    "The calculate_factorial function provided uses the gamma function to compute the factorial of a number  n . This is mathematically correct because the gamma function  \\Gamma(n+1)  is equivalent to the factorial  n!  for non-negative integers  n .\n",
    "\n",
    "## Mathematical Background\n",
    "The gamma function is defined as:\n",
    "$\\Gamma(x) = \\int_0^\\infty t^{x-1} e^{-t} \\, dt$ \\\n",
    "For positive integers, the gamma function satisfies the relationship: \\\n",
    "$\\Gamma(n + 1) = n!$\n",
    "\\\n",
    "JAX does not have a built-in factorial function, but it does support the gamma function. This makes the approach valid and compatible with JAX for automatic differentiation and JIT compilation."
   ]
  },
  {
   "cell_type": "code",
   "execution_count": 7,
   "metadata": {},
   "outputs": [],
   "source": [
    "from QKD_Functions import (\n",
    "calculate_factorial,\n",
    "calculate_tau_n,\n",
    "    calculate_eta_ch,\n",
    "    calculate_eta_sys,\n",
    "    calculate_D_mu_k,\n",
    "    calculate_n_X_total,\n",
    "    calculate_N,\n",
    "    calculate_n_Z_total,\n",
    "    calculate_e_mu_k,\n",
    "    calculate_e_obs,\n",
    "    calculate_h,\n",
    "    calculate_lambda_EC,\n",
    "    calculate_sqrt_term,\n",
    "    calculate_tau_n,\n",
    "    calculate_n_pm, \n",
    "    calculate_S_0,\n",
    "    calculate_S_1,\n",
    "    calculate_m_mu_k,\n",
    "    calculate_m_pm,\n",
    "    calculate_v_1,\n",
    "    calculate_gamma,\n",
    "    calculate_Phi,\n",
    "    calculate_LastTwoTerm,\n",
    "    calculate_l,\n",
    "    calculate_R,\n",
    "    experimental_parameters,\n",
    "    other_parameters,\n",
    "    calculate_key_rates_and_metrics,\n",
    "    penalty, \n",
    "    objective,\n",
    ")"
   ]
  },
  {
   "cell_type": "code",
   "execution_count": 8,
   "metadata": {},
   "outputs": [],
   "source": [
    "# Initialize dataset storage\n",
    "categorized_dataset = {n_X: [] for n_X in n_X_values}\n",
    "\n",
    "# Initial guess and bounds\n",
    "initial_guess = np.array([0.54, 0.375, 0.16, 0.775, 0.83])\n",
    "bounds = [\n",
    "    (4e-4, 0.9),  \n",
    "    (2e-4, 0.5),  \n",
    "    (1e-12, 1.0 - 1e-12),  \n",
    "    (1e-12, 1.0 - 1e-12),  \n",
    "    (1e-12, 1.0 - 1e-12),  \n",
    "]\n",
    "\n",
    "# Define L values\n",
    "L_values = np.linspace(0, 200, 100)\n",
    "n_X_values = [500000000] # np.logspace(4, 9, 6)  # Logarithmically spaced values from 10^4 to 10^9"
   ]
  },
  {
   "cell_type": "code",
   "execution_count": 9,
   "metadata": {},
   "outputs": [],
   "source": [
    "import numpy as np\n",
    "from scipy.optimize import dual_annealing, minimize\n",
    "from tqdm import tqdm\n",
    "import concurrent.futures\n",
    "import logging\n",
    "import json\n",
    "import time"
   ]
  },
  {
   "cell_type": "code",
   "execution_count": 10,
   "metadata": {},
   "outputs": [],
   "source": [
    "# Global variables\n",
    "x0 = initial_guess.copy()  # Store the last used initial guess\n",
    "last_valid_x0 = initial_guess.copy()  # Store the last valid parameters"
   ]
  },
  {
   "cell_type": "code",
   "execution_count": 11,
   "metadata": {},
   "outputs": [
    {
     "name": "stderr",
     "output_type": "stream",
     "text": [
      "Optimizing:   0%|          | 0/100 [00:00<?, ?it/s]"
     ]
    },
    {
     "name": "stdout",
     "output_type": "stream",
     "text": [
      "\n",
      "--- [DEBUG] Starting optimization for L=0.0 km ---\n",
      "🔵 Initial Guess for L=0.0: [0.54  0.375 0.16  0.775 0.83 ]\n",
      "\n",
      "--- [DEBUG] Starting optimization for L=2.0202020202020203 km ---\n",
      "🔵 Initial Guess for L=2.0202020202020203: [0.54  0.375 0.16  0.775 0.83 ]\n",
      "\n",
      "--- [DEBUG] Starting optimization for L=4.040404040404041 km ---\n",
      "🔵 Initial Guess for L=4.040404040404041: [0.54  0.375 0.16  0.775 0.83 ]\n",
      "\n",
      "--- [DEBUG] Starting optimization for L=6.0606060606060606 km ---\n",
      "🔵 Initial Guess for L=6.0606060606060606: [0.54  0.375 0.16  0.775 0.83 ]\n"
     ]
    },
    {
     "name": "stderr",
     "output_type": "stream",
     "text": [
      "Optimizing:   2%|▏         | 2/100 [00:15<10:32,  6.45s/it]"
     ]
    },
    {
     "name": "stdout",
     "output_type": "stream",
     "text": [
      "✅ Final Optimized Parameters for L=6.0606060606060606 km: [0.49279999 0.35680402 0.18354589 0.77075954 0.86228818]\n",
      "✅ Final Optimized Key Rate for L=6.0606060606060606 km: 0.007598768212607877\n",
      "\n",
      "--- [DEBUG] Starting optimization for L=8.080808080808081 km ---\n",
      "🔵 Initial Guess for L=8.080808080808081: [0.49279999 0.35680402 0.18354589 0.77075954 0.86228818]\n",
      "✅ Final Optimized Parameters for L=4.040404040404041 km: [0.49404231 0.3579824  0.183035   0.77129059 0.86238234]\n",
      "✅ Final Optimized Key Rate for L=4.040404040404041 km: 0.008371077770039552\n",
      "\n",
      "--- [DEBUG] Starting optimization for L=10.101010101010102 km ---\n",
      "🔵 Initial Guess for L=10.101010101010102: [0.49404231 0.3579824  0.183035   0.77129059 0.86238234]\n",
      "✅ Final Optimized Parameters for L=2.0202020202020203 km: [0.49546786 0.359267   0.18251787 0.77183443 0.86247728]\n",
      "✅ Final Optimized Key Rate for L=2.0202020202020203 km: 0.009222937015777859\n",
      "\n",
      "--- [DEBUG] Starting optimization for L=12.121212121212121 km ---\n",
      "🔵 Initial Guess for L=12.121212121212121: [0.49546786 0.359267   0.18251787 0.77183443 0.86247728]\n"
     ]
    },
    {
     "name": "stderr",
     "output_type": "stream",
     "text": [
      "Optimizing:   4%|▍         | 4/100 [00:15<03:54,  2.44s/it]"
     ]
    },
    {
     "name": "stdout",
     "output_type": "stream",
     "text": [
      "✅ Final Optimized Parameters for L=0.0 km: [0.49709168 0.36067042 0.18198917 0.77239686 0.86257401]\n",
      "✅ Final Optimized Key Rate for L=0.0 km: 0.010162991029496716\n",
      "\n",
      "--- [DEBUG] Starting optimization for L=14.141414141414142 km ---\n",
      "🔵 Initial Guess for L=14.141414141414142: [0.49709168 0.36067042 0.18198917 0.77239686 0.86257401]\n"
     ]
    },
    {
     "name": "stderr",
     "output_type": "stream",
     "text": [
      "Optimizing:   5%|▌         | 5/100 [00:30<09:47,  6.18s/it]"
     ]
    },
    {
     "name": "stdout",
     "output_type": "stream",
     "text": [
      "✅ Final Optimized Parameters for L=8.080808080808081 km: [0.49172782 0.35572049 0.18405467 0.770237   0.86219393]\n",
      "✅ Final Optimized Key Rate for L=8.080808080808081 km: 0.006898273384589027\n",
      "\n",
      "--- [DEBUG] Starting optimization for L=16.161616161616163 km ---\n",
      "🔵 Initial Guess for L=16.161616161616163: [0.49172782 0.35572049 0.18405467 0.770237   0.86219393]\n"
     ]
    },
    {
     "name": "stderr",
     "output_type": "stream",
     "text": [
      "Optimizing:   7%|▋         | 7/100 [00:30<04:49,  3.12s/it]"
     ]
    },
    {
     "name": "stdout",
     "output_type": "stream",
     "text": [
      "✅ Final Optimized Parameters for L=10.101010101010102 km: [0.49081467 0.35472151 0.1845669  0.76971689 0.86209858]\n",
      "✅ Final Optimized Key Rate for L=10.101010101010102 km: 0.006262662462901468\n",
      "\n",
      "--- [DEBUG] Starting optimization for L=18.181818181818183 km ---\n",
      "🔵 Initial Guess for L=18.181818181818183: [0.49081467 0.35472151 0.1845669  0.76971689 0.86209858]\n",
      "✅ Final Optimized Parameters for L=12.121212121212121 km: [0.4900506  0.35379752 0.18508725 0.76919449 0.86200124]\n",
      "✅ Final Optimized Key Rate for L=12.121212121212121 km: 0.005685716699409829\n",
      "\n",
      "--- [DEBUG] Starting optimization for L=20.202020202020204 km ---\n",
      "🔵 Initial Guess for L=20.202020202020204: [0.4900506  0.35379752 0.18508725 0.76919449 0.86200124]\n"
     ]
    },
    {
     "name": "stderr",
     "output_type": "stream",
     "text": [
      "Optimizing:   8%|▊         | 8/100 [00:31<03:26,  2.24s/it]"
     ]
    },
    {
     "name": "stdout",
     "output_type": "stream",
     "text": [
      "✅ Final Optimized Parameters for L=14.141414141414142 km: [0.48942737 0.35293989 0.18562095 0.76866426 0.86190088]\n",
      "✅ Final Optimized Key Rate for L=14.141414141414142 km: 0.005161849226329055\n",
      "\n",
      "--- [DEBUG] Starting optimization for L=22.222222222222225 km ---\n",
      "🔵 Initial Guess for L=22.222222222222225: [0.48942737 0.35293989 0.18562095 0.76866426 0.86190088]\n"
     ]
    },
    {
     "name": "stderr",
     "output_type": "stream",
     "text": [
      "Optimizing:   9%|▉         | 9/100 [00:45<08:47,  5.80s/it]"
     ]
    },
    {
     "name": "stdout",
     "output_type": "stream",
     "text": [
      "✅ Final Optimized Parameters for L=16.161616161616163 km: [0.48893765 0.35214072 0.1861732  0.76812081 0.86179651]\n",
      "✅ Final Optimized Key Rate for L=16.161616161616163 km: 0.004686035004579672\n",
      "\n",
      "--- [DEBUG] Starting optimization for L=24.242424242424242 km ---\n",
      "🔵 Initial Guess for L=24.242424242424242: [0.48893765 0.35214072 0.1861732  0.76812081 0.86179651]\n"
     ]
    },
    {
     "name": "stderr",
     "output_type": "stream",
     "text": [
      "Optimizing:  10%|█         | 10/100 [00:45<06:27,  4.31s/it]"
     ]
    },
    {
     "name": "stdout",
     "output_type": "stream",
     "text": [
      "✅ Final Optimized Parameters for L=18.181818181818183 km: [0.48857561 0.35139259 0.18674969 0.76755831 0.86168707]\n",
      "✅ Final Optimized Key Rate for L=18.181818181818183 km: 0.004253749468185264\n",
      "\n",
      "--- [DEBUG] Starting optimization for L=26.262626262626263 km ---\n",
      "🔵 Initial Guess for L=26.262626262626263: [0.48857561 0.35139259 0.18674969 0.76755831 0.86168707]\n"
     ]
    },
    {
     "name": "stderr",
     "output_type": "stream",
     "text": [
      "Optimizing:  11%|█         | 11/100 [00:46<04:35,  3.09s/it]"
     ]
    },
    {
     "name": "stdout",
     "output_type": "stream",
     "text": [
      "✅ Final Optimized Parameters for L=20.202020202020204 km: [0.48833617 0.35068869 0.18735631 0.76697075 0.86157137]\n",
      "✅ Final Optimized Key Rate for L=20.202020202020204 km: 0.003860914646643796\n",
      "\n",
      "--- [DEBUG] Starting optimization for L=28.282828282828284 km ---\n",
      "🔵 Initial Guess for L=28.282828282828284: [0.48833617 0.35068869 0.18735631 0.76697075 0.86157137]\n"
     ]
    },
    {
     "name": "stderr",
     "output_type": "stream",
     "text": [
      "Optimizing:  12%|█▏        | 12/100 [00:46<03:20,  2.28s/it]"
     ]
    },
    {
     "name": "stdout",
     "output_type": "stream",
     "text": [
      "✅ Final Optimized Parameters for L=22.222222222222225 km: [0.48821553 0.35002273 0.18799951 0.76635151 0.86144825]\n",
      "✅ Final Optimized Key Rate for L=22.222222222222225 km: 0.003503851736983949\n",
      "\n",
      "--- [DEBUG] Starting optimization for L=30.303030303030305 km ---\n",
      "🔵 Initial Guess for L=30.303030303030305: [0.48821553 0.35002273 0.18799951 0.76635151 0.86144825]\n"
     ]
    },
    {
     "name": "stderr",
     "output_type": "stream",
     "text": [
      "Optimizing:  13%|█▎        | 13/100 [01:00<08:12,  5.66s/it]"
     ]
    },
    {
     "name": "stdout",
     "output_type": "stream",
     "text": [
      "✅ Final Optimized Parameters for L=24.242424242424242 km: [0.48821039 0.34938871 0.18868583 0.76569389 0.86131636]\n",
      "✅ Final Optimized Key Rate for L=24.242424242424242 km: 0.003179239254953378\n",
      "\n",
      "--- [DEBUG] Starting optimization for L=32.323232323232325 km ---\n",
      "🔵 Initial Guess for L=32.323232323232325: [0.48821039 0.34938871 0.18868583 0.76569389 0.86131636]\n"
     ]
    },
    {
     "name": "stderr",
     "output_type": "stream",
     "text": [
      "Optimizing:  14%|█▍        | 14/100 [01:01<06:10,  4.31s/it]"
     ]
    },
    {
     "name": "stdout",
     "output_type": "stream",
     "text": [
      "✅ Final Optimized Parameters for L=26.262626262626263 km: [0.48831858 0.34878103 0.189423   0.76499005 0.86117431]\n",
      "✅ Final Optimized Key Rate for L=26.262626262626263 km: 0.0028840760261820424\n",
      "\n",
      "--- [DEBUG] Starting optimization for L=34.343434343434346 km ---\n",
      "🔵 Initial Guess for L=34.343434343434346: [0.48831858 0.34878103 0.189423   0.76499005 0.86117431]\n"
     ]
    },
    {
     "name": "stderr",
     "output_type": "stream",
     "text": [
      "Optimizing:  15%|█▌        | 15/100 [01:01<04:27,  3.14s/it]"
     ]
    },
    {
     "name": "stdout",
     "output_type": "stream",
     "text": [
      "✅ Final Optimized Parameters for L=28.282828282828284 km: [0.48853838 0.34819419 0.19021902 0.76423186 0.86102051]\n",
      "✅ Final Optimized Key Rate for L=28.282828282828284 km: 0.0026156483878897003\n",
      "\n",
      "--- [DEBUG] Starting optimization for L=36.36363636363637 km ---\n",
      "🔵 Initial Guess for L=36.36363636363637: [0.48853838 0.34819419 0.19021902 0.76423186 0.86102051]\n"
     ]
    },
    {
     "name": "stderr",
     "output_type": "stream",
     "text": [
      "Optimizing:  16%|█▌        | 16/100 [01:02<03:15,  2.32s/it]"
     ]
    },
    {
     "name": "stdout",
     "output_type": "stream",
     "text": [
      "✅ Final Optimized Parameters for L=30.303030303030305 km: [0.48886896 0.34762324 0.19108273 0.76341022 0.86085327]\n",
      "✅ Final Optimized Key Rate for L=30.303030303030305 km: 0.0023715010635682195\n",
      "\n",
      "--- [DEBUG] Starting optimization for L=38.38383838383839 km ---\n",
      "🔵 Initial Guess for L=38.38383838383839: [0.48886896 0.34762324 0.19108273 0.76341022 0.86085327]\n"
     ]
    },
    {
     "name": "stderr",
     "output_type": "stream",
     "text": [
      "Optimizing:  17%|█▋        | 17/100 [01:15<07:39,  5.53s/it]"
     ]
    },
    {
     "name": "stdout",
     "output_type": "stream",
     "text": [
      "✅ Final Optimized Parameters for L=32.323232323232325 km: [0.48930982 0.34706315 0.19202433 0.7625148  0.86067058]\n",
      "✅ Final Optimized Key Rate for L=32.323232323232325 km: 0.002149411250179073\n",
      "\n",
      "--- [DEBUG] Starting optimization for L=40.40404040404041 km ---\n",
      "🔵 Initial Guess for L=40.40404040404041: [0.48930982 0.34706315 0.19202433 0.7625148  0.86067058]\n"
     ]
    },
    {
     "name": "stderr",
     "output_type": "stream",
     "text": [
      "Optimizing:  18%|█▊        | 18/100 [01:16<05:54,  4.32s/it]"
     ]
    },
    {
     "name": "stdout",
     "output_type": "stream",
     "text": [
      "✅ Final Optimized Parameters for L=34.343434343434346 km: [0.48986142 0.34650912 0.19305429 0.76153484 0.86047047]\n",
      "✅ Final Optimized Key Rate for L=34.343434343434346 km: 0.0019473655223017881\n",
      "\n",
      "--- [DEBUG] Starting optimization for L=42.42424242424243 km ---\n",
      "🔵 Initial Guess for L=42.42424242424243: [0.48986142 0.34650912 0.19305429 0.76153484 0.86047047]\n"
     ]
    },
    {
     "name": "stderr",
     "output_type": "stream",
     "text": [
      "Optimizing:  19%|█▉        | 19/100 [01:17<04:18,  3.19s/it]"
     ]
    },
    {
     "name": "stdout",
     "output_type": "stream",
     "text": [
      "✅ Final Optimized Parameters for L=36.36363636363637 km: [0.49052393 0.34595645 0.19418452 0.76045817 0.86025038]\n",
      "✅ Final Optimized Key Rate for L=36.36363636363637 km: 0.0017635392124451708\n",
      "\n",
      "--- [DEBUG] Starting optimization for L=44.44444444444445 km ---\n",
      "🔵 Initial Guess for L=44.44444444444445: [0.49052393 0.34595645 0.19418452 0.76045817 0.86025038]\n"
     ]
    },
    {
     "name": "stderr",
     "output_type": "stream",
     "text": [
      "Optimizing:  20%|██        | 20/100 [01:17<03:11,  2.40s/it]"
     ]
    },
    {
     "name": "stdout",
     "output_type": "stream",
     "text": [
      "✅ Final Optimized Parameters for L=38.38383838383839 km: [0.49129887 0.34540052 0.1954292  0.75927026 0.86000769]\n",
      "✅ Final Optimized Key Rate for L=38.38383838383839 km: 0.0015962779730850703\n",
      "\n",
      "--- [DEBUG] Starting optimization for L=46.46464646464647 km ---\n",
      "🔵 Initial Guess for L=46.46464646464647: [0.49129887 0.34540052 0.1954292  0.75927026 0.86000769]\n"
     ]
    },
    {
     "name": "stderr",
     "output_type": "stream",
     "text": [
      "Optimizing:  21%|██        | 21/100 [01:30<07:07,  5.42s/it]"
     ]
    },
    {
     "name": "stdout",
     "output_type": "stream",
     "text": [
      "✅ Final Optimized Parameters for L=40.40404040404041 km: [0.48544246 0.34506594 0.18875763 0.75825475 0.86138146]\n",
      "✅ Final Optimized Key Rate for L=40.40404040404041 km: 0.001444677290286368\n",
      "\n",
      "--- [DEBUG] Starting optimization for L=48.484848484848484 km ---\n",
      "🔵 Initial Guess for L=48.484848484848484: [0.48544246 0.34506594 0.18875763 0.75825475 0.86138146]\n"
     ]
    },
    {
     "name": "stderr",
     "output_type": "stream",
     "text": [
      "Optimizing:  22%|██▏       | 22/100 [01:31<05:37,  4.33s/it]"
     ]
    },
    {
     "name": "stdout",
     "output_type": "stream",
     "text": [
      "✅ Final Optimized Parameters for L=42.42424242424243 km: [0.48547666 0.34485359 0.18942488 0.75751182 0.86114782]\n",
      "✅ Final Optimized Key Rate for L=42.42424242424243 km: 0.001308244409958405\n",
      "\n",
      "--- [DEBUG] Starting optimization for L=50.505050505050505 km ---\n",
      "🔵 Initial Guess for L=50.505050505050505: [0.48547666 0.34485359 0.18942488 0.75751182 0.86114782]\n"
     ]
    },
    {
     "name": "stderr",
     "output_type": "stream",
     "text": [
      "Optimizing:  23%|██▎       | 23/100 [01:32<04:09,  3.24s/it]"
     ]
    },
    {
     "name": "stdout",
     "output_type": "stream",
     "text": [
      "✅ Final Optimized Parameters for L=44.44444444444445 km: [0.485565   0.34465463 0.19014255 0.75671327 0.86089218]\n",
      "✅ Final Optimized Key Rate for L=44.44444444444445 km: 0.001184066425488649\n",
      "\n",
      "--- [DEBUG] Starting optimization for L=52.525252525252526 km ---\n",
      "🔵 Initial Guess for L=52.525252525252526: [0.485565   0.34465463 0.19014255 0.75671327 0.86089218]\n"
     ]
    },
    {
     "name": "stderr",
     "output_type": "stream",
     "text": [
      "Optimizing:  24%|██▍       | 24/100 [01:33<03:06,  2.45s/it]"
     ]
    },
    {
     "name": "stdout",
     "output_type": "stream",
     "text": [
      "✅ Final Optimized Parameters for L=46.46464646464647 km: [0.48570774 0.34446635 0.19091602 0.75585299 0.86061209]\n",
      "✅ Final Optimized Key Rate for L=46.46464646464647 km: 0.0010710386943648524\n",
      "\n",
      "--- [DEBUG] Starting optimization for L=54.54545454545455 km ---\n",
      "🔵 Initial Guess for L=54.54545454545455: [0.48570774 0.34446635 0.19091602 0.75585299 0.86061209]\n"
     ]
    },
    {
     "name": "stderr",
     "output_type": "stream",
     "text": [
      "Optimizing:  25%|██▌       | 25/100 [01:45<06:36,  5.29s/it]"
     ]
    },
    {
     "name": "stdout",
     "output_type": "stream",
     "text": [
      "✅ Final Optimized Parameters for L=48.484848484848484 km: [0.48590558 0.34428584 0.19175168 0.75492412 0.86030481]\n",
      "✅ Final Optimized Key Rate for L=48.484848484848484 km: 0.0009681579859538508\n",
      "\n",
      "--- [DEBUG] Starting optimization for L=56.56565656565657 km ---\n",
      "🔵 Initial Guess for L=56.56565656565657: [0.48590558 0.34428584 0.19175168 0.75492412 0.86030481]\n"
     ]
    },
    {
     "name": "stderr",
     "output_type": "stream",
     "text": [
      "Optimizing:  26%|██▌       | 26/100 [01:47<05:20,  4.33s/it]"
     ]
    },
    {
     "name": "stdout",
     "output_type": "stream",
     "text": [
      "✅ Final Optimized Parameters for L=50.505050505050505 km: [0.4861594  0.34411075 0.19265493 0.75392052 0.85996717]\n",
      "✅ Final Optimized Key Rate for L=50.505050505050505 km: 0.0008745129462989966\n",
      "\n",
      "--- [DEBUG] Starting optimization for L=58.58585858585859 km ---\n",
      "🔵 Initial Guess for L=58.58585858585859: [0.4861594  0.34411075 0.19265493 0.75392052 0.85996717]\n"
     ]
    },
    {
     "name": "stderr",
     "output_type": "stream",
     "text": [
      "Optimizing:  27%|██▋       | 27/100 [01:48<04:01,  3.30s/it]"
     ]
    },
    {
     "name": "stdout",
     "output_type": "stream",
     "text": [
      "✅ Final Optimized Parameters for L=52.525252525252526 km: [0.48647075 0.34393799 0.19363102 0.75283615 0.8595959 ]\n",
      "✅ Final Optimized Key Rate for L=52.525252525252526 km: 0.00078927550139552\n",
      "\n",
      "--- [DEBUG] Starting optimization for L=60.60606060606061 km ---\n",
      "🔵 Initial Guess for L=60.60606060606061: [0.48647075 0.34393799 0.19363102 0.75283615 0.8595959 ]\n"
     ]
    },
    {
     "name": "stderr",
     "output_type": "stream",
     "text": [
      "Optimizing:  28%|██▊       | 28/100 [01:48<02:58,  2.49s/it]"
     ]
    },
    {
     "name": "stdout",
     "output_type": "stream",
     "text": [
      "✅ Final Optimized Parameters for L=54.54545454545455 km: [0.48684124 0.34376457 0.1946888  0.75166156 0.85918681]\n",
      "✅ Final Optimized Key Rate for L=54.54545454545455 km: 0.0007116930997559293\n",
      "\n",
      "--- [DEBUG] Starting optimization for L=62.62626262626263 km ---\n",
      "🔵 Initial Guess for L=62.62626262626263: [0.48684124 0.34376457 0.1946888  0.75166156 0.85918681]\n"
     ]
    },
    {
     "name": "stderr",
     "output_type": "stream",
     "text": [
      "Optimizing:  29%|██▉       | 29/100 [01:59<06:02,  5.11s/it]"
     ]
    },
    {
     "name": "stdout",
     "output_type": "stream",
     "text": [
      "✅ Final Optimized Parameters for L=56.56565656565657 km: [0.48727277 0.34358714 0.19583342 0.75039081 0.85873589]\n",
      "✅ Final Optimized Key Rate for L=56.56565656565657 km: 0.0006410817066644446\n"
     ]
    },
    {
     "name": "stderr",
     "output_type": "stream",
     "text": [
      "Optimizing:  30%|███       | 30/100 [02:01<04:43,  4.04s/it]"
     ]
    },
    {
     "name": "stdout",
     "output_type": "stream",
     "text": [
      "✅ Final Optimized Parameters for L=58.58585858585859 km: [0.4877683  0.34340243 0.19707412 0.74901375 0.85823801]\n",
      "✅ Final Optimized Key Rate for L=58.58585858585859 km: 0.0005768194725774274\n"
     ]
    },
    {
     "name": "stderr",
     "output_type": "stream",
     "text": [
      "Optimizing:  31%|███       | 31/100 [02:01<03:22,  2.94s/it]"
     ]
    },
    {
     "name": "stdout",
     "output_type": "stream",
     "text": [
      "✅ Final Optimized Parameters for L=60.60606060606061 km: [0.48833015 0.34320664 0.1984174  0.74752284 0.85768768]\n",
      "✅ Final Optimized Key Rate for L=60.60606060606061 km: 0.0005183410069273648\n",
      "✅ Final Optimized Parameters for L=62.62626262626263 km: [0.48896152 0.34299556 0.1998716  0.74590891 0.85707854]\n",
      "✅ Final Optimized Key Rate for L=62.62626262626263 km: 0.00046513219627865304\n",
      "\n",
      "--- [DEBUG] Starting optimization for L=64.64646464646465 km ---\n",
      "🔵 Initial Guess for L=64.64646464646465: [0.48896152 0.34299556 0.1998716  0.74590891 0.85707854]\n",
      "\n",
      "--- [DEBUG] Starting optimization for L=66.66666666666667 km ---\n",
      "🔵 Initial Guess for L=66.66666666666667: [0.48896152 0.34299556 0.1998716  0.74590891 0.85707854]\n",
      "\n",
      "--- [DEBUG] Starting optimization for L=68.68686868686869 km ---\n",
      "🔵 Initial Guess for L=68.68686868686869: [0.48896152 0.34299556 0.1998716  0.74590891 0.85707854]\n",
      "\n",
      "--- [DEBUG] Starting optimization for L=70.70707070707071 km ---\n",
      "🔵 Initial Guess for L=70.70707070707071: [0.48896152 0.34299556 0.1998716  0.74590891 0.85707854]\n"
     ]
    },
    {
     "name": "stderr",
     "output_type": "stream",
     "text": [
      "Optimizing:  33%|███▎      | 33/100 [02:16<05:36,  5.02s/it]"
     ]
    },
    {
     "name": "stdout",
     "output_type": "stream",
     "text": [
      "✅ Final Optimized Parameters for L=64.64646464646465 km: [0.48966607 0.34276455 0.20144609 0.74416149 0.85640323]\n",
      "✅ Final Optimized Key Rate for L=64.64646464646465 km: 0.0004167255125393616\n",
      "\n",
      "--- [DEBUG] Starting optimization for L=72.72727272727273 km ---\n",
      "🔵 Initial Guess for L=72.72727272727273: [0.48966607 0.34276455 0.20144609 0.74416149 0.85640323]\n"
     ]
    },
    {
     "name": "stderr",
     "output_type": "stream",
     "text": [
      "Optimizing:  36%|███▌      | 36/100 [02:17<02:27,  2.30s/it]"
     ]
    },
    {
     "name": "stdout",
     "output_type": "stream",
     "text": [
      "✅ Final Optimized Parameters for L=66.66666666666667 km: [0.49044727 0.34250892 0.20314816 0.74227201 0.85565359]\n",
      "✅ Final Optimized Key Rate for L=66.66666666666667 km: 0.0003726957628818599\n",
      "\n",
      "--- [DEBUG] Starting optimization for L=74.74747474747475 km ---\n",
      "🔵 Initial Guess for L=74.74747474747475: [0.49044727 0.34250892 0.20314816 0.74227201 0.85565359]\n",
      "✅ Final Optimized Parameters for L=68.68686868686869 km: [0.49130877 0.34222268 0.20498903 0.74022818 0.85481973]\n",
      "✅ Final Optimized Key Rate for L=68.68686868686869 km: 0.00033265623828464133\n",
      "\n",
      "--- [DEBUG] Starting optimization for L=76.76767676767678 km ---\n",
      "🔵 Initial Guess for L=76.76767676767678: [0.49130877 0.34222268 0.20498903 0.74022818 0.85481973]\n",
      "✅ Final Optimized Parameters for L=70.70707070707071 km: [0.49225531 0.34190051 0.20697593 0.73802119 0.85389071]\n",
      "✅ Final Optimized Key Rate for L=70.70707070707071 km: 0.0002962552222708313\n",
      "\n",
      "--- [DEBUG] Starting optimization for L=78.7878787878788 km ---\n",
      "🔵 Initial Guess for L=78.7878787878788: [0.49225531 0.34190051 0.20697593 0.73802119 0.85389071]\n"
     ]
    },
    {
     "name": "stderr",
     "output_type": "stream",
     "text": [
      "Optimizing:  37%|███▋      | 37/100 [02:31<05:14,  4.99s/it]"
     ]
    },
    {
     "name": "stdout",
     "output_type": "stream",
     "text": [
      "✅ Final Optimized Parameters for L=72.72727272727273 km: [0.49329026 0.34153521 0.20911912 0.73563925 0.85285304]\n",
      "✅ Final Optimized Key Rate for L=72.72727272727273 km: 0.0002631728255927843\n",
      "\n",
      "--- [DEBUG] Starting optimization for L=80.80808080808082 km ---\n",
      "🔵 Initial Guess for L=80.80808080808082: [0.49329026 0.34153521 0.20911912 0.73563925 0.85285304]\n"
     ]
    },
    {
     "name": "stderr",
     "output_type": "stream",
     "text": [
      "Optimizing:  38%|███▊      | 38/100 [02:32<04:05,  3.95s/it]"
     ]
    },
    {
     "name": "stdout",
     "output_type": "stream",
     "text": [
      "✅ Final Optimized Parameters for L=74.74747474747475 km: [0.48837021 0.34217426 0.21185548 0.72623552 0.85051636]\n",
      "✅ Final Optimized Key Rate for L=74.74747474747475 km: 0.00023342134888782956\n",
      "\n",
      "--- [DEBUG] Starting optimization for L=82.82828282828284 km ---\n",
      "🔵 Initial Guess for L=82.82828282828284: [0.48837021 0.34217426 0.21185548 0.72623552 0.85051636]\n"
     ]
    },
    {
     "name": "stderr",
     "output_type": "stream",
     "text": [
      "Optimizing:  39%|███▉      | 39/100 [02:32<03:03,  3.01s/it]"
     ]
    },
    {
     "name": "stdout",
     "output_type": "stream",
     "text": [
      "✅ Final Optimized Parameters for L=76.76767676767678 km: [0.48804231 0.34236695 0.21358172 0.72392138 0.84935278]\n",
      "✅ Final Optimized Key Rate for L=76.76767676767678 km: 0.00020648177953488521\n",
      "\n",
      "--- [DEBUG] Starting optimization for L=84.84848484848486 km ---\n",
      "🔵 Initial Guess for L=84.84848484848486: [0.48804231 0.34236695 0.21358172 0.72392138 0.84935278]\n",
      "✅ Final Optimized Parameters for L=78.7878787878788 km: [0.48764407 0.34256296 0.21542675 0.72143586 0.84804208]\n",
      "✅ Final Optimized Key Rate for L=78.7878787878788 km: 0.0001820399821057155\n",
      "\n",
      "--- [DEBUG] Starting optimization for L=86.86868686868688 km ---\n",
      "🔵 Initial Guess for L=86.86868686868688: [0.48764407 0.34256296 0.21542675 0.72143586 0.84804208]\n"
     ]
    },
    {
     "name": "stderr",
     "output_type": "stream",
     "text": [
      "Optimizing:  41%|████      | 41/100 [02:46<04:35,  4.66s/it]"
     ]
    },
    {
     "name": "stdout",
     "output_type": "stream",
     "text": [
      "✅ Final Optimized Parameters for L=80.80808080808082 km: [0.48716047 0.34275898 0.21740313 0.71876157 0.84655985]\n",
      "✅ Final Optimized Key Rate for L=80.80808080808082 km: 0.0001598792669776002\n",
      "\n",
      "--- [DEBUG] Starting optimization for L=88.8888888888889 km ---\n",
      "🔵 Initial Guess for L=88.8888888888889: [0.48716047 0.34275898 0.21740313 0.71876157 0.84655985]\n"
     ]
    },
    {
     "name": "stderr",
     "output_type": "stream",
     "text": [
      "Optimizing:  42%|████▏     | 42/100 [02:47<03:43,  3.85s/it]"
     ]
    },
    {
     "name": "stdout",
     "output_type": "stream",
     "text": [
      "✅ Final Optimized Parameters for L=82.82828282828284 km: [0.48657581 0.34295266 0.21952406 0.71588026 0.84487638]\n",
      "✅ Final Optimized Key Rate for L=82.82828282828284 km: 0.00013980258076732197\n",
      "\n",
      "--- [DEBUG] Starting optimization for L=90.90909090909092 km ---\n",
      "🔵 Initial Guess for L=90.90909090909092: [0.48657581 0.34295266 0.21952406 0.71588026 0.84487638]\n"
     ]
    },
    {
     "name": "stderr",
     "output_type": "stream",
     "text": [
      "Optimizing:  44%|████▍     | 44/100 [02:48<02:05,  2.24s/it]"
     ]
    },
    {
     "name": "stdout",
     "output_type": "stream",
     "text": [
      "✅ Final Optimized Parameters for L=84.84848484848486 km: [0.48587053 0.34314006 0.22180853 0.71276763 0.8429546 ]\n",
      "✅ Final Optimized Key Rate for L=84.84848484848486 km: 0.00012163077155913017\n",
      "\n",
      "--- [DEBUG] Starting optimization for L=92.92929292929294 km ---\n",
      "🔵 Initial Guess for L=92.92929292929294: [0.48587053 0.34314006 0.22180853 0.71276763 0.8429546 ]\n",
      "✅ Final Optimized Parameters for L=86.86868686868688 km: [0.48502228 0.34331726 0.22428508 0.70938936 0.84074773]\n",
      "✅ Final Optimized Key Rate for L=86.86868686868688 km: 0.0001052010272446174\n",
      "\n",
      "--- [DEBUG] Starting optimization for L=94.94949494949496 km ---\n",
      "🔵 Initial Guess for L=94.94949494949496: [0.48502228 0.34331726 0.22428508 0.70938936 0.84074773]\n"
     ]
    },
    {
     "name": "stderr",
     "output_type": "stream",
     "text": [
      "Optimizing:  45%|████▌     | 45/100 [03:01<04:48,  5.24s/it]"
     ]
    },
    {
     "name": "stdout",
     "output_type": "stream",
     "text": [
      "✅ Final Optimized Parameters for L=88.8888888888889 km: [0.48400542 0.34348029 0.22698694 0.70570592 0.83819601]\n",
      "✅ Final Optimized Key Rate for L=88.8888888888889 km: 9.036547771822914e-05\n",
      "\n",
      "--- [DEBUG] Starting optimization for L=96.96969696969697 km ---\n",
      "🔵 Initial Guess for L=96.96969696969697: [0.48400542 0.34348029 0.22698694 0.70570592 0.83819601]\n"
     ]
    },
    {
     "name": "stderr",
     "output_type": "stream",
     "text": [
      "Optimizing:  46%|████▌     | 46/100 [03:02<03:44,  4.16s/it]"
     ]
    },
    {
     "name": "stdout",
     "output_type": "stream",
     "text": [
      "✅ Final Optimized Parameters for L=90.90909090909092 km: [0.48278912 0.34362433 0.22996528 0.70165931 0.83522111]\n",
      "✅ Final Optimized Key Rate for L=90.90909090909092 km: 7.698995607865817e-05\n",
      "\n",
      "--- [DEBUG] Starting optimization for L=98.98989898989899 km ---\n",
      "🔵 Initial Guess for L=98.98989898989899: [0.48278912 0.34362433 0.22996528 0.70165931 0.83522111]\n"
     ]
    },
    {
     "name": "stderr",
     "output_type": "stream",
     "text": [
      "Optimizing:  47%|████▋     | 47/100 [03:03<02:43,  3.09s/it]"
     ]
    },
    {
     "name": "stdout",
     "output_type": "stream",
     "text": [
      "✅ Final Optimized Parameters for L=92.92929292929294 km: [0.48133714 0.34374459 0.23329128 0.69717198 0.83171846]\n",
      "✅ Final Optimized Key Rate for L=92.92929292929294 km: 6.495292030479689e-05\n",
      "\n",
      "--- [DEBUG] Starting optimization for L=101.01010101010101 km ---\n",
      "🔵 Initial Guess for L=101.01010101010101: [0.48133714 0.34374459 0.23329128 0.69717198 0.83171846]\n"
     ]
    },
    {
     "name": "stderr",
     "output_type": "stream",
     "text": [
      "Optimizing:  48%|████▊     | 48/100 [03:03<01:57,  2.26s/it]"
     ]
    },
    {
     "name": "stdout",
     "output_type": "stream",
     "text": [
      "✅ Final Optimized Parameters for L=94.94949494949496 km: [0.43880036 0.3248907  0.39656017 0.46535902 0.76032037]\n",
      "✅ Final Optimized Key Rate for L=94.94949494949496 km: 5.572695176677017e-05\n",
      "\n",
      "--- [DEBUG] Starting optimization for L=103.03030303030303 km ---\n",
      "🔵 Initial Guess for L=103.03030303030303: [0.43880036 0.3248907  0.39656017 0.46535902 0.76032037]\n"
     ]
    },
    {
     "name": "stderr",
     "output_type": "stream",
     "text": [
      "Optimizing:  49%|████▉     | 49/100 [03:15<04:23,  5.16s/it]"
     ]
    },
    {
     "name": "stdout",
     "output_type": "stream",
     "text": [
      "✅ Final Optimized Parameters for L=96.96969696969697 km: [0.4372233  0.32089135 0.41047517 0.45323627 0.75575202]\n",
      "✅ Final Optimized Key Rate for L=96.96969696969697 km: 4.814035249092136e-05\n",
      "\n",
      "--- [DEBUG] Starting optimization for L=105.05050505050505 km ---\n",
      "🔵 Initial Guess for L=105.05050505050505: [0.4372233  0.32089135 0.41047517 0.45323627 0.75575202]\n"
     ]
    },
    {
     "name": "stderr",
     "output_type": "stream",
     "text": [
      "Optimizing:  50%|█████     | 50/100 [03:17<03:26,  4.14s/it]"
     ]
    },
    {
     "name": "stdout",
     "output_type": "stream",
     "text": [
      "✅ Final Optimized Parameters for L=98.98989898989899 km: [0.43551742 0.316305   0.42618104 0.43950864 0.7505083 ]\n",
      "✅ Final Optimized Key Rate for L=98.98989898989899 km: 4.131934157171627e-05\n",
      "\n",
      "--- [DEBUG] Starting optimization for L=107.07070707070707 km ---\n",
      "🔵 Initial Guess for L=107.07070707070707: [0.43551742 0.316305   0.42618104 0.43950864 0.7505083 ]\n"
     ]
    },
    {
     "name": "stderr",
     "output_type": "stream",
     "text": [
      "Optimizing:  52%|█████▏    | 52/100 [03:17<01:44,  2.18s/it]"
     ]
    },
    {
     "name": "stdout",
     "output_type": "stream",
     "text": [
      "✅ Final Optimized Parameters for L=101.01010101010101 km: [0.43369107 0.31102522 0.44391893 0.42396066 0.744446  ]\n",
      "✅ Final Optimized Key Rate for L=101.01010101010101 km: 3.5200230401316015e-05\n",
      "\n",
      "--- [DEBUG] Starting optimization for L=109.0909090909091 km ---\n",
      "🔵 Initial Guess for L=109.0909090909091: [0.43369107 0.31102522 0.44391893 0.42396066 0.744446  ]\n",
      "✅ Final Optimized Parameters for L=103.03030303030303 km: [0.43176233 0.30492284 0.46392746 0.40638527 0.73738186]\n",
      "✅ Final Optimized Key Rate for L=103.03030303030303 km: 2.972536090963064e-05\n",
      "\n",
      "--- [DEBUG] Starting optimization for L=111.11111111111111 km ---\n",
      "🔵 Initial Guess for L=111.11111111111111: [0.43176233 0.30492284 0.46392746 0.40638527 0.73738186]\n"
     ]
    },
    {
     "name": "stderr",
     "output_type": "stream",
     "text": [
      "Optimizing:  53%|█████▎    | 53/100 [03:29<03:54,  4.99s/it]"
     ]
    },
    {
     "name": "stdout",
     "output_type": "stream",
     "text": [
      "✅ Final Optimized Parameters for L=105.05050505050505 km: [0.42976123 0.29783793 0.48644239 0.38658226 0.72907664]\n",
      "✅ Final Optimized Key Rate for L=105.05050505050505 km: 2.4842664104672327e-05\n",
      "\n",
      "--- [DEBUG] Starting optimization for L=113.13131313131314 km ---\n",
      "🔵 Initial Guess for L=113.13131313131314: [0.42976123 0.29783793 0.48644239 0.38658226 0.72907664]\n"
     ]
    },
    {
     "name": "stderr",
     "output_type": "stream",
     "text": [
      "Optimizing:  54%|█████▍    | 54/100 [03:31<03:08,  4.09s/it]"
     ]
    },
    {
     "name": "stdout",
     "output_type": "stream",
     "text": [
      "✅ Final Optimized Parameters for L=107.07070707070707 km: [0.42773439 0.28957989 0.51164901 0.36440633 0.71921843]\n",
      "✅ Final Optimized Key Rate for L=107.07070707070707 km: 2.0505287683269474e-05\n",
      "\n",
      "--- [DEBUG] Starting optimization for L=115.15151515151516 km ---\n",
      "🔵 Initial Guess for L=115.15151515151516: [0.42773439 0.28957989 0.51164901 0.36440633 0.71921843]\n",
      "✅ Final Optimized Parameters for L=109.0909090909091 km: [0.42574681 0.27992153 0.53963711 0.3398121  0.70739602]\n",
      "✅ Final Optimized Key Rate for L=109.0909090909091 km: 1.6671294213984135e-05\n",
      "\n",
      "--- [DEBUG] Starting optimization for L=117.17171717171718 km ---\n",
      "🔵 Initial Guess for L=117.17171717171718: [0.42574681 0.27992153 0.53963711 0.3398121  0.70739602]\n"
     ]
    },
    {
     "name": "stderr",
     "output_type": "stream",
     "text": [
      "Optimizing:  56%|█████▌    | 56/100 [03:31<01:40,  2.29s/it]"
     ]
    },
    {
     "name": "stdout",
     "output_type": "stream",
     "text": [
      "✅ Final Optimized Parameters for L=111.11111111111111 km: [0.42388229 0.26860764 0.57034596 0.31290617 0.69306487]\n",
      "✅ Final Optimized Key Rate for L=111.11111111111111 km: 1.3303431664769074e-05\n",
      "\n",
      "--- [DEBUG] Starting optimization for L=119.1919191919192 km ---\n",
      "🔵 Initial Guess for L=119.1919191919192: [0.42388229 0.26860764 0.57034596 0.31290617 0.69306487]\n"
     ]
    },
    {
     "name": "stderr",
     "output_type": "stream",
     "text": [
      "Optimizing:  57%|█████▋    | 57/100 [03:41<03:03,  4.27s/it]"
     ]
    },
    {
     "name": "stdout",
     "output_type": "stream",
     "text": [
      "✅ Final Optimized Parameters for L=113.13131313131314 km: [0.42223962 0.25536945 0.60350967 0.28400292 0.67550212]\n",
      "✅ Final Optimized Key Rate for L=113.13131313131314 km: 1.0368976886603617e-05\n",
      "\n",
      "--- [DEBUG] Starting optimization for L=121.21212121212122 km ---\n",
      "🔵 Initial Guess for L=121.21212121212122: [0.42223962 0.25536945 0.60350967 0.28400292 0.67550212]\n"
     ]
    },
    {
     "name": "stderr",
     "output_type": "stream",
     "text": [
      "Optimizing:  58%|█████▊    | 58/100 [03:43<02:32,  3.63s/it]"
     ]
    },
    {
     "name": "stdout",
     "output_type": "stream",
     "text": [
      "✅ Final Optimized Parameters for L=117.17171717171718 km: [0.42002258 0.2221896  0.67498028 0.22262567 0.62649044]\n",
      "✅ Final Optimized Key Rate for L=117.17171717171718 km: 5.691592257424156e-06\n",
      "\n",
      "--- [DEBUG] Starting optimization for L=123.23232323232324 km ---\n",
      "🔵 Initial Guess for L=123.23232323232324: [0.42002258 0.2221896  0.67498028 0.22262567 0.62649044]\n"
     ]
    },
    {
     "name": "stderr",
     "output_type": "stream",
     "text": [
      "Optimizing:  59%|█████▉    | 59/100 [03:44<01:51,  2.71s/it]"
     ]
    },
    {
     "name": "stdout",
     "output_type": "stream",
     "text": [
      "✅ Final Optimized Parameters for L=115.15151515151516 km: [0.42092206 0.23995805 0.63862059 0.25365863 0.65374416]\n",
      "✅ Final Optimized Key Rate for L=115.15151515151516 km: 7.839649927460726e-06\n",
      "\n",
      "--- [DEBUG] Starting optimization for L=125.25252525252526 km ---\n",
      "🔵 Initial Guess for L=125.25252525252526: [0.42092206 0.23995805 0.63862059 0.25365863 0.65374416]\n"
     ]
    },
    {
     "name": "stderr",
     "output_type": "stream",
     "text": [
      "Optimizing:  60%|██████    | 60/100 [03:44<01:20,  2.02s/it]"
     ]
    },
    {
     "name": "stdout",
     "output_type": "stream",
     "text": [
      "✅ Final Optimized Parameters for L=119.1919191919192 km: [0.41961523 0.20198613 0.71180914 0.19174568 0.59194022]\n",
      "✅ Final Optimized Key Rate for L=119.1919191919192 km: 3.905388028966857e-06\n",
      "\n",
      "--- [DEBUG] Starting optimization for L=127.27272727272728 km ---\n",
      "🔵 Initial Guess for L=127.27272727272728: [0.41961523 0.20198613 0.71180914 0.19174568 0.59194022]\n"
     ]
    },
    {
     "name": "stderr",
     "output_type": "stream",
     "text": [
      "Optimizing:  61%|██████    | 61/100 [03:53<02:41,  4.14s/it]"
     ]
    },
    {
     "name": "stdout",
     "output_type": "stream",
     "text": [
      "✅ Final Optimized Parameters for L=121.21212121212122 km: [0.4197509  0.17940515 0.74837966 0.16181969 0.54750317]\n",
      "✅ Final Optimized Key Rate for L=121.21212121212122 km: 2.46605733043247e-06\n"
     ]
    },
    {
     "name": "stderr",
     "output_type": "stream",
     "text": [
      "Optimizing:  64%|██████▍   | 64/100 [03:55<01:06,  1.84s/it]"
     ]
    },
    {
     "name": "stdout",
     "output_type": "stream",
     "text": [
      "✅ Final Optimized Parameters for L=123.23232323232324 km: [0.42043861 0.15465778 0.78410289 0.13350977 0.48921224]\n",
      "✅ Final Optimized Key Rate for L=123.23232323232324 km: 1.362810212327608e-06\n",
      "✅ Final Optimized Parameters for L=125.25252525252526 km: [0.42157455 0.12816045 0.8184838  0.10734052 0.41025268]\n",
      "✅ Final Optimized Key Rate for L=125.25252525252526 km: 5.880852482717106e-07\n",
      "✅ Final Optimized Parameters for L=127.27272727272728 km: [0.42272222 0.10064109 0.85097114 0.08376009 0.29447903]\n",
      "✅ Final Optimized Key Rate for L=127.27272727272728 km: 1.3540067993547214e-07\n",
      "\n",
      "--- [DEBUG] Starting optimization for L=129.2929292929293 km ---\n",
      "🔵 Initial Guess for L=129.2929292929293: [0.42272222 0.10064109 0.85097114 0.08376009 0.29447903]\n",
      "\n",
      "--- [DEBUG] Starting optimization for L=131.31313131313132 km ---\n",
      "🔵 Initial Guess for L=131.31313131313132: [0.42272222 0.10064109 0.85097114 0.08376009 0.29447903]\n",
      "\n",
      "--- [DEBUG] Starting optimization for L=133.33333333333334 km ---\n",
      "🔵 Initial Guess for L=133.33333333333334: [0.42272222 0.10064109 0.85097114 0.08376009 0.29447903]\n",
      "\n",
      "--- [DEBUG] Starting optimization for L=135.35353535353536 km ---\n",
      "🔵 Initial Guess for L=135.35353535353536: [0.42272222 0.10064109 0.85097114 0.08376009 0.29447903]\n"
     ]
    },
    {
     "name": "stderr",
     "output_type": "stream",
     "text": [
      "Optimizing:  65%|██████▌   | 65/100 [04:06<02:28,  4.24s/it]"
     ]
    },
    {
     "name": "stdout",
     "output_type": "stream",
     "text": [
      "✅ Final Optimized Parameters for L=129.2929292929293 km: [0.42272222 0.10064109 0.85097114 0.08376009 0.29447903]\n",
      "✅ Final Optimized Key Rate for L=129.2929292929293 km: -0.0\n",
      "\n",
      "--- [DEBUG] Starting optimization for L=137.37373737373738 km ---\n",
      "🔵 Initial Guess for L=137.37373737373738: [0.42272222 0.10064109 0.85097114 0.08376009 0.29447903]\n"
     ]
    },
    {
     "name": "stderr",
     "output_type": "stream",
     "text": [
      "Optimizing:  66%|██████▌   | 66/100 [04:07<01:49,  3.21s/it]"
     ]
    },
    {
     "name": "stdout",
     "output_type": "stream",
     "text": [
      "✅ Final Optimized Parameters for L=131.31313131313132 km: [0.42272222 0.10064109 0.85097114 0.08376009 0.29447903]\n",
      "✅ Final Optimized Key Rate for L=131.31313131313132 km: -0.0\n",
      "\n",
      "--- [DEBUG] Starting optimization for L=139.3939393939394 km ---\n",
      "🔵 Initial Guess for L=139.3939393939394: [0.42272222 0.10064109 0.85097114 0.08376009 0.29447903]\n",
      "✅ Final Optimized Parameters for L=133.33333333333334 km: [0.42272222 0.10064109 0.85097114 0.08376009 0.29447903]\n",
      "✅ Final Optimized Key Rate for L=133.33333333333334 km: -0.0\n",
      "\n",
      "--- [DEBUG] Starting optimization for L=141.41414141414143 km ---\n",
      "🔵 Initial Guess for L=141.41414141414143: [0.42272222 0.10064109 0.85097114 0.08376009 0.29447903]\n"
     ]
    },
    {
     "name": "stderr",
     "output_type": "stream",
     "text": [
      "Optimizing:  68%|██████▊   | 68/100 [04:07<01:00,  1.89s/it]"
     ]
    },
    {
     "name": "stdout",
     "output_type": "stream",
     "text": [
      "✅ Final Optimized Parameters for L=135.35353535353536 km: [0.42272222 0.10064109 0.85097114 0.08376009 0.29447903]\n",
      "✅ Final Optimized Key Rate for L=135.35353535353536 km: -0.0\n",
      "\n",
      "--- [DEBUG] Starting optimization for L=143.43434343434345 km ---\n",
      "🔵 Initial Guess for L=143.43434343434345: [0.42272222 0.10064109 0.85097114 0.08376009 0.29447903]\n"
     ]
    },
    {
     "name": "stderr",
     "output_type": "stream",
     "text": [
      "Optimizing:  69%|██████▉   | 69/100 [04:18<02:03,  3.97s/it]"
     ]
    },
    {
     "name": "stdout",
     "output_type": "stream",
     "text": [
      "✅ Final Optimized Parameters for L=137.37373737373738 km: [0.42272222 0.10064109 0.85097114 0.08376009 0.29447903]\n",
      "✅ Final Optimized Key Rate for L=137.37373737373738 km: -0.0\n",
      "\n",
      "--- [DEBUG] Starting optimization for L=145.45454545454547 km ---\n",
      "🔵 Initial Guess for L=145.45454545454547: [0.42272222 0.10064109 0.85097114 0.08376009 0.29447903]\n"
     ]
    },
    {
     "name": "stderr",
     "output_type": "stream",
     "text": [
      "Optimizing:  71%|███████   | 71/100 [04:18<01:07,  2.32s/it]"
     ]
    },
    {
     "name": "stdout",
     "output_type": "stream",
     "text": [
      "✅ Final Optimized Parameters for L=139.3939393939394 km: [0.42272222 0.10064109 0.85097114 0.08376009 0.29447903]\n",
      "✅ Final Optimized Key Rate for L=139.3939393939394 km: -0.0\n",
      "\n",
      "--- [DEBUG] Starting optimization for L=147.4747474747475 km ---\n",
      "🔵 Initial Guess for L=147.4747474747475: [0.42272222 0.10064109 0.85097114 0.08376009 0.29447903]\n",
      "✅ Final Optimized Parameters for L=141.41414141414143 km: [0.42272222 0.10064109 0.85097114 0.08376009 0.29447903]\n",
      "✅ Final Optimized Key Rate for L=141.41414141414143 km: -0.0\n",
      "\n",
      "--- [DEBUG] Starting optimization for L=149.4949494949495 km ---\n",
      "🔵 Initial Guess for L=149.4949494949495: [0.42272222 0.10064109 0.85097114 0.08376009 0.29447903]\n"
     ]
    },
    {
     "name": "stderr",
     "output_type": "stream",
     "text": [
      "Optimizing:  72%|███████▏  | 72/100 [04:18<00:49,  1.77s/it]"
     ]
    },
    {
     "name": "stdout",
     "output_type": "stream",
     "text": [
      "✅ Final Optimized Parameters for L=143.43434343434345 km: [0.42272222 0.10064109 0.85097114 0.08376009 0.29447903]\n",
      "✅ Final Optimized Key Rate for L=143.43434343434345 km: -0.0\n",
      "\n",
      "--- [DEBUG] Starting optimization for L=151.51515151515153 km ---\n",
      "🔵 Initial Guess for L=151.51515151515153: [0.42272222 0.10064109 0.85097114 0.08376009 0.29447903]\n"
     ]
    },
    {
     "name": "stderr",
     "output_type": "stream",
     "text": [
      "Optimizing:  73%|███████▎  | 73/100 [04:29<01:53,  4.21s/it]"
     ]
    },
    {
     "name": "stdout",
     "output_type": "stream",
     "text": [
      "✅ Final Optimized Parameters for L=145.45454545454547 km: [0.42272222 0.10064109 0.85097114 0.08376009 0.29447903]\n",
      "✅ Final Optimized Key Rate for L=145.45454545454547 km: -0.0\n",
      "\n",
      "--- [DEBUG] Starting optimization for L=153.53535353535355 km ---\n",
      "🔵 Initial Guess for L=153.53535353535355: [0.42272222 0.10064109 0.85097114 0.08376009 0.29447903]\n"
     ]
    },
    {
     "name": "stderr",
     "output_type": "stream",
     "text": [
      "Optimizing:  74%|███████▍  | 74/100 [04:30<01:23,  3.20s/it]"
     ]
    },
    {
     "name": "stdout",
     "output_type": "stream",
     "text": [
      "✅ Final Optimized Parameters for L=147.4747474747475 km: [0.42272222 0.10064109 0.85097114 0.08376009 0.29447903]\n",
      "✅ Final Optimized Key Rate for L=147.4747474747475 km: -0.0\n",
      "\n",
      "--- [DEBUG] Starting optimization for L=155.55555555555557 km ---\n",
      "🔵 Initial Guess for L=155.55555555555557: [0.42272222 0.10064109 0.85097114 0.08376009 0.29447903]\n"
     ]
    },
    {
     "name": "stderr",
     "output_type": "stream",
     "text": [
      "Optimizing:  75%|███████▌  | 75/100 [04:30<00:58,  2.33s/it]"
     ]
    },
    {
     "name": "stdout",
     "output_type": "stream",
     "text": [
      "✅ Final Optimized Parameters for L=149.4949494949495 km: [0.42272222 0.10064109 0.85097114 0.08376009 0.29447903]\n",
      "✅ Final Optimized Key Rate for L=149.4949494949495 km: -0.0\n",
      "\n",
      "--- [DEBUG] Starting optimization for L=157.5757575757576 km ---\n",
      "🔵 Initial Guess for L=157.5757575757576: [0.42272222 0.10064109 0.85097114 0.08376009 0.29447903]\n"
     ]
    },
    {
     "name": "stderr",
     "output_type": "stream",
     "text": [
      "Optimizing:  76%|███████▌  | 76/100 [04:30<00:42,  1.78s/it]"
     ]
    },
    {
     "name": "stdout",
     "output_type": "stream",
     "text": [
      "✅ Final Optimized Parameters for L=151.51515151515153 km: [0.42272222 0.10064109 0.85097114 0.08376009 0.29447903]\n",
      "✅ Final Optimized Key Rate for L=151.51515151515153 km: -0.0\n",
      "\n",
      "--- [DEBUG] Starting optimization for L=159.5959595959596 km ---\n",
      "🔵 Initial Guess for L=159.5959595959596: [0.42272222 0.10064109 0.85097114 0.08376009 0.29447903]\n"
     ]
    },
    {
     "name": "stderr",
     "output_type": "stream",
     "text": [
      "Optimizing:  77%|███████▋  | 77/100 [04:40<01:36,  4.17s/it]"
     ]
    },
    {
     "name": "stdout",
     "output_type": "stream",
     "text": [
      "✅ Final Optimized Parameters for L=153.53535353535355 km: [0.42272222 0.10064109 0.85097114 0.08376009 0.29447903]\n",
      "✅ Final Optimized Key Rate for L=153.53535353535355 km: -0.0\n",
      "\n",
      "--- [DEBUG] Starting optimization for L=161.61616161616163 km ---\n",
      "🔵 Initial Guess for L=161.61616161616163: [0.42272222 0.10064109 0.85097114 0.08376009 0.29447903]\n"
     ]
    },
    {
     "name": "stderr",
     "output_type": "stream",
     "text": [
      "Optimizing:  78%|███████▊  | 78/100 [04:41<01:11,  3.23s/it]"
     ]
    },
    {
     "name": "stdout",
     "output_type": "stream",
     "text": [
      "✅ Final Optimized Parameters for L=155.55555555555557 km: [0.42272222 0.10064109 0.85097114 0.08376009 0.29447903]\n",
      "✅ Final Optimized Key Rate for L=155.55555555555557 km: -0.0\n",
      "\n",
      "--- [DEBUG] Starting optimization for L=163.63636363636365 km ---\n",
      "🔵 Initial Guess for L=163.63636363636365: [0.42272222 0.10064109 0.85097114 0.08376009 0.29447903]\n"
     ]
    },
    {
     "name": "stderr",
     "output_type": "stream",
     "text": [
      "Optimizing:  79%|███████▉  | 79/100 [04:41<00:49,  2.34s/it]"
     ]
    },
    {
     "name": "stdout",
     "output_type": "stream",
     "text": [
      "✅ Final Optimized Parameters for L=157.5757575757576 km: [0.42272222 0.10064109 0.85097114 0.08376009 0.29447903]\n",
      "✅ Final Optimized Key Rate for L=157.5757575757576 km: -0.0\n",
      "\n",
      "--- [DEBUG] Starting optimization for L=165.65656565656568 km ---\n",
      "🔵 Initial Guess for L=165.65656565656568: [0.42272222 0.10064109 0.85097114 0.08376009 0.29447903]\n"
     ]
    },
    {
     "name": "stderr",
     "output_type": "stream",
     "text": [
      "Optimizing:  80%|████████  | 80/100 [04:42<00:36,  1.84s/it]"
     ]
    },
    {
     "name": "stdout",
     "output_type": "stream",
     "text": [
      "✅ Final Optimized Parameters for L=159.5959595959596 km: [0.42272222 0.10064109 0.85097114 0.08376009 0.29447903]\n",
      "✅ Final Optimized Key Rate for L=159.5959595959596 km: -0.0\n",
      "\n",
      "--- [DEBUG] Starting optimization for L=167.6767676767677 km ---\n",
      "🔵 Initial Guess for L=167.6767676767677: [0.42272222 0.10064109 0.85097114 0.08376009 0.29447903]\n"
     ]
    },
    {
     "name": "stderr",
     "output_type": "stream",
     "text": [
      "Optimizing:  81%|████████  | 81/100 [04:51<01:17,  4.08s/it]"
     ]
    },
    {
     "name": "stdout",
     "output_type": "stream",
     "text": [
      "✅ Final Optimized Parameters for L=161.61616161616163 km: [0.42272222 0.10064109 0.85097114 0.08376009 0.29447903]\n",
      "✅ Final Optimized Key Rate for L=161.61616161616163 km: -0.0\n",
      "\n",
      "--- [DEBUG] Starting optimization for L=169.69696969696972 km ---\n",
      "🔵 Initial Guess for L=169.69696969696972: [0.42272222 0.10064109 0.85097114 0.08376009 0.29447903]\n"
     ]
    },
    {
     "name": "stderr",
     "output_type": "stream",
     "text": [
      "Optimizing:  82%|████████▏ | 82/100 [04:53<00:58,  3.25s/it]"
     ]
    },
    {
     "name": "stdout",
     "output_type": "stream",
     "text": [
      "✅ Final Optimized Parameters for L=163.63636363636365 km: [0.42272222 0.10064109 0.85097114 0.08376009 0.29447903]\n",
      "✅ Final Optimized Key Rate for L=163.63636363636365 km: -0.0\n",
      "\n",
      "--- [DEBUG] Starting optimization for L=171.71717171717174 km ---\n",
      "🔵 Initial Guess for L=171.71717171717174: [0.42272222 0.10064109 0.85097114 0.08376009 0.29447903]\n"
     ]
    },
    {
     "name": "stderr",
     "output_type": "stream",
     "text": [
      "Optimizing:  83%|████████▎ | 83/100 [04:53<00:40,  2.36s/it]"
     ]
    },
    {
     "name": "stdout",
     "output_type": "stream",
     "text": [
      "✅ Final Optimized Parameters for L=165.65656565656568 km: [0.42272222 0.10064109 0.85097114 0.08376009 0.29447903]\n",
      "✅ Final Optimized Key Rate for L=165.65656565656568 km: -0.0\n",
      "\n",
      "--- [DEBUG] Starting optimization for L=173.73737373737376 km ---\n",
      "🔵 Initial Guess for L=173.73737373737376: [0.42272222 0.10064109 0.85097114 0.08376009 0.29447903]\n"
     ]
    },
    {
     "name": "stderr",
     "output_type": "stream",
     "text": [
      "Optimizing:  84%|████████▍ | 84/100 [04:54<00:30,  1.92s/it]"
     ]
    },
    {
     "name": "stdout",
     "output_type": "stream",
     "text": [
      "✅ Final Optimized Parameters for L=167.6767676767677 km: [0.42272222 0.10064109 0.85097114 0.08376009 0.29447903]\n",
      "✅ Final Optimized Key Rate for L=167.6767676767677 km: -0.0\n",
      "\n",
      "--- [DEBUG] Starting optimization for L=175.75757575757578 km ---\n",
      "🔵 Initial Guess for L=175.75757575757578: [0.42272222 0.10064109 0.85097114 0.08376009 0.29447903]\n"
     ]
    },
    {
     "name": "stderr",
     "output_type": "stream",
     "text": [
      "Optimizing:  85%|████████▌ | 85/100 [05:03<00:59,  3.98s/it]"
     ]
    },
    {
     "name": "stdout",
     "output_type": "stream",
     "text": [
      "✅ Final Optimized Parameters for L=169.69696969696972 km: [0.42272222 0.10064109 0.85097114 0.08376009 0.29447903]\n",
      "✅ Final Optimized Key Rate for L=169.69696969696972 km: -0.0\n",
      "\n",
      "--- [DEBUG] Starting optimization for L=177.7777777777778 km ---\n",
      "🔵 Initial Guess for L=177.7777777777778: [0.42272222 0.10064109 0.85097114 0.08376009 0.29447903]\n"
     ]
    },
    {
     "name": "stderr",
     "output_type": "stream",
     "text": [
      "Optimizing:  86%|████████▌ | 86/100 [05:04<00:45,  3.25s/it]"
     ]
    },
    {
     "name": "stdout",
     "output_type": "stream",
     "text": [
      "✅ Final Optimized Parameters for L=171.71717171717174 km: [0.42272222 0.10064109 0.85097114 0.08376009 0.29447903]\n",
      "✅ Final Optimized Key Rate for L=171.71717171717174 km: -0.0\n",
      "\n",
      "--- [DEBUG] Starting optimization for L=179.79797979797982 km ---\n",
      "🔵 Initial Guess for L=179.79797979797982: [0.42272222 0.10064109 0.85097114 0.08376009 0.29447903]\n"
     ]
    },
    {
     "name": "stderr",
     "output_type": "stream",
     "text": [
      "Optimizing:  87%|████████▋ | 87/100 [05:05<00:30,  2.37s/it]"
     ]
    },
    {
     "name": "stdout",
     "output_type": "stream",
     "text": [
      "✅ Final Optimized Parameters for L=173.73737373737376 km: [0.42272222 0.10064109 0.85097114 0.08376009 0.29447903]\n",
      "✅ Final Optimized Key Rate for L=173.73737373737376 km: -0.0\n",
      "\n",
      "--- [DEBUG] Starting optimization for L=181.81818181818184 km ---\n",
      "🔵 Initial Guess for L=181.81818181818184: [0.42272222 0.10064109 0.85097114 0.08376009 0.29447903]\n"
     ]
    },
    {
     "name": "stderr",
     "output_type": "stream",
     "text": [
      "Optimizing:  88%|████████▊ | 88/100 [05:06<00:23,  1.97s/it]"
     ]
    },
    {
     "name": "stdout",
     "output_type": "stream",
     "text": [
      "✅ Final Optimized Parameters for L=175.75757575757578 km: [0.42272222 0.10064109 0.85097114 0.08376009 0.29447903]\n",
      "✅ Final Optimized Key Rate for L=175.75757575757578 km: -0.0\n",
      "\n",
      "--- [DEBUG] Starting optimization for L=183.83838383838386 km ---\n",
      "🔵 Initial Guess for L=183.83838383838386: [0.42272222 0.10064109 0.85097114 0.08376009 0.29447903]\n"
     ]
    },
    {
     "name": "stderr",
     "output_type": "stream",
     "text": [
      "Optimizing:  89%|████████▉ | 89/100 [05:14<00:42,  3.88s/it]"
     ]
    },
    {
     "name": "stdout",
     "output_type": "stream",
     "text": [
      "✅ Final Optimized Parameters for L=177.7777777777778 km: [0.42272222 0.10064109 0.85097114 0.08376009 0.29447903]\n",
      "✅ Final Optimized Key Rate for L=177.7777777777778 km: -0.0\n",
      "\n",
      "--- [DEBUG] Starting optimization for L=185.85858585858588 km ---\n",
      "🔵 Initial Guess for L=185.85858585858588: [0.42272222 0.10064109 0.85097114 0.08376009 0.29447903]\n"
     ]
    },
    {
     "name": "stderr",
     "output_type": "stream",
     "text": [
      "Optimizing:  90%|█████████ | 90/100 [05:16<00:32,  3.25s/it]"
     ]
    },
    {
     "name": "stdout",
     "output_type": "stream",
     "text": [
      "✅ Final Optimized Parameters for L=179.79797979797982 km: [0.42272222 0.10064109 0.85097114 0.08376009 0.29447903]\n",
      "✅ Final Optimized Key Rate for L=179.79797979797982 km: -0.0\n",
      "\n",
      "--- [DEBUG] Starting optimization for L=187.8787878787879 km ---\n",
      "🔵 Initial Guess for L=187.8787878787879: [0.42272222 0.10064109 0.85097114 0.08376009 0.29447903]\n"
     ]
    },
    {
     "name": "stderr",
     "output_type": "stream",
     "text": [
      "Optimizing:  91%|█████████ | 91/100 [05:16<00:21,  2.38s/it]"
     ]
    },
    {
     "name": "stdout",
     "output_type": "stream",
     "text": [
      "✅ Final Optimized Parameters for L=181.81818181818184 km: [0.42272222 0.10064109 0.85097114 0.08376009 0.29447903]\n",
      "✅ Final Optimized Key Rate for L=181.81818181818184 km: -0.0\n",
      "\n",
      "--- [DEBUG] Starting optimization for L=189.89898989898992 km ---\n",
      "🔵 Initial Guess for L=189.89898989898992: [0.42272222 0.10064109 0.85097114 0.08376009 0.29447903]\n"
     ]
    },
    {
     "name": "stderr",
     "output_type": "stream",
     "text": [
      "Optimizing:  92%|█████████▏| 92/100 [05:17<00:16,  2.03s/it]"
     ]
    },
    {
     "name": "stdout",
     "output_type": "stream",
     "text": [
      "✅ Final Optimized Parameters for L=183.83838383838386 km: [0.42272222 0.10064109 0.85097114 0.08376009 0.29447903]\n",
      "✅ Final Optimized Key Rate for L=183.83838383838386 km: -0.0\n",
      "\n",
      "--- [DEBUG] Starting optimization for L=191.91919191919195 km ---\n",
      "🔵 Initial Guess for L=191.91919191919195: [0.42272222 0.10064109 0.85097114 0.08376009 0.29447903]\n"
     ]
    },
    {
     "name": "stderr",
     "output_type": "stream",
     "text": [
      "Optimizing:  93%|█████████▎| 93/100 [05:25<00:26,  3.81s/it]"
     ]
    },
    {
     "name": "stdout",
     "output_type": "stream",
     "text": [
      "✅ Final Optimized Parameters for L=185.85858585858588 km: [0.42272222 0.10064109 0.85097114 0.08376009 0.29447903]\n",
      "✅ Final Optimized Key Rate for L=185.85858585858588 km: -0.0\n"
     ]
    },
    {
     "name": "stderr",
     "output_type": "stream",
     "text": [
      "Optimizing:  95%|█████████▌| 95/100 [05:27<00:10,  2.19s/it]"
     ]
    },
    {
     "name": "stdout",
     "output_type": "stream",
     "text": [
      "✅ Final Optimized Parameters for L=187.8787878787879 km: [0.42272222 0.10064109 0.85097114 0.08376009 0.29447903]\n",
      "✅ Final Optimized Key Rate for L=187.8787878787879 km: -0.0\n",
      "✅ Final Optimized Parameters for L=189.89898989898992 km: [0.42272222 0.10064109 0.85097114 0.08376009 0.29447903]\n",
      "✅ Final Optimized Key Rate for L=189.89898989898992 km: -0.0\n"
     ]
    },
    {
     "name": "stderr",
     "output_type": "stream",
     "text": [
      "Optimizing:  96%|█████████▌| 96/100 [05:27<00:06,  1.58s/it]"
     ]
    },
    {
     "name": "stdout",
     "output_type": "stream",
     "text": [
      "✅ Final Optimized Parameters for L=191.91919191919195 km: [0.42272222 0.10064109 0.85097114 0.08376009 0.29447903]\n",
      "✅ Final Optimized Key Rate for L=191.91919191919195 km: -0.0\n",
      "\n",
      "--- [DEBUG] Starting optimization for L=193.93939393939394 km ---\n",
      "🔵 Initial Guess for L=193.93939393939394: [0.42272222 0.10064109 0.85097114 0.08376009 0.29447903]\n",
      "\n",
      "--- [DEBUG] Starting optimization for L=195.95959595959596 km ---\n",
      "🔵 Initial Guess for L=195.95959595959596: [0.42272222 0.10064109 0.85097114 0.08376009 0.29447903]\n",
      "\n",
      "--- [DEBUG] Starting optimization for L=197.97979797979798 km ---\n",
      "🔵 Initial Guess for L=197.97979797979798: [0.42272222 0.10064109 0.85097114 0.08376009 0.29447903]\n",
      "\n",
      "--- [DEBUG] Starting optimization for L=200.0 km ---\n",
      "🔵 Initial Guess for L=200.0: [0.42272222 0.10064109 0.85097114 0.08376009 0.29447903]\n"
     ]
    },
    {
     "name": "stderr",
     "output_type": "stream",
     "text": [
      "Optimizing:  98%|█████████▊| 98/100 [05:38<00:06,  3.20s/it]"
     ]
    },
    {
     "name": "stdout",
     "output_type": "stream",
     "text": [
      "✅ Final Optimized Parameters for L=193.93939393939394 km: [0.42272222 0.10064109 0.85097114 0.08376009 0.29447903]\n",
      "✅ Final Optimized Key Rate for L=193.93939393939394 km: -0.0\n",
      "✅ Final Optimized Parameters for L=195.95959595959596 km: [0.42272222 0.10064109 0.85097114 0.08376009 0.29447903]\n",
      "✅ Final Optimized Key Rate for L=195.95959595959596 km: -0.0\n",
      "✅ Final Optimized Parameters for L=197.97979797979798 km: [0.42272222 0.10064109 0.85097114 0.08376009 0.29447903]\n",
      "✅ Final Optimized Key Rate for L=197.97979797979798 km: -0.0\n"
     ]
    },
    {
     "name": "stderr",
     "output_type": "stream",
     "text": [
      "Optimizing: 100%|██████████| 100/100 [05:38<00:00,  3.39s/it]"
     ]
    },
    {
     "name": "stdout",
     "output_type": "stream",
     "text": [
      "✅ Final Optimized Parameters for L=200.0 km: [0.42272222 0.10064109 0.85097114 0.08376009 0.29447903]\n",
      "✅ Final Optimized Key Rate for L=200.0 km: -0.0\n",
      "\n",
      "Dataset Summary:\n",
      "Total Entries: 100\n",
      "Fiber Length Range: 6.0606060606060606 km to 200.0 km\n",
      "n_X Values: 500000000\n"
     ]
    },
    {
     "name": "stderr",
     "output_type": "stream",
     "text": [
      "\n"
     ]
    }
   ],
   "source": [
    "\n",
    "\n",
    "# Setup basic logging\n",
    "logging.basicConfig(level=logging.INFO, format='%(asctime)s - %(levelname)s - %(message)s')\n",
    "\n",
    "def optimize_single_instance(L, n_X, bounds, initial_guess, alpha, eta_Bob, P_dc_value, epsilon_sec, epsilon_cor, f_EC, e_mis, P_ap, n_event):\n",
    "    \"\"\"Optimize key rate for a given fiber length L and fixed n_X.\"\"\"\n",
    "    global x0, last_valid_x0\n",
    "    print(f\"\\n--- [DEBUG] Starting optimization for L={L} km ---\")\n",
    "\n",
    "    try:\n",
    "        def wrapped_objective(params):\n",
    "            key_rate = objective(params, L, n_X, alpha, eta_Bob, P_dc_value, epsilon_sec, epsilon_cor, f_EC, e_mis, P_ap, n_event)[0]\n",
    "            return  -max(0, key_rate)\n",
    "\n",
    "        print(f\"🔵 Initial Guess for L={L}: {x0}\")\n",
    "\n",
    "        # Global optimization\n",
    "        # Perform global optimization\n",
    "        global_result = dual_annealing(\n",
    "            func=wrapped_objective,\n",
    "            bounds=bounds,\n",
    "            initial_temp=20,  \n",
    "            restart_temp_ratio=1e-8,  \n",
    "            visit=2.0,  \n",
    "            accept=-15.0,\n",
    "            x0=x0\n",
    "        )\n",
    "        # Local refinement\n",
    "        local_result = minimize(\n",
    "            fun=wrapped_objective,\n",
    "            x0=global_result.x,\n",
    "            method='Nelder-Mead',\n",
    "            options={'maxiter': 10000, 'xatol': 1e-10, 'fatol': 1e-10}\n",
    "        )\n",
    "\n",
    "        optimized_params = local_result.x\n",
    "        optimized_params = np.clip(optimized_params,  \n",
    "                           [b[0] for b in bounds], \n",
    "                           [b[1] for b in bounds])\n",
    "        optimized_key_rate = -local_result.fun\n",
    "\n",
    "        print(f\"✅ Final Optimized Parameters for L={L} km: {optimized_params}\")\n",
    "        print(f\"✅ Final Optimized Key Rate for L={L} km: {optimized_key_rate}\")\n",
    "\n",
    "        # Update x0 with the latest optimized parameters\n",
    "        x0 = optimized_params.copy()\n",
    "\n",
    "        # Check if parameters are within bounds\n",
    "        out_of_bounds_flags = [param < b[0] or param > b[1] for param, b in zip(optimized_params, bounds)]\n",
    "        out_of_bounds = any(out_of_bounds_flags)  \n",
    "\n",
    "        if not out_of_bounds:\n",
    "            return L, n_X, optimized_key_rate, optimized_params, optimized_params.copy()  \n",
    "        else:\n",
    "            print(f\"⚠️ Parameters out of bounds for L={L} km, but keeping best parameters seen so far.\")\n",
    "            return L, n_X, optimized_key_rate, optimized_params, x0  \n",
    "\n",
    "    except Exception as e:\n",
    "        print(f\"❌ Error at L={L}: {e}\")\n",
    "        return L, n_X, float('nan'), [float('nan')] * len(bounds), x0\n",
    "    \n",
    "def submit_in_batches(executor, L_values, n_X_values, bounds, initial_guess, alpha, eta_Bob, P_dc_value, epsilon_sec, epsilon_cor, f_EC, e_mis, P_ap, n_event, batch_size=32 ):\n",
    "    all_results = []\n",
    "    tasks = [(L, n_X) for L in L_values for n_X in n_X_values]\n",
    "    total = len(tasks)\n",
    "    with tqdm(total=total, desc=\"Optimizing\") as pbar:\n",
    "        for i in range(0, total, batch_size):\n",
    "            batch = tasks[i:i + batch_size]\n",
    "            futures = [executor.submit(optimize_single_instance, L, n_X, bounds, initial_guess, alpha, eta_Bob, P_dc_value, epsilon_sec, epsilon_cor, f_EC, e_mis, P_ap, n_event) for L, n_X in batch]\n",
    "            for future in concurrent.futures.as_completed(futures):\n",
    "                result = future.result()\n",
    "                all_results.append(result)\n",
    "                pbar.update(1)\n",
    "    return all_results\n",
    "\n",
    "if __name__ == '__main__':\n",
    "    # Define constants and bounds\n",
    "    bounds = [(4e-4, 0.9), (2e-4, 0.5), (1e-12, 1.0 - 1e-12), (1e-12, 1.0 - 1e-12), (1e-12, 1.0 - 1e-12)]\n",
    "    initial_guess = np.array([0.54, 0.375, 0.16, 0.775, 0.83])\n",
    "    L_values = np.linspace(0, 200, 100)\n",
    "    n_X_values = [500000000]  # Detected events\n",
    "\n",
    "    # Optimization parameters\n",
    "    alpha = 0.2\n",
    "    eta_Bob = 0.1\n",
    "    P_dc_value = 1e-5\n",
    "    epsilon_sec = 1e-10\n",
    "    epsilon_cor = 1e-15\n",
    "    f_EC = 1.16\n",
    "    e_mis = 0.01\n",
    "    P_ap = 0\n",
    "    n_event = 1\n",
    "\n",
    "    # Run optimization using ThreadPoolExecutor\n",
    "    with concurrent.futures.ThreadPoolExecutor(max_workers=4) as executor:\n",
    "        all_results_sorted = submit_in_batches(executor, L_values, n_X_values, bounds, initial_guess, alpha, eta_Bob, P_dc_value, epsilon_sec, epsilon_cor, f_EC, e_mis, P_ap, n_event)\n",
    "\n",
    "    # Generate and save dataset\n",
    "    dataset = [{\n",
    "        \"fiber_length\": float(L),\n",
    "        \"n_X\": int(n_X),\n",
    "        \"key_rate\": float(key_rate),\n",
    "        \"optimized_parameters\": { \"mu_1\": float(params[0]), \"mu_2\": float(params[1]), \"P_mu_1\": float(params[2]), \"P_mu_2\": float(params[3]), \"P_X_value\": float(params[4]) },\n",
    "        \"initial_guess\": { \"mu_1\": float(init_guess[0]), \"mu_2\": float(init_guess[1]), \"P_mu_1\": float(init_guess[2]), \"P_mu_2\": float(init_guess[3]), \"P_X_value\": float(init_guess[4]) }\n",
    "    } for L, n_X, key_rate, params, init_guess in all_results_sorted]\n",
    "\n",
    "    timestamp = time.strftime(\"%Y%m%d_%H%M%S\")\n",
    "    filename = f'qkd_optimization_results_{timestamp}.json'\n",
    "    with open(filename, 'w') as f:\n",
    "        json.dump(dataset, f, indent=2)\n",
    "\n",
    "    # Print dataset summary\n",
    "    print(\"\\nDataset Summary:\")\n",
    "    print(f\"Total Entries: {len(dataset)}\")\n",
    "    print(f\"Fiber Length Range: {dataset[0]['fiber_length']} km to {dataset[-1]['fiber_length']} km\")\n",
    "    print(f\"n_X Values: {', '.join(map(str, n_X_values))}\")"
   ]
  },
  {
   "cell_type": "code",
   "execution_count": 12,
   "metadata": {},
   "outputs": [
    {
     "name": "stdout",
     "output_type": "stream",
     "text": [
      "\n",
      "✅ Dataset saved as: qkd_optimization_results_20250224_162015.json\n",
      "\n",
      "📊 **Dataset Summary** 📊\n",
      "Total Entries: 100\n",
      "Fiber Length Range: 6.0606060606060606 km to 200.0 km\n",
      "n_X Values: 500000000\n",
      "====================================================================================================\n"
     ]
    }
   ],
   "source": [
    "# ✅ Prepare dataset dictionary\n",
    "dataset = []\n",
    "\n",
    "# ✅ Convert results into a structured format\n",
    "for L, n_X, key_rate, params, init_guess in all_results_sorted:\n",
    "    dataset.append({\n",
    "        \"fiber_length\": float(L),\n",
    "        \"n_X\": int(n_X),\n",
    "        \"key_rate\": float(key_rate),\n",
    "        \"optimized_parameters\": {\n",
    "            \"mu_1\": float(params[0]),\n",
    "            \"mu_2\": float(params[1]),\n",
    "            \"P_mu_1\": float(params[2]),\n",
    "            \"P_mu_2\": float(params[3]),\n",
    "            \"P_X_value\": float(params[4]),\n",
    "        },\n",
    "        \"initial_guess\": {\n",
    "            \"mu_1\": float(init_guess[0]),\n",
    "            \"mu_2\": float(init_guess[1]),\n",
    "            \"P_mu_1\": float(init_guess[2]),\n",
    "            \"P_mu_2\": float(init_guess[3]),\n",
    "            \"P_X_value\": float(init_guess[4]),\n",
    "        }\n",
    "    })\n",
    "\n",
    "# ✅ Save dataset to a JSON file with a timestamp\n",
    "timestamp = time.strftime(\"%Y%m%d_%H%M%S\")\n",
    "filename = f'qkd_optimization_results_{timestamp}.json'\n",
    "with open(filename, 'w') as f:\n",
    "    json.dump(dataset, f, indent=2)\n",
    "\n",
    "print(f\"\\n✅ Dataset saved as: {filename}\")\n",
    "\n",
    "# ✅ Print dataset summary\n",
    "print(\"\\n📊 **Dataset Summary** 📊\")\n",
    "print(f\"Total Entries: {len(dataset)}\")\n",
    "print(f\"Fiber Length Range: {dataset[0]['fiber_length']} km to {dataset[-1]['fiber_length']} km\")\n",
    "print(f\"n_X Values: {', '.join(map(str, n_X_values))}\")\n",
    "print(\"=\" * 100)"
   ]
  },
  {
   "cell_type": "code",
   "execution_count": 14,
   "metadata": {},
   "outputs": [
    {
     "name": "stdout",
     "output_type": "stream",
     "text": [
      "\n",
      "✅ Dataset saved as: qkd_grouped_dataset_20250224_162146.json\n",
      "\n",
      "📊 **Dataset Summary** 📊\n",
      "n_X = 500000000.0: 100 entries\n",
      "Sample Entry:\n",
      "{\n",
      "  \"fiber_length\": 6.0606060606060606,\n",
      "  \"e_1\": 0.06060606060606061,\n",
      "  \"e_2\": 6.221848749616356,\n",
      "  \"e_3\": 0.5,\n",
      "  \"e_4\": 8.698970004336019,\n",
      "  \"key_rate\": 0.007598768212607877,\n",
      "  \"optimized_params\": {\n",
      "    \"mu_1\": 0.49279998816736664,\n",
      "    \"mu_2\": 0.35680401761347846,\n",
      "    \"P_mu_1\": 0.18354588994045273,\n",
      "    \"P_mu_2\": 0.7707595441560791,\n",
      "    \"P_X_value\": 0.86228818163624\n",
      "  }\n",
      "}\n",
      "\n"
     ]
    }
   ],
   "source": [
    "import json\n",
    "import time\n",
    "import numpy as np\n",
    "\n",
    "# ✅ Load the original dataset\n",
    "with open(\"qkd_optimization_results_20250224_162015.json\", \"r\") as f:\n",
    "    dataset = json.load(f)\n",
    "\n",
    "# ✅ Fixed parameters\n",
    "P_dc_value = 6e-7  # Dark count probability\n",
    "e_mis = 5e-3  # Misalignment error\n",
    "\n",
    "# ✅ Grouped dictionary structure\n",
    "grouped_data = {}\n",
    "\n",
    "for entry in dataset:\n",
    "    fiber_length = entry[\"fiber_length\"]\n",
    "    n_X = float(entry[\"n_X\"])  # Convert to float for consistency\n",
    "\n",
    "    # ✅ Compute missing feature values\n",
    "    e_1 = fiber_length / 100  # Normalize fiber length\n",
    "    e_2 = -np.log10(P_dc_value)  # Dark count processing\n",
    "    e_3 = e_mis * 100  # Misalignment error\n",
    "    e_4 = np.log10(n_X)  # Log-transformed detected events\n",
    "\n",
    "    # ✅ Format the new entry\n",
    "    formatted_entry = {\n",
    "        \"fiber_length\": fiber_length,\n",
    "        \"e_1\": e_1,\n",
    "        \"e_2\": e_2,\n",
    "        \"e_3\": e_3,\n",
    "        \"e_4\": e_4,\n",
    "        \"key_rate\": entry[\"key_rate\"],\n",
    "        \"optimized_params\": entry[\"optimized_parameters\"],  # Keep only optimized parameters\n",
    "    }\n",
    "\n",
    "    # ✅ Store entries under their respective `n_X` group\n",
    "    n_X_str = str(n_X)  # Convert to string for JSON keys\n",
    "    if n_X_str not in grouped_data:\n",
    "        grouped_data[n_X_str] = []\n",
    "    grouped_data[n_X_str].append(formatted_entry)\n",
    "\n",
    "# ✅ Save the formatted dataset with a timestamp\n",
    "timestamp = time.strftime(\"%Y%m%d_%H%M%S\")\n",
    "filename = f'qkd_grouped_dataset_{timestamp}.json'\n",
    "with open(filename, 'w') as f:\n",
    "    json.dump(grouped_data, f, indent=2)\n",
    "\n",
    "print(f\"\\n✅ Dataset saved as: {filename}\")\n",
    "\n",
    "# ✅ Print dataset summary\n",
    "print(\"\\n📊 **Dataset Summary** 📊\")\n",
    "for n_X_key, entries in grouped_data.items():\n",
    "    print(f\"n_X = {n_X_key}: {len(entries)} entries\")\n",
    "    print(f\"Sample Entry:\\n{json.dumps(entries[0], indent=2)}\\n\")"
   ]
  },
  {
   "cell_type": "code",
   "execution_count": 15,
   "metadata": {},
   "outputs": [],
   "source": [
    "import json\n",
    "\n",
    "def reorder_json_by_fiber_length(file_path):\n",
    "    \"\"\"\n",
    "    Reorders the JSON data from a file based on the 'fiber_length'\n",
    "    field within the first list found in the dictionary.\n",
    "\n",
    "    Args:\n",
    "        file_path: The path to the JSON file.\n",
    "\n",
    "    Returns:\n",
    "        A new Python dictionary with the same structure as the input, but with the\n",
    "        first list found sorted by the 'fiber_length' value in ascending order.\n",
    "        Returns None if the input is not in the expected format or if no suitable\n",
    "        list is found, or if there's an error reading or parsing the file.\n",
    "    \"\"\"\n",
    "\n",
    "    try:\n",
    "        with open(file_path, 'r') as f:\n",
    "            json_data = json.load(f)\n",
    "    except FileNotFoundError:\n",
    "        print(f\"Error: File not found at path: {file_path}\")\n",
    "        return None\n",
    "    except json.JSONDecodeError as e:\n",
    "        print(f\"Error decoding JSON from file: {e}\")\n",
    "        return None\n",
    "\n",
    "    if not isinstance(json_data, dict):\n",
    "        print(\"Error: Input must be a dictionary.\")\n",
    "        return None\n",
    "\n",
    "    # Find the first list in the dictionary\n",
    "    data_list = None\n",
    "    target_key = None\n",
    "    for key, value in json_data.items():\n",
    "        if isinstance(value, list):\n",
    "            data_list = value\n",
    "            target_key = key\n",
    "            break  # Stop after finding the first list\n",
    "\n",
    "    if data_list is None:\n",
    "        print(\"Error: No list found in the dictionary.\")\n",
    "        return None\n",
    "\n",
    "    # Validate the list elements\n",
    "    for item in data_list:\n",
    "        if not isinstance(item, dict) or \"fiber_length\" not in item:\n",
    "            print(\"Error: List elements must be dictionaries containing the key 'fiber_length'.\")\n",
    "            return None\n",
    "\n",
    "    # Sort the list by 'fiber_length'\n",
    "    sorted_data_list = sorted(data_list, key=lambda x: x[\"fiber_length\"])\n",
    "\n",
    "    # Create a new dictionary with the sorted list\n",
    "    reordered_json_data = json_data.copy() # Avoid modifying the original\n",
    "    reordered_json_data[target_key] = sorted_data_list\n",
    "\n",
    "    return reordered_json_data"
   ]
  },
  {
   "cell_type": "code",
   "execution_count": 16,
   "metadata": {},
   "outputs": [],
   "source": [
    "file_path = 'qkd_grouped_dataset_20250224_162146.json' # Replace with the actual file path' # Replace with the actual file path\n",
    "reordered_data = reorder_json_by_fiber_length(file_path)"
   ]
  },
  {
   "cell_type": "code",
   "execution_count": 17,
   "metadata": {},
   "outputs": [],
   "source": [
    "output_file_path = \"reordered_qkd_grouped_dataset_20250224_162146.json\" # Choose a name for the output file\n",
    "with open(output_file_path, 'w') as outfile:\n",
    "    json.dump(reordered_data, outfile, indent=2)"
   ]
  },
  {
   "cell_type": "code",
   "execution_count": 18,
   "metadata": {},
   "outputs": [],
   "source": [
    "import json\n",
    "import numpy as np\n",
    "import matplotlib.pyplot as plt\n",
    "\n",
    "def plot_for_nx(data, target_nx):\n",
    "    \"\"\"\n",
    "    Plot results for a specific n_X value, filtering out zero key rates.\n",
    "    \"\"\"\n",
    "    # Convert to string for dictionary key lookup\n",
    "    target_nx_str = str(float(target_nx))  # Ensure it matches JSON key format\n",
    "\n",
    "    # Retrieve data correctly from grouped dictionary\n",
    "    if target_nx_str not in data:\n",
    "        print(f\"No data found for n_X = {target_nx}\")\n",
    "        return\n",
    "    \n",
    "    filtered_data = data[target_nx_str]  # Get the list of entries\n",
    "    \n",
    "    # Filter out key rates that are zero or too small\n",
    "    filtered_data = [entry for entry in filtered_data if entry[\"key_rate\"] > 1e-30]  # Adjust threshold if needed\n",
    "\n",
    "    if not filtered_data:\n",
    "        print(f\"No non-zero key rates found for n_X = {target_nx}\")\n",
    "        return\n",
    "\n",
    "    # Extract data\n",
    "    fiber_lengths = [entry[\"fiber_length\"] for entry in filtered_data]\n",
    "    key_rates = [entry[\"key_rate\"] for entry in filtered_data]\n",
    "\n",
    "    # ✅ Improved visualization\n",
    "    plt.figure(figsize=(12, 6))\n",
    "    \n",
    "    # ✅ Key Rate vs Fiber Length\n",
    "    plt.subplot(1, 2, 1)\n",
    "    plt.plot(fiber_lengths, np.log10(key_rates), linestyle='-', color='b', label=\"Key Rate\")\n",
    "    plt.xlabel(\"Fiber Length (km)\")\n",
    "    plt.ylabel(\"log10(Key Rate)\")\n",
    "    plt.title(f\"Key Rate vs Fiber Length (n_X = {target_nx:.0e})\")\n",
    "    plt.legend()\n",
    "    plt.grid(True)\n",
    "    \n",
    "    # ✅ Optimized Parameters vs Fiber Length\n",
    "    plt.subplot(1, 2, 2)\n",
    "    params_names = list(filtered_data[0][\"optimized_params\"].keys())\n",
    "    for param_name in params_names:\n",
    "        params_values = [entry[\"optimized_params\"][param_name] for entry in filtered_data]\n",
    "        plt.plot(fiber_lengths, params_values, linestyle='-', label=param_name)\n",
    "    \n",
    "    plt.xlabel(\"Fiber Length (km)\")\n",
    "    plt.ylabel(\"Parameter Value\")\n",
    "    plt.title(f\"Optimized Parameters vs Fiber Length (n_X = {target_nx:.0e})\")\n",
    "    plt.legend()\n",
    "    plt.ylim(0.0, 1.0)\n",
    "    plt.yticks(np.arange(0.0, 1.05, 0.05))\n",
    "    plt.grid(True)\n",
    "    \n",
    "    plt.tight_layout()\n",
    "    plt.savefig(f\"qkd_results_nx_{target_nx:.0e}.png\", dpi=300, bbox_inches=\"tight\")\n",
    "    plt.show()"
   ]
  },
  {
   "cell_type": "code",
   "execution_count": 19,
   "metadata": {},
   "outputs": [
    {
     "data": {
      "image/png": "[encoded data removed]",
      "text/plain": [
       "<Figure size 1200x600 with 2 Axes>"
      ]
     },
     "metadata": {},
     "output_type": "display_data"
    },
    {
     "name": "stdout",
     "output_type": "stream",
     "text": [
      "Available n_X values: ['500000000.0']\n",
      "\n",
      "Plotting results for n_X = 1e+04\n",
      "No data found for n_X = 10000\n",
      "\n",
      "Plotting results for n_X = 1e+05\n",
      "No data found for n_X = 100000\n",
      "\n",
      "Plotting results for n_X = 1e+06\n",
      "No data found for n_X = 1000000\n",
      "\n",
      "Plotting results for n_X = 1e+07\n",
      "No data found for n_X = 10000000\n",
      "\n",
      "Plotting results for n_X = 1e+08\n",
      "No data found for n_X = 100000000\n",
      "\n",
      "Plotting results for n_X = 1e+09\n",
      "No data found for n_X = 1000000000\n"
     ]
    }
   ],
   "source": [
    "# Load dataset\n",
    "# with open(\"qkd_grouped_dataset_20250213_110036.json\", 'r') as f:\n",
    "#     dataset = json.load(f)\n",
    "with open(\"reordered_qkd_grouped_dataset_20250224_162146.json\", 'r') as f:\n",
    "    dataset = json.load(f)\n",
    "\n",
    "plot_for_nx(dataset, 500000000)\n",
    "\n",
    "# Print available n_X values\n",
    "print(\"Available n_X values:\", list(dataset.keys())[:5])  # Print first 5 unique n_X values\n",
    "\n",
    "# List of n_X values to plot\n",
    "n_X_values = [10**s for s in range(4, 10)]  # Generates [10^4, 10^5, ..., 10^9]\n",
    "\n",
    "# Loop through n_X values and plot\n",
    "for n_X in n_X_values:\n",
    "    print(f\"\\nPlotting results for n_X = {n_X:.0e}\")\n",
    "    plot_for_nx(dataset, n_X)"
   ]
  },
  {
   "cell_type": "code",
   "execution_count": null,
   "metadata": {},
   "outputs": [
    {
     "ename": "FileNotFoundError",
     "evalue": "[Errno 2] No such file or directory: '../../Training_Data/combined_datasets.json'",
     "output_type": "error",
     "traceback": [
      "\u001b[0;31m---------------------------------------------------------------------------\u001b[0m",
      "\u001b[0;31mFileNotFoundError\u001b[0m                         Traceback (most recent call last)",
      "Cell \u001b[0;32mIn[20], line 6\u001b[0m\n\u001b[1;32m      3\u001b[0m \u001b[38;5;28;01mimport\u001b[39;00m \u001b[38;5;21;01mmatplotlib\u001b[39;00m\u001b[38;5;21;01m.\u001b[39;00m\u001b[38;5;21;01mpyplot\u001b[39;00m \u001b[38;5;28;01mas\u001b[39;00m \u001b[38;5;21;01mplt\u001b[39;00m\n\u001b[1;32m      5\u001b[0m \u001b[38;5;66;03m# Load dataset\u001b[39;00m\n\u001b[0;32m----> 6\u001b[0m \u001b[38;5;28;01mwith\u001b[39;00m \u001b[38;5;28;43mopen\u001b[39;49m\u001b[43m(\u001b[49m\u001b[38;5;124;43m\"\u001b[39;49m\u001b[38;5;124;43m../../Training_Data/combined_datasets.json\u001b[39;49m\u001b[38;5;124;43m\"\u001b[39;49m\u001b[43m,\u001b[49m\u001b[43m \u001b[49m\u001b[38;5;124;43m'\u001b[39;49m\u001b[38;5;124;43mr\u001b[39;49m\u001b[38;5;124;43m'\u001b[39;49m\u001b[43m)\u001b[49m \u001b[38;5;28;01mas\u001b[39;00m f:\n\u001b[1;32m      7\u001b[0m     dataset \u001b[38;5;241m=\u001b[39m json\u001b[38;5;241m.\u001b[39mload(f)\n\u001b[1;32m      9\u001b[0m \u001b[38;5;66;03m# Print available keys (debugging)\u001b[39;00m\n",
      "File \u001b[0;32m~/anaconda3/envs/qkd-training_set/lib/python3.9/site-packages/IPython/core/interactiveshell.py:310\u001b[0m, in \u001b[0;36m_modified_open\u001b[0;34m(file, *args, **kwargs)\u001b[0m\n\u001b[1;32m    303\u001b[0m \u001b[38;5;28;01mif\u001b[39;00m file \u001b[38;5;129;01min\u001b[39;00m {\u001b[38;5;241m0\u001b[39m, \u001b[38;5;241m1\u001b[39m, \u001b[38;5;241m2\u001b[39m}:\n\u001b[1;32m    304\u001b[0m     \u001b[38;5;28;01mraise\u001b[39;00m \u001b[38;5;167;01mValueError\u001b[39;00m(\n\u001b[1;32m    305\u001b[0m         \u001b[38;5;124mf\u001b[39m\u001b[38;5;124m\"\u001b[39m\u001b[38;5;124mIPython won\u001b[39m\u001b[38;5;124m'\u001b[39m\u001b[38;5;124mt let you open fd=\u001b[39m\u001b[38;5;132;01m{\u001b[39;00mfile\u001b[38;5;132;01m}\u001b[39;00m\u001b[38;5;124m by default \u001b[39m\u001b[38;5;124m\"\u001b[39m\n\u001b[1;32m    306\u001b[0m         \u001b[38;5;124m\"\u001b[39m\u001b[38;5;124mas it is likely to crash IPython. If you know what you are doing, \u001b[39m\u001b[38;5;124m\"\u001b[39m\n\u001b[1;32m    307\u001b[0m         \u001b[38;5;124m\"\u001b[39m\u001b[38;5;124myou can use builtins\u001b[39m\u001b[38;5;124m'\u001b[39m\u001b[38;5;124m open.\u001b[39m\u001b[38;5;124m\"\u001b[39m\n\u001b[1;32m    308\u001b[0m     )\n\u001b[0;32m--> 310\u001b[0m \u001b[38;5;28;01mreturn\u001b[39;00m \u001b[43mio_open\u001b[49m\u001b[43m(\u001b[49m\u001b[43mfile\u001b[49m\u001b[43m,\u001b[49m\u001b[43m \u001b[49m\u001b[38;5;241;43m*\u001b[39;49m\u001b[43margs\u001b[49m\u001b[43m,\u001b[49m\u001b[43m \u001b[49m\u001b[38;5;241;43m*\u001b[39;49m\u001b[38;5;241;43m*\u001b[39;49m\u001b[43mkwargs\u001b[49m\u001b[43m)\u001b[49m\n",
      "\u001b[0;31mFileNotFoundError\u001b[0m: [Errno 2] No such file or directory: '../../Training_Data/combined_datasets.json'"
     ]
    }
   ],
   "source": [
    "import json\n",
    "import numpy as np\n",
    "import matplotlib.pyplot as plt\n",
    "\n",
    "# Load dataset\n",
    "with open(\"../../Training_Data/combined_datasets.json\", 'r') as f:\n",
    "    dataset = json.load(f)\n",
    "\n",
    "# Print available keys (debugging)\n",
    "print(\"Available n_X values:\", list(dataset.keys()))  \n",
    "\n",
    "# Define n_X values\n",
    "n_X_values = [10**s for s in range(4, 10)]  # [10^4, 10^5, ..., 10^9]\n",
    "\n",
    "# Initialize figure\n",
    "plt.figure(figsize=(10, 6))\n",
    "\n",
    "# Plot key rate vs fiber length for each n_X\n",
    "for n_X in n_X_values:\n",
    "    target_nx_str = str(float(n_X))  # Ensure correct format\n",
    "\n",
    "    if target_nx_str not in dataset:\n",
    "        print(f\"❌ No data found for n_X = {n_X}\")\n",
    "        continue\n",
    "\n",
    "    filtered_data = dataset[target_nx_str]\n",
    "    filtered_data = [entry for entry in filtered_data if entry[\"key_rate\"] > 1e-30]  \n",
    "\n",
    "    if not filtered_data:\n",
    "        print(f\"⚠️ No non-zero key rates for n_X = {n_X}\")\n",
    "        continue\n",
    "\n",
    "    # Extract fiber lengths and key rates\n",
    "    fiber_lengths = [entry[\"fiber_length\"] for entry in filtered_data]\n",
    "    key_rates = [entry[\"key_rate\"] for entry in filtered_data]\n",
    "\n",
    "    # Plot with unique colors and dashed lines\n",
    "    plt.plot(fiber_lengths, np.log10(key_rates), linestyle='-', label=f\"n_X = {n_X:.0e}\")\n",
    "\n",
    "# Graph formatting\n",
    "plt.xlabel(\"Fiber Length (km)\")\n",
    "plt.ylabel(\"log10(Key Rate)\")\n",
    "plt.title(\"Key Rate vs Fiber Length for Different n_X Values\")\n",
    "plt.legend()\n",
    "plt.grid(True)\n",
    "\n",
    "# Save and show plot\n",
    "plt.savefig(\"key_rate_vs_fiber_length.png\", dpi=300, bbox_inches=\"tight\")\n",
    "plt.show()"
   ]
  },
  {
   "cell_type": "code",
   "execution_count": null,
   "metadata": {},
   "outputs": [],
   "source": []
  }
 ],
 "metadata": {
  "kernelspec": {
   "display_name": "qkd-training_set",
   "language": "python",
   "name": "python3"
  },
  "language_info": {
   "codemirror_mode": {
    "name": "ipython",
    "version": 3
   },
   "file_extension": ".py",
   "mimetype": "text/x-python",
   "name": "python",
   "nbconvert_exporter": "python",
   "pygments_lexer": "ipython3",
   "version": "3.9.20"
  }
 },
 "nbformat": 4,
 "nbformat_minor": 2
}
