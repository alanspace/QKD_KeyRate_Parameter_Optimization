{
 "cells": [
  {
   "cell_type": "markdown",
   "metadata": {},
   "source": [
    "# BB84 QKD Parameters Optimization"
   ]
  },
  {
   "cell_type": "markdown",
   "metadata": {},
   "source": [
    "## Fiber Lengths and n_X Values\n",
    "Fiber lengths are created from 0 to 200 km in 0.1 km steps, resulting in 2001 unique fiber lengths. \\\n",
    "$n_X$ values are used ranging from $10^6$ to $10^{10}$, creating 5 unique values. \\\n",
    "Form all combinations of fiber lengths and $n_X$, resulting in 2001 $\\times$ 5 = 10,005 combinations, which aligns with the aim to generate a large dataset.\n",
    "\n",
    "## Optimization Process:\n",
    "For each combination of fiber length $L$ and $n_X$, The parameters $\\vec{p}$ = $ [ \\mu_1, \\mu_2, P_{\\mu_1}, P_{\\mu_2}, P_X ]$ are optimized using dual_annealing, which is a global optimization algorithm. \\\n",
    "The objective function is wrapped to evaluate the key rate for a specific combination of fiber length and $n_X$. \n",
    "\n",
    "## Parallelization:\n",
    "joblib’s Parallel is used to run the optimization for all combinations in parallel, with 12 threads, making the process efficient. \\\n",
    "tqdm-joblib is also used to track progress visually. \n",
    "\n",
    "## Dataset Creation:\n",
    "The results of the optimization ($e_1, e_2, e_3, e_4, n_X, R, p_{opt}$) are collected into a dataset. \\\n",
    "This dataset is saved to a file (training_dataset.json) for training a neural network. \n",
    "\n",
    "\n"
   ]
  },
  {
   "cell_type": "markdown",
   "metadata": {},
   "source": [
    "## Setup"
   ]
  },
  {
   "cell_type": "markdown",
   "metadata": {},
   "source": [
    "### Framework Selection:JAX\n",
    "Functional Programming: Simplify scientific computation and optimization workflows. \\\n",
    "Smaller Footprint: Ideal if the project doesn’t leverage TensorFlow’s broader ecosystem.\n",
    "\n",
    "##### Key Considerations\n",
    "For numerically intensive workloads (e.g., optimization tasks like QKD key rate calculations), JAX excels due to its lightweight functional paradigm.\n",
    "\n",
    "##### Conclusion\n",
    "Use JAX for performance-critical, purely numerical optimization tasks with minimal dependencies on machine learning frameworks."
   ]
  },
  {
   "cell_type": "markdown",
   "metadata": {},
   "source": [
    "## Imports"
   ]
  },
  {
   "cell_type": "code",
   "execution_count": 1,
   "metadata": {},
   "outputs": [
    {
     "name": "stderr",
     "output_type": "stream",
     "text": [
      "/Users/daai6ga1hou2/anaconda3/envs/qkd-training_set/lib/python3.9/site-packages/tqdm_joblib/__init__.py:4: TqdmExperimentalWarning: Using `tqdm.autonotebook.tqdm` in notebook mode. Use `tqdm.tqdm` instead to force console mode (e.g. in jupyter console)\n",
      "  from tqdm.autonotebook import tqdm\n"
     ]
    }
   ],
   "source": [
    "# Import necessary libraries\n",
    "import os\n",
    "import sys\n",
    "import time\n",
    "import json\n",
    "import functools\n",
    "import numpy as np\n",
    "import pandas as pd\n",
    "import matplotlib.pyplot as plt\n",
    "from tqdm import tqdm\n",
    "from tqdm_joblib import tqdm_joblib\n",
    "from joblib import Parallel, delayed\n",
    "from concurrent.futures import ProcessPoolExecutor\n",
    "from collections import defaultdict\n",
    "from scipy.optimize import minimize, dual_annealing, differential_evolution, Bounds\n",
    "\n",
    "# JAX imports\n",
    "import jax\n",
    "import jax.numpy as jnp\n",
    "from jax import grad, jit, vmap\n",
    "from jax.scipy.special import logsumexp, gamma\n",
    "from jax.experimental import pjit\n",
    "from jax.sharding import Mesh\n",
    "\n",
    "# SciPy imports\n",
    "from math import exp, factorial\n",
    "\n",
    "# JAX configuration for double precision\n",
    "jax.config.update(\"jax_enable_x64\", True)\n",
    "\n",
    "# Get the notebook's directory\n",
    "notebook_dir = os.getcwd()\n",
    "# Add parent directory to path\n",
    "project_root = os.path.dirname(notebook_dir)\n",
    "sys.path.append(project_root)"
   ]
  },
  {
   "cell_type": "code",
   "execution_count": 2,
   "metadata": {},
   "outputs": [
    {
     "name": "stdout",
     "output_type": "stream",
     "text": [
      "[CpuDevice(id=0)]\n"
     ]
    }
   ],
   "source": [
    "print(jax.devices())"
   ]
  },
  {
   "cell_type": "code",
   "execution_count": 3,
   "metadata": {},
   "outputs": [],
   "source": [
    "# pip install jax --upgrade s"
   ]
  },
  {
   "cell_type": "markdown",
   "metadata": {},
   "source": [
    "## Experimental Parameters"
   ]
  },
  {
   "cell_type": "code",
   "execution_count": 4,
   "metadata": {},
   "outputs": [],
   "source": [
    "# e_1\n",
    "# Fiber lengths\n",
    "Ls = jnp.linspace(0, 200, 1000)  # Fiber lengths in km\n",
    "L_BC = Ls\n",
    "e_1 = L_BC / 100\n",
    "    \n",
    "#e_2\n",
    "P_dc_value = 6*10**-7  # Dark count probability\n",
    "Y_0 = P_dc_value\n",
    "# 2.7*10** -7\n",
    "# P_dc = 6 * 10 ** (-7)   # given in the paper, discussed with range from 10^-8 to 10^-5\n",
    "e_2 = -jnp.log(Y_0)\n",
    "\n",
    "# e_3\n",
    "e_mis = 5 * 10 ** -3  # Misalignment error probability\n",
    "# 0.026 \n",
    "e_d = e_mis\n",
    "e_3 = e_d * 100\n",
    "e_mis = 5*1e-3 # given in the paper, discussed with range from 0 to 0.1 \n",
    "\n",
    "# e_4\n",
    "# Detected events\n",
    "n_X_values = [10**9] #[10 ** s for s in range(4, 11)]  # Detected events\n",
    "# n_X_values = jnp.array([10**s for s in range(6, 11)], dtype=jnp.int64)\n",
    "N = jnp.array(n_X_values)\n",
    "e_4 = jnp.log(N)"
   ]
  },
  {
   "cell_type": "markdown",
   "metadata": {},
   "source": [
    "## Other Parameters"
   ]
  },
  {
   "cell_type": "code",
   "execution_count": 5,
   "metadata": {},
   "outputs": [],
   "source": [
    "alpha = 0.2  # Attenuation coefficient (dB/km), given in the paper\n",
    "eta_Bob = 0.1  # Detector efficiency, given in the paper\n",
    "P_ap = 0  # After-pulse probability\n",
    "f_EC = 1.16  # Error correction efficiency\n",
    "# secutity error \n",
    "epsilon_sec = 1e-10 # is equal to kappa * secrecy length Kl, range around 1e-10 Scalar, as it is a single value throughout the calculations.\n",
    "# correlation error\n",
    "epsilon_cor = 1e-15 # given in the paper, discussed with range from 0 to 10e-10\n",
    "# Dark count probability\n",
    "n_event = 1  # for single photon event\n",
    "# Misalignment error probability\n",
    "# 4*1e-2          # given in the paper, discussed with range from 0 to 0.1\n",
    "kappa = 1e-15           # given in the paper\n",
    "f_EC = 1.16             # given in the paper, range around 1.1\n"
   ]
  },
  {
   "cell_type": "markdown",
   "metadata": {},
   "source": [
    "## Optimal Paramters"
   ]
  },
  {
   "cell_type": "code",
   "execution_count": 6,
   "metadata": {},
   "outputs": [],
   "source": [
    "def optimal_parameters(params):\n",
    "    mu_1, mu_2, P_mu_1, P_mu_2, P_X_value = params\n",
    "    mu_3 = 2e-4\n",
    "    P_mu_3 = 1 - P_mu_1 - P_mu_2\n",
    "    P_Z_value = 1 - P_X_value\n",
    "    mu_k_values = jnp.array([mu_1, mu_2, mu_3])\n",
    "    return params, mu_3, P_mu_3, P_Z_value, mu_k_values"
   ]
  },
  {
   "cell_type": "markdown",
   "metadata": {},
   "source": [
    "## Functions\n",
    "\n",
    "The calculate_factorial function provided uses the gamma function to compute the factorial of a number  n . This is mathematically correct because the gamma function  \\Gamma(n+1)  is equivalent to the factorial  n!  for non-negative integers  n .\n",
    "\n",
    "## Mathematical Background\n",
    "The gamma function is defined as:\n",
    "$\\Gamma(x) = \\int_0^\\infty t^{x-1} e^{-t} \\, dt$ \\\n",
    "For positive integers, the gamma function satisfies the relationship: \\\n",
    "$\\Gamma(n + 1) = n!$\n",
    "\\\n",
    "JAX does not have a built-in factorial function, but it does support the gamma function. This makes the approach valid and compatible with JAX for automatic differentiation and JIT compilation."
   ]
  },
  {
   "cell_type": "code",
   "execution_count": 7,
   "metadata": {},
   "outputs": [],
   "source": [
    "from QKD_Functions.QKD_Functions import (\n",
    "calculate_factorial,\n",
    "calculate_tau_n,\n",
    "    calculate_eta_ch,\n",
    "    calculate_eta_sys,\n",
    "    calculate_D_mu_k,\n",
    "    calculate_n_X_total,\n",
    "    calculate_N,\n",
    "    calculate_n_Z_total,\n",
    "    calculate_e_mu_k,\n",
    "    calculate_e_obs,\n",
    "    calculate_h,\n",
    "    calculate_lambda_EC,\n",
    "    calculate_sqrt_term,\n",
    "    calculate_tau_n,\n",
    "    calculate_n_pm, \n",
    "    calculate_S_0,\n",
    "    calculate_S_1,\n",
    "    calculate_m_mu_k,\n",
    "    calculate_m_pm,\n",
    "    calculate_v_1,\n",
    "    calculate_gamma,\n",
    "    calculate_Phi,\n",
    "    calculate_LastTwoTerm,\n",
    "    calculate_l,\n",
    "    calculate_R,\n",
    "    experimental_parameters,\n",
    "    other_parameters,\n",
    "    calculate_key_rates_and_metrics,\n",
    "    penalty, \n",
    "    objective,\n",
    ")"
   ]
  },
  {
   "cell_type": "code",
   "execution_count": 8,
   "metadata": {},
   "outputs": [],
   "source": [
    "# Initialize dataset storage\n",
    "categorized_dataset = {n_X: [] for n_X in n_X_values}\n",
    "\n",
    "# Initial guess and bounds\n",
    "initial_guess = np.array([0.52, 0.40, 0.18, 0.785, 0.88])\n",
    "\n",
    "    # 0.65, 0.15, 0.05, 0.61, 0.425 for 1e4\n",
    "    # 0.62, 0.24, 0.10, 0.70, 0.55 for 1e5\n",
    "    # 0.68, 0.30, 0.14, 0.74, 0.66 for 1e6\n",
    "    # 0.55, 0.34, 0.15, 0.75, 0.75 for 1e7 \n",
    "    # 0.54, 0.375, 0.16, 0.775, 0.83 for 1e8\n",
    "    # 0.52, 0.40, 0.18, 0.785, 0.88 for 1e9\n",
    "\n",
    "bounds = [\n",
    "    (4e-4, 0.9),  \n",
    "    (2e-4, 0.5),  \n",
    "    (1e-12, 1.0 - 1e-12),  \n",
    "    (1e-12, 1.0 - 1e-12),  \n",
    "    (1e-12, 1.0 - 1e-12),  \n",
    "]\n",
    "\n",
    "# Define L values\n",
    "L_values = np.linspace(0, 200, 1000)\n",
    "n_X_values = [1e9] # np.logspace(4, 9, 6)  # Logarithmically spaced values from 10^4 to 10^9"
   ]
  },
  {
   "cell_type": "code",
   "execution_count": 9,
   "metadata": {},
   "outputs": [],
   "source": [
    "import numpy as np\n",
    "from scipy.optimize import dual_annealing, minimize\n",
    "from tqdm import tqdm\n",
    "import concurrent.futures\n",
    "import logging\n",
    "import json\n",
    "import time"
   ]
  },
  {
   "cell_type": "code",
   "execution_count": 10,
   "metadata": {},
   "outputs": [],
   "source": [
    "# Global variables\n",
    "x0 = initial_guess.copy()  # Store the last used initial guess\n",
    "last_valid_x0 = initial_guess.copy()  # Store the last valid parameters"
   ]
  },
  {
   "cell_type": "code",
   "execution_count": 11,
   "metadata": {},
   "outputs": [
    {
     "name": "stderr",
     "output_type": "stream",
     "text": [
      "Optimizing:   0%|          | 0/1000 [00:00<?, ?it/s]"
     ]
    },
    {
     "name": "stdout",
     "output_type": "stream",
     "text": [
      "\n",
      "--- [DEBUG] Starting optimization for L=0.0 km ---\n",
      "🔵 Initial Guess for L=0.0: [0.52  0.4   0.18  0.785 0.88 ]\n",
      "\n",
      "--- [DEBUG] Starting optimization for L=0.2002002002002002 km ---\n",
      "🔵 Initial Guess for L=0.2002002002002002: [0.52  0.4   0.18  0.785 0.88 ]\n",
      "\n",
      "--- [DEBUG] Starting optimization for L=0.4004004004004004 km ---\n",
      "--- [DEBUG] Starting optimization for L=0.6006006006006006 km ---\n",
      "🔵 Initial Guess for L=0.6006006006006006: [0.52  0.4   0.18  0.785 0.88 ]\n",
      "\n",
      "🔵 Initial Guess for L=0.4004004004004004: [0.52  0.4   0.18  0.785 0.88 ]\n",
      "\n",
      "--- [DEBUG] Starting optimization for L=0.8008008008008008 km ---\n",
      "🔵 Initial Guess for L=0.8008008008008008: [0.52  0.4   0.18  0.785 0.88 ]\n",
      "\n",
      "--- [DEBUG] Starting optimization for L=1.001001001001001 km ---\n",
      "🔵 Initial Guess for L=1.001001001001001: [0.52  0.4   0.18  0.785 0.88 ]\n",
      "\n",
      "--- [DEBUG] Starting optimization for L=1.2012012012012012 km ---\n",
      "🔵 Initial Guess for L=1.2012012012012012: [0.52  0.4   0.18  0.785 0.88 ]\n",
      "\n",
      "--- [DEBUG] Starting optimization for L=1.4014014014014016 km ---\n",
      "🔵 Initial Guess for L=1.4014014014014016: [0.52  0.4   0.18  0.785 0.88 ]\n",
      "\n",
      "--- [DEBUG] Starting optimization for L=1.6016016016016017 km ---\n",
      "🔵 Initial Guess for L=1.6016016016016017: [0.52  0.4   0.18  0.785 0.88 ]\n",
      "\n",
      "--- [DEBUG] Starting optimization for L=1.8018018018018018 km ---\n",
      "🔵 Initial Guess for L=1.8018018018018018: [0.52  0.4   0.18  0.785 0.88 ]\n",
      "\n",
      "--- [DEBUG] Starting optimization for L=2.002002002002002 km ---\n",
      "🔵 Initial Guess for L=2.002002002002002: [0.52  0.4   0.18  0.785 0.88 ]\n",
      "\n",
      "--- [DEBUG] Starting optimization for L=2.2022022022022023 km ---\n",
      "🔵 Initial Guess for L=2.2022022022022023: [0.52  0.4   0.18  0.785 0.88 ]\n"
     ]
    },
    {
     "name": "stderr",
     "output_type": "stream",
     "text": [
      "Optimizing:   0%|          | 1/1000 [01:06<18:27:01, 66.49s/it]"
     ]
    },
    {
     "name": "stdout",
     "output_type": "stream",
     "text": [
      "✅ Final Optimized Parameters for L=1.4014014014014016 km: [0.48897902 0.36679651 0.18671183 0.77242455 0.87653486]\n",
      "✅ Final Optimized Key Rate for L=1.4014014014014016 km: 0.010197400299898504\n",
      "\n",
      "--- [DEBUG] Starting optimization for L=2.4024024024024024 km ---\n",
      "🔵 Initial Guess for L=2.4024024024024024: [0.48897902 0.36679651 0.18671183 0.77242455 0.87653486]\n"
     ]
    },
    {
     "name": "stderr",
     "output_type": "stream",
     "text": [
      "Optimizing:   1%|          | 6/1000 [01:07<1:45:21,  6.36s/it] "
     ]
    },
    {
     "name": "stdout",
     "output_type": "stream",
     "text": [
      "✅ Final Optimized Parameters for L=0.4004004004004004 km: [0.48988868 0.36747888 0.18650245 0.77265731 0.87656432]\n",
      "✅ Final Optimized Key Rate for L=0.4004004004004004 km: 0.010694073814597428\n",
      "\n",
      "--- [DEBUG] Starting optimization for L=2.6026026026026026 km ---\n",
      "🔵 Initial Guess for L=2.6026026026026026: [0.48988868 0.36747888 0.18650245 0.77265731 0.87656432]\n",
      "✅ Final Optimized Parameters for L=1.8018018018018018 km: [0.48862755 0.36653261 0.18679316 0.77233419 0.87652345]\n",
      "✅ Final Optimized Key Rate for L=1.8018018018018018 km: 0.01000542913513183\n",
      "\n",
      "--- [DEBUG] Starting optimization for L=2.802802802802803 km ---\n",
      "🔵 Initial Guess for L=2.802802802802803: [0.48862755 0.36653261 0.18679316 0.77233419 0.87652345]\n",
      "✅ Final Optimized Parameters for L=0.6006006006006006 km: [0.48970311 0.36733977 0.18654511 0.77260987 0.87655832]\n",
      "✅ Final Optimized Key Rate for L=0.6006006006006006 km: 0.010592785591246257\n",
      "\n",
      "--- [DEBUG] Starting optimization for L=3.0030030030030033 km ---\n",
      "🔵 Initial Guess for L=3.0030030030030033: [0.48970311 0.36733977 0.18654511 0.77260987 0.87655832]\n",
      "✅ Final Optimized Parameters for L=2.2022022022022023 km: [0.48828297 0.3662737  0.18687292 0.77224562 0.87651226]\n",
      "✅ Final Optimized Key Rate for L=2.2022022022022023 km: 0.00981716896380189\n",
      "✅ Final Optimized Parameters for L=0.8008008008008008 km: [0.48951939 0.36720198 0.18658729 0.77256297 0.87655238]\n",
      "✅ Final Optimized Key Rate for L=0.8008008008008008 km: 0.010492484202297796\n",
      "✅ Final Optimized Parameters for L=0.2002002002002002 km: [0.49007602 0.3676193  0.18645968 0.7727049  0.87657036]\n",
      "✅ Final Optimized Key Rate for L=0.2002002002002002 km: 0.010796359117856827\n"
     ]
    },
    {
     "name": "stderr",
     "output_type": "stream",
     "text": [
      "Optimizing:   1%|          | 10/1000 [01:07<50:11,  3.04s/it] "
     ]
    },
    {
     "name": "stdout",
     "output_type": "stream",
     "text": [
      "✅ Final Optimized Parameters for L=1.001001001001001 km: [0.48933749 0.36706553 0.18662918 0.7725164  0.87654648]\n",
      "✅ Final Optimized Key Rate for L=1.001001001001001 km: 0.01039315951703142\n",
      "✅ Final Optimized Parameters for L=2.002002002002002 km: [0.48845443 0.36640252 0.18683321 0.77228973 0.87651783]\n",
      "✅ Final Optimized Key Rate for L=2.002002002002002 km: 0.009910839924474665\n",
      "✅ Final Optimized Parameters for L=1.6016016016016017 km: [0.48880245 0.36666391 0.18675282 0.77237903 0.87652914]\n",
      "✅ Final Optimized Key Rate for L=1.6016016016016017 km: 0.01010094606755286\n",
      "✅ Final Optimized Parameters for L=0.0 km: [0.49026527 0.36776113 0.18641619 0.77275327 0.87657647]\n",
      "✅ Final Optimized Key Rate for L=0.0 km: 0.010899651862790596\n",
      "✅ Final Optimized Parameters for L=1.2012012012012012 km: [0.48915736 0.36693039 0.1866706  0.77247036 0.87654066]\n",
      "✅ Final Optimized Key Rate for L=1.2012012012012012 km: 0.010294801518059933\n"
     ]
    },
    {
     "name": "stderr",
     "output_type": "stream",
     "text": [
      "Optimizing:   2%|▏         | 16/1000 [01:22<41:29,  2.53s/it]  "
     ]
    },
    {
     "name": "stdout",
     "output_type": "stream",
     "text": [
      "✅ Final Optimized Parameters for L=2.4024024024024024 km: [0.48811324 0.36614611 0.18691245 0.77220177 0.87650671]\n",
      "✅ Final Optimized Key Rate for L=2.4024024024024024 km: 0.009724406886385052\n",
      "✅ Final Optimized Parameters for L=3.0030030030030033 km: [0.487614   0.36577054 0.18702893 0.77207255 0.87649042]\n",
      "✅ Final Optimized Key Rate for L=3.0030030030030033 km: 0.009451481834732241\n",
      "✅ Final Optimized Parameters for L=2.6026026026026026 km: [0.48794519 0.36601971 0.18695152 0.7721584  0.87650125]\n",
      "✅ Final Optimized Key Rate for L=2.6026026026026026 km: 0.00963254442923489\n",
      "✅ Final Optimized Parameters for L=2.802802802802803 km: [0.48777876 0.36589455 0.18699029 0.77211536 0.87649582]\n",
      "✅ Final Optimized Key Rate for L=2.802802802802803 km: 0.009541572431807735\n",
      "\n",
      "--- [DEBUG] Starting optimization for L=3.2032032032032034 km ---\n",
      "🔵 Initial Guess for L=3.2032032032032034: [0.48777876 0.36589455 0.18699029 0.77211536 0.87649582]\n",
      "\n",
      "--- [DEBUG] Starting optimization for L=3.4034034034034035 km ---\n",
      "🔵 Initial Guess for L=3.4034034034034035: [0.48777876 0.36589455 0.18699029 0.77211536 0.87649582]\n",
      "\n",
      "--- [DEBUG] Starting optimization for L=3.6036036036036037 km ---\n",
      "🔵 Initial Guess for L=3.6036036036036037: [0.48777876 0.36589455 0.18699029 0.77211536 0.87649582]\n",
      "\n",
      "--- [DEBUG] Starting optimization for L=3.8038038038038042 km ---\n",
      "🔵 Initial Guess for L=3.8038038038038042: [0.48777876 0.36589455 0.18699029 0.77211536 0.87649582]\n",
      "\n",
      "--- [DEBUG] Starting optimization for L=4.004004004004004 km ---\n",
      "🔵 Initial Guess for L=4.004004004004004: [0.48777876 0.36589455 0.18699029 0.77211536 0.87649582]\n",
      "\n",
      "--- [DEBUG] Starting optimization for L=4.2042042042042045 km ---\n",
      "🔵 Initial Guess for L=4.2042042042042045: [0.48777876 0.36589455 0.18699029 0.77211536 0.87649582]\n",
      "\n",
      "--- [DEBUG] Starting optimization for L=4.404404404404405 km ---\n",
      "🔵 Initial Guess for L=4.404404404404405: [0.48777876 0.36589455 0.18699029 0.77211536 0.87649582]\n",
      "\n",
      "--- [DEBUG] Starting optimization for L=4.604604604604605 km ---\n",
      "🔵 Initial Guess for L=4.604604604604605: [0.48777876 0.36589455 0.18699029 0.77211536 0.87649582]\n",
      "\n",
      "--- [DEBUG] Starting optimization for L=4.804804804804805 km ---\n",
      "🔵 Initial Guess for L=4.804804804804805: [0.48777876 0.36589455 0.18699029 0.77211536 0.87649582]\n",
      "\n",
      "--- [DEBUG] Starting optimization for L=5.005005005005005 km ---\n",
      "🔵 Initial Guess for L=5.005005005005005: [0.48777876 0.36589455 0.18699029 0.77211536 0.87649582]\n",
      "\n",
      "--- [DEBUG] Starting optimization for L=5.205205205205205 km ---\n",
      "🔵 Initial Guess for L=5.205205205205205: [0.48777876 0.36589455 0.18699029 0.77211536 0.87649582]\n",
      "\n",
      "--- [DEBUG] Starting optimization for L=5.405405405405406 km ---\n",
      "🔵 Initial Guess for L=5.405405405405406: [0.48777876 0.36589455 0.18699029 0.77211536 0.87649582]\n"
     ]
    },
    {
     "name": "stderr",
     "output_type": "stream",
     "text": [
      "Optimizing:   2%|▏         | 20/1000 [02:28<1:56:19,  7.12s/it]"
     ]
    },
    {
     "name": "stdout",
     "output_type": "stream",
     "text": [
      "✅ Final Optimized Parameters for L=4.804804804804805 km: [0.48620202 0.36470628 0.18736096 0.77170467 0.87644408]\n",
      "✅ Final Optimized Key Rate for L=4.804804804804805 km: 0.008678883174201683\n",
      "\n",
      "--- [DEBUG] Starting optimization for L=5.605605605605606 km ---\n",
      "🔵 Initial Guess for L=5.605605605605606: [0.48620202 0.36470628 0.18736096 0.77170467 0.87644408]\n",
      "✅ Final Optimized Parameters for L=3.6036036036036037 km: [0.4871293  0.36540566 0.18714211 0.77194702 0.87647457]\n",
      "✅ Final Optimized Key Rate for L=3.6036036036036037 km: 0.009186409343222887\n",
      "\n",
      "--- [DEBUG] Starting optimization for L=5.805805805805806 km ---\n",
      "🔵 Initial Guess for L=5.805805805805806: [0.4871293  0.36540566 0.18714211 0.77194702 0.87647457]\n",
      "✅ Final Optimized Parameters for L=5.205205205205205 km: [0.48590498 0.36448191 0.18743137 0.77162675 0.87643425]\n",
      "✅ Final Optimized Key Rate for L=5.205205205205205 km: 0.00851616429843153\n",
      "\n",
      "--- [DEBUG] Starting optimization for L=6.0060060060060065 km ---\n",
      "🔵 Initial Guess for L=6.0060060060060065: [0.48590498 0.36448191 0.18743137 0.77162675 0.87643425]\n",
      "✅ Final Optimized Parameters for L=4.2042042042042045 km: [0.48665875 0.36505096 0.18725293 0.77182425 0.87645912]\n",
      "✅ Final Optimized Key Rate for L=4.2042042042042045 km: 0.008928952769682544\n",
      "\n",
      "--- [DEBUG] Starting optimization for L=6.206206206206207 km ---\n",
      "🔵 Initial Guess for L=6.206206206206207: [0.48665875 0.36505096 0.18725293 0.77182425 0.87645912]\n",
      "✅ Final Optimized Parameters for L=3.2032032032032034 km: [0.48745079 0.36564774 0.18706691 0.7720304  0.8764851 ]\n",
      "✅ Final Optimized Key Rate for L=3.2032032032032034 km: 0.00936226367855264\n",
      "✅ Final Optimized Parameters for L=3.4034034034034035 km: [0.48728924 0.3655261  0.18710475 0.77198845 0.8764798 ]\n",
      "✅ Final Optimized Key Rate for L=3.4034034034034035 km: 0.009273909102489946\n",
      "✅ Final Optimized Parameters for L=5.405405405405406 km: [0.48575861 0.3643713  0.18746628 0.77158815 0.87642941]\n",
      "✅ Final Optimized Key Rate for L=5.405405405405406 km: 0.008435979038857766\n",
      "✅ Final Optimized Parameters for L=5.005005005005005 km: [0.48605279 0.36459359 0.18739619 0.77166565 0.87643914]\n",
      "✅ Final Optimized Key Rate for L=5.005005005005005 km: 0.00859712969742307\n"
     ]
    },
    {
     "name": "stderr",
     "output_type": "stream",
     "text": [
      "Optimizing:   3%|▎         | 26/1000 [02:28<56:05,  3.46s/it]  "
     ]
    },
    {
     "name": "stdout",
     "output_type": "stream",
     "text": [
      "✅ Final Optimized Parameters for L=3.8038038038038042 km: [0.48697089 0.36528623 0.18717952 0.7719056  0.87646939]\n",
      "✅ Final Optimized Key Rate for L=3.8038038038038042 km: 0.009099755733683561\n",
      "✅ Final Optimized Parameters for L=4.004004004004004 km: [0.4868141  0.36516805 0.18721632 0.77186479 0.87646423]\n",
      "✅ Final Optimized Key Rate for L=4.004004004004004 km: 0.009013939701871037\n",
      "✅ Final Optimized Parameters for L=4.404404404404405 km: [0.48650505 0.36493497 0.18728915 0.77178415 0.87645407]\n",
      "✅ Final Optimized Key Rate for L=4.404404404404405 km: 0.008844786551760098\n",
      "✅ Final Optimized Parameters for L=4.604604604604605 km: [0.48635275 0.36482008 0.18732497 0.77174448 0.87644906]\n",
      "✅ Final Optimized Key Rate for L=4.604604604604605 km: 0.008761432754353898\n"
     ]
    },
    {
     "name": "stderr",
     "output_type": "stream",
     "text": [
      "Optimizing:   3%|▎         | 29/1000 [02:43<1:01:39,  3.81s/it]"
     ]
    },
    {
     "name": "stdout",
     "output_type": "stream",
     "text": [
      "✅ Final Optimized Parameters for L=5.605605605605606 km: [0.48561379 0.36426179 0.18750078 0.77155    0.8764246 ]\n",
      "✅ Final Optimized Key Rate for L=5.605605605605606 km: 0.008356566066492595\n",
      "✅ Final Optimized Parameters for L=6.206206206206207 km: [0.48518759 0.36393925 0.1876027  0.77143737 0.87641043]\n",
      "✅ Final Optimized Key Rate for L=6.206206206206207 km: 0.00812288362110448\n",
      "✅ Final Optimized Parameters for L=5.805805805805806 km: [0.48547029 0.36415326 0.18753502 0.77151213 0.87641984]\n",
      "✅ Final Optimized Key Rate for L=5.805805805805806 km: 0.008277917614241103\n",
      "✅ Final Optimized Parameters for L=6.0060060060060065 km: [0.48532827 0.36404573 0.18756913 0.77147447 0.87641512]\n",
      "✅ Final Optimized Key Rate for L=6.0060060060060065 km: 0.008200025999092352\n",
      "\n",
      "--- [DEBUG] Starting optimization for L=6.406406406406407 km ---\n",
      "🔵 Initial Guess for L=6.406406406406407: [0.48532827 0.36404573 0.18756913 0.77147447 0.87641512]\n",
      "\n",
      "--- [DEBUG] Starting optimization for L=6.606606606606607 km ---\n",
      "🔵 Initial Guess for L=6.606606606606607: [0.48532827 0.36404573 0.18756913 0.77147447 0.87641512]\n",
      "\n",
      "--- [DEBUG] Starting optimization for L=6.806806806806807 km ---\n",
      "🔵 Initial Guess for L=6.806806806806807: [0.48532827 0.36404573 0.18756913 0.77147447 0.87641512]\n",
      "\n",
      "--- [DEBUG] Starting optimization for L=7.007007007007007 km ---\n",
      "🔵 Initial Guess for L=7.007007007007007: [0.48532827 0.36404573 0.18756913 0.77147447 0.87641512]\n",
      "\n",
      "--- [DEBUG] Starting optimization for L=7.207207207207207 km ---\n",
      "🔵 Initial Guess for L=7.207207207207207: [0.48532827 0.36404573 0.18756913 0.77147447 0.87641512]\n",
      "\n",
      "--- [DEBUG] Starting optimization for L=7.407407407407407 km ---\n",
      "🔵 Initial Guess for L=7.407407407407407: [0.48532827 0.36404573 0.18756913 0.77147447 0.87641512]\n",
      "\n",
      "--- [DEBUG] Starting optimization for L=7.6076076076076085 km ---\n",
      "🔵 Initial Guess for L=7.6076076076076085: [0.48532827 0.36404573 0.18756913 0.77147447 0.87641512]\n",
      "\n",
      "--- [DEBUG] Starting optimization for L=7.807807807807809 km ---\n",
      "🔵 Initial Guess for L=7.807807807807809: [0.48532827 0.36404573 0.18756913 0.77147447 0.87641512]\n",
      "\n",
      "--- [DEBUG] Starting optimization for L=8.008008008008009 km ---\n",
      "🔵 Initial Guess for L=8.008008008008009: [0.48532827 0.36404573 0.18756913 0.77147447 0.87641512]\n",
      "\n",
      "--- [DEBUG] Starting optimization for L=8.208208208208209 km ---\n",
      "🔵 Initial Guess for L=8.208208208208209: [0.48532827 0.36404573 0.18756913 0.77147447 0.87641512]\n",
      "\n",
      "--- [DEBUG] Starting optimization for L=8.408408408408409 km ---\n",
      "🔵 Initial Guess for L=8.408408408408409: [0.48532827 0.36404573 0.18756913 0.77147447 0.87641512]\n",
      "\n",
      "--- [DEBUG] Starting optimization for L=8.608608608608609 km ---\n",
      "🔵 Initial Guess for L=8.608608608608609: [0.48532827 0.36404573 0.18756913 0.77147447 0.87641512]\n"
     ]
    },
    {
     "name": "stderr",
     "output_type": "stream",
     "text": [
      "Optimizing:   3%|▎         | 33/1000 [03:48<2:10:03,  8.07s/it]"
     ]
    },
    {
     "name": "stdout",
     "output_type": "stream",
     "text": [
      "✅ Final Optimized Parameters for L=6.806806806806807 km: [0.48477394 0.36362579 0.1877022  0.77132751 0.87639665]\n",
      "✅ Final Optimized Key Rate for L=6.806806806806807 km: 0.007895877135773673\n",
      "\n",
      "--- [DEBUG] Starting optimization for L=8.80880880880881 km ---\n",
      "🔵 Initial Guess for L=8.80880880880881: [0.48477394 0.36362579 0.1877022  0.77132751 0.87639665]\n"
     ]
    },
    {
     "name": "stderr",
     "output_type": "stream",
     "text": [
      "Optimizing:   4%|▍         | 38/1000 [03:49<1:11:55,  4.49s/it]"
     ]
    },
    {
     "name": "stdout",
     "output_type": "stream",
     "text": [
      "✅ Final Optimized Parameters for L=6.406406406406407 km: [0.48504834 0.36383379 0.18763612 0.77140047 0.8764058 ]\n",
      "✅ Final Optimized Key Rate for L=6.406406406406407 km: 0.008046482962402311\n",
      "\n",
      "--- [DEBUG] Starting optimization for L=9.00900900900901 km ---\n",
      "🔵 Initial Guess for L=9.00900900900901: [0.48504834 0.36383379 0.18763612 0.77140047 0.8764058 ]\n",
      "✅ Final Optimized Parameters for L=8.208208208208209 km: [0.48385517 0.362928   0.18792534 0.77108149 0.87636575]\n",
      "✅ Final Optimized Key Rate for L=8.208208208208209 km: 0.00739105332707443\n",
      "\n",
      "--- [DEBUG] Starting optimization for L=9.20920920920921 km ---\n",
      "🔵 Initial Guess for L=9.20920920920921: [0.48385517 0.362928   0.18792534 0.77108149 0.87636575]\n",
      "✅ Final Optimized Parameters for L=8.408408408408409 km: [0.4837291  0.36283205 0.18795629 0.77104742 0.8763615 ]\n",
      "✅ Final Optimized Key Rate for L=8.408408408408409 km: 0.007321673743550183\n",
      "\n",
      "--- [DEBUG] Starting optimization for L=9.40940940940941 km ---\n",
      "🔵 Initial Guess for L=9.40940940940941: [0.4837291  0.36283205 0.18795629 0.77104742 0.8763615 ]\n",
      "✅ Final Optimized Parameters for L=8.008008008008009 km: [0.48398257 0.36302493 0.1878942  0.77111578 0.87637007]\n",
      "✅ Final Optimized Key Rate for L=8.008008008008009 km: 0.00746110375402574\n",
      "✅ Final Optimized Parameters for L=7.207207207207207 km: [0.48450487 0.36342173 0.18776734 0.77125564 0.87638764]\n",
      "✅ Final Optimized Key Rate for L=7.207207207207207 km: 0.007748149980336539\n"
     ]
    },
    {
     "name": "stderr",
     "output_type": "stream",
     "text": [
      "Optimizing:   4%|▍         | 41/1000 [03:49<51:23,  3.22s/it]  "
     ]
    },
    {
     "name": "stdout",
     "output_type": "stream",
     "text": [
      "✅ Final Optimized Parameters for L=6.606606606606607 km: [0.48491043 0.3637293  0.18766934 0.77136378 0.8764012 ]\n",
      "✅ Final Optimized Key Rate for L=6.606606606606607 km: 0.007970816586189543\n",
      "✅ Final Optimized Parameters for L=8.608608608608609 km: [0.48360427 0.36273696 0.18798701 0.77101362 0.87635725]\n",
      "✅ Final Optimized Key Rate for L=8.608608608608609 km: 0.007252958325998056\n",
      "✅ Final Optimized Parameters for L=7.407407407407407 km: [0.4843724  0.36332112 0.18779924 0.77122044 0.87638319]\n",
      "✅ Final Optimized Key Rate for L=7.407407407407407 km: 0.0076753479538709665\n"
     ]
    },
    {
     "name": "stderr",
     "output_type": "stream",
     "text": [
      "Optimizing:   4%|▍         | 43/1000 [03:49<40:30,  2.54s/it]"
     ]
    },
    {
     "name": "stdout",
     "output_type": "stream",
     "text": [
      "✅ Final Optimized Parameters for L=7.007007007007007 km: [0.48463877 0.36352331 0.18773489 0.77129144 0.87639211]\n",
      "✅ Final Optimized Key Rate for L=7.007007007007007 km: 0.007821657333606916\n",
      "✅ Final Optimized Parameters for L=7.807807807807809 km: [0.48411125 0.36312271 0.18786281 0.77115037 0.8763744 ]\n",
      "✅ Final Optimized Key Rate for L=7.807807807807809 km: 0.007531831773772304\n",
      "✅ Final Optimized Parameters for L=7.6076076076076085 km: [0.48424118 0.36322147 0.18783121 0.7711852  0.87637877]\n",
      "✅ Final Optimized Key Rate for L=7.6076076076076085 km: 0.007603244208457156\n"
     ]
    },
    {
     "name": "stderr",
     "output_type": "stream",
     "text": [
      "Optimizing:   4%|▍         | 45/1000 [04:03<56:46,  3.57s/it]"
     ]
    },
    {
     "name": "stdout",
     "output_type": "stream",
     "text": [
      "✅ Final Optimized Parameters for L=9.00900900900901 km: [0.48335827 0.36254948 0.18804748 0.77094707 0.87634889]\n",
      "✅ Final Optimized Key Rate for L=9.00900900900901 km: 0.007117493633475724\n",
      "✅ Final Optimized Parameters for L=8.80880880880881 km: [0.48348069 0.36264279 0.18801728 0.77098029 0.87635309]\n",
      "✅ Final Optimized Key Rate for L=8.80880880880881 km: 0.007184900468028005\n",
      "✅ Final Optimized Parameters for L=9.20920920920921 km: [0.48323711 0.36245709 0.18807744 0.77091411 0.87634478]\n",
      "✅ Final Optimized Key Rate for L=9.20920920920921 km: 0.007050731355576681\n",
      "✅ Final Optimized Parameters for L=9.40940940940941 km: [0.48311706 0.36236546 0.18810724 0.77088136 0.87634068]\n",
      "✅ Final Optimized Key Rate for L=9.40940940940941 km: 0.0069846072361502655\n",
      "\n",
      "--- [DEBUG] Starting optimization for L=9.60960960960961 km ---\n",
      "🔵 Initial Guess for L=9.60960960960961: [0.48311706 0.36236546 0.18810724 0.77088136 0.87634068]\n",
      "\n",
      "--- [DEBUG] Starting optimization for L=9.80980980980981 km ---\n",
      "🔵 Initial Guess for L=9.80980980980981: [0.48311706 0.36236546 0.18810724 0.77088136 0.87634068]\n",
      "\n",
      "--- [DEBUG] Starting optimization for L=10.01001001001001 km ---\n",
      "🔵 Initial Guess for L=10.01001001001001: [0.48311706 0.36236546 0.18810724 0.77088136 0.87634068]\n",
      "\n",
      "--- [DEBUG] Starting optimization for L=10.21021021021021 km ---\n",
      "🔵 Initial Guess for L=10.21021021021021: [0.48311706 0.36236546 0.18810724 0.77088136 0.87634068]\n",
      "\n",
      "--- [DEBUG] Starting optimization for L=10.41041041041041 km ---\n",
      "🔵 Initial Guess for L=10.41041041041041: [0.48311706 0.36236546 0.18810724 0.77088136 0.87634068]\n",
      "\n",
      "--- [DEBUG] Starting optimization for L=10.61061061061061 km ---\n",
      "🔵 Initial Guess for L=10.61061061061061: [0.48311706 0.36236546 0.18810724 0.77088136 0.87634068]\n",
      "\n",
      "--- [DEBUG] Starting optimization for L=10.810810810810812 km ---\n",
      "🔵 Initial Guess for L=10.810810810810812: [0.48311706 0.36236546 0.18810724 0.77088136 0.87634068]\n",
      "\n",
      "--- [DEBUG] Starting optimization for L=11.011011011011012 km ---\n",
      "🔵 Initial Guess for L=11.011011011011012: [0.48311706 0.36236546 0.18810724 0.77088136 0.87634068]\n",
      "\n",
      "--- [DEBUG] Starting optimization for L=11.211211211211213 km ---\n",
      "🔵 Initial Guess for L=11.211211211211213: [0.48311706 0.36236546 0.18810724 0.77088136 0.87634068]\n",
      "\n",
      "--- [DEBUG] Starting optimization for L=11.411411411411413 km ---\n",
      "🔵 Initial Guess for L=11.411411411411413: [0.48311706 0.36236546 0.18810724 0.77088136 0.87634068]\n",
      "\n",
      "--- [DEBUG] Starting optimization for L=11.611611611611613 km ---\n",
      "🔵 Initial Guess for L=11.611611611611613: [0.48311706 0.36236546 0.18810724 0.77088136 0.87634068]\n",
      "\n",
      "--- [DEBUG] Starting optimization for L=11.811811811811813 km ---\n",
      "🔵 Initial Guess for L=11.811811811811813: [0.48311706 0.36236546 0.18810724 0.77088136 0.87634068]\n"
     ]
    },
    {
     "name": "stderr",
     "output_type": "stream",
     "text": [
      "Optimizing:   5%|▌         | 50/1000 [05:10<2:02:24,  7.73s/it]"
     ]
    },
    {
     "name": "stdout",
     "output_type": "stream",
     "text": [
      "✅ Final Optimized Parameters for L=11.211211211211213 km: [0.48208951 0.36157879 0.18836454 0.77059899 0.87630528]\n",
      "✅ Final Optimized Key Rate for L=11.211211211211213 km: 0.006417184524347853\n",
      "\n",
      "--- [DEBUG] Starting optimization for L=12.012012012012013 km ---\n",
      "🔵 Initial Guess for L=12.012012012012013: [0.48208951 0.36157879 0.18836454 0.77059899 0.87630528]\n",
      "✅ Final Optimized Parameters for L=10.01001001001001 km: [0.48276422 0.36209583 0.18819483 0.77078512 0.87632862]\n",
      "✅ Final Optimized Key Rate for L=10.01001001001001 km: 0.006790000858834756\n",
      "\n",
      "--- [DEBUG] Starting optimization for L=12.212212212212213 km ---\n",
      "🔵 Initial Guess for L=12.212212212212213: [0.48276422 0.36209583 0.18819483 0.77078512 0.87632862]\n"
     ]
    },
    {
     "name": "stderr",
     "output_type": "stream",
     "text": [
      "Optimizing:   5%|▌         | 54/1000 [05:10<1:05:35,  4.16s/it]"
     ]
    },
    {
     "name": "stdout",
     "output_type": "stream",
     "text": [
      "✅ Final Optimized Parameters for L=11.811811811811813 km: [0.48176703 0.36133097 0.18844647 0.77050925 0.87629406]\n",
      "✅ Final Optimized Key Rate for L=11.811811811811813 km: 0.006238655412582795\n",
      "\n",
      "--- [DEBUG] Starting optimization for L=12.412412412412413 km ---\n",
      "🔵 Initial Guess for L=12.412412412412413: [0.48176703 0.36133097 0.18844647 0.77050925 0.87629406]\n",
      "✅ Final Optimized Parameters for L=9.80980980980981 km: [0.4828807  0.36218489 0.18816579 0.770817   0.87633261]\n",
      "✅ Final Optimized Key Rate for L=9.80980980980981 km: 0.006854248218094657\n",
      "\n",
      "--- [DEBUG] Starting optimization for L=12.612612612612613 km ---\n",
      "🔵 Initial Guess for L=12.612612612612613: [0.4828807  0.36218489 0.18816579 0.770817   0.87633261]\n",
      "✅ Final Optimized Parameters for L=11.411411411411413 km: [0.48198094 0.36149536 0.18839225 0.77056866 0.87630152]\n",
      "✅ Final Optimized Key Rate for L=11.411411411411413 km: 0.006357104616384727\n",
      "✅ Final Optimized Parameters for L=11.611611611611613 km: [0.48187342 0.3614128  0.18841942 0.77053887 0.87629777]\n",
      "✅ Final Optimized Key Rate for L=11.611611611611613 km: 0.00629759679078887\n",
      "✅ Final Optimized Parameters for L=10.41041041041041 km: [0.48253478 0.36192026 0.1882523  0.77072205 0.87632071]\n",
      "✅ Final Optimized Key Rate for L=10.41041041041041 km: 0.006663339780163409\n",
      "✅ Final Optimized Parameters for L=10.61061061061061 km: [0.48242184 0.36183368 0.1882808  0.7706908  0.87631681]\n",
      "✅ Final Optimized Key Rate for L=10.61061061061061 km: 0.006600913990427967\n"
     ]
    },
    {
     "name": "stderr",
     "output_type": "stream",
     "text": [
      "Optimizing:   6%|▌         | 59/1000 [05:10<30:57,  1.97s/it]  "
     ]
    },
    {
     "name": "stdout",
     "output_type": "stream",
     "text": [
      "✅ Final Optimized Parameters for L=9.60960960960961 km: [0.48299835 0.36227474 0.18813668 0.77084901 0.87633663]\n",
      "✅ Final Optimized Key Rate for L=9.60960960960961 km: 0.006919114944794879\n",
      "✅ Final Optimized Parameters for L=10.21021021021021 km: [0.48264898 0.36200767 0.18822377 0.77075334 0.87632464]\n",
      "✅ Final Optimized Key Rate for L=10.21021021021021 km: 0.00672636673523063\n",
      "✅ Final Optimized Parameters for L=11.011011011011012 km: [0.48219919 0.36166298 0.18833681 0.77062937 0.87630911]\n",
      "✅ Final Optimized Key Rate for L=11.011011011011012 km: 0.006477842209257435\n",
      "✅ Final Optimized Parameters for L=10.810810810810812 km: [0.48230994 0.36174794 0.18830889 0.77065997 0.87631295]\n",
      "✅ Final Optimized Key Rate for L=10.810810810810812 km: 0.0065390834259909485\n"
     ]
    },
    {
     "name": "stderr",
     "output_type": "stream",
     "text": [
      "Optimizing:   6%|▌         | 62/1000 [05:25<45:13,  2.89s/it]"
     ]
    },
    {
     "name": "stdout",
     "output_type": "stream",
     "text": [
      "✅ Final Optimized Parameters for L=12.012012012012013 km: [0.48166167 0.36124986 0.18847348 0.77047972 0.87629037]\n",
      "✅ Final Optimized Key Rate for L=12.012012012012013 km: 0.006180274905706947\n",
      "✅ Final Optimized Parameters for L=12.612612612612613 km: [0.48135189 0.36101103 0.18855325 0.77039253 0.87627946]\n",
      "✅ Final Optimized Key Rate for L=12.612612612612613 km: 0.0060084437220613435\n",
      "✅ Final Optimized Parameters for L=12.212212212212213 km: [0.48155735 0.36116949 0.18850037 0.77045033 0.8762867 ]\n",
      "✅ Final Optimized Key Rate for L=12.212212212212213 km: 0.006122449752341263\n",
      "✅ Final Optimized Parameters for L=12.412412412412413 km: [0.48145418 0.36108995 0.18852675 0.77042145 0.87628308]\n",
      "✅ Final Optimized Key Rate for L=12.412412412412413 km: 0.006065174492237769\n",
      "\n",
      "--- [DEBUG] Starting optimization for L=12.812812812812814 km ---\n",
      "🔵 Initial Guess for L=12.812812812812814: [0.48145418 0.36108995 0.18852675 0.77042145 0.87628308]\n",
      "\n",
      "--- [DEBUG] Starting optimization for L=13.013013013013014 km ---\n",
      "🔵 Initial Guess for L=13.013013013013014: [0.48145418 0.36108995 0.18852675 0.77042145 0.87628308]\n",
      "\n",
      "--- [DEBUG] Starting optimization for L=13.213213213213214 km ---\n",
      "🔵 Initial Guess for L=13.213213213213214: [0.48145418 0.36108995 0.18852675 0.77042145 0.87628308]\n",
      "\n",
      "--- [DEBUG] Starting optimization for L=13.413413413413414 km ---\n",
      "🔵 Initial Guess for L=13.413413413413414: [0.48145418 0.36108995 0.18852675 0.77042145 0.87628308]\n",
      "\n",
      "--- [DEBUG] Starting optimization for L=13.613613613613614 km ---\n",
      "🔵 Initial Guess for L=13.613613613613614: [0.48145418 0.36108995 0.18852675 0.77042145 0.87628308]\n",
      "\n",
      "--- [DEBUG] Starting optimization for L=13.813813813813814 km ---\n",
      "🔵 Initial Guess for L=13.813813813813814: [0.48145418 0.36108995 0.18852675 0.77042145 0.87628308]\n",
      "\n",
      "--- [DEBUG] Starting optimization for L=14.014014014014014 km ---\n",
      "🔵 Initial Guess for L=14.014014014014014: [0.48145418 0.36108995 0.18852675 0.77042145 0.87628308]\n",
      "\n",
      "--- [DEBUG] Starting optimization for L=14.214214214214214 km ---\n",
      "🔵 Initial Guess for L=14.214214214214214: [0.48145418 0.36108995 0.18852675 0.77042145 0.87628308]\n",
      "\n",
      "--- [DEBUG] Starting optimization for L=14.414414414414415 km ---\n",
      "🔵 Initial Guess for L=14.414414414414415: [0.48145418 0.36108995 0.18852675 0.77042145 0.87628308]\n",
      "\n",
      "--- [DEBUG] Starting optimization for L=14.614614614614615 km ---\n",
      "🔵 Initial Guess for L=14.614614614614615: [0.48145418 0.36108995 0.18852675 0.77042145 0.87628308]\n",
      "\n",
      "--- [DEBUG] Starting optimization for L=14.814814814814815 km ---\n",
      "🔵 Initial Guess for L=14.814814814814815: [0.48145418 0.36108995 0.18852675 0.77042145 0.87628308]\n",
      "\n",
      "--- [DEBUG] Starting optimization for L=15.015015015015017 km ---\n",
      "🔵 Initial Guess for L=15.015015015015017: [0.48145418 0.36108995 0.18852675 0.77042145 0.87628308]\n"
     ]
    },
    {
     "name": "stderr",
     "output_type": "stream",
     "text": [
      "Optimizing:   7%|▋         | 67/1000 [06:33<2:03:41,  7.95s/it]"
     ]
    },
    {
     "name": "stdout",
     "output_type": "stream",
     "text": [
      "✅ Final Optimized Parameters for L=13.613613613613614 km: [0.48085591 0.36062749 0.18868231 0.77025168 0.87626184]\n",
      "✅ Final Optimized Key Rate for L=13.613613613613614 km: 0.005732772005923639\n",
      "\n",
      "--- [DEBUG] Starting optimization for L=15.215215215215217 km ---\n",
      "🔵 Initial Guess for L=15.215215215215217: [0.48085591 0.36062749 0.18868231 0.77025168 0.87626184]\n",
      "✅ Final Optimized Parameters for L=14.414414414414415 km: [0.4804768  0.36033324 0.18878229 0.77014277 0.87624819]\n",
      "✅ Final Optimized Key Rate for L=14.414414414414415 km: 0.00552150463520947\n",
      "\n",
      "--- [DEBUG] Starting optimization for L=15.415415415415417 km ---\n",
      "🔵 Initial Guess for L=15.415415415415417: [0.4804768  0.36033324 0.18878229 0.77014277 0.87624819]\n",
      "✅ Final Optimized Parameters for L=13.013013013013014 km: [0.48115056 0.36085551 0.18860547 0.7703355  0.87627231]\n",
      "✅ Final Optimized Key Rate for L=13.013013013013014 km: 0.005896594318813941\n",
      "\n",
      "--- [DEBUG] Starting optimization for L=15.615615615615617 km ---\n",
      "🔵 Initial Guess for L=15.615615615615617: [0.48115056 0.36085551 0.18860547 0.7703355  0.87627231]\n",
      "✅ Final Optimized Parameters for L=13.813813813813814 km: [0.48075969 0.36055291 0.18870747 0.77022424 0.87625838]\n",
      "✅ Final Optimized Key Rate for L=13.813813813813814 km: 0.0056791978114173304\n",
      "\n",
      "--- [DEBUG] Starting optimization for L=15.815815815815817 km ---\n",
      "🔵 Initial Guess for L=15.815815815815817: [0.48075969 0.36055291 0.18870747 0.77022424 0.87625838]\n"
     ]
    },
    {
     "name": "stderr",
     "output_type": "stream",
     "text": [
      "Optimizing:   7%|▋         | 71/1000 [06:33<1:08:39,  4.43s/it]"
     ]
    },
    {
     "name": "stdout",
     "output_type": "stream",
     "text": [
      "✅ Final Optimized Parameters for L=14.814814814814815 km: [0.480293   0.3601901  0.18883125 0.77008954 0.87624153]\n",
      "✅ Final Optimized Key Rate for L=14.814814814814815 km: 0.005418851287832685\n",
      "✅ Final Optimized Parameters for L=14.614614614614615 km: [0.4803844  0.36026134 0.18880696 0.77011594 0.87624485]\n",
      "✅ Final Optimized Key Rate for L=14.614614614614615 km: 0.005469933646920161\n",
      "✅ Final Optimized Parameters for L=15.015015015015017 km: [0.48020238 0.36011953 0.18885565 0.77006302 0.87623821]\n",
      "✅ Final Optimized Key Rate for L=15.015015015015017 km: 0.005368252789123174\n"
     ]
    },
    {
     "name": "stderr",
     "output_type": "stream",
     "text": [
      "Optimizing:   7%|▋         | 73/1000 [06:34<52:19,  3.39s/it]  "
     ]
    },
    {
     "name": "stdout",
     "output_type": "stream",
     "text": [
      "✅ Final Optimized Parameters for L=12.812812812812814 km: [0.48125067 0.36093291 0.18857931 0.77036405 0.87627587]\n",
      "✅ Final Optimized Key Rate for L=12.812812812812814 km: 0.005952252094738243\n",
      "✅ Final Optimized Parameters for L=13.413413413413414 km: [0.48095311 0.36070281 0.18865689 0.77027937 0.8762653 ]\n",
      "✅ Final Optimized Key Rate for L=13.413413413413414 km: 0.00578685942964577\n",
      "✅ Final Optimized Parameters for L=13.213213213213214 km: [0.48105131 0.36077881 0.18863134 0.77030727 0.8762688 ]\n",
      "✅ Final Optimized Key Rate for L=13.213213213213214 km: 0.005841465157819806\n",
      "✅ Final Optimized Parameters for L=14.214214214214214 km: [0.48057021 0.36040581 0.18875747 0.77016978 0.87625156]\n",
      "✅ Final Optimized Key Rate for L=14.214214214214214 km: 0.0055735690711576\n"
     ]
    },
    {
     "name": "stderr",
     "output_type": "stream",
     "text": [
      "Optimizing:   8%|▊         | 76/1000 [06:34<34:36,  2.25s/it]"
     ]
    },
    {
     "name": "stdout",
     "output_type": "stream",
     "text": [
      "✅ Final Optimized Parameters for L=14.014014014014014 km: [0.48066449 0.36047902 0.18873262 0.77019685 0.87625496]\n",
      "✅ Final Optimized Key Rate for L=14.014014014014014 km: 0.005626131823419074\n"
     ]
    },
    {
     "name": "stderr",
     "output_type": "stream",
     "text": [
      "Optimizing:   8%|▊         | 78/1000 [06:48<53:38,  3.49s/it]"
     ]
    },
    {
     "name": "stdout",
     "output_type": "stream",
     "text": [
      "✅ Final Optimized Parameters for L=15.415415415415417 km: [0.48002411 0.35998031 0.18890356 0.77001097 0.87623171]\n",
      "✅ Final Optimized Key Rate for L=15.415415415415417 km: 0.00526848854236641\n",
      "✅ Final Optimized Parameters for L=15.215215215215217 km: [0.48011277 0.36004957 0.18887965 0.77003692 0.87623497]\n",
      "✅ Final Optimized Key Rate for L=15.215215215215217 km: 0.005318133431042582\n",
      "✅ Final Optimized Parameters for L=15.615615615615617 km: [0.47993627 0.35991164 0.18892749 0.76998502 0.87622847]\n",
      "✅ Final Optimized Key Rate for L=15.615615615615617 km: 0.0052193134998518315\n",
      "✅ Final Optimized Parameters for L=15.815815815815817 km: [0.47984938 0.35984363 0.1889509  0.7699596  0.87622527]\n",
      "✅ Final Optimized Key Rate for L=15.815815815815817 km: 0.005170603727700935\n",
      "\n",
      "--- [DEBUG] Starting optimization for L=16.016016016016017 km ---\n",
      "🔵 Initial Guess for L=16.016016016016017: [0.47984938 0.35984363 0.1889509  0.7699596  0.87622527]\n",
      "\n",
      "--- [DEBUG] Starting optimization for L=16.216216216216218 km ---\n",
      "🔵 Initial Guess for L=16.216216216216218: [0.47984938 0.35984363 0.1889509  0.7699596  0.87622527]\n",
      "\n",
      "--- [DEBUG] Starting optimization for L=16.416416416416418 km ---\n",
      "🔵 Initial Guess for L=16.416416416416418: [0.47984938 0.35984363 0.1889509  0.7699596  0.87622527]\n",
      "\n",
      "--- [DEBUG] Starting optimization for L=16.616616616616618 km ---\n",
      "🔵 Initial Guess for L=16.616616616616618: [0.47984938 0.35984363 0.1889509  0.7699596  0.87622527]\n",
      "\n",
      "--- [DEBUG] Starting optimization for L=16.816816816816818 km ---\n",
      "🔵 Initial Guess for L=16.816816816816818: [0.47984938 0.35984363 0.1889509  0.7699596  0.87622527]\n",
      "\n",
      "--- [DEBUG] Starting optimization for L=17.017017017017018 km ---\n",
      "🔵 Initial Guess for L=17.017017017017018: [0.47984938 0.35984363 0.1889509  0.7699596  0.87622527]\n",
      "\n",
      "--- [DEBUG] Starting optimization for L=17.217217217217218 km ---\n",
      "🔵 Initial Guess for L=17.217217217217218: [0.47984938 0.35984363 0.1889509  0.7699596  0.87622527]\n",
      "\n",
      "--- [DEBUG] Starting optimization for L=17.41741741741742 km ---\n",
      "🔵 Initial Guess for L=17.41741741741742: [0.47984938 0.35984363 0.1889509  0.7699596  0.87622527]\n",
      "\n",
      "--- [DEBUG] Starting optimization for L=17.61761761761762 km ---\n",
      "🔵 Initial Guess for L=17.61761761761762: [0.47984938 0.35984363 0.1889509  0.7699596  0.87622527]\n",
      "\n",
      "--- [DEBUG] Starting optimization for L=17.81781781781782 km ---\n",
      "🔵 Initial Guess for L=17.81781781781782: [0.47984938 0.35984363 0.1889509  0.7699596  0.87622527]\n",
      "\n",
      "--- [DEBUG] Starting optimization for L=18.01801801801802 km ---\n",
      "🔵 Initial Guess for L=18.01801801801802: [0.47984938 0.35984363 0.1889509  0.7699596  0.87622527]\n",
      "\n",
      "--- [DEBUG] Starting optimization for L=18.21821821821822 km ---\n",
      "🔵 Initial Guess for L=18.21821821821822: [0.47984938 0.35984363 0.1889509  0.7699596  0.87622527]\n"
     ]
    },
    {
     "name": "stderr",
     "output_type": "stream",
     "text": [
      "Optimizing:   8%|▊         | 82/1000 [07:57<2:13:14,  8.71s/it]"
     ]
    },
    {
     "name": "stdout",
     "output_type": "stream",
     "text": [
      "✅ Final Optimized Parameters for L=17.81781781781782 km: [0.47902754 0.35919657 0.18917889 0.76971302 0.87619442]\n",
      "✅ Final Optimized Key Rate for L=17.81781781781782 km: 0.004708122082678974\n",
      "\n",
      "--- [DEBUG] Starting optimization for L=18.41841841841842 km ---\n",
      "🔵 Initial Guess for L=18.41841841841842: [0.47902754 0.35919657 0.18917889 0.76971302 0.87619442]\n",
      "✅ Final Optimized Parameters for L=16.616616616616618 km: [0.47951042 0.35957767 0.18904374 0.76985901 0.87621268]\n",
      "✅ Final Optimized Key Rate for L=16.616616616616618 km: 0.004980327457860641\n",
      "\n",
      "--- [DEBUG] Starting optimization for L=18.61861861861862 km ---\n",
      "🔵 Initial Guess for L=18.61861861861862: [0.47951042 0.35957767 0.18904374 0.76985901 0.87621268]\n",
      "✅ Final Optimized Parameters for L=16.416416416416418 km: [0.47959388 0.35964324 0.189021   0.76988366 0.87621578]\n",
      "✅ Final Optimized Key Rate for L=16.416416416416418 km: 0.005027220976044215\n",
      "\n",
      "--- [DEBUG] Starting optimization for L=18.81881881881882 km ---\n",
      "🔵 Initial Guess for L=18.81881881881882: [0.47959388 0.35964324 0.189021   0.76988366 0.87621578]\n"
     ]
    },
    {
     "name": "stderr",
     "output_type": "stream",
     "text": [
      "Optimizing:   9%|▊         | 87/1000 [07:57<58:52,  3.87s/it]  "
     ]
    },
    {
     "name": "stdout",
     "output_type": "stream",
     "text": [
      "✅ Final Optimized Parameters for L=17.61761761761762 km: [0.47910596 0.35925859 0.18915678 0.76973688 0.8761974 ]\n",
      "✅ Final Optimized Key Rate for L=17.61761761761762 km: 0.00475242075262808\n",
      "\n",
      "--- [DEBUG] Starting optimization for L=19.01901901901902 km ---\n",
      "🔵 Initial Guess for L=19.01901901901902: [0.47910596 0.35925859 0.18915678 0.76973688 0.8761974 ]\n",
      "✅ Final Optimized Parameters for L=16.016016016016017 km: [0.47976338 0.35977622 0.18897451 0.76993402 0.87622211]\n",
      "✅ Final Optimized Key Rate for L=16.016016016016017 km: 0.0051223546970309355\n",
      "✅ Final Optimized Parameters for L=16.216216216216218 km: [0.47967816 0.35970941 0.18899775 0.76990883 0.87621892]\n",
      "✅ Final Optimized Key Rate for L=16.216216216216218 km: 0.005074561925350745\n",
      "✅ Final Optimized Parameters for L=16.816816816816818 km: [0.47942784 0.35951267 0.18906681 0.76983409 0.8762096 ]\n",
      "✅ Final Optimized Key Rate for L=16.816816816816818 km: 0.004933877024410943\n",
      "✅ Final Optimized Parameters for L=18.21821821821822 km: [0.47887309 0.3590741  0.18922222 0.76966624 0.87618851]\n",
      "✅ Final Optimized Key Rate for L=18.21821821821822 km: 0.004620774460008756\n",
      "✅ Final Optimized Parameters for L=17.017017017017018 km: [0.47934615 0.35944829 0.18908953 0.76980951 0.87620652]\n",
      "✅ Final Optimized Key Rate for L=17.017017017017018 km: 0.0048878653736698025\n"
     ]
    },
    {
     "name": "stderr",
     "output_type": "stream",
     "text": [
      "Optimizing:   9%|▉         | 92/1000 [07:57<28:59,  1.92s/it]"
     ]
    },
    {
     "name": "stdout",
     "output_type": "stream",
     "text": [
      "✅ Final Optimized Parameters for L=18.01801801801802 km: [0.47894994 0.35913499 0.18920097 0.76968922 0.87619145]\n",
      "✅ Final Optimized Key Rate for L=18.01801801801802 km: 0.004664241333788628\n",
      "✅ Final Optimized Parameters for L=17.41741741741742 km: [0.47918515 0.35932127 0.18913438 0.76976105 0.87620042]\n",
      "✅ Final Optimized Key Rate for L=17.41741741741742 km: 0.0047971414310892194\n",
      "✅ Final Optimized Parameters for L=17.217217217217218 km: [0.47926524 0.35938451 0.18911182 0.76978538 0.87620348]\n",
      "✅ Final Optimized Key Rate for L=17.217217217217218 km: 0.004842288247484214\n"
     ]
    },
    {
     "name": "stderr",
     "output_type": "stream",
     "text": [
      "Optimizing:   9%|▉         | 93/1000 [08:12<57:52,  3.83s/it]"
     ]
    },
    {
     "name": "stdout",
     "output_type": "stream",
     "text": [
      "✅ Final Optimized Parameters for L=19.01901901901902 km: [0.47857375 0.35883566 0.1893091  0.76957283 0.87617688]\n",
      "✅ Final Optimized Key Rate for L=19.01901901901902 km: 0.004450966224402315\n",
      "✅ Final Optimized Parameters for L=18.41841841841842 km: [0.4787971  0.35901367 0.18924456 0.76964222 0.87618556]\n",
      "✅ Final Optimized Key Rate for L=18.41841841841842 km: 0.004577717456444208\n",
      "✅ Final Optimized Parameters for L=18.81881881881882 km: [0.47864741 0.35889449 0.18928778 0.76959574 0.87617975]\n",
      "✅ Final Optimized Key Rate for L=18.81881881881882 km: 0.004492817242924253\n",
      "✅ Final Optimized Parameters for L=18.61861861861862 km: [0.4787218  0.35895373 0.18926647 0.76961868 0.87618263]\n",
      "✅ Final Optimized Key Rate for L=18.61861861861862 km: 0.004535066358796169\n",
      "\n",
      "--- [DEBUG] Starting optimization for L=19.21921921921922 km ---\n",
      "🔵 Initial Guess for L=19.21921921921922: [0.4787218  0.35895373 0.18926647 0.76961868 0.87618263]\n",
      "\n",
      "--- [DEBUG] Starting optimization for L=19.41941941941942 km ---\n",
      "🔵 Initial Guess for L=19.41941941941942: [0.4787218  0.35895373 0.18926647 0.76961868 0.87618263]\n",
      "\n",
      "--- [DEBUG] Starting optimization for L=19.61961961961962 km ---\n",
      "🔵 Initial Guess for L=19.61961961961962: [0.4787218  0.35895373 0.18926647 0.76961868 0.87618263]\n",
      "\n",
      "--- [DEBUG] Starting optimization for L=19.81981981981982 km ---\n",
      "🔵 Initial Guess for L=19.81981981981982: [0.4787218  0.35895373 0.18926647 0.76961868 0.87618263]\n",
      "\n",
      "--- [DEBUG] Starting optimization for L=20.02002002002002 km ---\n",
      "🔵 Initial Guess for L=20.02002002002002: [0.4787218  0.35895373 0.18926647 0.76961868 0.87618263]\n",
      "\n",
      "--- [DEBUG] Starting optimization for L=20.22022022022022 km ---\n",
      "🔵 Initial Guess for L=20.22022022022022: [0.4787218  0.35895373 0.18926647 0.76961868 0.87618263]\n",
      "\n",
      "--- [DEBUG] Starting optimization for L=20.42042042042042 km ---\n",
      "🔵 Initial Guess for L=20.42042042042042: [0.4787218  0.35895373 0.18926647 0.76961868 0.87618263]\n",
      "\n",
      "--- [DEBUG] Starting optimization for L=20.62062062062062 km ---\n",
      "🔵 Initial Guess for L=20.62062062062062: [0.4787218  0.35895373 0.18926647 0.76961868 0.87618263]\n",
      "\n",
      "--- [DEBUG] Starting optimization for L=20.82082082082082 km ---\n",
      "🔵 Initial Guess for L=20.82082082082082: [0.4787218  0.35895373 0.18926647 0.76961868 0.87618263]\n",
      "\n",
      "--- [DEBUG] Starting optimization for L=21.02102102102102 km ---\n",
      "🔵 Initial Guess for L=21.02102102102102: [0.4787218  0.35895373 0.18926647 0.76961868 0.87618263]\n",
      "\n",
      "--- [DEBUG] Starting optimization for L=21.22122122122122 km ---\n",
      "🔵 Initial Guess for L=21.22122122122122: [0.4787218  0.35895373 0.18926647 0.76961868 0.87618263]\n",
      "\n",
      "--- [DEBUG] Starting optimization for L=21.421421421421424 km ---\n",
      "🔵 Initial Guess for L=21.421421421421424: [0.4787218  0.35895373 0.18926647 0.76961868 0.87618263]\n"
     ]
    },
    {
     "name": "stderr",
     "output_type": "stream",
     "text": [
      "Optimizing:  10%|▉         | 97/1000 [09:20<2:29:51,  9.96s/it]"
     ]
    },
    {
     "name": "stdout",
     "output_type": "stream",
     "text": [
      "✅ Final Optimized Parameters for L=21.02102102102102 km: [0.47787806 0.35827603 0.18951647 0.76935067 0.87614903]\n",
      "✅ Final Optimized Key Rate for L=21.02102102102102 km: 0.004053524363763932\n",
      "\n",
      "--- [DEBUG] Starting optimization for L=21.621621621621625 km ---\n",
      "🔵 Initial Guess for L=21.621621621621625: [0.47787806 0.35827603 0.18951647 0.76935067 0.87614903]\n",
      "✅ Final Optimized Parameters for L=20.82082082082082 km: [0.47794443 0.35832976 0.18949637 0.76937214 0.87615174]\n",
      "✅ Final Optimized Key Rate for L=20.82082082082082 km: 0.004091599618214874\n",
      "\n",
      "--- [DEBUG] Starting optimization for L=21.821821821821825 km ---\n",
      "🔵 Initial Guess for L=21.821821821821825: [0.47794443 0.35832976 0.18949637 0.76937214 0.87615174]\n",
      "✅ Final Optimized Parameters for L=19.41941941941942 km: [0.47842862 0.35871962 0.18935143 0.76952735 0.87617117]\n",
      "✅ Final Optimized Key Rate for L=19.41941941941942 km: 0.0043684431376891765\n",
      "\n",
      "--- [DEBUG] Starting optimization for L=22.022022022022025 km ---\n",
      "🔵 Initial Guess for L=22.022022022022025: [0.47842862 0.35871962 0.18935143 0.76952735 0.87617117]\n"
     ]
    },
    {
     "name": "stderr",
     "output_type": "stream",
     "text": [
      "Optimizing:  10%|█         | 103/1000 [09:20<1:07:50,  4.54s/it]"
     ]
    },
    {
     "name": "stdout",
     "output_type": "stream",
     "text": [
      "✅ Final Optimized Parameters for L=21.421421421421424 km: [0.4777476  0.35817003 0.18955647 0.76930798 0.87614367]\n",
      "✅ Final Optimized Key Rate for L=21.421421421421424 km: 0.003978444023213799\n",
      "\n",
      "--- [DEBUG] Starting optimization for L=22.222222222222225 km ---\n",
      "🔵 Initial Guess for L=22.222222222222225: [0.4777476  0.35817003 0.18955647 0.76930798 0.87614367]\n",
      "✅ Final Optimized Parameters for L=20.02002002002002 km: [0.47821667 0.35854949 0.18941426 0.76945998 0.87616272]\n",
      "✅ Final Optimized Key Rate for L=20.02002002002002 km: 0.004247549363046128\n",
      "✅ Final Optimized Parameters for L=21.22122122122122 km: [0.47781248 0.35822279 0.18953667 0.7693291  0.87614633]\n",
      "✅ Final Optimized Key Rate for L=21.22122122122122 km: 0.00401580697883544\n",
      "✅ Final Optimized Parameters for L=20.22022022022022 km: [0.47814752 0.35849385 0.18943486 0.76943792 0.87615995]\n",
      "✅ Final Optimized Key Rate for L=20.22022022022022 km: 0.004208007525776926\n",
      "✅ Final Optimized Parameters for L=20.62062062062062 km: [0.47801136 0.35838396 0.1894758  0.76939411 0.87615448]\n",
      "✅ Final Optimized Key Rate for L=20.62062062062062 km: 0.004130036217245924\n",
      "✅ Final Optimized Parameters for L=19.61961961961962 km: [0.47835734 0.35866244 0.18937267 0.76950458 0.87616833]\n",
      "✅ Final Optimized Key Rate for L=19.61961961961962 km: 0.004327763495348446\n",
      "✅ Final Optimized Parameters for L=19.81981981981982 km: [0.47828672 0.35860573 0.18939332 0.76948241 0.87616552]\n",
      "✅ Final Optimized Key Rate for L=19.81981981981982 km: 0.004287466801217078\n",
      "✅ Final Optimized Parameters for L=19.21921921921922 km: [0.47850087 0.35877742 0.18933036 0.76954998 0.87617401]\n",
      "✅ Final Optimized Key Rate for L=19.21921921921922 km: 0.00440950945808707\n"
     ]
    },
    {
     "name": "stderr",
     "output_type": "stream",
     "text": [
      "Optimizing:  11%|█         | 108/1000 [09:21<38:40,  2.60s/it]  "
     ]
    },
    {
     "name": "stdout",
     "output_type": "stream",
     "text": [
      "✅ Final Optimized Parameters for L=20.42042042042042 km: [0.47807911 0.3584387  0.18945529 0.76941604 0.87615721]\n",
      "✅ Final Optimized Key Rate for L=20.42042042042042 km: 0.004168837671137595\n"
     ]
    },
    {
     "name": "stderr",
     "output_type": "stream",
     "text": [
      "Optimizing:  11%|█         | 110/1000 [09:36<53:43,  3.62s/it]"
     ]
    },
    {
     "name": "stdout",
     "output_type": "stream",
     "text": [
      "✅ Final Optimized Parameters for L=21.821821821821825 km: [0.47761985 0.35806587 0.18959663 0.76926521 0.87613837]\n",
      "✅ Final Optimized Key Rate for L=21.821821821821825 km: 0.0039047678110011616\n",
      "✅ Final Optimized Parameters for L=21.621621621621625 km: [0.47768337 0.35811773 0.18957648 0.76928664 0.87614099]\n",
      "✅ Final Optimized Key Rate for L=21.621621621621625 km: 0.003941432091152365\n",
      "✅ Final Optimized Parameters for L=22.022022022022025 km: [0.4775571  0.35801456 0.18961582 0.76924473 0.8761357 ]\n",
      "✅ Final Optimized Key Rate for L=22.022022022022025 km: 0.003868447844842805\n",
      "✅ Final Optimized Parameters for L=22.222222222222225 km: [0.47749493 0.35796359 0.18963579 0.76922354 0.8761331 ]\n",
      "✅ Final Optimized Key Rate for L=22.222222222222225 km: 0.003832468888128343\n",
      "\n",
      "--- [DEBUG] Starting optimization for L=22.422422422422425 km ---\n",
      "🔵 Initial Guess for L=22.422422422422425: [0.47749493 0.35796359 0.18963579 0.76922354 0.8761331 ]\n",
      "\n",
      "--- [DEBUG] Starting optimization for L=22.622622622622625 km ---\n",
      "🔵 Initial Guess for L=22.622622622622625: [0.47749493 0.35796359 0.18963579 0.76922354 0.8761331 ]\n",
      "\n",
      "--- [DEBUG] Starting optimization for L=22.822822822822825 km ---\n",
      "🔵 Initial Guess for L=22.822822822822825: [0.47749493 0.35796359 0.18963579 0.76922354 0.8761331 ]\n",
      "\n",
      "--- [DEBUG] Starting optimization for L=23.023023023023026 km ---\n",
      "🔵 Initial Guess for L=23.023023023023026: [0.47749493 0.35796359 0.18963579 0.76922354 0.8761331 ]\n",
      "\n",
      "--- [DEBUG] Starting optimization for L=23.223223223223226 km ---\n",
      "🔵 Initial Guess for L=23.223223223223226: [0.47749493 0.35796359 0.18963579 0.76922354 0.8761331 ]\n",
      "\n",
      "--- [DEBUG] Starting optimization for L=23.423423423423426 km ---\n",
      "🔵 Initial Guess for L=23.423423423423426: [0.47749493 0.35796359 0.18963579 0.76922354 0.8761331 ]\n",
      "\n",
      "--- [DEBUG] Starting optimization for L=23.623623623623626 km ---\n",
      "🔵 Initial Guess for L=23.623623623623626: [0.47749493 0.35796359 0.18963579 0.76922354 0.8761331 ]\n",
      "\n",
      "--- [DEBUG] Starting optimization for L=23.823823823823826 km ---\n",
      "🔵 Initial Guess for L=23.823823823823826: [0.47749493 0.35796359 0.18963579 0.76922354 0.8761331 ]\n",
      "\n",
      "--- [DEBUG] Starting optimization for L=24.024024024024026 km ---\n",
      "🔵 Initial Guess for L=24.024024024024026: [0.47749493 0.35796359 0.18963579 0.76922354 0.8761331 ]\n",
      "\n",
      "--- [DEBUG] Starting optimization for L=24.224224224224226 km ---\n",
      "🔵 Initial Guess for L=24.224224224224226: [0.47749493 0.35796359 0.18963579 0.76922354 0.8761331 ]\n",
      "\n",
      "--- [DEBUG] Starting optimization for L=24.424424424424426 km ---\n",
      "🔵 Initial Guess for L=24.424424424424426: [0.47749493 0.35796359 0.18963579 0.76922354 0.8761331 ]\n",
      "\n",
      "--- [DEBUG] Starting optimization for L=24.624624624624627 km ---\n",
      "🔵 Initial Guess for L=24.624624624624627: [0.47749493 0.35796359 0.18963579 0.76922354 0.8761331 ]\n"
     ]
    },
    {
     "name": "stderr",
     "output_type": "stream",
     "text": [
      "Optimizing:  11%|█▏        | 114/1000 [10:50<2:08:35,  8.71s/it]"
     ]
    },
    {
     "name": "stdout",
     "output_type": "stream",
     "text": [
      "✅ Final Optimized Parameters for L=22.622622622622625 km: [0.47737258 0.35786306 0.18967462 0.76918227 0.87612793]\n",
      "✅ Final Optimized Key Rate for L=22.622622622622625 km: 0.0037615209495455468\n",
      "\n",
      "--- [DEBUG] Starting optimization for L=24.824824824824827 km ---\n",
      "🔵 Initial Guess for L=24.824824824824827: [0.47737258 0.35786306 0.18967462 0.76918227 0.87612793]\n",
      "✅ Final Optimized Parameters for L=24.224224224224226 km: [0.4769092  0.35747852 0.18982672 0.76902125 0.87610762]\n",
      "✅ Final Optimized Key Rate for L=24.224224224224226 km: 0.003490730996139013\n",
      "\n",
      "--- [DEBUG] Starting optimization for L=25.025025025025027 km ---\n",
      "🔵 Initial Guess for L=25.025025025025027: [0.4769092  0.35747852 0.18982672 0.76902125 0.87610762]\n"
     ]
    },
    {
     "name": "stderr",
     "output_type": "stream",
     "text": [
      "Optimizing:  12%|█▏        | 118/1000 [10:51<1:09:03,  4.70s/it]"
     ]
    },
    {
     "name": "stdout",
     "output_type": "stream",
     "text": [
      "✅ Final Optimized Parameters for L=24.024024024024026 km: [0.47696482 0.35752509 0.18980825 0.76904079 0.8761101 ]\n",
      "✅ Final Optimized Key Rate for L=24.024024024024026 km: 0.0035234745174118373\n",
      "\n",
      "--- [DEBUG] Starting optimization for L=25.225225225225227 km ---\n",
      "🔵 Initial Guess for L=25.225225225225227: [0.47696482 0.35752509 0.18980825 0.76904079 0.8761101 ]\n",
      "✅ Final Optimized Parameters for L=24.424424424424426 km: [0.47685395 0.35743224 0.18984568 0.76900125 0.87610517]\n",
      "✅ Final Optimized Key Rate for L=24.424424424424426 km: 0.0034582942374266315\n",
      "\n",
      "--- [DEBUG] Starting optimization for L=25.425425425425427 km ---\n",
      "🔵 Initial Guess for L=25.425425425425427: [0.47685395 0.35743224 0.18984568 0.76900125 0.87610517]\n",
      "✅ Final Optimized Parameters for L=23.623623623623626 km: [0.47707812 0.35761951 0.1897704  0.76908078 0.87611511]\n",
      "✅ Final Optimized Key Rate for L=23.623623623623626 km: 0.0035898937179543655\n",
      "✅ Final Optimized Parameters for L=23.423423423423426 km: [0.47713566 0.35766727 0.18975146 0.7691008  0.87611766]\n",
      "✅ Final Optimized Key Rate for L=23.423423423423426 km: 0.003623575406856265\n",
      "✅ Final Optimized Parameters for L=24.624624624624627 km: [0.47679949 0.35738652 0.18986405 0.76898187 0.8761027 ]\n",
      "✅ Final Optimized Key Rate for L=24.624624624624627 km: 0.003426161310459613\n"
     ]
    },
    {
     "name": "stderr",
     "output_type": "stream",
     "text": [
      "Optimizing:  12%|█▏        | 122/1000 [10:51<36:09,  2.47s/it]  "
     ]
    },
    {
     "name": "stdout",
     "output_type": "stream",
     "text": [
      "✅ Final Optimized Parameters for L=23.223223223223226 km: [0.47719401 0.35771566 0.18973238 0.76912101 0.87612019]\n",
      "✅ Final Optimized Key Rate for L=23.223223223223226 km: 0.003657575878222157\n",
      "✅ Final Optimized Parameters for L=23.823823823823826 km: [0.47702118 0.35757205 0.18978941 0.76906068 0.87611263]\n",
      "✅ Final Optimized Key Rate for L=23.823823823823826 km: 0.003556527761408262\n",
      "✅ Final Optimized Parameters for L=22.422422422422425 km: [0.47743335 0.35791304 0.18965515 0.76920296 0.8761305 ]\n",
      "✅ Final Optimized Key Rate for L=22.422422422422425 km: 0.003796827669321481\n"
     ]
    },
    {
     "name": "stderr",
     "output_type": "stream",
     "text": [
      "Optimizing:  12%|█▏        | 124/1000 [10:51<25:52,  1.77s/it]"
     ]
    },
    {
     "name": "stdout",
     "output_type": "stream",
     "text": [
      "✅ Final Optimized Parameters for L=22.822822822822825 km: [0.47731243 0.35781354 0.18969387 0.76916182 0.87612534]\n",
      "✅ Final Optimized Key Rate for L=22.822822822822825 km: 0.0037265455222338976\n",
      "✅ Final Optimized Parameters for L=23.023023023023026 km: [0.47725285 0.35776432 0.18971321 0.76914138 0.87612278]\n",
      "✅ Final Optimized Key Rate for L=23.023023023023026 km: 0.0036918982127847636\n"
     ]
    },
    {
     "name": "stderr",
     "output_type": "stream",
     "text": [
      "Optimizing:  13%|█▎        | 126/1000 [11:07<50:52,  3.49s/it]"
     ]
    },
    {
     "name": "stdout",
     "output_type": "stream",
     "text": [
      "✅ Final Optimized Parameters for L=25.225225225225227 km: [0.47663958 0.35725144 0.18991988 0.76892315 0.87609537]\n",
      "✅ Final Optimized Key Rate for L=25.225225225225227 km: 0.003331556645636323\n",
      "✅ Final Optimized Parameters for L=25.025025025025027 km: [0.47669231 0.35729606 0.18990105 0.76894295 0.8760978 ]\n",
      "✅ Final Optimized Key Rate for L=25.025025025025027 km: 0.0033627953733930413\n",
      "✅ Final Optimized Parameters for L=25.425425425425427 km: [0.47658751 0.35720718 0.189938   0.76890415 0.87609294]\n",
      "✅ Final Optimized Key Rate for L=25.425425425425427 km: 0.0033006103137100166\n",
      "✅ Final Optimized Parameters for L=24.824824824824827 km: [0.47674562 0.35734108 0.18988264 0.76896232 0.87610024]\n",
      "✅ Final Optimized Key Rate for L=24.824824824824827 km: 0.003394329313462821\n",
      "\n",
      "--- [DEBUG] Starting optimization for L=25.625625625625627 km ---\n",
      "🔵 Initial Guess for L=25.625625625625627: [0.47674562 0.35734108 0.18988264 0.76896232 0.87610024]\n",
      "\n",
      "--- [DEBUG] Starting optimization for L=25.825825825825827 km ---\n",
      "🔵 Initial Guess for L=25.825825825825827: [0.47674562 0.35734108 0.18988264 0.76896232 0.87610024]\n",
      "\n",
      "--- [DEBUG] Starting optimization for L=26.026026026026027 km ---\n",
      "🔵 Initial Guess for L=26.026026026026027: [0.47674562 0.35734108 0.18988264 0.76896232 0.87610024]\n",
      "\n",
      "--- [DEBUG] Starting optimization for L=26.226226226226228 km ---\n",
      "🔵 Initial Guess for L=26.226226226226228: [0.47674562 0.35734108 0.18988264 0.76896232 0.87610024]\n",
      "\n",
      "--- [DEBUG] Starting optimization for L=26.426426426426428 km ---\n",
      "🔵 Initial Guess for L=26.426426426426428: [0.47674562 0.35734108 0.18988264 0.76896232 0.87610024]\n",
      "\n",
      "--- [DEBUG] Starting optimization for L=26.626626626626628 km ---\n",
      "🔵 Initial Guess for L=26.626626626626628: [0.47674562 0.35734108 0.18988264 0.76896232 0.87610024]\n",
      "\n",
      "--- [DEBUG] Starting optimization for L=26.826826826826828 km ---\n",
      "🔵 Initial Guess for L=26.826826826826828: [0.47674562 0.35734108 0.18988264 0.76896232 0.87610024]\n",
      "\n",
      "--- [DEBUG] Starting optimization for L=27.027027027027028 km ---\n",
      "🔵 Initial Guess for L=27.027027027027028: [0.47674562 0.35734108 0.18988264 0.76896232 0.87610024]\n",
      "\n",
      "--- [DEBUG] Starting optimization for L=27.227227227227228 km ---\n",
      "🔵 Initial Guess for L=27.227227227227228: [0.47674562 0.35734108 0.18988264 0.76896232 0.87610024]\n",
      "\n",
      "--- [DEBUG] Starting optimization for L=27.42742742742743 km ---\n",
      "🔵 Initial Guess for L=27.42742742742743: [0.47674562 0.35734108 0.18988264 0.76896232 0.87610024]\n",
      "\n",
      "--- [DEBUG] Starting optimization for L=27.62762762762763 km ---\n",
      "🔵 Initial Guess for L=27.62762762762763: [0.47674562 0.35734108 0.18988264 0.76896232 0.87610024]\n",
      "\n",
      "--- [DEBUG] Starting optimization for L=27.82782782782783 km ---\n",
      "🔵 Initial Guess for L=27.82782782782783: [0.47674562 0.35734108 0.18988264 0.76896232 0.87610024]\n"
     ]
    },
    {
     "name": "stderr",
     "output_type": "stream",
     "text": [
      "Optimizing:  13%|█▎        | 129/1000 [12:18<2:43:36, 11.27s/it]"
     ]
    },
    {
     "name": "stdout",
     "output_type": "stream",
     "text": [
      "✅ Final Optimized Parameters for L=27.42742742742743 km: [0.47609807 0.35678542 0.19011725 0.76871674 0.87606928]\n",
      "✅ Final Optimized Key Rate for L=27.42742742742743 km: 0.003006628669626943\n",
      "\n",
      "--- [DEBUG] Starting optimization for L=28.02802802802803 km ---\n",
      "🔵 Initial Guess for L=28.02802802802803: [0.47609807 0.35678542 0.19011725 0.76871674 0.87606928]\n"
     ]
    },
    {
     "name": "stderr",
     "output_type": "stream",
     "text": [
      "Optimizing:  13%|█▎        | 132/1000 [12:18<1:36:13,  6.65s/it]"
     ]
    },
    {
     "name": "stdout",
     "output_type": "stream",
     "text": [
      "✅ Final Optimized Parameters for L=27.227227227227228 km: [0.47614445 0.35682596 0.19009973 0.768735   0.87607158]\n",
      "✅ Final Optimized Key Rate for L=27.227227227227228 km: 0.0030347999684184127\n",
      "\n",
      "--- [DEBUG] Starting optimization for L=28.22822822822823 km ---\n",
      "🔵 Initial Guess for L=28.22822822822823: [0.47614445 0.35682596 0.19009973 0.768735   0.87607158]\n",
      "✅ Final Optimized Parameters for L=25.825825825825827 km: [0.47648508 0.3571199  0.18997405 0.76886629 0.87608812]\n",
      "✅ Final Optimized Key Rate for L=25.825825825825827 km: 0.003239583710292698\n",
      "\n",
      "--- [DEBUG] Starting optimization for L=28.42842842842843 km ---\n",
      "🔵 Initial Guess for L=28.42842842842843: [0.47648508 0.3571199  0.18997405 0.76886629 0.87608812]\n",
      "✅ Final Optimized Parameters for L=26.226226226226228 km: [0.47638503 0.35703414 0.19001035 0.76882831 0.87608334]\n",
      "✅ Final Optimized Key Rate for L=26.226226226226228 km: 0.0031796935827203485\n",
      "\n",
      "--- [DEBUG] Starting optimization for L=28.62862862862863 km ---\n",
      "🔵 Initial Guess for L=28.62862862862863: [0.47638503 0.35703414 0.19001035 0.76882831 0.87608334]\n",
      "✅ Final Optimized Parameters for L=27.62762762762763 km: [0.47605204 0.35674513 0.1901349  0.76869838 0.87606699]\n",
      "✅ Final Optimized Key Rate for L=27.62762762762763 km: 0.0029787205597104757\n"
     ]
    },
    {
     "name": "stderr",
     "output_type": "stream",
     "text": [
      "Optimizing:  14%|█▎        | 135/1000 [12:18<58:05,  4.03s/it]  "
     ]
    },
    {
     "name": "stdout",
     "output_type": "stream",
     "text": [
      "✅ Final Optimized Parameters for L=27.82782782782783 km: [0.47600676 0.35670533 0.19015254 0.76868    0.87606463]\n",
      "✅ Final Optimized Key Rate for L=27.82782782782783 km: 0.0029510731376178037\n",
      "✅ Final Optimized Parameters for L=26.826826826826828 km: [0.47623894 0.35690815 0.19006406 0.76877217 0.87607629]\n",
      "✅ Final Optimized Key Rate for L=26.826826826826828 km: 0.003091942261075928\n",
      "✅ Final Optimized Parameters for L=26.626626626626628 km: [0.47628713 0.35694979 0.19004619 0.76879084 0.87607864]\n",
      "✅ Final Optimized Key Rate for L=26.626626626626628 km: 0.0031209183820708366\n",
      "✅ Final Optimized Parameters for L=26.026026026026027 km: [0.4764348  0.35707685 0.18999216 0.76884735 0.87608575]\n",
      "✅ Final Optimized Key Rate for L=26.026026026026027 km: 0.0032094979438405456\n",
      "✅ Final Optimized Parameters for L=25.625625625625627 km: [0.47653604 0.35716339 0.18995604 0.76888521 0.87609053]\n",
      "✅ Final Optimized Key Rate for L=25.625625625625627 km: 0.003269953588964555\n"
     ]
    },
    {
     "name": "stderr",
     "output_type": "stream",
     "text": [
      "Optimizing:  14%|█▍        | 139/1000 [12:18<33:20,  2.32s/it]"
     ]
    },
    {
     "name": "stdout",
     "output_type": "stream",
     "text": [
      "✅ Final Optimized Parameters for L=27.027027027027028 km: [0.47619149 0.35686693 0.19008186 0.76875359 0.87607394]\n",
      "✅ Final Optimized Key Rate for L=27.027027027027028 km: 0.0030632369819333207\n",
      "✅ Final Optimized Parameters for L=26.426426426426428 km: [0.47633577 0.35699176 0.19002821 0.76880961 0.87608099]\n",
      "✅ Final Optimized Key Rate for L=26.426426426426428 km: 0.0031501679467296866\n"
     ]
    },
    {
     "name": "stderr",
     "output_type": "stream",
     "text": [
      "Optimizing:  14%|█▍        | 141/1000 [12:35<53:07,  3.71s/it]"
     ]
    },
    {
     "name": "stdout",
     "output_type": "stream",
     "text": [
      "✅ Final Optimized Parameters for L=28.02802802802803 km: [0.47596192 0.35666578 0.19017013 0.76866175 0.87606236]\n",
      "✅ Final Optimized Key Rate for L=28.02802802802803 km: 0.002923683926835259\n",
      "✅ Final Optimized Parameters for L=28.22822822822823 km: [0.47591775 0.35662662 0.19018755 0.76864371 0.87606006]\n",
      "✅ Final Optimized Key Rate for L=28.22822822822823 km: 0.0028965504751328943\n",
      "✅ Final Optimized Parameters for L=28.42842842842843 km: [0.47587396 0.35658774 0.19020503 0.76862558 0.87605776]\n",
      "✅ Final Optimized Key Rate for L=28.42842842842843 km: 0.002869670354313352\n",
      "✅ Final Optimized Parameters for L=28.62862862862863 km: [0.47583066 0.35654919 0.19022231 0.76860766 0.8760555 ]\n",
      "✅ Final Optimized Key Rate for L=28.62862862862863 km: 0.002843041159961696\n",
      "\n",
      "--- [DEBUG] Starting optimization for L=28.82882882882883 km ---\n",
      "🔵 Initial Guess for L=28.82882882882883: [0.47583066 0.35654919 0.19022231 0.76860766 0.8760555 ]\n",
      "\n",
      "--- [DEBUG] Starting optimization for L=29.02902902902903 km ---\n",
      "🔵 Initial Guess for L=29.02902902902903: [0.47583066 0.35654919 0.19022231 0.76860766 0.8760555 ]\n",
      "\n",
      "--- [DEBUG] Starting optimization for L=29.22922922922923 km ---\n",
      "🔵 Initial Guess for L=29.22922922922923: [0.47583066 0.35654919 0.19022231 0.76860766 0.8760555 ]\n",
      "\n",
      "--- [DEBUG] Starting optimization for L=29.42942942942943 km ---\n",
      "🔵 Initial Guess for L=29.42942942942943: [0.47583066 0.35654919 0.19022231 0.76860766 0.8760555 ]\n",
      "\n",
      "--- [DEBUG] Starting optimization for L=29.62962962962963 km ---\n",
      "🔵 Initial Guess for L=29.62962962962963: [0.47583066 0.35654919 0.19022231 0.76860766 0.8760555 ]\n",
      "\n",
      "--- [DEBUG] Starting optimization for L=29.82982982982983 km ---\n",
      "🔵 Initial Guess for L=29.82982982982983: [0.47583066 0.35654919 0.19022231 0.76860766 0.8760555 ]\n",
      "\n",
      "--- [DEBUG] Starting optimization for L=30.030030030030034 km ---\n",
      "🔵 Initial Guess for L=30.030030030030034: [0.47583066 0.35654919 0.19022231 0.76860766 0.8760555 ]\n",
      "\n",
      "--- [DEBUG] Starting optimization for L=30.230230230230234 km ---\n",
      "🔵 Initial Guess for L=30.230230230230234: [0.47583066 0.35654919 0.19022231 0.76860766 0.8760555 ]\n",
      "\n",
      "--- [DEBUG] Starting optimization for L=30.430430430430434 km ---\n",
      "🔵 Initial Guess for L=30.430430430430434: [0.47583066 0.35654919 0.19022231 0.76860766 0.8760555 ]\n",
      "\n",
      "--- [DEBUG] Starting optimization for L=30.630630630630634 km ---\n",
      "🔵 Initial Guess for L=30.630630630630634: [0.47583066 0.35654919 0.19022231 0.76860766 0.8760555 ]\n",
      "\n",
      "--- [DEBUG] Starting optimization for L=30.830830830830834 km ---\n",
      "🔵 Initial Guess for L=30.830830830830834: [0.47583066 0.35654919 0.19022231 0.76860766 0.8760555 ]\n",
      "\n",
      "--- [DEBUG] Starting optimization for L=31.031031031031034 km ---\n",
      "🔵 Initial Guess for L=31.031031031031034: [0.47583066 0.35654919 0.19022231 0.76860766 0.8760555 ]\n"
     ]
    },
    {
     "name": "stderr",
     "output_type": "stream",
     "text": [
      "Optimizing:  14%|█▍        | 145/1000 [13:43<2:08:30,  9.02s/it]"
     ]
    },
    {
     "name": "stdout",
     "output_type": "stream",
     "text": [
      "✅ Final Optimized Parameters for L=30.430430430430434 km: [0.4754643  0.35621661 0.19037713 0.76844805 0.87603528]\n",
      "✅ Final Optimized Key Rate for L=30.430430430430434 km: 0.0026142848339504934\n",
      "\n",
      "--- [DEBUG] Starting optimization for L=31.231231231231234 km ---\n",
      "🔵 Initial Guess for L=31.231231231231234: [0.4754643  0.35621661 0.19037713 0.76844805 0.87603528]\n"
     ]
    },
    {
     "name": "stderr",
     "output_type": "stream",
     "text": [
      "Optimizing:  15%|█▍        | 148/1000 [13:43<1:22:57,  5.84s/it]"
     ]
    },
    {
     "name": "stdout",
     "output_type": "stream",
     "text": [
      "✅ Final Optimized Parameters for L=30.630630630630634 km: [0.47542616 0.35618119 0.19039392 0.76843085 0.87603307]\n",
      "✅ Final Optimized Key Rate for L=30.630630630630634 km: 0.0025900377212658018\n",
      "\n",
      "--- [DEBUG] Starting optimization for L=31.431431431431434 km ---\n",
      "🔵 Initial Guess for L=31.431431431431434: [0.47542616 0.35618119 0.19039392 0.76843085 0.87603307]\n",
      "✅ Final Optimized Parameters for L=29.02902902902903 km: [0.47574573 0.35647311 0.19025728 0.76857151 0.87605095]\n",
      "✅ Final Optimized Key Rate for L=29.02902902902903 km: 0.0027905260504438602\n",
      "\n",
      "--- [DEBUG] Starting optimization for L=31.631631631631635 km ---\n",
      "🔵 Initial Guess for L=31.631631631631635: [0.47574573 0.35647311 0.19025728 0.76857151 0.87605095]\n",
      "✅ Final Optimized Parameters for L=28.82882882882883 km: [0.47578796 0.35651102 0.19023962 0.76858974 0.87605325]\n",
      "✅ Final Optimized Key Rate for L=28.82882882882883 km: 0.0028166605112000813\n",
      "\n",
      "--- [DEBUG] Starting optimization for L=31.831831831831835 km ---\n",
      "🔵 Initial Guess for L=31.831831831831835: [0.47578796 0.35651102 0.19023962 0.76858974 0.87605325]\n"
     ]
    },
    {
     "name": "stderr",
     "output_type": "stream",
     "text": [
      "Optimizing:  15%|█▌        | 150/1000 [13:43<1:00:32,  4.27s/it]"
     ]
    },
    {
     "name": "stdout",
     "output_type": "stream",
     "text": [
      "✅ Final Optimized Parameters for L=29.82982982982983 km: [0.47558199 0.3563247  0.19032567 0.76850096 0.87604196]\n",
      "✅ Final Optimized Key Rate for L=29.82982982982983 km: 0.0026884037376650577\n",
      "✅ Final Optimized Parameters for L=31.031031031031034 km: [0.4753511  0.35611116 0.19042781 0.76839613 0.87602866]\n",
      "✅ Final Optimized Key Rate for L=31.031031031031034 km: 0.0025422192958563924\n",
      "✅ Final Optimized Parameters for L=30.830830830830834 km: [0.47538831 0.35614602 0.19041113 0.76841319 0.87603087]\n",
      "✅ Final Optimized Key Rate for L=30.830830830830834 km: 0.00256601658771621\n",
      "✅ Final Optimized Parameters for L=30.230230230230234 km: [0.475503   0.35625226 0.19035998 0.76846567 0.87603751]\n",
      "✅ Final Optimized Key Rate for L=30.230230230230234 km: 0.0026387600842220594\n",
      "✅ Final Optimized Parameters for L=29.62962962962963 km: [0.47562215 0.35636129 0.19030882 0.76851832 0.87604419]\n",
      "✅ Final Optimized Key Rate for L=29.62962962962963 km: 0.0027135765647356984\n"
     ]
    },
    {
     "name": "stderr",
     "output_type": "stream",
     "text": [
      "Optimizing:  16%|█▌        | 156/1000 [13:44<26:14,  1.87s/it]  "
     ]
    },
    {
     "name": "stdout",
     "output_type": "stream",
     "text": [
      "✅ Final Optimized Parameters for L=29.22922922922923 km: [0.475704   0.35643552 0.19027434 0.76855388 0.8760487 ]\n",
      "✅ Final Optimized Key Rate for L=29.22922922922923 km: 0.0027646354431623437\n",
      "✅ Final Optimized Parameters for L=29.42942942942943 km: [0.47566282 0.35639826 0.19029158 0.7685361  0.87604646]\n",
      "✅ Final Optimized Key Rate for L=29.42942942942943 km: 0.0027389863776382567\n",
      "✅ Final Optimized Parameters for L=30.030030030030034 km: [0.47554225 0.35628831 0.19034327 0.76848284 0.87603973]\n",
      "✅ Final Optimized Key Rate for L=30.030030030030034 km: 0.0026634656517544875\n"
     ]
    },
    {
     "name": "stderr",
     "output_type": "stream",
     "text": [
      "Optimizing:  16%|█▌        | 158/1000 [13:58<45:13,  3.22s/it]"
     ]
    },
    {
     "name": "stdout",
     "output_type": "stream",
     "text": [
      "✅ Final Optimized Parameters for L=31.431431431431434 km: [0.47527795 0.35604227 0.19046173 0.76836145 0.87602426]\n",
      "✅ Final Optimized Key Rate for L=31.431431431431434 km: 0.0024952877911619885\n",
      "✅ Final Optimized Parameters for L=31.231231231231234 km: [0.47531428 0.35607657 0.19044473 0.76837881 0.87602647]\n",
      "✅ Final Optimized Key Rate for L=31.231231231231234 km: 0.002518643729030981\n",
      "✅ Final Optimized Parameters for L=31.831831831831835 km: [0.47520666 0.3559745  0.19049554 0.76832696 0.87601991]\n",
      "✅ Final Optimized Key Rate for L=31.831831831831835 km: 0.002449226519615351\n",
      "✅ Final Optimized Parameters for L=31.631631631631635 km: [0.4752421  0.35600829 0.1904787  0.76834412 0.87602205]\n",
      "✅ Final Optimized Key Rate for L=31.631631631631635 km: 0.00247214940654032\n",
      "\n",
      "--- [DEBUG] Starting optimization for L=32.032032032032035 km ---\n",
      "🔵 Initial Guess for L=32.032032032032035: [0.4752421  0.35600829 0.1904787  0.76834412 0.87602205]\n",
      "\n",
      "--- [DEBUG] Starting optimization for L=32.232232232232235 km ---\n",
      "🔵 Initial Guess for L=32.232232232232235: [0.4752421  0.35600829 0.1904787  0.76834412 0.87602205]\n",
      "\n",
      "--- [DEBUG] Starting optimization for L=32.432432432432435 km ---\n",
      "🔵 Initial Guess for L=32.432432432432435: [0.4752421  0.35600829 0.1904787  0.76834412 0.87602205]\n",
      "\n",
      "--- [DEBUG] Starting optimization for L=32.632632632632635 km ---\n",
      "🔵 Initial Guess for L=32.632632632632635: [0.4752421  0.35600829 0.1904787  0.76834412 0.87602205]\n",
      "\n",
      "--- [DEBUG] Starting optimization for L=32.832832832832835 km ---\n",
      "🔵 Initial Guess for L=32.832832832832835: [0.4752421  0.35600829 0.1904787  0.76834412 0.87602205]\n",
      "\n",
      "--- [DEBUG] Starting optimization for L=33.033033033033036 km ---\n",
      "🔵 Initial Guess for L=33.033033033033036: [0.4752421  0.35600829 0.1904787  0.76834412 0.87602205]\n",
      "\n",
      "--- [DEBUG] Starting optimization for L=33.233233233233236 km ---\n",
      "🔵 Initial Guess for L=33.233233233233236: [0.4752421  0.35600829 0.1904787  0.76834412 0.87602205]\n",
      "\n",
      "--- [DEBUG] Starting optimization for L=33.433433433433436 km ---\n",
      "🔵 Initial Guess for L=33.433433433433436: [0.4752421  0.35600829 0.1904787  0.76834412 0.87602205]\n",
      "\n",
      "--- [DEBUG] Starting optimization for L=33.633633633633636 km ---\n",
      "🔵 Initial Guess for L=33.633633633633636: [0.4752421  0.35600829 0.1904787  0.76834412 0.87602205]\n",
      "\n",
      "--- [DEBUG] Starting optimization for L=33.833833833833836 km ---\n",
      "🔵 Initial Guess for L=33.833833833833836: [0.4752421  0.35600829 0.1904787  0.76834412 0.87602205]\n",
      "\n",
      "--- [DEBUG] Starting optimization for L=34.034034034034036 km ---\n",
      "🔵 Initial Guess for L=34.034034034034036: [0.4752421  0.35600829 0.1904787  0.76834412 0.87602205]\n",
      "\n",
      "--- [DEBUG] Starting optimization for L=34.234234234234236 km ---\n",
      "🔵 Initial Guess for L=34.234234234234236: [0.4752421  0.35600829 0.1904787  0.76834412 0.87602205]\n"
     ]
    },
    {
     "name": "stderr",
     "output_type": "stream",
     "text": [
      "Optimizing:  16%|█▋        | 163/1000 [15:05<1:44:28,  7.49s/it]"
     ]
    },
    {
     "name": "stdout",
     "output_type": "stream",
     "text": [
      "✅ Final Optimized Parameters for L=34.034034034034036 km: [0.47484725 0.35562097 0.19067981 0.76814014 0.87599607]\n",
      "✅ Final Optimized Key Rate for L=34.034034034034036 km: 0.002210729297856005\n",
      "\n",
      "--- [DEBUG] Starting optimization for L=34.434434434434436 km ---\n",
      "🔵 Initial Guess for L=34.434434434434436: [0.47484725 0.35562097 0.19067981 0.76814014 0.87599607]\n",
      "✅ Final Optimized Parameters for L=34.234234234234236 km: [0.47481727 0.35559037 0.19069666 0.76812314 0.8759939 ]\n",
      "✅ Final Optimized Key Rate for L=34.234234234234236 km: 0.0021902391145895007\n",
      "\n",
      "--- [DEBUG] Starting optimization for L=34.63463463463464 km ---\n",
      "🔵 Initial Guess for L=34.63463463463464: [0.47481727 0.35559037 0.19069666 0.76812314 0.8759939 ]\n",
      "✅ Final Optimized Parameters for L=33.833833833833836 km: [0.47487777 0.35565186 0.19066326 0.76815682 0.8759982 ]\n",
      "✅ Final Optimized Key Rate for L=33.833833833833836 km: 0.002231411812060967\n",
      "\n",
      "--- [DEBUG] Starting optimization for L=34.83483483483484 km ---\n",
      "🔵 Initial Guess for L=34.83483483483484: [0.47487777 0.35565186 0.19066326 0.76815682 0.8759982 ]\n"
     ]
    },
    {
     "name": "stderr",
     "output_type": "stream",
     "text": [
      "Optimizing:  16%|█▋        | 165/1000 [15:06<1:17:14,  5.55s/it]"
     ]
    },
    {
     "name": "stdout",
     "output_type": "stream",
     "text": [
      "✅ Final Optimized Parameters for L=32.032032032032035 km: [0.47517172 0.3559411  0.19051216 0.76831    0.8760177 ]\n",
      "✅ Final Optimized Key Rate for L=32.032032032032035 km: 0.0024265170947921017\n",
      "\n",
      "--- [DEBUG] Starting optimization for L=35.03503503503504 km ---\n",
      "🔵 Initial Guess for L=35.03503503503504: [0.47517172 0.3559411  0.19051216 0.76831    0.8760177 ]\n",
      "✅ Final Optimized Parameters for L=32.832832832832835 km: [0.47503669 0.35580999 0.19057944 0.76824162 0.87600904]\n",
      "✅ Final Optimized Key Rate for L=32.832832832832835 km: 0.002337773991667594\n",
      "✅ Final Optimized Parameters for L=32.232232232232235 km: [0.47513732 0.35590789 0.19052905 0.76829281 0.87601554]\n",
      "✅ Final Optimized Key Rate for L=32.232232232232235 km: 0.0024040191162250212\n",
      "✅ Final Optimized Parameters for L=33.033033033033036 km: [0.47500386 0.35577786 0.19059634 0.76822447 0.87600685]\n",
      "✅ Final Optimized Key Rate for L=33.033033033033036 km: 0.0023161020277012037\n",
      "✅ Final Optimized Parameters for L=33.633633633633636 km: [0.47490862 0.35568294 0.19064633 0.7681739  0.87600039]\n",
      "✅ Final Optimized Key Rate for L=33.633633633633636 km: 0.0022522884862439\n"
     ]
    },
    {
     "name": "stderr",
     "output_type": "stream",
     "text": [
      "Optimizing:  17%|█▋        | 169/1000 [15:06<44:05,  3.18s/it]  "
     ]
    },
    {
     "name": "stdout",
     "output_type": "stream",
     "text": [
      "✅ Final Optimized Parameters for L=33.233233233233236 km: [0.47497178 0.35574594 0.190613   0.76820763 0.87600468]\n",
      "✅ Final Optimized Key Rate for L=33.233233233233236 km: 0.002294631720068094\n",
      "✅ Final Optimized Parameters for L=32.432432432432435 km: [0.47510341 0.355875   0.19054604 0.76827554 0.87601335]\n",
      "✅ Final Optimized Key Rate for L=32.432432432432435 km: 0.0023817305876191273\n"
     ]
    },
    {
     "name": "stderr",
     "output_type": "stream",
     "text": [
      "Optimizing:  17%|█▋        | 171/1000 [15:06<34:07,  2.47s/it]"
     ]
    },
    {
     "name": "stdout",
     "output_type": "stream",
     "text": [
      "✅ Final Optimized Parameters for L=32.632632632632635 km: [0.47506985 0.35584237 0.19056276 0.76825857 0.8760112 ]\n",
      "✅ Final Optimized Key Rate for L=32.632632632632635 km: 0.002359649532029919\n",
      "✅ Final Optimized Parameters for L=33.433433433433436 km: [0.47494    0.35571428 0.1906297  0.76819072 0.87600251]\n",
      "✅ Final Optimized Key Rate for L=33.433433433433436 km: 0.002273361167281246\n"
     ]
    },
    {
     "name": "stderr",
     "output_type": "stream",
     "text": [
      "Optimizing:  17%|█▋        | 173/1000 [15:21<51:28,  3.73s/it]"
     ]
    },
    {
     "name": "stdout",
     "output_type": "stream",
     "text": [
      "✅ Final Optimized Parameters for L=34.434434434434436 km: [0.47478777 0.35556003 0.1907129  0.76810681 0.87599172]\n",
      "✅ Final Optimized Key Rate for L=34.434434434434436 km: 0.0021699394508774396\n",
      "✅ Final Optimized Parameters for L=34.83483483483484 km: [0.47472956 0.3554999  0.19074662 0.7680729  0.87598746]\n",
      "✅ Final Optimized Key Rate for L=34.83483483483484 km: 0.002129904523798562\n",
      "✅ Final Optimized Parameters for L=34.63463463463464 km: [0.47475835 0.35552978 0.19073003 0.76808956 0.8759896 ]\n",
      "✅ Final Optimized Key Rate for L=34.63463463463464 km: 0.002149828512815109\n",
      "✅ Final Optimized Parameters for L=35.03503503503504 km: [0.47470133 0.35547031 0.19076327 0.7680562  0.87598531]\n",
      "✅ Final Optimized Key Rate for L=35.03503503503504 km: 0.0021101657243522446\n",
      "\n",
      "--- [DEBUG] Starting optimization for L=35.23523523523524 km ---\n",
      "🔵 Initial Guess for L=35.23523523523524: [0.47470133 0.35547031 0.19076327 0.7680562  0.87598531]\n",
      "\n",
      "--- [DEBUG] Starting optimization for L=35.43543543543544 km ---\n",
      "🔵 Initial Guess for L=35.43543543543544: [0.47470133 0.35547031 0.19076327 0.7680562  0.87598531]\n",
      "\n",
      "--- [DEBUG] Starting optimization for L=35.63563563563564 km ---\n",
      "🔵 Initial Guess for L=35.63563563563564: [0.47470133 0.35547031 0.19076327 0.7680562  0.87598531]\n",
      "\n",
      "--- [DEBUG] Starting optimization for L=35.83583583583584 km ---\n",
      "🔵 Initial Guess for L=35.83583583583584: [0.47470133 0.35547031 0.19076327 0.7680562  0.87598531]\n",
      "\n",
      "--- [DEBUG] Starting optimization for L=36.03603603603604 km ---\n",
      "🔵 Initial Guess for L=36.03603603603604: [0.47470133 0.35547031 0.19076327 0.7680562  0.87598531]\n",
      "\n",
      "--- [DEBUG] Starting optimization for L=36.23623623623624 km ---\n",
      "🔵 Initial Guess for L=36.23623623623624: [0.47470133 0.35547031 0.19076327 0.7680562  0.87598531]\n",
      "\n",
      "--- [DEBUG] Starting optimization for L=36.43643643643644 km ---\n",
      "🔵 Initial Guess for L=36.43643643643644: [0.47470133 0.35547031 0.19076327 0.7680562  0.87598531]\n",
      "\n",
      "--- [DEBUG] Starting optimization for L=36.63663663663664 km ---\n",
      "🔵 Initial Guess for L=36.63663663663664: [0.47470133 0.35547031 0.19076327 0.7680562  0.87598531]\n",
      "\n",
      "--- [DEBUG] Starting optimization for L=36.83683683683684 km ---\n",
      "🔵 Initial Guess for L=36.83683683683684: [0.47470133 0.35547031 0.19076327 0.7680562  0.87598531]\n",
      "\n",
      "--- [DEBUG] Starting optimization for L=37.03703703703704 km ---\n",
      "🔵 Initial Guess for L=37.03703703703704: [0.47470133 0.35547031 0.19076327 0.7680562  0.87598531]\n",
      "\n",
      "--- [DEBUG] Starting optimization for L=37.23723723723724 km ---\n",
      "🔵 Initial Guess for L=37.23723723723724: [0.47470133 0.35547031 0.19076327 0.7680562  0.87598531]\n",
      "\n",
      "--- [DEBUG] Starting optimization for L=37.43743743743744 km ---\n",
      "🔵 Initial Guess for L=37.43743743743744: [0.47470133 0.35547031 0.19076327 0.7680562  0.87598531]\n"
     ]
    },
    {
     "name": "stderr",
     "output_type": "stream",
     "text": [
      "Optimizing:  18%|█▊        | 177/1000 [16:29<2:07:02,  9.26s/it]"
     ]
    },
    {
     "name": "stdout",
     "output_type": "stream",
     "text": [
      "✅ Final Optimized Parameters for L=37.43743743743744 km: [0.47439302 0.35513131 0.19096456 0.76785549 0.87595957]\n",
      "✅ Final Optimized Key Rate for L=37.43743743743744 km: 0.00188712710903762\n",
      "\n",
      "--- [DEBUG] Starting optimization for L=37.63763763763764 km ---\n",
      "🔵 Initial Guess for L=37.63763763763764: [0.47439302 0.35513131 0.19096456 0.76785549 0.87595957]\n"
     ]
    },
    {
     "name": "stderr",
     "output_type": "stream",
     "text": [
      "Optimizing:  18%|█▊        | 179/1000 [16:29<1:33:51,  6.86s/it]"
     ]
    },
    {
     "name": "stdout",
     "output_type": "stream",
     "text": [
      "✅ Final Optimized Parameters for L=37.23723723723724 km: [0.47441641 0.3551584  0.19094773 0.7678722  0.87596172]\n",
      "✅ Final Optimized Key Rate for L=37.23723723723724 km: 0.0019047748681609326\n",
      "\n",
      "--- [DEBUG] Starting optimization for L=37.83783783783784 km ---\n",
      "🔵 Initial Guess for L=37.83783783783784: [0.47441641 0.3551584  0.19094773 0.7678722  0.87596172]\n",
      "✅ Final Optimized Parameters for L=37.03703703703704 km: [0.47444031 0.35518567 0.19093079 0.76788905 0.87596387]\n",
      "✅ Final Optimized Key Rate for L=37.03703703703704 km: 0.0019225879781621165\n",
      "\n",
      "--- [DEBUG] Starting optimization for L=38.03803803803804 km ---\n",
      "🔵 Initial Guess for L=38.03803803803804: [0.47444031 0.35518567 0.19093079 0.76788905 0.87596387]\n",
      "✅ Final Optimized Parameters for L=35.63563563563564 km: [0.47461874 0.35538243 0.19081407 0.76800526 0.87597891]\n",
      "✅ Final Optimized Key Rate for L=35.63563563563564 km: 0.0020520431219818902\n",
      "\n",
      "--- [DEBUG] Starting optimization for L=38.23823823823824 km ---\n",
      "🔵 Initial Guess for L=38.23823823823824: [0.47461874 0.35538243 0.19081407 0.76800526 0.87597891]\n"
     ]
    },
    {
     "name": "stderr",
     "output_type": "stream",
     "text": [
      "Optimizing:  18%|█▊        | 185/1000 [16:30<40:01,  2.95s/it]  "
     ]
    },
    {
     "name": "stdout",
     "output_type": "stream",
     "text": [
      "✅ Final Optimized Parameters for L=36.83683683683684 km: [0.47446473 0.35521312 0.19091412 0.76790559 0.87596601]\n",
      "✅ Final Optimized Key Rate for L=36.83683683683684 km: 0.0019405680059162058\n",
      "✅ Final Optimized Parameters for L=35.83583583583584 km: [0.47459201 0.35535379 0.19083029 0.76798912 0.87597675]\n",
      "✅ Final Optimized Key Rate for L=35.83583583583584 km: 0.0020330278226155787\n",
      "✅ Final Optimized Parameters for L=36.23623623623624 km: [0.4745398  0.35529696 0.19086371 0.7679557  0.87597249]\n",
      "✅ Final Optimized Key Rate for L=36.23623623623624 km: 0.001995525493021788\n",
      "✅ Final Optimized Parameters for L=35.23523523523524 km: [0.47467339 0.35544082 0.19078025 0.7680392  0.87598314]\n",
      "✅ Final Optimized Key Rate for L=35.23523523523524 km: 0.0020906103719555732\n",
      "✅ Final Optimized Parameters for L=36.43643643643644 km: [0.4745144  0.35526878 0.1908805  0.767939   0.87597031]\n",
      "✅ Final Optimized Key Rate for L=36.43643643643644 km: 0.0019770351582218187\n",
      "✅ Final Optimized Parameters for L=36.03603603603604 km: [0.47456571 0.35532522 0.19084701 0.76797239 0.87597459]\n",
      "✅ Final Optimized Key Rate for L=36.03603603603604 km: 0.00201418916638429\n"
     ]
    },
    {
     "name": "stderr",
     "output_type": "stream",
     "text": [
      "Optimizing:  19%|█▉        | 188/1000 [16:30<28:29,  2.11s/it]"
     ]
    },
    {
     "name": "stdout",
     "output_type": "stream",
     "text": [
      "✅ Final Optimized Parameters for L=35.43543543543544 km: [0.47464586 0.3554116  0.19079653 0.76802286 0.87598103]\n",
      "✅ Final Optimized Key Rate for L=35.43543543543544 km: 0.0020712367408722114\n",
      "✅ Final Optimized Parameters for L=36.63663663663664 km: [0.47448924 0.35524082 0.1908977  0.76792194 0.87596817]\n",
      "✅ Final Optimized Key Rate for L=36.63663663663664 km: 0.00195871653347527\n"
     ]
    },
    {
     "name": "stderr",
     "output_type": "stream",
     "text": [
      "Optimizing:  19%|█▉        | 189/1000 [16:44<48:58,  3.62s/it]"
     ]
    },
    {
     "name": "stdout",
     "output_type": "stream",
     "text": [
      "✅ Final Optimized Parameters for L=37.83783783783784 km: [0.474347   0.35507774 0.19099846 0.76782194 0.87595529]\n",
      "✅ Final Optimized Key Rate for L=37.83783783783784 km: 0.0018523214509013819\n",
      "✅ Final Optimized Parameters for L=37.63763763763764 km: [0.47436983 0.35510441 0.19098122 0.76783899 0.87595746]\n",
      "✅ Final Optimized Key Rate for L=37.63763763763764 km: 0.0018696431489423281\n",
      "✅ Final Optimized Parameters for L=38.03803803803804 km: [0.47432478 0.35505132 0.19101489 0.76780569 0.8759531 ]\n",
      "✅ Final Optimized Key Rate for L=38.03803803803804 km: 0.0018351604926682575\n",
      "✅ Final Optimized Parameters for L=38.23823823823824 km: [0.47430274 0.355025   0.19103209 0.76778869 0.87595099]\n",
      "✅ Final Optimized Key Rate for L=38.23823823823824 km: 0.0018181587665770545\n",
      "\n",
      "--- [DEBUG] Starting optimization for L=38.43843843843844 km ---\n",
      "🔵 Initial Guess for L=38.43843843843844: [0.47430274 0.355025   0.19103209 0.76778869 0.87595099]\n",
      "\n",
      "--- [DEBUG] Starting optimization for L=38.63863863863864 km ---\n",
      "🔵 Initial Guess for L=38.63863863863864: [0.47430274 0.355025   0.19103209 0.76778869 0.87595099]\n",
      "\n",
      "--- [DEBUG] Starting optimization for L=38.83883883883884 km ---\n",
      "🔵 Initial Guess for L=38.83883883883884: [0.47430274 0.355025   0.19103209 0.76778869 0.87595099]\n",
      "\n",
      "--- [DEBUG] Starting optimization for L=39.03903903903904 km ---\n",
      "🔵 Initial Guess for L=39.03903903903904: [0.47430274 0.355025   0.19103209 0.76778869 0.87595099]\n",
      "\n",
      "--- [DEBUG] Starting optimization for L=39.23923923923924 km ---\n",
      "🔵 Initial Guess for L=39.23923923923924: [0.47430274 0.355025   0.19103209 0.76778869 0.87595099]\n",
      "\n",
      "--- [DEBUG] Starting optimization for L=39.43943943943944 km ---\n",
      "🔵 Initial Guess for L=39.43943943943944: [0.47430274 0.355025   0.19103209 0.76778869 0.87595099]\n",
      "\n",
      "--- [DEBUG] Starting optimization for L=39.63963963963964 km ---\n",
      "🔵 Initial Guess for L=39.63963963963964: [0.47430274 0.355025   0.19103209 0.76778869 0.87595099]\n",
      "\n",
      "--- [DEBUG] Starting optimization for L=39.83983983983984 km ---\n",
      "🔵 Initial Guess for L=39.83983983983984: [0.47430274 0.355025   0.19103209 0.76778869 0.87595099]\n",
      "\n",
      "--- [DEBUG] Starting optimization for L=40.04004004004004 km ---\n",
      "🔵 Initial Guess for L=40.04004004004004: [0.47430274 0.355025   0.19103209 0.76778869 0.87595099]\n",
      "\n",
      "--- [DEBUG] Starting optimization for L=40.24024024024024 km ---\n",
      "🔵 Initial Guess for L=40.24024024024024: [0.47430274 0.355025   0.19103209 0.76778869 0.87595099]\n",
      "\n",
      "--- [DEBUG] Starting optimization for L=40.44044044044044 km ---\n",
      "🔵 Initial Guess for L=40.44044044044044: [0.47430274 0.355025   0.19103209 0.76778869 0.87595099]\n",
      "\n",
      "--- [DEBUG] Starting optimization for L=40.64064064064064 km ---\n",
      "🔵 Initial Guess for L=40.64064064064064: [0.47430274 0.355025   0.19103209 0.76778869 0.87595099]\n"
     ]
    },
    {
     "name": "stderr",
     "output_type": "stream",
     "text": [
      "Optimizing:  19%|█▉        | 193/1000 [17:52<2:02:01,  9.07s/it]"
     ]
    },
    {
     "name": "stdout",
     "output_type": "stream",
     "text": [
      "✅ Final Optimized Parameters for L=38.83883883883884 km: [0.47423914 0.35494724 0.19108299 0.76773855 0.87594447]\n",
      "✅ Final Optimized Key Rate for L=38.83883883883884 km: 0.0017680941201739468\n",
      "\n",
      "--- [DEBUG] Starting optimization for L=40.84084084084084 km ---\n",
      "🔵 Initial Guess for L=40.84084084084084: [0.47423914 0.35494724 0.19108299 0.76773855 0.87594447]\n"
     ]
    },
    {
     "name": "stderr",
     "output_type": "stream",
     "text": [
      "Optimizing:  20%|█▉        | 196/1000 [17:52<1:18:17,  5.84s/it]"
     ]
    },
    {
     "name": "stdout",
     "output_type": "stream",
     "text": [
      "✅ Final Optimized Parameters for L=38.63863863863864 km: [0.4742599  0.35497288 0.19106628 0.76775501 0.87594665]\n",
      "✅ Final Optimized Key Rate for L=38.63863863863864 km: 0.0017846270521926972\n",
      "\n",
      "--- [DEBUG] Starting optimization for L=41.04104104104104 km ---\n",
      "🔵 Initial Guess for L=41.04104104104104: [0.4742599  0.35497288 0.19106628 0.76775501 0.87594665]\n",
      "✅ Final Optimized Parameters for L=39.03903903903904 km: [0.47421871 0.3549216  0.19109989 0.76772191 0.87594233]\n",
      "✅ Final Optimized Key Rate for L=39.03903903903904 km: 0.0017517145325631044\n",
      "\n",
      "--- [DEBUG] Starting optimization for L=41.24124124124124 km ---\n",
      "🔵 Initial Guess for L=41.24124124124124: [0.47421871 0.3549216  0.19109989 0.76772191 0.87594233]\n",
      "✅ Final Optimized Parameters for L=39.63963963963964 km: [0.47415953 0.35484606 0.19115124 0.76767149 0.87593586]\n",
      "✅ Final Optimized Key Rate for L=39.63963963963964 km: 0.001703481535631793\n",
      "\n",
      "--- [DEBUG] Starting optimization for L=41.44144144144144 km ---\n",
      "🔵 Initial Guess for L=41.44144144144144: [0.47415953 0.35484606 0.19115124 0.76767149 0.87593586]\n",
      "✅ Final Optimized Parameters for L=38.43843843843844 km: [0.47428117 0.35499887 0.19104887 0.76777216 0.87594882]\n",
      "✅ Final Optimized Key Rate for L=38.43843843843844 km: 0.0018013147793979813\n"
     ]
    },
    {
     "name": "stderr",
     "output_type": "stream",
     "text": [
      "Optimizing:  20%|██        | 202/1000 [17:53<31:48,  2.39s/it]  "
     ]
    },
    {
     "name": "stdout",
     "output_type": "stream",
     "text": [
      "✅ Final Optimized Parameters for L=40.44044044044044 km: [0.47408583 0.35474781 0.19122053 0.76760372 0.87592709]\n",
      "✅ Final Optimized Key Rate for L=40.44044044044044 km: 0.0016412320757980717\n",
      "✅ Final Optimized Parameters for L=40.64064064064064 km: [0.4740683  0.35472364 0.19123779 0.76758684 0.87592488]\n",
      "✅ Final Optimized Key Rate for L=40.64064064064064 km: 0.0016260286513769602\n",
      "✅ Final Optimized Parameters for L=39.43943943943944 km: [0.47417889 0.35487112 0.19113392 0.76768847 0.87593801]\n",
      "✅ Final Optimized Key Rate for L=39.43943943943944 km: 0.0017194096566682886\n",
      "✅ Final Optimized Parameters for L=40.04004004004004 km: [0.47412198 0.3547966  0.19118576 0.76763765 0.8759315 ]\n",
      "✅ Final Optimized Key Rate for L=40.04004004004004 km: 0.0016720669466692057\n",
      "✅ Final Optimized Parameters for L=40.24024024024024 km: [0.47410372 0.35477212 0.1912032  0.76762064 0.87592926]\n",
      "✅ Final Optimized Key Rate for L=40.24024024024024 km: 0.0016565777263671771\n",
      "✅ Final Optimized Parameters for L=39.83983983983984 km: [0.4741405  0.35482124 0.19116842 0.76765464 0.87593364]\n",
      "✅ Final Optimized Key Rate for L=39.83983983983984 km: 0.0016877010932276804\n",
      "✅ Final Optimized Parameters for L=39.23923923923924 km: [0.47419861 0.3548963  0.1911176  0.76770448 0.87594016]\n",
      "✅ Final Optimized Key Rate for L=39.23923923923924 km: 0.001735486852452919\n"
     ]
    },
    {
     "name": "stderr",
     "output_type": "stream",
     "text": [
      "Optimizing:  21%|██        | 207/1000 [18:07<32:06,  2.43s/it]"
     ]
    },
    {
     "name": "stdout",
     "output_type": "stream",
     "text": [
      "✅ Final Optimized Parameters for L=41.04104104104104 km: [0.47403436 0.35467584 0.1912725  0.76755298 0.87592052]\n",
      "✅ Final Optimized Key Rate for L=41.04104104104104 km: 0.0015960431705587669\n",
      "✅ Final Optimized Parameters for L=41.44144144144144 km: [0.4740018  0.35462877 0.19130767 0.76751878 0.87591607]\n",
      "✅ Final Optimized Key Rate for L=41.44144144144144 km: 0.0015666107891592958\n",
      "✅ Final Optimized Parameters for L=40.84084084084084 km: [0.47405117 0.35469972 0.19125495 0.7675701  0.8759227 ]\n",
      "✅ Final Optimized Key Rate for L=40.84084084084084 km: 0.001610966122327953\n",
      "✅ Final Optimized Parameters for L=41.24124124124124 km: [0.47401796 0.3546522  0.19129001 0.76753596 0.8759183 ]\n",
      "✅ Final Optimized Key Rate for L=41.24124124124124 km: 0.0015812584905358718\n",
      "\n",
      "--- [DEBUG] Starting optimization for L=41.64164164164164 km ---\n",
      "🔵 Initial Guess for L=41.64164164164164: [0.47401796 0.3546522  0.19129001 0.76753596 0.8759183 ]\n",
      "\n",
      "--- [DEBUG] Starting optimization for L=41.84184184184184 km ---\n",
      "🔵 Initial Guess for L=41.84184184184184: [0.47401796 0.3546522  0.19129001 0.76753596 0.8759183 ]\n",
      "\n",
      "--- [DEBUG] Starting optimization for L=42.04204204204204 km ---\n",
      "🔵 Initial Guess for L=42.04204204204204: [0.47401796 0.3546522  0.19129001 0.76753596 0.8759183 ]\n",
      "\n",
      "--- [DEBUG] Starting optimization for L=42.24224224224224 km ---\n",
      "🔵 Initial Guess for L=42.24224224224224: [0.47401796 0.3546522  0.19129001 0.76753596 0.8759183 ]\n",
      "\n",
      "--- [DEBUG] Starting optimization for L=42.44244244244244 km ---\n",
      "🔵 Initial Guess for L=42.44244244244244: [0.47401796 0.3546522  0.19129001 0.76753596 0.8759183 ]\n",
      "\n",
      "--- [DEBUG] Starting optimization for L=42.64264264264264 km ---\n",
      "🔵 Initial Guess for L=42.64264264264264: [0.47401796 0.3546522  0.19129001 0.76753596 0.8759183 ]\n",
      "\n",
      "--- [DEBUG] Starting optimization for L=42.84284284284285 km ---\n",
      "🔵 Initial Guess for L=42.84284284284285: [0.47401796 0.3546522  0.19129001 0.76753596 0.8759183 ]\n",
      "\n",
      "--- [DEBUG] Starting optimization for L=43.04304304304305 km ---\n",
      "🔵 Initial Guess for L=43.04304304304305: [0.47401796 0.3546522  0.19129001 0.76753596 0.8759183 ]\n",
      "\n",
      "--- [DEBUG] Starting optimization for L=43.24324324324325 km ---\n",
      "🔵 Initial Guess for L=43.24324324324325: [0.47401796 0.3546522  0.19129001 0.76753596 0.8759183 ]\n",
      "\n",
      "--- [DEBUG] Starting optimization for L=43.44344344344345 km ---\n",
      "🔵 Initial Guess for L=43.44344344344345: [0.47401796 0.3546522  0.19129001 0.76753596 0.8759183 ]\n",
      "\n",
      "--- [DEBUG] Starting optimization for L=43.64364364364365 km ---\n",
      "🔵 Initial Guess for L=43.64364364364365: [0.47401796 0.3546522  0.19129001 0.76753596 0.8759183 ]\n",
      "\n",
      "--- [DEBUG] Starting optimization for L=43.84384384384385 km ---\n",
      "🔵 Initial Guess for L=43.84384384384385: [0.47401796 0.3546522  0.19129001 0.76753596 0.8759183 ]\n"
     ]
    },
    {
     "name": "stderr",
     "output_type": "stream",
     "text": [
      "Optimizing:  21%|██        | 209/1000 [19:16<2:17:04, 10.40s/it]"
     ]
    },
    {
     "name": "stdout",
     "output_type": "stream",
     "text": [
      "✅ Final Optimized Parameters for L=43.24324324324325 km: [0.47387269 0.35442401 0.19146807 0.76736346 0.87589592]\n",
      "✅ Final Optimized Key Rate for L=43.24324324324325 km: 0.0014407381541084966\n",
      "\n",
      "--- [DEBUG] Starting optimization for L=44.04404404404405 km ---\n",
      "🔵 Initial Guess for L=44.04404404404405: [0.47387269 0.35442401 0.19146807 0.76736346 0.87589592]\n"
     ]
    },
    {
     "name": "stderr",
     "output_type": "stream",
     "text": [
      "Optimizing:  21%|██        | 210/1000 [19:16<1:56:55,  8.88s/it]"
     ]
    },
    {
     "name": "stdout",
     "output_type": "stream",
     "text": [
      "✅ Final Optimized Parameters for L=42.64264264264264 km: [0.47391261 0.35449098 0.19141401 0.76741571 0.87590269]\n",
      "✅ Final Optimized Key Rate for L=42.64264264264264 km: 0.0014815302550672982\n",
      "\n",
      "--- [DEBUG] Starting optimization for L=44.24424424424425 km ---\n",
      "🔵 Initial Guess for L=44.24424424424425: [0.47391261 0.35449098 0.19141401 0.76741571 0.87590269]\n",
      "✅ Final Optimized Parameters for L=43.64364364364365 km: [0.47384783 0.35438013 0.19150432 0.76732859 0.87589139]\n",
      "✅ Final Optimized Key Rate for L=43.64364364364365 km: 0.0014141689237558834\n",
      "\n",
      "--- [DEBUG] Starting optimization for L=44.44444444444445 km ---\n",
      "🔵 Initial Guess for L=44.44444444444445: [0.47384783 0.35438013 0.19150432 0.76732859 0.87589139]\n"
     ]
    },
    {
     "name": "stderr",
     "output_type": "stream",
     "text": [
      "Optimizing:  22%|██▏       | 215/1000 [19:16<49:52,  3.81s/it]  "
     ]
    },
    {
     "name": "stdout",
     "output_type": "stream",
     "text": [
      "✅ Final Optimized Parameters for L=41.84184184184184 km: [0.47397068 0.35458209 0.19134292 0.76748456 0.87591167]\n",
      "✅ Final Optimized Key Rate for L=41.84184184184184 km: 0.001537721211387494\n",
      "\n",
      "--- [DEBUG] Starting optimization for L=44.64464464464465 km ---\n",
      "🔵 Initial Guess for L=44.64464464464465: [0.47397068 0.35458209 0.19134292 0.76748456 0.87591167]\n",
      "✅ Final Optimized Parameters for L=42.44244244244244 km: [0.47392665 0.35451347 0.19139642 0.76743271 0.87590493]\n",
      "✅ Final Optimized Key Rate for L=42.44244244244244 km: 0.0014953825585894136\n",
      "✅ Final Optimized Parameters for L=41.64164164164164 km: [0.47398616 0.3546054  0.19132519 0.76750171 0.87591388]\n",
      "✅ Final Optimized Key Rate for L=41.64164164164164 km: 0.0015520987856418153\n",
      "✅ Final Optimized Parameters for L=42.04204204204204 km: [0.47395564 0.35455914 0.19136038 0.76746764 0.87590943]\n",
      "✅ Final Optimized Key Rate for L=42.04204204204204 km: 0.0015234768098702646\n"
     ]
    },
    {
     "name": "stderr",
     "output_type": "stream",
     "text": [
      "Optimizing:  22%|██▏       | 220/1000 [19:17<23:08,  1.78s/it]"
     ]
    },
    {
     "name": "stdout",
     "output_type": "stream",
     "text": [
      "✅ Final Optimized Parameters for L=42.24224224224224 km: [0.47394096 0.35453623 0.19137833 0.76745023 0.87590719]\n",
      "✅ Final Optimized Key Rate for L=42.24224224224224 km: 0.0015093643365170473\n",
      "✅ Final Optimized Parameters for L=42.84284284284285 km: [0.47389885 0.35446838 0.19143209 0.76739826 0.87590038]\n",
      "✅ Final Optimized Key Rate for L=42.84284284284285 km: 0.001467806216534399\n",
      "✅ Final Optimized Parameters for L=43.84384384384385 km: [0.47383579 0.35435825 0.19152264 0.76731095 0.8758891 ]\n",
      "✅ Final Optimized Key Rate for L=43.84384384384385 km: 0.0014010684671490676\n",
      "✅ Final Optimized Parameters for L=43.44344344344345 km: [0.47386007 0.35440196 0.19148618 0.76734603 0.87589363]\n",
      "✅ Final Optimized Key Rate for L=43.44344344344345 km: 0.001427391768381593\n",
      "✅ Final Optimized Parameters for L=43.04304304304305 km: [0.47388565 0.3544461  0.19144994 0.76738098 0.87589821]\n",
      "✅ Final Optimized Key Rate for L=43.04304304304305 km: 0.0014542092450647167\n"
     ]
    },
    {
     "name": "stderr",
     "output_type": "stream",
     "text": [
      "Optimizing:  22%|██▏       | 221/1000 [19:32<48:15,  3.72s/it]"
     ]
    },
    {
     "name": "stdout",
     "output_type": "stream",
     "text": [
      "✅ Final Optimized Parameters for L=44.64464464464465 km: [0.47379127 0.35427257 0.19159625 0.76724023 0.87587984]\n",
      "✅ Final Optimized Key Rate for L=44.64464464464465 km: 0.0013498678398580768\n",
      "✅ Final Optimized Parameters for L=44.04404404404405 km: [0.47382422 0.35433679 0.19154078 0.7672935  0.8758868 ]\n",
      "✅ Final Optimized Key Rate for L=44.04404404404405 km: 0.0013880892564168146\n",
      "✅ Final Optimized Parameters for L=44.24424424424425 km: [0.47381288 0.35431521 0.19155951 0.76727546 0.87588448]\n",
      "✅ Final Optimized Key Rate for L=44.24424424424425 km: 0.0013752301602458251\n",
      "✅ Final Optimized Parameters for L=44.44444444444445 km: [0.47380199 0.3542939  0.1915776  0.76725811 0.87588217]\n",
      "✅ Final Optimized Key Rate for L=44.44444444444445 km: 0.0013624900580487711\n",
      "\n",
      "--- [DEBUG] Starting optimization for L=44.84484484484485 km ---\n",
      "🔵 Initial Guess for L=44.84484484484485: [0.47380199 0.3542939  0.1915776  0.76725811 0.87588217]\n",
      "\n",
      "--- [DEBUG] Starting optimization for L=45.04504504504505 km ---\n",
      "🔵 Initial Guess for L=45.04504504504505: [0.47380199 0.3542939  0.1915776  0.76725811 0.87588217]\n",
      "\n",
      "--- [DEBUG] Starting optimization for L=45.24524524524525 km ---\n",
      "🔵 Initial Guess for L=45.24524524524525: [0.47380199 0.3542939  0.1915776  0.76725811 0.87588217]\n",
      "\n",
      "--- [DEBUG] Starting optimization for L=45.44544544544545 km ---\n",
      "🔵 Initial Guess for L=45.44544544544545: [0.47380199 0.3542939  0.1915776  0.76725811 0.87588217]\n",
      "\n",
      "--- [DEBUG] Starting optimization for L=45.64564564564565 km ---\n",
      "🔵 Initial Guess for L=45.64564564564565: [0.47380199 0.3542939  0.1915776  0.76725811 0.87588217]\n",
      "\n",
      "--- [DEBUG] Starting optimization for L=45.84584584584585 km ---\n",
      "🔵 Initial Guess for L=45.84584584584585: [0.47380199 0.3542939  0.1915776  0.76725811 0.87588217]\n",
      "\n",
      "--- [DEBUG] Starting optimization for L=46.04604604604605 km ---\n",
      "🔵 Initial Guess for L=46.04604604604605: [0.47380199 0.3542939  0.1915776  0.76725811 0.87588217]\n",
      "\n",
      "--- [DEBUG] Starting optimization for L=46.24624624624625 km ---\n",
      "🔵 Initial Guess for L=46.24624624624625: [0.47380199 0.3542939  0.1915776  0.76725811 0.87588217]\n",
      "\n",
      "--- [DEBUG] Starting optimization for L=46.44644644644645 km ---\n",
      "🔵 Initial Guess for L=46.44644644644645: [0.47380199 0.3542939  0.1915776  0.76725811 0.87588217]\n",
      "\n",
      "--- [DEBUG] Starting optimization for L=46.64664664664665 km ---\n",
      "🔵 Initial Guess for L=46.64664664664665: [0.47380199 0.3542939  0.1915776  0.76725811 0.87588217]\n",
      "\n",
      "--- [DEBUG] Starting optimization for L=46.84684684684685 km ---\n",
      "🔵 Initial Guess for L=46.84684684684685: [0.47380199 0.3542939  0.1915776  0.76725811 0.87588217]\n",
      "\n",
      "--- [DEBUG] Starting optimization for L=47.04704704704705 km ---\n",
      "🔵 Initial Guess for L=47.04704704704705: [0.47380199 0.3542939  0.1915776  0.76725811 0.87588217]\n"
     ]
    },
    {
     "name": "stderr",
     "output_type": "stream",
     "text": [
      "Optimizing:  22%|██▎       | 225/1000 [20:37<2:03:35,  9.57s/it]"
     ]
    },
    {
     "name": "stdout",
     "output_type": "stream",
     "text": [
      "✅ Final Optimized Parameters for L=44.84484484484485 km: [0.47378115 0.35425159 0.19161495 0.76722233 0.87587751]\n",
      "✅ Final Optimized Key Rate for L=44.84484484484485 km: 0.0013373624062239392\n",
      "\n",
      "--- [DEBUG] Starting optimization for L=47.24724724724725 km ---\n",
      "🔵 Initial Guess for L=47.24724724724725: [0.47378115 0.35425159 0.19161495 0.76722233 0.87587751]\n"
     ]
    },
    {
     "name": "stderr",
     "output_type": "stream",
     "text": [
      "Optimizing:  23%|██▎       | 229/1000 [20:38<1:06:23,  5.17s/it]"
     ]
    },
    {
     "name": "stdout",
     "output_type": "stream",
     "text": [
      "✅ Final Optimized Parameters for L=45.24524524524525 km: [0.47376163 0.35420978 0.19165238 0.76718647 0.87587282]\n",
      "✅ Final Optimized Key Rate for L=45.24524524524525 km: 0.001312697546792232\n",
      "\n",
      "--- [DEBUG] Starting optimization for L=47.44744744744745 km ---\n",
      "🔵 Initial Guess for L=47.44744744744745: [0.47376163 0.35420978 0.19165238 0.76718647 0.87587282]\n",
      "✅ Final Optimized Parameters for L=46.84684684684685 km: [0.47369651 0.35404708 0.19180547 0.76704053 0.87585374]\n",
      "✅ Final Optimized Key Rate for L=46.84684684684685 km: 0.0012184966587180553\n",
      "\n",
      "--- [DEBUG] Starting optimization for L=47.64764764764765 km ---\n",
      "🔵 Initial Guess for L=47.64764764764765: [0.47369651 0.35404708 0.19180547 0.76704053 0.87585374]\n",
      "✅ Final Optimized Parameters for L=46.44644644644645 km: [0.47371077 0.35408707 0.19176654 0.76707754 0.87585861]\n",
      "✅ Final Optimized Key Rate for L=46.44644644644645 km: 0.001241394637422237\n",
      "\n",
      "--- [DEBUG] Starting optimization for L=47.84784784784785 km ---\n",
      "🔵 Initial Guess for L=47.84784784784785: [0.47371077 0.35408707 0.19176654 0.76707754 0.87585861]\n",
      "✅ Final Optimized Parameters for L=47.04704704704705 km: [0.47368983 0.35402726 0.1918252  0.76702177 0.8758513 ]\n",
      "✅ Final Optimized Key Rate for L=47.04704704704705 km: 0.0012072061986923247\n",
      "✅ Final Optimized Parameters for L=46.64664664664665 km: [0.47370344 0.35406696 0.19178619 0.76705886 0.87585618]\n",
      "✅ Final Optimized Key Rate for L=46.64664664664665 km: 0.0012298924748580969\n",
      "✅ Final Optimized Parameters for L=45.44544544544545 km: [0.4737523  0.35418898 0.19167108 0.76716862 0.87587051]\n",
      "✅ Final Optimized Key Rate for L=45.44544544544545 km: 0.001300535973761238\n",
      "✅ Final Optimized Parameters for L=45.84584584584585 km: [0.47373479 0.35414792 0.191709   0.76713243 0.87586573]\n",
      "✅ Final Optimized Key Rate for L=45.84584584584585 km: 0.0012765492489784152\n"
     ]
    },
    {
     "name": "stderr",
     "output_type": "stream",
     "text": [
      "Optimizing:  23%|██▎       | 233/1000 [20:38<38:37,  3.02s/it]  "
     ]
    },
    {
     "name": "stdout",
     "output_type": "stream",
     "text": [
      "✅ Final Optimized Parameters for L=45.04504504504505 km: [0.47377123 0.35423064 0.19163374 0.76720433 0.87587516]\n",
      "✅ Final Optimized Key Rate for L=45.04504504504505 km: 0.0013249726681096336\n",
      "✅ Final Optimized Parameters for L=46.04604604604605 km: [0.47372649 0.3541275  0.19172811 0.76711418 0.8758634 ]\n",
      "✅ Final Optimized Key Rate for L=46.04604604604605 km: 0.0012647220103761997\n"
     ]
    },
    {
     "name": "stderr",
     "output_type": "stream",
     "text": [
      "Optimizing:  24%|██▎       | 235/1000 [20:38<30:00,  2.35s/it]"
     ]
    },
    {
     "name": "stdout",
     "output_type": "stream",
     "text": [
      "✅ Final Optimized Parameters for L=46.24624624624625 km: [0.47371851 0.35410727 0.19174738 0.7670958  0.875861  ]\n",
      "✅ Final Optimized Key Rate for L=46.24624624624625 km: 0.0012530041461647444\n",
      "✅ Final Optimized Parameters for L=45.64564564564565 km: [0.47374327 0.35416837 0.19168988 0.76715068 0.87586812]\n",
      "✅ Final Optimized Key Rate for L=45.64564564564565 km: 0.0012884868906177847\n"
     ]
    },
    {
     "name": "stderr",
     "output_type": "stream",
     "text": [
      "Optimizing:  24%|██▎       | 237/1000 [20:52<44:40,  3.51s/it]"
     ]
    },
    {
     "name": "stdout",
     "output_type": "stream",
     "text": [
      "✅ Final Optimized Parameters for L=47.24724724724725 km: [0.47368344 0.35400752 0.19184456 0.76700338 0.87584884]\n",
      "✅ Final Optimized Key Rate for L=47.24724724724725 km: 0.001196020113824352\n",
      "✅ Final Optimized Parameters for L=47.84784784784785 km: [0.47366631 0.35394883 0.1919048  0.76694623 0.87584149]\n",
      "✅ Final Optimized Key Rate for L=47.84784784784785 km: 0.001163078438992325\n",
      "✅ Final Optimized Parameters for L=47.44744744744745 km: [0.4736774  0.35398793 0.19186435 0.76698457 0.87584639]\n",
      "✅ Final Optimized Key Rate for L=47.44744744744745 km: 0.0011849374324194545\n",
      "✅ Final Optimized Parameters for L=47.64764764764765 km: [0.47367176 0.35396835 0.1918846  0.76696543 0.87584388]\n",
      "✅ Final Optimized Key Rate for L=47.64764764764765 km: 0.0011739571919551371\n",
      "\n",
      "--- [DEBUG] Starting optimization for L=48.04804804804805 km ---\n",
      "🔵 Initial Guess for L=48.04804804804805: [0.47367176 0.35396835 0.1918846  0.76696543 0.87584388]\n",
      "\n",
      "--- [DEBUG] Starting optimization for L=48.24824824824825 km ---\n",
      "🔵 Initial Guess for L=48.24824824824825: [0.47367176 0.35396835 0.1918846  0.76696543 0.87584388]\n",
      "\n",
      "--- [DEBUG] Starting optimization for L=48.44844844844845 km ---\n",
      "🔵 Initial Guess for L=48.44844844844845: [0.47367176 0.35396835 0.1918846  0.76696543 0.87584388]\n",
      "\n",
      "--- [DEBUG] Starting optimization for L=48.64864864864865 km ---\n",
      "🔵 Initial Guess for L=48.64864864864865: [0.47367176 0.35396835 0.1918846  0.76696543 0.87584388]\n",
      "\n",
      "--- [DEBUG] Starting optimization for L=48.84884884884885 km ---\n",
      "🔵 Initial Guess for L=48.84884884884885: [0.47367176 0.35396835 0.1918846  0.76696543 0.87584388]\n",
      "\n",
      "--- [DEBUG] Starting optimization for L=49.04904904904905 km ---\n",
      "🔵 Initial Guess for L=49.04904904904905: [0.47367176 0.35396835 0.1918846  0.76696543 0.87584388]\n",
      "\n",
      "--- [DEBUG] Starting optimization for L=49.24924924924925 km ---\n",
      "🔵 Initial Guess for L=49.24924924924925: [0.47367176 0.35396835 0.1918846  0.76696543 0.87584388]\n",
      "\n",
      "--- [DEBUG] Starting optimization for L=49.44944944944945 km ---\n",
      "🔵 Initial Guess for L=49.44944944944945: [0.47367176 0.35396835 0.1918846  0.76696543 0.87584388]\n",
      "\n",
      "--- [DEBUG] Starting optimization for L=49.64964964964965 km ---\n",
      "🔵 Initial Guess for L=49.64964964964965: [0.47367176 0.35396835 0.1918846  0.76696543 0.87584388]\n",
      "\n",
      "--- [DEBUG] Starting optimization for L=49.84984984984985 km ---\n",
      "🔵 Initial Guess for L=49.84984984984985: [0.47367176 0.35396835 0.1918846  0.76696543 0.87584388]\n",
      "\n",
      "--- [DEBUG] Starting optimization for L=50.050050050050054 km ---\n",
      "🔵 Initial Guess for L=50.050050050050054: [0.47367176 0.35396835 0.1918846  0.76696543 0.87584388]\n",
      "\n",
      "--- [DEBUG] Starting optimization for L=50.250250250250254 km ---\n",
      "🔵 Initial Guess for L=50.250250250250254: [0.47367176 0.35396835 0.1918846  0.76696543 0.87584388]\n"
     ]
    },
    {
     "name": "stderr",
     "output_type": "stream",
     "text": [
      "Optimizing:  24%|██▍       | 242/1000 [22:00<1:40:17,  7.94s/it]"
     ]
    },
    {
     "name": "stdout",
     "output_type": "stream",
     "text": [
      "✅ Final Optimized Parameters for L=48.24824824824825 km: [0.47365643 0.35391036 0.1919449  0.76690828 0.87583643]\n",
      "✅ Final Optimized Key Rate for L=48.24824824824825 km: 0.0011416216267063329\n",
      "\n",
      "--- [DEBUG] Starting optimization for L=50.450450450450454 km ---\n",
      "🔵 Initial Guess for L=50.450450450450454: [0.47365643 0.35391036 0.1919449  0.76690828 0.87583643]\n",
      "✅ Final Optimized Parameters for L=48.64864864864865 km: [0.47364782 0.3538722  0.19198524 0.76687014 0.87583141]\n",
      "✅ Final Optimized Key Rate for L=48.64864864864865 km: 0.001120559546398357\n",
      "\n",
      "--- [DEBUG] Starting optimization for L=50.650650650650654 km ---\n",
      "🔵 Initial Guess for L=50.650650650650654: [0.47364782 0.3538722  0.19198524 0.76687014 0.87583141]\n"
     ]
    },
    {
     "name": "stderr",
     "output_type": "stream",
     "text": [
      "Optimizing:  24%|██▍       | 244/1000 [22:01<1:13:38,  5.84s/it]"
     ]
    },
    {
     "name": "stdout",
     "output_type": "stream",
     "text": [
      "✅ Final Optimized Parameters for L=48.84884884884885 km: [0.47364419 0.35385323 0.19200585 0.76685068 0.87582886]\n",
      "✅ Final Optimized Key Rate for L=48.84884884884885 km: 0.0011101742411727968\n",
      "\n",
      "--- [DEBUG] Starting optimization for L=50.850850850850854 km ---\n",
      "🔵 Initial Guess for L=50.850850850850854: [0.47364419 0.35385323 0.19200585 0.76685068 0.87582886]\n",
      "✅ Final Optimized Parameters for L=50.250250250250254 km: [0.47362663 0.35372304 0.19215266 0.76671242 0.87581064]\n",
      "✅ Final Optimized Key Rate for L=50.250250250250254 km: 0.0010401143985345133\n",
      "\n",
      "--- [DEBUG] Starting optimization for L=51.051051051051054 km ---\n",
      "🔵 Initial Guess for L=51.051051051051054: [0.47362663 0.35372304 0.19215266 0.76671242 0.87581064]\n"
     ]
    },
    {
     "name": "stderr",
     "output_type": "stream",
     "text": [
      "Optimizing:  25%|██▍       | 247/1000 [22:01<46:46,  3.73s/it]  "
     ]
    },
    {
     "name": "stdout",
     "output_type": "stream",
     "text": [
      "✅ Final Optimized Parameters for L=49.84984984984985 km: [0.4736301  0.35375993 0.19211016 0.7667524  0.87581592]\n",
      "✅ Final Optimized Key Rate for L=49.84984984984985 km: 0.0010596692866067987\n",
      "✅ Final Optimized Parameters for L=48.44844844844845 km: [0.47365204 0.35389117 0.1919653  0.76688899 0.8758339 ]\n",
      "✅ Final Optimized Key Rate for L=48.44844844844845 km: 0.0011310417051351856\n",
      "✅ Final Optimized Parameters for L=50.050050050050054 km: [0.4736281  0.35374136 0.19213193 0.76673182 0.87581325]\n",
      "✅ Final Optimized Key Rate for L=50.050050050050054 km: 0.0010498464807703718\n",
      "✅ Final Optimized Parameters for L=48.04804804804805 km: [0.47366125 0.3539295  0.19192476 0.76692737 0.87583894]\n",
      "✅ Final Optimized Key Rate for L=48.04804804804805 km: 0.0011523002290879521\n",
      "✅ Final Optimized Parameters for L=49.64964964964965 km: [0.47363227 0.35377836 0.19208941 0.76677188 0.87581852]\n",
      "✅ Final Optimized Key Rate for L=49.64964964964965 km: 0.0010695836670944715\n"
     ]
    },
    {
     "name": "stderr",
     "output_type": "stream",
     "text": [
      "Optimizing:  25%|██▌       | 251/1000 [22:01<27:38,  2.21s/it]"
     ]
    },
    {
     "name": "stdout",
     "output_type": "stream",
     "text": [
      "✅ Final Optimized Parameters for L=49.44944944944945 km: [0.47363472 0.35379695 0.19206834 0.7667917  0.87582113]\n",
      "✅ Final Optimized Key Rate for L=49.44944944944945 km: 0.0010795904813672573\n",
      "✅ Final Optimized Parameters for L=49.24924924924925 km: [0.47363758 0.35381558 0.19204701 0.76681192 0.87582376]\n",
      "✅ Final Optimized Key Rate for L=49.24924924924925 km: 0.0010896905967232307\n",
      "✅ Final Optimized Parameters for L=49.04904904904905 km: [0.47364071 0.35383435 0.19202627 0.76683145 0.87582637]\n",
      "✅ Final Optimized Key Rate for L=49.04904904904905 km: 0.0010998848887038668\n"
     ]
    },
    {
     "name": "stderr",
     "output_type": "stream",
     "text": [
      "Optimizing:  25%|██▌       | 254/1000 [22:16<36:18,  2.92s/it]"
     ]
    },
    {
     "name": "stdout",
     "output_type": "stream",
     "text": [
      "✅ Final Optimized Parameters for L=50.450450450450454 km: [0.4736251  0.35370457 0.19217475 0.76669169 0.87580794]\n",
      "✅ Final Optimized Key Rate for L=50.450450450450454 km: 0.0010304721968565833\n",
      "✅ Final Optimized Parameters for L=50.850850850850854 km: [0.47362372 0.35366843 0.19221775 0.76665122 0.87580265]\n",
      "✅ Final Optimized Key Rate for L=50.850850850850854 km: 0.0010114541025762177\n",
      "✅ Final Optimized Parameters for L=51.051051051051054 km: [0.47362331 0.35365033 0.19223944 0.76663089 0.87579995]\n",
      "✅ Final Optimized Key Rate for L=51.051051051051054 km: 0.0010020765632317386\n",
      "✅ Final Optimized Parameters for L=50.650650650650654 km: [0.47362427 0.35368651 0.19219624 0.7666714  0.87580536]\n",
      "✅ Final Optimized Key Rate for L=50.650650650650654 km: 0.0010209190406239709\n",
      "\n",
      "--- [DEBUG] Starting optimization for L=51.251251251251254 km ---\n",
      "🔵 Initial Guess for L=51.251251251251254: [0.47362427 0.35368651 0.19219624 0.7666714  0.87580536]\n",
      "\n",
      "--- [DEBUG] Starting optimization for L=51.451451451451454 km ---\n",
      "🔵 Initial Guess for L=51.451451451451454: [0.47362427 0.35368651 0.19219624 0.7666714  0.87580536]\n",
      "\n",
      "--- [DEBUG] Starting optimization for L=51.651651651651655 km ---\n",
      "🔵 Initial Guess for L=51.651651651651655: [0.47362427 0.35368651 0.19219624 0.7666714  0.87580536]\n",
      "\n",
      "--- [DEBUG] Starting optimization for L=51.851851851851855 km ---\n",
      "🔵 Initial Guess for L=51.851851851851855: [0.47362427 0.35368651 0.19219624 0.7666714  0.87580536]\n",
      "\n",
      "--- [DEBUG] Starting optimization for L=52.052052052052055 km ---\n",
      "🔵 Initial Guess for L=52.052052052052055: [0.47362427 0.35368651 0.19219624 0.7666714  0.87580536]\n",
      "\n",
      "--- [DEBUG] Starting optimization for L=52.252252252252255 km ---\n",
      "🔵 Initial Guess for L=52.252252252252255: [0.47362427 0.35368651 0.19219624 0.7666714  0.87580536]\n",
      "\n",
      "--- [DEBUG] Starting optimization for L=52.452452452452455 km ---\n",
      "🔵 Initial Guess for L=52.452452452452455: [0.47362427 0.35368651 0.19219624 0.7666714  0.87580536]\n",
      "\n",
      "--- [DEBUG] Starting optimization for L=52.652652652652655 km ---\n",
      "🔵 Initial Guess for L=52.652652652652655: [0.47362427 0.35368651 0.19219624 0.7666714  0.87580536]\n",
      "\n",
      "--- [DEBUG] Starting optimization for L=52.852852852852855 km ---\n",
      "🔵 Initial Guess for L=52.852852852852855: [0.47362427 0.35368651 0.19219624 0.7666714  0.87580536]\n",
      "\n",
      "--- [DEBUG] Starting optimization for L=53.053053053053056 km ---\n",
      "🔵 Initial Guess for L=53.053053053053056: [0.47362427 0.35368651 0.19219624 0.7666714  0.87580536]\n",
      "\n",
      "--- [DEBUG] Starting optimization for L=53.253253253253256 km ---\n",
      "🔵 Initial Guess for L=53.253253253253256: [0.47362427 0.35368651 0.19219624 0.7666714  0.87580536]\n",
      "\n",
      "--- [DEBUG] Starting optimization for L=53.453453453453456 km ---\n",
      "🔵 Initial Guess for L=53.453453453453456: [0.47362427 0.35368651 0.19219624 0.7666714  0.87580536]\n"
     ]
    },
    {
     "name": "stderr",
     "output_type": "stream",
     "text": [
      "Optimizing:  26%|██▌       | 258/1000 [23:23<1:47:40,  8.71s/it]"
     ]
    },
    {
     "name": "stdout",
     "output_type": "stream",
     "text": [
      "✅ Final Optimized Parameters for L=51.251251251251254 km: [0.47362319 0.35363233 0.19226208 0.76660962 0.87579718]\n",
      "✅ Final Optimized Key Rate for L=51.251251251251254 km: 0.0009927856108120346\n",
      "\n",
      "--- [DEBUG] Starting optimization for L=53.653653653653656 km ---\n",
      "🔵 Initial Guess for L=53.653653653653656: [0.47362319 0.35363233 0.19226208 0.76660962 0.87579718]\n",
      "✅ Final Optimized Parameters for L=51.651651651651655 km: [0.47362426 0.35359657 0.19230616 0.76656835 0.87579174]\n",
      "✅ Final Optimized Key Rate for L=51.651651651651655 km: 0.0009744602577051504\n",
      "\n",
      "--- [DEBUG] Starting optimization for L=53.853853853853856 km ---\n",
      "🔵 Initial Guess for L=53.853853853853856: [0.47362426 0.35359657 0.19230616 0.76656835 0.87579174]\n"
     ]
    },
    {
     "name": "stderr",
     "output_type": "stream",
     "text": [
      "Optimizing:  26%|██▌       | 260/1000 [23:23<1:15:27,  6.12s/it]"
     ]
    },
    {
     "name": "stdout",
     "output_type": "stream",
     "text": [
      "✅ Final Optimized Parameters for L=52.052052052052055 km: [0.47362643 0.35356119 0.19235139 0.76652597 0.87578617]\n",
      "✅ Final Optimized Key Rate for L=52.052052052052055 km: 0.0009564717002942778\n",
      "\n",
      "--- [DEBUG] Starting optimization for L=54.054054054054056 km ---\n",
      "🔵 Initial Guess for L=54.054054054054056: [0.47362643 0.35356119 0.19235139 0.76652597 0.87578617]\n",
      "✅ Final Optimized Parameters for L=51.451451451451454 km: [0.47362351 0.35361447 0.19228361 0.76658943 0.87579449]\n",
      "✅ Final Optimized Key Rate for L=51.451451451451454 km: 0.0009835804411676924\n",
      "\n",
      "--- [DEBUG] Starting optimization for L=54.254254254254256 km ---\n",
      "🔵 Initial Guess for L=54.254254254254256: [0.47362351 0.35361447 0.19228361 0.76658943 0.87579449]\n"
     ]
    },
    {
     "name": "stderr",
     "output_type": "stream",
     "text": [
      "Optimizing:  26%|██▋       | 265/1000 [23:24<32:18,  2.64s/it]  "
     ]
    },
    {
     "name": "stdout",
     "output_type": "stream",
     "text": [
      "✅ Final Optimized Parameters for L=53.053053053053056 km: [0.47363728 0.35347361 0.1924663  0.76641851 0.87577198]\n",
      "✅ Final Optimized Key Rate for L=53.053053053053056 km: 0.0009129332262081538\n",
      "✅ Final Optimized Parameters for L=51.851851851851855 km: [0.47362536 0.35357889 0.1923289  0.76654705 0.87578895]\n",
      "✅ Final Optimized Key Rate for L=51.851851851851855 km: 0.0009654242713135227\n",
      "✅ Final Optimized Parameters for L=53.253253253253256 km: [0.47364075 0.35345609 0.19248989 0.76639661 0.87576909]\n",
      "✅ Final Optimized Key Rate for L=53.253253253253256 km: 0.0009044651379069015\n",
      "✅ Final Optimized Parameters for L=52.852852852852855 km: [0.4736347  0.35349103 0.19244283 0.76644053 0.87577482]\n",
      "✅ Final Optimized Key Rate for L=52.852852852852855 km: 0.0009214801913929849\n",
      "✅ Final Optimized Parameters for L=53.453453453453456 km: [0.47364396 0.3534389  0.19251352 0.76637452 0.87576619]\n",
      "✅ Final Optimized Key Rate for L=53.453453453453456 km: 0.0008960751947182835\n",
      "✅ Final Optimized Parameters for L=52.652652652652655 km: [0.4736322  0.35350847 0.19241982 0.76646205 0.87577771]\n",
      "✅ Final Optimized Key Rate for L=52.652652652652655 km: 0.0009301067721608234\n"
     ]
    },
    {
     "name": "stderr",
     "output_type": "stream",
     "text": [
      "Optimizing:  27%|██▋       | 267/1000 [23:24<23:40,  1.94s/it]"
     ]
    },
    {
     "name": "stdout",
     "output_type": "stream",
     "text": [
      "✅ Final Optimized Parameters for L=52.452452452452455 km: [0.47362986 0.35352595 0.19239726 0.76648308 0.87578051]\n",
      "✅ Final Optimized Key Rate for L=52.452452452452455 km: 0.0009388137142066777\n",
      "✅ Final Optimized Parameters for L=52.252252252252255 km: [0.47362789 0.35354353 0.19237413 0.76650467 0.87578337]\n",
      "✅ Final Optimized Key Rate for L=52.252252252252255 km: 0.0009476017702881776\n"
     ]
    },
    {
     "name": "stderr",
     "output_type": "stream",
     "text": [
      "Optimizing:  27%|██▋       | 269/1000 [23:38<41:05,  3.37s/it]"
     ]
    },
    {
     "name": "stdout",
     "output_type": "stream",
     "text": [
      "✅ Final Optimized Parameters for L=53.653653653653656 km: [0.47364769 0.35342164 0.19253734 0.76635234 0.87576326]\n",
      "✅ Final Optimized Key Rate for L=53.653653653653656 km: 0.0008877626717318843\n",
      "✅ Final Optimized Parameters for L=53.853853853853856 km: [0.47365163 0.35340454 0.19256123 0.76633003 0.87576031]\n",
      "✅ Final Optimized Key Rate for L=53.853853853853856 km: 0.0008795268508344537\n",
      "✅ Final Optimized Parameters for L=54.054054054054056 km: [0.47365615 0.35338753 0.19258549 0.76630747 0.87575736]\n",
      "✅ Final Optimized Key Rate for L=54.054054054054056 km: 0.000871367020643961\n",
      "✅ Final Optimized Parameters for L=54.254254254254256 km: [0.47366087 0.35337039 0.1926099  0.76628473 0.8757543 ]\n",
      "✅ Final Optimized Key Rate for L=54.254254254254256 km: 0.0008632824764452827\n",
      "\n",
      "--- [DEBUG] Starting optimization for L=54.454454454454456 km ---\n",
      "🔵 Initial Guess for L=54.454454454454456: [0.47366087 0.35337039 0.1926099  0.76628473 0.8757543 ]\n",
      "\n",
      "--- [DEBUG] Starting optimization for L=54.65465465465466 km ---\n",
      "🔵 Initial Guess for L=54.65465465465466: [0.47366087 0.35337039 0.1926099  0.76628473 0.8757543 ]\n",
      "\n",
      "--- [DEBUG] Starting optimization for L=54.85485485485486 km ---\n",
      "🔵 Initial Guess for L=54.85485485485486: [0.47366087 0.35337039 0.1926099  0.76628473 0.8757543 ]\n",
      "\n",
      "--- [DEBUG] Starting optimization for L=55.05505505505506 km ---\n",
      "🔵 Initial Guess for L=55.05505505505506: [0.47366087 0.35337039 0.1926099  0.76628473 0.8757543 ]\n",
      "\n",
      "--- [DEBUG] Starting optimization for L=55.25525525525526 km ---\n",
      "🔵 Initial Guess for L=55.25525525525526: [0.47366087 0.35337039 0.1926099  0.76628473 0.8757543 ]\n",
      "\n",
      "--- [DEBUG] Starting optimization for L=55.45545545545546 km ---\n",
      "🔵 Initial Guess for L=55.45545545545546: [0.47366087 0.35337039 0.1926099  0.76628473 0.8757543 ]\n",
      "\n",
      "--- [DEBUG] Starting optimization for L=55.65565565565566 km ---\n",
      "🔵 Initial Guess for L=55.65565565565566: [0.47366087 0.35337039 0.1926099  0.76628473 0.8757543 ]\n",
      "\n",
      "--- [DEBUG] Starting optimization for L=55.85585585585586 km ---\n",
      "🔵 Initial Guess for L=55.85585585585586: [0.47366087 0.35337039 0.1926099  0.76628473 0.8757543 ]\n",
      "\n",
      "--- [DEBUG] Starting optimization for L=56.05605605605606 km ---\n",
      "🔵 Initial Guess for L=56.05605605605606: [0.47366087 0.35337039 0.1926099  0.76628473 0.8757543 ]\n",
      "\n",
      "--- [DEBUG] Starting optimization for L=56.25625625625626 km ---\n",
      "🔵 Initial Guess for L=56.25625625625626: [0.47366087 0.35337039 0.1926099  0.76628473 0.8757543 ]\n",
      "\n",
      "--- [DEBUG] Starting optimization for L=56.45645645645646 km ---\n",
      "🔵 Initial Guess for L=56.45645645645646: [0.47366087 0.35337039 0.1926099  0.76628473 0.8757543 ]\n",
      "\n",
      "--- [DEBUG] Starting optimization for L=56.65665665665666 km ---\n",
      "🔵 Initial Guess for L=56.65665665665666: [0.47366087 0.35337039 0.1926099  0.76628473 0.8757543 ]\n"
     ]
    },
    {
     "name": "stderr",
     "output_type": "stream",
     "text": [
      "Optimizing:  27%|██▋       | 273/1000 [24:45<1:53:14,  9.35s/it]"
     ]
    },
    {
     "name": "stdout",
     "output_type": "stream",
     "text": [
      "✅ Final Optimized Parameters for L=56.05605605605606 km: [0.47371712 0.35321881 0.19283691 0.76607367 0.87572643]\n",
      "✅ Final Optimized Key Rate for L=56.05605605605606 km: 0.0007937963894310541\n",
      "\n",
      "--- [DEBUG] Starting optimization for L=56.85685685685686 km ---\n",
      "🔵 Initial Guess for L=56.85685685685686: [0.47371712 0.35321881 0.19283691 0.76607367 0.87572643]\n",
      "✅ Final Optimized Parameters for L=55.25525525525526 km: [0.47368907 0.35328564 0.19273389 0.76616939 0.87573913]\n",
      "✅ Final Optimized Key Rate for L=55.25525525525526 km: 0.0008239648389966992\n",
      "\n",
      "--- [DEBUG] Starting optimization for L=57.05705705705706 km ---\n",
      "🔵 Initial Guess for L=57.05705705705706: [0.47368907 0.35328564 0.19273389 0.76616939 0.87573913]\n",
      "✅ Final Optimized Parameters for L=55.45545545545546 km: [0.4736956  0.35326893 0.19275901 0.76614605 0.87573599]\n",
      "✅ Final Optimized Key Rate for L=55.45545545545546 km: 0.0008163175771225726\n",
      "\n",
      "--- [DEBUG] Starting optimization for L=57.25725725725726 km ---\n",
      "🔵 Initial Guess for L=57.25725725725726: [0.4736956  0.35326893 0.19275901 0.76614605 0.87573599]\n",
      "✅ Final Optimized Parameters for L=55.05505505505506 km: [0.47368289 0.35330255 0.19270879 0.76619272 0.87574215]\n",
      "✅ Final Optimized Key Rate for L=55.05505505505506 km: 0.0008316832950508448\n",
      "\n",
      "--- [DEBUG] Starting optimization for L=57.45745745745746 km ---\n",
      "🔵 Initial Guess for L=57.45745745745746: [0.47368289 0.35330255 0.19270879 0.76619272 0.87574215]\n"
     ]
    },
    {
     "name": "stderr",
     "output_type": "stream",
     "text": [
      "Optimizing:  28%|██▊       | 277/1000 [24:46<1:09:08,  5.74s/it]"
     ]
    },
    {
     "name": "stdout",
     "output_type": "stream",
     "text": [
      "✅ Final Optimized Parameters for L=56.45645645645646 km: [0.47373313 0.35318548 0.19288888 0.76602553 0.87572007]\n",
      "✅ Final Optimized Key Rate for L=56.45645645645646 km: 0.0007791263024570639\n",
      "✅ Final Optimized Parameters for L=54.454454454454456 km: [0.47366563 0.35335332 0.19263469 0.76626155 0.87575129]\n",
      "✅ Final Optimized Key Rate for L=54.454454454454456 km: 0.0008552725201256679\n"
     ]
    },
    {
     "name": "stderr",
     "output_type": "stream",
     "text": [
      "Optimizing:  28%|██▊       | 281/1000 [24:46<41:27,  3.46s/it]  "
     ]
    },
    {
     "name": "stdout",
     "output_type": "stream",
     "text": [
      "✅ Final Optimized Parameters for L=56.25625625625626 km: [0.47372505 0.35320211 0.19286251 0.76604993 0.87572328]\n",
      "✅ Final Optimized Key Rate for L=56.25625625625626 km: 0.0007864273677653113\n",
      "✅ Final Optimized Parameters for L=54.85485485485486 km: [0.47367684 0.35331949 0.19268355 0.76621622 0.87574526]\n",
      "✅ Final Optimized Key Rate for L=54.85485485485486 km: 0.0008394736113153261\n",
      "✅ Final Optimized Parameters for L=54.65465465465466 km: [0.4736712  0.35333642 0.19265916 0.7662388  0.87574829]\n",
      "✅ Final Optimized Key Rate for L=54.65465465465466 km: 0.0008473364601142032\n",
      "✅ Final Optimized Parameters for L=56.65665665665666 km: [0.47374187 0.35316887 0.1929153  0.7660011  0.87571679]\n",
      "✅ Final Optimized Key Rate for L=56.65665665665666 km: 0.0007718925639995644\n"
     ]
    },
    {
     "name": "stderr",
     "output_type": "stream",
     "text": [
      "Optimizing:  28%|██▊       | 283/1000 [24:46<31:12,  2.61s/it]"
     ]
    },
    {
     "name": "stdout",
     "output_type": "stream",
     "text": [
      "✅ Final Optimized Parameters for L=55.65565565565566 km: [0.47370239 0.35325218 0.1927845  0.76612236 0.87573286]\n",
      "✅ Final Optimized Key Rate for L=55.65565565565566 km: 0.0008087408496322325\n",
      "✅ Final Optimized Parameters for L=55.85585585585586 km: [0.47370972 0.35323541 0.19281047 0.76609819 0.8757297 ]\n",
      "✅ Final Optimized Key Rate for L=55.85585585585586 km: 0.0008012340029037837\n"
     ]
    },
    {
     "name": "stderr",
     "output_type": "stream",
     "text": [
      "Optimizing:  28%|██▊       | 285/1000 [25:01<45:43,  3.84s/it]"
     ]
    },
    {
     "name": "stdout",
     "output_type": "stream",
     "text": [
      "✅ Final Optimized Parameters for L=56.85685685685686 km: [0.47375059 0.35315247 0.19294218 0.76597607 0.87571354]\n",
      "✅ Final Optimized Key Rate for L=56.85685685685686 km: 0.0007647255287729889\n",
      "✅ Final Optimized Parameters for L=57.25725725725726 km: [0.47376901 0.3531194  0.1929959  0.7659263  0.87570689]\n",
      "✅ Final Optimized Key Rate for L=57.25725725725726 km: 0.0007505891026218639\n",
      "✅ Final Optimized Parameters for L=57.05705705705706 km: [0.47375959 0.3531358  0.19296901 0.76595119 0.87571023]\n",
      "✅ Final Optimized Key Rate for L=57.05705705705706 km: 0.0007576245789856727\n",
      "✅ Final Optimized Parameters for L=57.45745745745746 km: [0.47377874 0.35310293 0.19302323 0.76590101 0.87570352]\n",
      "✅ Final Optimized Key Rate for L=57.45745745745746 km: 0.0007436184933848922\n",
      "\n",
      "--- [DEBUG] Starting optimization for L=57.65765765765766 km ---\n",
      "🔵 Initial Guess for L=57.65765765765766: [0.47377874 0.35310293 0.19302323 0.76590101 0.87570352]\n",
      "\n",
      "--- [DEBUG] Starting optimization for L=57.85785785785786 km ---\n",
      "🔵 Initial Guess for L=57.85785785785786: [0.47377874 0.35310293 0.19302323 0.76590101 0.87570352]\n",
      "\n",
      "--- [DEBUG] Starting optimization for L=58.05805805805806 km ---\n",
      "🔵 Initial Guess for L=58.05805805805806: [0.47377874 0.35310293 0.19302323 0.76590101 0.87570352]\n",
      "\n",
      "--- [DEBUG] Starting optimization for L=58.25825825825826 km ---\n",
      "🔵 Initial Guess for L=58.25825825825826: [0.47377874 0.35310293 0.19302323 0.76590101 0.87570352]\n",
      "\n",
      "--- [DEBUG] Starting optimization for L=58.45845845845846 km ---\n",
      "🔵 Initial Guess for L=58.45845845845846: [0.47377874 0.35310293 0.19302323 0.76590101 0.87570352]\n",
      "\n",
      "--- [DEBUG] Starting optimization for L=58.65865865865866 km ---\n",
      "🔵 Initial Guess for L=58.65865865865866: [0.47377874 0.35310293 0.19302323 0.76590101 0.87570352]\n",
      "\n",
      "--- [DEBUG] Starting optimization for L=58.85885885885886 km ---\n",
      "🔵 Initial Guess for L=58.85885885885886: [0.47377874 0.35310293 0.19302323 0.76590101 0.87570352]\n",
      "\n",
      "--- [DEBUG] Starting optimization for L=59.05905905905906 km ---\n",
      "🔵 Initial Guess for L=59.05905905905906: [0.47377874 0.35310293 0.19302323 0.76590101 0.87570352]\n",
      "\n",
      "--- [DEBUG] Starting optimization for L=59.25925925925926 km ---\n",
      "🔵 Initial Guess for L=59.25925925925926: [0.47377874 0.35310293 0.19302323 0.76590101 0.87570352]\n",
      "\n",
      "--- [DEBUG] Starting optimization for L=59.45945945945946 km ---\n",
      "🔵 Initial Guess for L=59.45945945945946: [0.47377874 0.35310293 0.19302323 0.76590101 0.87570352]\n",
      "\n",
      "--- [DEBUG] Starting optimization for L=59.65965965965966 km ---\n",
      "🔵 Initial Guess for L=59.65965965965966: [0.47377874 0.35310293 0.19302323 0.76590101 0.87570352]\n",
      "\n",
      "--- [DEBUG] Starting optimization for L=59.85985985985987 km ---\n",
      "🔵 Initial Guess for L=59.85985985985987: [0.47377874 0.35310293 0.19302323 0.76590101 0.87570352]\n"
     ]
    },
    {
     "name": "stderr",
     "output_type": "stream",
     "text": [
      "Optimizing:  29%|██▉       | 290/1000 [26:08<1:36:40,  8.17s/it]"
     ]
    },
    {
     "name": "stdout",
     "output_type": "stream",
     "text": [
      "✅ Final Optimized Parameters for L=59.25925925925926 km: [0.47388114 0.35295572 0.19327894 0.76566441 0.87567227]\n",
      "✅ Final Optimized Key Rate for L=59.25925925925926 km: 0.00068370475416817\n",
      "\n",
      "--- [DEBUG] Starting optimization for L=60.06006006006007 km ---\n",
      "🔵 Initial Guess for L=60.06006006006007: [0.47388114 0.35295572 0.19327894 0.76566441 0.87567227]\n",
      "✅ Final Optimized Parameters for L=58.05805805805806 km: [0.47381009 0.35305374 0.19310669 0.76582373 0.87569336]\n",
      "✅ Final Optimized Key Rate for L=58.05805805805806 km: 0.0007230898901257685\n",
      "\n",
      "--- [DEBUG] Starting optimization for L=60.26026026026027 km ---\n",
      "🔵 Initial Guess for L=60.26026026026027: [0.47381009 0.35305374 0.19310669 0.76582373 0.87569336]\n",
      "✅ Final Optimized Parameters for L=58.25825825825826 km: [0.47382108 0.35303736 0.19313451 0.76579802 0.87568993]\n",
      "✅ Final Optimized Key Rate for L=58.25825825825826 km: 0.0007163727989309126\n",
      "\n",
      "--- [DEBUG] Starting optimization for L=60.46046046046047 km ---\n",
      "🔵 Initial Guess for L=60.46046046046047: [0.47382108 0.35303736 0.19313451 0.76579802 0.87568993]\n"
     ]
    },
    {
     "name": "stderr",
     "output_type": "stream",
     "text": [
      "Optimizing:  30%|██▉       | 295/1000 [26:08<43:59,  3.74s/it]  "
     ]
    },
    {
     "name": "stdout",
     "output_type": "stream",
     "text": [
      "✅ Final Optimized Parameters for L=58.65865865865866 km: [0.47384399 0.35300462 0.193192   0.76574481 0.87568295]\n",
      "✅ Final Optimized Key Rate for L=58.65865865865866 km: 0.000703123802101035\n",
      "\n",
      "--- [DEBUG] Starting optimization for L=60.66066066066067 km ---\n",
      "🔵 Initial Guess for L=60.66066066066067: [0.47384399 0.35300462 0.193192   0.76574481 0.87568295]\n",
      "✅ Final Optimized Parameters for L=58.45845845845846 km: [0.47383235 0.35302094 0.19316315 0.76577148 0.87568645]\n",
      "✅ Final Optimized Key Rate for L=58.45845845845846 km: 0.0007097176272900766\n",
      "✅ Final Optimized Parameters for L=57.85785785785786 km: [0.47379926 0.35307008 0.19307853 0.7658498  0.87569677]\n",
      "✅ Final Optimized Key Rate for L=57.85785785785786 km: 0.0007298694793776856\n",
      "✅ Final Optimized Parameters for L=57.65765765765766 km: [0.47378891 0.35308647 0.19305152 0.7658748  0.87570019]\n",
      "✅ Final Optimized Key Rate for L=57.65765765765766 km: 0.0007367121506432772\n",
      "✅ Final Optimized Parameters for L=59.65965965965966 km: [0.47390731 0.3529232  0.19333828 0.76560963 0.875665  ]\n",
      "✅ Final Optimized Key Rate for L=59.65965965965966 km: 0.000671055186028554\n"
     ]
    },
    {
     "name": "stderr",
     "output_type": "stream",
     "text": [
      "Optimizing:  30%|██▉       | 297/1000 [26:08<32:35,  2.78s/it]"
     ]
    },
    {
     "name": "stdout",
     "output_type": "stream",
     "text": [
      "✅ Final Optimized Parameters for L=59.85985985985987 km: [0.47392094 0.35290698 0.19336829 0.76558196 0.87566135]\n",
      "✅ Final Optimized Key Rate for L=59.85985985985987 km: 0.0006648177004812393\n",
      "✅ Final Optimized Parameters for L=59.45945945945946 km: [0.47389398 0.35293953 0.19330857 0.76563708 0.87566862]\n",
      "✅ Final Optimized Key Rate for L=59.45945945945946 km: 0.0006773506900064249\n"
     ]
    },
    {
     "name": "stderr",
     "output_type": "stream",
     "text": [
      "Optimizing:  30%|██▉       | 299/1000 [26:08<24:16,  2.08s/it]"
     ]
    },
    {
     "name": "stdout",
     "output_type": "stream",
     "text": [
      "✅ Final Optimized Parameters for L=59.05905905905906 km: [0.47386839 0.35297206 0.19324991 0.76569124 0.87567587]\n",
      "✅ Final Optimized Key Rate for L=59.05905905905906 km: 0.0006901179253683715\n",
      "✅ Final Optimized Parameters for L=58.85885885885886 km: [0.47385614 0.35298823 0.19322019 0.76571884 0.87567941]\n",
      "✅ Final Optimized Key Rate for L=58.85885885885886 km: 0.0006965907556111187\n"
     ]
    },
    {
     "name": "stderr",
     "output_type": "stream",
     "text": [
      "Optimizing:  30%|███       | 301/1000 [26:23<40:15,  3.46s/it]"
     ]
    },
    {
     "name": "stdout",
     "output_type": "stream",
     "text": [
      "✅ Final Optimized Parameters for L=60.06006006006007 km: [0.47393501 0.3528908  0.19339871 0.76555381 0.87565766]\n",
      "✅ Final Optimized Key Rate for L=60.06006006006007 km: 0.0006586376966637698\n",
      "✅ Final Optimized Parameters for L=60.66066066066067 km: [0.47397878 0.3528421  0.19349099 0.76546865 0.87564635]\n",
      "✅ Final Optimized Key Rate for L=60.66066066066067 km: 0.0006404372833801448\n",
      "✅ Final Optimized Parameters for L=60.46046046046047 km: [0.47396388 0.35285831 0.19345959 0.7654976  0.87565016]\n",
      "✅ Final Optimized Key Rate for L=60.46046046046047 km: 0.0006464480123956742\n",
      "✅ Final Optimized Parameters for L=60.26026026026027 km: [0.47394938 0.35287458 0.19342922 0.76552567 0.87565391]\n",
      "✅ Final Optimized Key Rate for L=60.26026026026027 km: 0.0006525146428812901\n",
      "\n",
      "--- [DEBUG] Starting optimization for L=60.86086086086087 km ---\n",
      "🔵 Initial Guess for L=60.86086086086087: [0.47394938 0.35287458 0.19342922 0.76552567 0.87565391]\n",
      "\n",
      "--- [DEBUG] Starting optimization for L=61.06106106106107 km ---\n",
      "🔵 Initial Guess for L=61.06106106106107: [0.47394938 0.35287458 0.19342922 0.76552567 0.87565391]\n",
      "\n",
      "--- [DEBUG] Starting optimization for L=61.26126126126127 km ---\n",
      "🔵 Initial Guess for L=61.26126126126127: [0.47394938 0.35287458 0.19342922 0.76552567 0.87565391]\n",
      "\n",
      "--- [DEBUG] Starting optimization for L=61.46146146146147 km ---\n",
      "🔵 Initial Guess for L=61.46146146146147: [0.47394938 0.35287458 0.19342922 0.76552567 0.87565391]\n",
      "\n",
      "--- [DEBUG] Starting optimization for L=61.66166166166167 km ---\n",
      "🔵 Initial Guess for L=61.66166166166167: [0.47394938 0.35287458 0.19342922 0.76552567 0.87565391]\n",
      "\n",
      "--- [DEBUG] Starting optimization for L=61.86186186186187 km ---\n",
      "🔵 Initial Guess for L=61.86186186186187: [0.47394938 0.35287458 0.19342922 0.76552567 0.87565391]\n",
      "\n",
      "--- [DEBUG] Starting optimization for L=62.06206206206207 km ---\n",
      "🔵 Initial Guess for L=62.06206206206207: [0.47394938 0.35287458 0.19342922 0.76552567 0.87565391]\n",
      "\n",
      "--- [DEBUG] Starting optimization for L=62.26226226226227 km ---\n",
      "🔵 Initial Guess for L=62.26226226226227: [0.47394938 0.35287458 0.19342922 0.76552567 0.87565391]\n",
      "\n",
      "--- [DEBUG] Starting optimization for L=62.46246246246247 km ---\n",
      "🔵 Initial Guess for L=62.46246246246247: [0.47394938 0.35287458 0.19342922 0.76552567 0.87565391]\n",
      "\n",
      "--- [DEBUG] Starting optimization for L=62.66266266266267 km ---\n",
      "🔵 Initial Guess for L=62.66266266266267: [0.47394938 0.35287458 0.19342922 0.76552567 0.87565391]\n",
      "\n",
      "--- [DEBUG] Starting optimization for L=62.86286286286287 km ---\n",
      "🔵 Initial Guess for L=62.86286286286287: [0.47394938 0.35287458 0.19342922 0.76552567 0.87565391]\n",
      "\n",
      "--- [DEBUG] Starting optimization for L=63.06306306306307 km ---\n",
      "🔵 Initial Guess for L=63.06306306306307: [0.47394938 0.35287458 0.19342922 0.76552567 0.87565391]\n"
     ]
    },
    {
     "name": "stderr",
     "output_type": "stream",
     "text": [
      "Optimizing:  31%|███       | 307/1000 [27:29<1:21:49,  7.08s/it]"
     ]
    },
    {
     "name": "stdout",
     "output_type": "stream",
     "text": [
      "✅ Final Optimized Parameters for L=61.66166166166167 km: [0.47405858 0.35276106 0.19364919 0.76532276 0.87562696]\n",
      "✅ Final Optimized Key Rate for L=61.66166166166167 km: 0.0006112042343444188\n",
      "\n",
      "--- [DEBUG] Starting optimization for L=63.26326326326327 km ---\n",
      "🔵 Initial Guess for L=63.26326326326327: [0.47405858 0.35276106 0.19364919 0.76532276 0.87562696]\n",
      "✅ Final Optimized Parameters for L=62.46246246246247 km: [0.47412813 0.35269624 0.19378121 0.76520099 0.87561085]\n",
      "✅ Final Optimized Key Rate for L=62.46246246246247 km: 0.0005887725587295482\n",
      "\n",
      "--- [DEBUG] Starting optimization for L=63.46346346346347 km ---\n",
      "🔵 Initial Guess for L=63.46346346346347: [0.47412813 0.35269624 0.19378121 0.76520099 0.87561085]\n",
      "✅ Final Optimized Parameters for L=61.86186186186187 km: [0.47407544 0.35274483 0.19368181 0.76529266 0.87562296]\n",
      "✅ Final Optimized Key Rate for L=61.86186186186187 km: 0.0006055182249864984\n",
      "\n",
      "--- [DEBUG] Starting optimization for L=63.66366366366367 km ---\n",
      "🔵 Initial Guess for L=63.66366366366367: [0.47407544 0.35274483 0.19368181 0.76529266 0.87562296]\n"
     ]
    },
    {
     "name": "stderr",
     "output_type": "stream",
     "text": [
      "Optimizing:  31%|███       | 311/1000 [27:29<44:38,  3.89s/it]  "
     ]
    },
    {
     "name": "stdout",
     "output_type": "stream",
     "text": [
      "✅ Final Optimized Parameters for L=61.06106106106107 km: [0.4740096  0.35280962 0.19355309 0.76541139 0.87563881]\n",
      "✅ Final Optimized Key Rate for L=61.06106106106107 km: 0.0006285814667265502\n",
      "\n",
      "--- [DEBUG] Starting optimization for L=63.86386386386387 km ---\n",
      "🔵 Initial Guess for L=63.86386386386387: [0.4740096  0.35280962 0.19355309 0.76541139 0.87563881]\n",
      "✅ Final Optimized Parameters for L=62.86286286286287 km: [0.47416513 0.35266361 0.19384884 0.76513866 0.87560251]\n",
      "✅ Final Optimized Key Rate for L=62.86286286286287 km: 0.0005778642970773448\n",
      "✅ Final Optimized Parameters for L=62.66266266266267 km: [0.47414672 0.35268008 0.19381483 0.76517    0.87560673]\n",
      "✅ Final Optimized Key Rate for L=62.66266266266267 km: 0.0005832931916476599\n",
      "✅ Final Optimized Parameters for L=62.26226226226227 km: [0.47411042 0.35271252 0.19374786 0.76523176 0.8756149 ]\n",
      "✅ Final Optimized Key Rate for L=62.26226226226227 km: 0.000594302869101113\n",
      "✅ Final Optimized Parameters for L=63.06306306306307 km: [0.47418414 0.35264739 0.19388359 0.76510659 0.8755984 ]\n",
      "✅ Final Optimized Key Rate for L=63.06306306306307 km: 0.000572485408622472\n",
      "✅ Final Optimized Parameters for L=60.86086086086087 km: [0.47399395 0.35282587 0.19352216 0.76543987 0.87564256]\n",
      "✅ Final Optimized Key Rate for L=60.86086086086087 km: 0.0006344819388720515\n",
      "✅ Final Optimized Parameters for L=61.26126126126127 km: [0.47402556 0.35279343 0.19358495 0.76538201 0.8756348 ]\n",
      "✅ Final Optimized Key Rate for L=61.26126126126127 km: 0.0006227353595725802\n"
     ]
    },
    {
     "name": "stderr",
     "output_type": "stream",
     "text": [
      "Optimizing:  32%|███▏      | 315/1000 [27:30<25:19,  2.22s/it]"
     ]
    },
    {
     "name": "stdout",
     "output_type": "stream",
     "text": [
      "✅ Final Optimized Parameters for L=61.46146146146147 km: [0.47404188 0.35277728 0.19361726 0.76535214 0.87563094]\n",
      "✅ Final Optimized Key Rate for L=61.46146146146147 km: 0.0006169431147656766\n",
      "✅ Final Optimized Parameters for L=62.06206206206207 km: [0.47409273 0.35272862 0.1937148  0.76526224 0.87561899]\n",
      "✅ Final Optimized Key Rate for L=62.06206206206207 km: 0.0005998845979643527\n"
     ]
    },
    {
     "name": "stderr",
     "output_type": "stream",
     "text": [
      "Optimizing:  32%|███▏      | 318/1000 [27:44<32:35,  2.87s/it]"
     ]
    },
    {
     "name": "stdout",
     "output_type": "stream",
     "text": [
      "✅ Final Optimized Parameters for L=63.26326326326327 km: [0.47420361 0.35263116 0.19391764 0.76507532 0.87559414]\n",
      "✅ Final Optimized Key Rate for L=63.26326326326327 km: 0.0005671560642275113\n",
      "✅ Final Optimized Parameters for L=63.46346346346347 km: [0.47422302 0.35261484 0.19395407 0.76504164 0.87558978]\n",
      "✅ Final Optimized Key Rate for L=63.46346346346347 km: 0.000561875806136768\n",
      "✅ Final Optimized Parameters for L=63.86386386386387 km: [0.47426361 0.35258226 0.1940231  0.76497807 0.87558132]\n",
      "✅ Final Optimized Key Rate for L=63.86386386386387 km: 0.0005514607391042959\n",
      "✅ Final Optimized Parameters for L=63.66366366366367 km: [0.47424327 0.35259861 0.19398783 0.76501054 0.87558564]\n",
      "✅ Final Optimized Key Rate for L=63.66366366366367 km: 0.000556644180855288\n",
      "\n",
      "--- [DEBUG] Starting optimization for L=64.06406406406407 km ---\n",
      "🔵 Initial Guess for L=64.06406406406407: [0.47424327 0.35259861 0.19398783 0.76501054 0.87558564]\n",
      "\n",
      "--- [DEBUG] Starting optimization for L=64.26426426426427 km ---\n",
      "🔵 Initial Guess for L=64.26426426426427: [0.47424327 0.35259861 0.19398783 0.76501054 0.87558564]\n",
      "\n",
      "--- [DEBUG] Starting optimization for L=64.46446446446447 km ---\n",
      "🔵 Initial Guess for L=64.46446446446447: [0.47424327 0.35259861 0.19398783 0.76501054 0.87558564]\n",
      "\n",
      "--- [DEBUG] Starting optimization for L=64.66466466466467 km ---\n",
      "🔵 Initial Guess for L=64.66466466466467: [0.47424327 0.35259861 0.19398783 0.76501054 0.87558564]\n",
      "\n",
      "--- [DEBUG] Starting optimization for L=64.86486486486487 km ---\n",
      "🔵 Initial Guess for L=64.86486486486487: [0.47424327 0.35259861 0.19398783 0.76501054 0.87558564]\n",
      "\n",
      "--- [DEBUG] Starting optimization for L=65.06506506506507 km ---\n",
      "🔵 Initial Guess for L=65.06506506506507: [0.47424327 0.35259861 0.19398783 0.76501054 0.87558564]\n",
      "\n",
      "--- [DEBUG] Starting optimization for L=65.26526526526527 km ---\n",
      "🔵 Initial Guess for L=65.26526526526527: [0.47424327 0.35259861 0.19398783 0.76501054 0.87558564]\n",
      "\n",
      "--- [DEBUG] Starting optimization for L=65.46546546546547 km ---\n",
      "🔵 Initial Guess for L=65.46546546546547: [0.47424327 0.35259861 0.19398783 0.76501054 0.87558564]\n",
      "\n",
      "--- [DEBUG] Starting optimization for L=65.66566566566567 km ---\n",
      "🔵 Initial Guess for L=65.66566566566567: [0.47424327 0.35259861 0.19398783 0.76501054 0.87558564]\n",
      "\n",
      "--- [DEBUG] Starting optimization for L=65.86586586586587 km ---\n",
      "🔵 Initial Guess for L=65.86586586586587: [0.47424327 0.35259861 0.19398783 0.76501054 0.87558564]\n",
      "\n",
      "--- [DEBUG] Starting optimization for L=66.06606606606607 km ---\n",
      "🔵 Initial Guess for L=66.06606606606607: [0.47424327 0.35259861 0.19398783 0.76501054 0.87558564]\n",
      "\n",
      "--- [DEBUG] Starting optimization for L=66.26626626626627 km ---\n",
      "🔵 Initial Guess for L=66.26626626626627: [0.47424327 0.35259861 0.19398783 0.76501054 0.87558564]\n"
     ]
    },
    {
     "name": "stderr",
     "output_type": "stream",
     "text": [
      "Optimizing:  32%|███▏      | 321/1000 [28:49<1:54:56, 10.16s/it]"
     ]
    },
    {
     "name": "stdout",
     "output_type": "stream",
     "text": [
      "✅ Final Optimized Parameters for L=65.86586586586587 km: [0.47448667 0.35241779 0.19439522 0.76463546 0.87553591]\n",
      "✅ Final Optimized Key Rate for L=65.86586586586587 km: 0.0005021805130175618\n",
      "\n",
      "--- [DEBUG] Starting optimization for L=66.46646646646647 km ---\n",
      "🔵 Initial Guess for L=66.46646646646647: [0.47448667 0.35241779 0.19439522 0.76463546 0.87553591]\n"
     ]
    },
    {
     "name": "stderr",
     "output_type": "stream",
     "text": [
      "Optimizing:  32%|███▏      | 324/1000 [28:50<1:08:23,  6.07s/it]"
     ]
    },
    {
     "name": "stdout",
     "output_type": "stream",
     "text": [
      "✅ Final Optimized Parameters for L=64.86486486486487 km: [0.47437087 0.35250054 0.19420515 0.76481037 0.87555909]\n",
      "✅ Final Optimized Key Rate for L=64.86486486486487 km: 0.0005262508489716118\n",
      "\n",
      "--- [DEBUG] Starting optimization for L=66.66666666666667 km ---\n",
      "🔵 Initial Guess for L=66.66666666666667: [0.47437087 0.35250054 0.19420515 0.76481037 0.87555909]\n",
      "✅ Final Optimized Parameters for L=66.06606606606607 km: [0.47451123 0.35240126 0.19443389 0.76459983 0.87553113]\n",
      "✅ Final Optimized Key Rate for L=66.06606606606607 km: 0.0004974986054358874\n",
      "\n",
      "--- [DEBUG] Starting optimization for L=66.86686686686687 km ---\n",
      "🔵 Initial Guess for L=66.86686686686687: [0.47451123 0.35240126 0.19443389 0.76459983 0.87553113]\n",
      "✅ Final Optimized Parameters for L=64.26426426426427 km: [0.47430529 0.35254946 0.19409482 0.76491208 0.87557256]\n",
      "✅ Final Optimized Key Rate for L=64.26426426426427 km: 0.0005412366299436625\n",
      "\n",
      "--- [DEBUG] Starting optimization for L=67.06706706706707 km ---\n",
      "🔵 Initial Guess for L=67.06706706706707: [0.47430529 0.35254946 0.19409482 0.76491208 0.87557256]\n",
      "✅ Final Optimized Parameters for L=66.26626626626627 km: [0.47453585 0.35238476 0.19447276 0.76456407 0.8755264 ]\n",
      "✅ Final Optimized Key Rate for L=66.26626626626627 km: 0.0004928598050541622\n",
      "✅ Final Optimized Parameters for L=64.06406406406407 km: [0.47428417 0.35256585 0.19405868 0.76494531 0.87557701]\n",
      "✅ Final Optimized Key Rate for L=64.06406406406407 km: 0.0005463250357864232\n"
     ]
    },
    {
     "name": "stderr",
     "output_type": "stream",
     "text": [
      "Optimizing:  33%|███▎      | 330/1000 [28:50<27:26,  2.46s/it]  "
     ]
    },
    {
     "name": "stdout",
     "output_type": "stream",
     "text": [
      "✅ Final Optimized Parameters for L=65.06506506506507 km: [0.47439347 0.35248391 0.1942423  0.76477626 0.8755545 ]\n",
      "✅ Final Optimized Key Rate for L=65.06506506506507 km: 0.0005213473048934305\n",
      "✅ Final Optimized Parameters for L=65.26526526526527 km: [0.47441619 0.35246735 0.19428006 0.76474148 0.87554998]\n",
      "✅ Final Optimized Key Rate for L=65.26526526526527 km: 0.0005164889142493594\n",
      "✅ Final Optimized Parameters for L=65.66566566566567 km: [0.47446268 0.35243436 0.19435661 0.76467093 0.87554063]\n",
      "✅ Final Optimized Key Rate for L=65.66566566566567 km: 0.0005069059294411636\n",
      "✅ Final Optimized Parameters for L=64.66466466466467 km: [0.47434865 0.35251683 0.19416837 0.7648443  0.87556358]\n",
      "✅ Final Optimized Key Rate for L=64.66466466466467 km: 0.0005311999673188391\n",
      "✅ Final Optimized Parameters for L=64.46446446446447 km: [0.47432698 0.35253327 0.19413136 0.76487836 0.87556812]\n",
      "✅ Final Optimized Key Rate for L=64.46446446446447 km: 0.0005361950847194508\n"
     ]
    },
    {
     "name": "stderr",
     "output_type": "stream",
     "text": [
      "Optimizing:  33%|███▎      | 332/1000 [28:51<20:21,  1.83s/it]"
     ]
    },
    {
     "name": "stdout",
     "output_type": "stream",
     "text": [
      "✅ Final Optimized Parameters for L=65.46546546546547 km: [0.47443924 0.35245098 0.19431777 0.76470668 0.87554534]\n",
      "✅ Final Optimized Key Rate for L=65.46546546546547 km: 0.0005116752601147402\n"
     ]
    },
    {
     "name": "stderr",
     "output_type": "stream",
     "text": [
      "Optimizing:  33%|███▎      | 334/1000 [29:05<36:21,  3.28s/it]"
     ]
    },
    {
     "name": "stdout",
     "output_type": "stream",
     "text": [
      "✅ Final Optimized Parameters for L=66.46646646646647 km: [0.47456067 0.35236793 0.19451318 0.76452675 0.87552153]\n",
      "✅ Final Optimized Key Rate for L=66.46646646646647 km: 0.0004882637139616575\n",
      "✅ Final Optimized Parameters for L=67.06706706706707 km: [0.47463812 0.3523178  0.19463408 0.76441552 0.87550671]\n",
      "✅ Final Optimized Key Rate for L=67.06706706706707 km: 0.0004747277725449506\n",
      "✅ Final Optimized Parameters for L=66.66666666666667 km: [0.47458597 0.35235124 0.19455399 0.7644891  0.87551662]\n",
      "✅ Final Optimized Key Rate for L=66.66666666666667 km: 0.00048370993794321835\n",
      "✅ Final Optimized Parameters for L=66.86686686686687 km: [0.47461192 0.3523346  0.19459351 0.76445281 0.87551168]\n",
      "✅ Final Optimized Key Rate for L=66.86686686686687 km: 0.0004791980864466594\n",
      "\n",
      "--- [DEBUG] Starting optimization for L=67.26726726726727 km ---\n",
      "🔵 Initial Guess for L=67.26726726726727: [0.47461192 0.3523346  0.19459351 0.76445281 0.87551168]\n",
      "\n",
      "--- [DEBUG] Starting optimization for L=67.46746746746747 km ---\n",
      "🔵 Initial Guess for L=67.46746746746747: [0.47461192 0.3523346  0.19459351 0.76445281 0.87551168]\n",
      "\n",
      "--- [DEBUG] Starting optimization for L=67.66766766766767 km ---\n",
      "🔵 Initial Guess for L=67.66766766766767: [0.47461192 0.3523346  0.19459351 0.76445281 0.87551168]\n",
      "\n",
      "--- [DEBUG] Starting optimization for L=67.86786786786787 km ---\n",
      "🔵 Initial Guess for L=67.86786786786787: [0.47461192 0.3523346  0.19459351 0.76445281 0.87551168]\n",
      "\n",
      "--- [DEBUG] Starting optimization for L=68.06806806806807 km ---\n",
      "🔵 Initial Guess for L=68.06806806806807: [0.47461192 0.3523346  0.19459351 0.76445281 0.87551168]\n",
      "\n",
      "--- [DEBUG] Starting optimization for L=68.26826826826827 km ---\n",
      "🔵 Initial Guess for L=68.26826826826827: [0.47461192 0.3523346  0.19459351 0.76445281 0.87551168]\n",
      "\n",
      "--- [DEBUG] Starting optimization for L=68.46846846846847 km ---\n",
      "🔵 Initial Guess for L=68.46846846846847: [0.47461192 0.3523346  0.19459351 0.76445281 0.87551168]\n",
      "\n",
      "--- [DEBUG] Starting optimization for L=68.66866866866867 km ---\n",
      "🔵 Initial Guess for L=68.66866866866867: [0.47461192 0.3523346  0.19459351 0.76445281 0.87551168]\n",
      "\n",
      "--- [DEBUG] Starting optimization for L=68.86886886886887 km ---\n",
      "🔵 Initial Guess for L=68.86886886886887: [0.47461192 0.3523346  0.19459351 0.76445281 0.87551168]\n",
      "\n",
      "--- [DEBUG] Starting optimization for L=69.06906906906907 km ---\n",
      "🔵 Initial Guess for L=69.06906906906907: [0.47461192 0.3523346  0.19459351 0.76445281 0.87551168]\n",
      "\n",
      "--- [DEBUG] Starting optimization for L=69.26926926926927 km ---\n",
      "🔵 Initial Guess for L=69.26926926926927: [0.47461192 0.3523346  0.19459351 0.76445281 0.87551168]\n",
      "\n",
      "--- [DEBUG] Starting optimization for L=69.46946946946947 km ---\n",
      "🔵 Initial Guess for L=69.46946946946947: [0.47461192 0.3523346  0.19459351 0.76445281 0.87551168]\n"
     ]
    },
    {
     "name": "stderr",
     "output_type": "stream",
     "text": [
      "Optimizing:  34%|███▍      | 338/1000 [30:12<1:36:46,  8.77s/it]"
     ]
    },
    {
     "name": "stdout",
     "output_type": "stream",
     "text": [
      "✅ Final Optimized Parameters for L=68.06806806806807 km: [0.4747742  0.35223322 0.19484385 0.76422226 0.87548114]\n",
      "✅ Final Optimized Key Rate for L=68.06806806806807 km: 0.0004529859741691187\n",
      "\n",
      "--- [DEBUG] Starting optimization for L=69.66966966966967 km ---\n",
      "🔵 Initial Guess for L=69.66966966966967: [0.4747742  0.35223322 0.19484385 0.76422226 0.87548114]\n",
      "✅ Final Optimized Parameters for L=68.26826826826827 km: [0.4748028  0.35221616 0.1948868  0.76418269 0.87547586]\n",
      "✅ Final Optimized Key Rate for L=68.26826826826827 km: 0.0004487569592476698\n",
      "\n",
      "--- [DEBUG] Starting optimization for L=69.86986986986987 km ---\n",
      "🔵 Initial Guess for L=69.86986986986987: [0.4748028  0.35221616 0.1948868  0.76418269 0.87547586]\n"
     ]
    },
    {
     "name": "stderr",
     "output_type": "stream",
     "text": [
      "Optimizing:  34%|███▍      | 340/1000 [30:12<1:07:46,  6.16s/it]"
     ]
    },
    {
     "name": "stdout",
     "output_type": "stream",
     "text": [
      "✅ Final Optimized Parameters for L=67.46746746746747 km: [0.47469124 0.35228401 0.19471708 0.76433901 0.87549665]\n",
      "✅ Final Optimized Key Rate for L=67.46746746746747 km: 0.00046591022775266616\n",
      "\n",
      "--- [DEBUG] Starting optimization for L=70.07007007007007 km ---\n",
      "🔵 Initial Guess for L=70.07007007007007: [0.47469124 0.35228401 0.19471708 0.76433901 0.87549665]\n",
      "✅ Final Optimized Parameters for L=68.86886886886887 km: [0.47489001 0.35216486 0.19501886 0.76406102 0.87545983]\n",
      "✅ Final Optimized Key Rate for L=68.86886886886887 km: 0.0004363020484609658\n",
      "\n",
      "--- [DEBUG] Starting optimization for L=70.27027027027027 km ---\n",
      "🔵 Initial Guess for L=70.27027027027027: [0.47489001 0.35216486 0.19501886 0.76406102 0.87545983]\n"
     ]
    },
    {
     "name": "stderr",
     "output_type": "stream",
     "text": [
      "Optimizing:  34%|███▍      | 342/1000 [30:12<47:45,  4.35s/it]  "
     ]
    },
    {
     "name": "stdout",
     "output_type": "stream",
     "text": [
      "✅ Final Optimized Parameters for L=69.06906906906907 km: [0.47492015 0.35214755 0.1950629  0.76402051 0.87545442]\n",
      "✅ Final Optimized Key Rate for L=69.06906906906907 km: 0.00043222660356902757\n",
      "✅ Final Optimized Parameters for L=69.26926926926927 km: [0.47495041 0.35213028 0.19510841 0.76397854 0.87544896]\n",
      "✅ Final Optimized Key Rate for L=69.26926926926927 km: 0.0004281886699543536\n",
      "✅ Final Optimized Parameters for L=67.66766766766767 km: [0.47471873 0.35226726 0.19475939 0.76430005 0.87549144]\n",
      "✅ Final Optimized Key Rate for L=67.66766766766767 km: 0.00046156224083968\n",
      "✅ Final Optimized Parameters for L=67.86786786786787 km: [0.47474618 0.35225024 0.19480133 0.76426137 0.87548636]\n",
      "✅ Final Optimized Key Rate for L=67.86786786786787 km: 0.00045725427941034174\n",
      "✅ Final Optimized Parameters for L=69.46946946946947 km: [0.47498107 0.35211285 0.19515354 0.76393692 0.87544345]\n",
      "✅ Final Optimized Key Rate for L=69.46946946946947 km: 0.0004241879016491782\n"
     ]
    },
    {
     "name": "stderr",
     "output_type": "stream",
     "text": [
      "Optimizing:  35%|███▍      | 346/1000 [30:12<25:53,  2.38s/it]"
     ]
    },
    {
     "name": "stdout",
     "output_type": "stream",
     "text": [
      "✅ Final Optimized Parameters for L=68.46846846846847 km: [0.47483135 0.3521992  0.19493071 0.76414226 0.87547062]\n",
      "✅ Final Optimized Key Rate for L=68.46846846846847 km: 0.0004445668721734447\n",
      "✅ Final Optimized Parameters for L=67.26726726726727 km: [0.47466445 0.35230081 0.19467577 0.76437702 0.87550167]\n",
      "✅ Final Optimized Key Rate for L=67.26726726726727 km: 0.0004702986129050201\n",
      "✅ Final Optimized Parameters for L=68.66866866866867 km: [0.4748606  0.35218208 0.19497399 0.76410245 0.87546532]\n",
      "✅ Final Optimized Key Rate for L=68.66866866866867 km: 0.000440415353836897\n"
     ]
    },
    {
     "name": "stderr",
     "output_type": "stream",
     "text": [
      "Optimizing:  35%|███▌      | 351/1000 [30:27<26:25,  2.44s/it]"
     ]
    },
    {
     "name": "stdout",
     "output_type": "stream",
     "text": [
      "✅ Final Optimized Parameters for L=69.66966966966967 km: [0.47501217 0.35209553 0.19519974 0.76389438 0.87543785]\n",
      "✅ Final Optimized Key Rate for L=69.66966966966967 km: 0.00042022395589530134\n",
      "✅ Final Optimized Parameters for L=70.07007007007007 km: [0.47507541 0.35206038 0.19529266 0.76380882 0.87542641]\n",
      "✅ Final Optimized Key Rate for L=70.07007007007007 km: 0.0004124051768703856\n",
      "✅ Final Optimized Parameters for L=70.27027027027027 km: [0.4751077  0.35204291 0.19533993 0.76376522 0.87542069]\n",
      "✅ Final Optimized Key Rate for L=70.27027027027027 km: 0.0004085496738569919\n",
      "✅ Final Optimized Parameters for L=69.86986986986987 km: [0.47504349 0.35207795 0.19524607 0.76385175 0.87543214]\n",
      "✅ Final Optimized Key Rate for L=69.86986986986987 km: 0.0004162964931126034\n",
      "\n",
      "--- [DEBUG] Starting optimization for L=70.47047047047047 km ---\n",
      "🔵 Initial Guess for L=70.47047047047047: [0.47504349 0.35207795 0.19524607 0.76385175 0.87543214]\n",
      "\n",
      "--- [DEBUG] Starting optimization for L=70.67067067067067 km ---\n",
      "🔵 Initial Guess for L=70.67067067067067: [0.47504349 0.35207795 0.19524607 0.76385175 0.87543214]\n",
      "\n",
      "--- [DEBUG] Starting optimization for L=70.87087087087087 km ---\n",
      "🔵 Initial Guess for L=70.87087087087087: [0.47504349 0.35207795 0.19524607 0.76385175 0.87543214]\n",
      "\n",
      "--- [DEBUG] Starting optimization for L=71.07107107107107 km ---\n",
      "🔵 Initial Guess for L=71.07107107107107: [0.47504349 0.35207795 0.19524607 0.76385175 0.87543214]\n",
      "\n",
      "--- [DEBUG] Starting optimization for L=71.27127127127127 km ---\n",
      "🔵 Initial Guess for L=71.27127127127127: [0.47504349 0.35207795 0.19524607 0.76385175 0.87543214]\n",
      "\n",
      "--- [DEBUG] Starting optimization for L=71.47147147147147 km ---\n",
      "🔵 Initial Guess for L=71.47147147147147: [0.47504349 0.35207795 0.19524607 0.76385175 0.87543214]\n",
      "\n",
      "--- [DEBUG] Starting optimization for L=71.67167167167167 km ---\n",
      "🔵 Initial Guess for L=71.67167167167167: [0.47504349 0.35207795 0.19524607 0.76385175 0.87543214]\n",
      "\n",
      "--- [DEBUG] Starting optimization for L=71.87187187187187 km ---\n",
      "🔵 Initial Guess for L=71.87187187187187: [0.47504349 0.35207795 0.19524607 0.76385175 0.87543214]\n",
      "\n",
      "--- [DEBUG] Starting optimization for L=72.07207207207207 km ---\n",
      "🔵 Initial Guess for L=72.07207207207207: [0.47504349 0.35207795 0.19524607 0.76385175 0.87543214]\n",
      "\n",
      "--- [DEBUG] Starting optimization for L=72.27227227227228 km ---\n",
      "🔵 Initial Guess for L=72.27227227227228: [0.47504349 0.35207795 0.19524607 0.76385175 0.87543214]\n",
      "\n",
      "--- [DEBUG] Starting optimization for L=72.47247247247248 km ---\n",
      "🔵 Initial Guess for L=72.47247247247248: [0.47504349 0.35207795 0.19524607 0.76385175 0.87543214]\n",
      "\n",
      "--- [DEBUG] Starting optimization for L=72.67267267267268 km ---\n",
      "🔵 Initial Guess for L=72.67267267267268: [0.47504349 0.35207795 0.19524607 0.76385175 0.87543214]\n"
     ]
    },
    {
     "name": "stderr",
     "output_type": "stream",
     "text": [
      "Optimizing:  35%|███▌      | 353/1000 [31:36<1:54:15, 10.60s/it]"
     ]
    },
    {
     "name": "stdout",
     "output_type": "stream",
     "text": [
      "✅ Final Optimized Parameters for L=72.47247247247248 km: [0.4754901  0.35184516 0.19588955 0.76325828 0.87535349]\n",
      "✅ Final Optimized Key Rate for L=72.47247247247248 km: 0.00036841052316771033\n",
      "\n",
      "--- [DEBUG] Starting optimization for L=72.87287287287288 km ---\n",
      "🔵 Initial Guess for L=72.87287287287288: [0.4754901  0.35184516 0.19588955 0.76325828 0.87535349]\n"
     ]
    },
    {
     "name": "stderr",
     "output_type": "stream",
     "text": [
      "Optimizing:  36%|███▌      | 356/1000 [31:36<1:07:29,  6.29s/it]"
     ]
    },
    {
     "name": "stdout",
     "output_type": "stream",
     "text": [
      "✅ Final Optimized Parameters for L=71.27127127127127 km: [0.4752752  0.35195389 0.19558264 0.76354152 0.87539107]\n",
      "✅ Final Optimized Key Rate for L=71.27127127127127 km: 0.00038979790604527363\n",
      "\n",
      "--- [DEBUG] Starting optimization for L=73.07307307307308 km ---\n",
      "🔵 Initial Guess for L=73.07307307307308: [0.4752752  0.35195389 0.19558264 0.76354152 0.87539107]\n",
      "✅ Final Optimized Parameters for L=72.27227227227228 km: [0.47545308 0.35186327 0.1958372  0.76330666 0.87536002]\n",
      "✅ Final Optimized Key Rate for L=72.27227227227228 km: 0.0003718932156931812\n",
      "\n",
      "--- [DEBUG] Starting optimization for L=73.27327327327328 km ---\n",
      "🔵 Initial Guess for L=73.27327327327328: [0.47545308 0.35186327 0.1958372  0.76330666 0.87536002]\n",
      "✅ Final Optimized Parameters for L=70.87087087087087 km: [0.47520704 0.35198999 0.19548417 0.76363222 0.87540309]\n",
      "✅ Final Optimized Key Rate for L=70.87087087087087 km: 0.00039719475726096413\n",
      "\n",
      "--- [DEBUG] Starting optimization for L=73.47347347347348 km ---\n",
      "🔵 Initial Guess for L=73.47347347347348: [0.47520704 0.35198999 0.19548417 0.76363222 0.87540309]\n"
     ]
    },
    {
     "name": "stderr",
     "output_type": "stream",
     "text": [
      "Optimizing:  36%|███▌      | 359/1000 [31:37<40:54,  3.83s/it]  "
     ]
    },
    {
     "name": "stdout",
     "output_type": "stream",
     "text": [
      "✅ Final Optimized Parameters for L=70.47047047047047 km: [0.47514059 0.35202538 0.19538782 0.76372103 0.87541482]\n",
      "✅ Final Optimized Key Rate for L=70.47047047047047 km: 0.00040472965385209497\n",
      "✅ Final Optimized Parameters for L=72.07207207207207 km: [0.47541666 0.35188151 0.19578479 0.76335508 0.87536638]\n",
      "✅ Final Optimized Key Rate for L=72.07207207207207 km: 0.00037540825275798965\n",
      "✅ Final Optimized Parameters for L=70.67067067067067 km: [0.47517379 0.35200765 0.19543507 0.76367759 0.87540898]\n",
      "✅ Final Optimized Key Rate for L=70.67067067067067 km: 0.00040094478969564744\n"
     ]
    },
    {
     "name": "stderr",
     "output_type": "stream",
     "text": [
      "Optimizing:  36%|███▌      | 361/1000 [31:37<29:57,  2.81s/it]"
     ]
    },
    {
     "name": "stdout",
     "output_type": "stream",
     "text": [
      "✅ Final Optimized Parameters for L=71.67167167167167 km: [0.47534523 0.35191796 0.1956829  0.76344901 0.87537886]\n",
      "✅ Final Optimized Key Rate for L=71.67167167167167 km: 0.00038253656677525715\n",
      "✅ Final Optimized Parameters for L=71.07107107107107 km: [0.47524098 0.35197183 0.19553336 0.76358687 0.8753971 ]\n",
      "✅ Final Optimized Key Rate for L=71.07107107107107 km: 0.0003934792354263561\n",
      "✅ Final Optimized Parameters for L=71.47147147147147 km: [0.47531    0.35193598 0.19563214 0.76349584 0.87538494]\n",
      "✅ Final Optimized Key Rate for L=71.47147147147147 km: 0.00038615045392041\n",
      "✅ Final Optimized Parameters for L=72.67267267267268 km: [0.47552732 0.35182662 0.19594022 0.76321173 0.87534721]\n",
      "✅ Final Optimized Key Rate for L=72.67267267267268 km: 0.00036495987710632685\n"
     ]
    },
    {
     "name": "stderr",
     "output_type": "stream",
     "text": [
      "Optimizing:  36%|███▋      | 364/1000 [31:37<19:11,  1.81s/it]"
     ]
    },
    {
     "name": "stdout",
     "output_type": "stream",
     "text": [
      "✅ Final Optimized Parameters for L=71.87187187187187 km: [0.47538073 0.35189977 0.19573343 0.76340245 0.87537263]\n",
      "✅ Final Optimized Key Rate for L=71.87187187187187 km: 0.0003789559352266776\n"
     ]
    },
    {
     "name": "stderr",
     "output_type": "stream",
     "text": [
      "Optimizing:  37%|███▋      | 367/1000 [31:52<28:15,  2.68s/it]"
     ]
    },
    {
     "name": "stdout",
     "output_type": "stream",
     "text": [
      "✅ Final Optimized Parameters for L=72.87287287287288 km: [0.47556478 0.35180797 0.19599543 0.76316056 0.87534073]\n",
      "✅ Final Optimized Key Rate for L=72.87287287287288 km: 0.0003615409821932577\n",
      "✅ Final Optimized Parameters for L=73.27327327327328 km: [0.47564163 0.35177069 0.19610354 0.76306087 0.87532752]\n",
      "✅ Final Optimized Key Rate for L=73.27327327327328 km: 0.00035479727819810215\n",
      "✅ Final Optimized Parameters for L=73.07307307307308 km: [0.47560298 0.35178924 0.19604831 0.76311186 0.87533427]\n",
      "✅ Final Optimized Key Rate for L=73.07307307307308 km: 0.00035815354584714434\n",
      "✅ Final Optimized Parameters for L=73.47347347347348 km: [0.47568029 0.35175194 0.19615809 0.7630105  0.87532079]\n",
      "✅ Final Optimized Key Rate for L=73.47347347347348 km: 0.00035147189205893373\n",
      "\n",
      "--- [DEBUG] Starting optimization for L=73.67367367367368 km ---\n",
      "🔵 Initial Guess for L=73.67367367367368: [0.47568029 0.35175194 0.19615809 0.7630105  0.87532079]\n",
      "\n",
      "--- [DEBUG] Starting optimization for L=73.87387387387388 km ---\n",
      "🔵 Initial Guess for L=73.87387387387388: [0.47568029 0.35175194 0.19615809 0.7630105  0.87532079]\n",
      "\n",
      "--- [DEBUG] Starting optimization for L=74.07407407407408 km ---\n",
      "🔵 Initial Guess for L=74.07407407407408: [0.47568029 0.35175194 0.19615809 0.7630105  0.87532079]\n",
      "\n",
      "--- [DEBUG] Starting optimization for L=74.27427427427428 km ---\n",
      "🔵 Initial Guess for L=74.27427427427428: [0.47568029 0.35175194 0.19615809 0.7630105  0.87532079]\n",
      "\n",
      "--- [DEBUG] Starting optimization for L=74.47447447447448 km ---\n",
      "🔵 Initial Guess for L=74.47447447447448: [0.47568029 0.35175194 0.19615809 0.7630105  0.87532079]\n",
      "\n",
      "--- [DEBUG] Starting optimization for L=74.67467467467468 km ---\n",
      "🔵 Initial Guess for L=74.67467467467468: [0.47568029 0.35175194 0.19615809 0.7630105  0.87532079]\n",
      "\n",
      "--- [DEBUG] Starting optimization for L=74.87487487487488 km ---\n",
      "🔵 Initial Guess for L=74.87487487487488: [0.47568029 0.35175194 0.19615809 0.7630105  0.87532079]\n",
      "\n",
      "--- [DEBUG] Starting optimization for L=75.07507507507508 km ---\n",
      "🔵 Initial Guess for L=75.07507507507508: [0.47568029 0.35175194 0.19615809 0.7630105  0.87532079]\n",
      "\n",
      "--- [DEBUG] Starting optimization for L=75.27527527527528 km ---\n",
      "🔵 Initial Guess for L=75.27527527527528: [0.47568029 0.35175194 0.19615809 0.7630105  0.87532079]\n",
      "\n",
      "--- [DEBUG] Starting optimization for L=75.47547547547548 km ---\n",
      "🔵 Initial Guess for L=75.47547547547548: [0.47568029 0.35175194 0.19615809 0.7630105  0.87532079]\n",
      "\n",
      "--- [DEBUG] Starting optimization for L=75.67567567567568 km ---\n",
      "🔵 Initial Guess for L=75.67567567567568: [0.47568029 0.35175194 0.19615809 0.7630105  0.87532079]\n",
      "\n",
      "--- [DEBUG] Starting optimization for L=75.87587587587588 km ---\n",
      "🔵 Initial Guess for L=75.87587587587588: [0.47568029 0.35175194 0.19615809 0.7630105  0.87532079]\n"
     ]
    },
    {
     "name": "stderr",
     "output_type": "stream",
     "text": [
      "Optimizing:  37%|███▋      | 370/1000 [33:02<1:46:00, 10.10s/it]"
     ]
    },
    {
     "name": "stdout",
     "output_type": "stream",
     "text": [
      "✅ Final Optimized Parameters for L=74.47447447447448 km: [0.47588172 0.35165659 0.19644009 0.76275001 0.8752864 ]\n",
      "✅ Final Optimized Key Rate for L=74.47447447447448 km: 0.00033529831724659053\n",
      "\n",
      "--- [DEBUG] Starting optimization for L=76.07607607607608 km ---\n",
      "🔵 Initial Guess for L=76.07607607607608: [0.47588172 0.35165659 0.19644009 0.76275001 0.8752864 ]\n",
      "✅ Final Optimized Parameters for L=75.27527527527528 km: [0.47605097 0.35157874 0.1966756  0.76253234 0.87525758]\n",
      "✅ Final Optimized Key Rate for L=75.27527527527528 km: 0.0003228869958516306\n",
      "\n",
      "--- [DEBUG] Starting optimization for L=76.27627627627628 km ---\n",
      "🔵 Initial Guess for L=76.27627627627628: [0.47605097 0.35157874 0.1966756  0.76253234 0.87525758]\n",
      "✅ Final Optimized Parameters for L=73.87387387387388 km: [0.47575991 0.35171414 0.19626908 0.76290799 0.87530728]\n",
      "✅ Final Optimized Key Rate for L=73.87387387387388 km: 0.0003449126288358109\n",
      "\n",
      "--- [DEBUG] Starting optimization for L=76.47647647647648 km ---\n",
      "🔵 Initial Guess for L=76.47647647647648: [0.47575991 0.35171414 0.19626908 0.76290799 0.87530728]\n"
     ]
    },
    {
     "name": "stderr",
     "output_type": "stream",
     "text": [
      "Optimizing:  37%|███▋      | 374/1000 [33:02<47:47,  4.58s/it]  "
     ]
    },
    {
     "name": "stdout",
     "output_type": "stream",
     "text": [
      "✅ Final Optimized Parameters for L=74.07407407407408 km: [0.47579991 0.35169498 0.19632498 0.7628564  0.87530034]\n",
      "✅ Final Optimized Key Rate for L=74.07407407407408 km: 0.00034167819057576913\n",
      "\n",
      "--- [DEBUG] Starting optimization for L=76.67667667667668 km ---\n",
      "🔵 Initial Guess for L=76.67667667667668: [0.47579991 0.35169498 0.19632498 0.7628564  0.87530034]\n",
      "✅ Final Optimized Parameters for L=75.47547547547548 km: [0.47609433 0.35155915 0.1967365  0.76247595 0.8752502 ]\n",
      "✅ Final Optimized Key Rate for L=75.47547547547548 km: 0.0003198552024803414\n",
      "✅ Final Optimized Parameters for L=75.87587587587588 km: [0.47618251 0.35151924 0.19685936 0.76236225 0.87523524]\n",
      "✅ Final Optimized Key Rate for L=75.87587587587588 km: 0.00031387503673894573\n",
      "✅ Final Optimized Parameters for L=74.67467467467468 km: [0.47592334 0.35163743 0.19649828 0.76269623 0.8752793 ]\n",
      "✅ Final Optimized Key Rate for L=74.67467467467468 km: 0.00033215233644232013\n"
     ]
    },
    {
     "name": "stderr",
     "output_type": "stream",
     "text": [
      "Optimizing:  38%|███▊      | 377/1000 [33:02<28:24,  2.74s/it]"
     ]
    },
    {
     "name": "stdout",
     "output_type": "stream",
     "text": [
      "✅ Final Optimized Parameters for L=73.67367367367368 km: [0.4757199  0.35173299 0.19621305 0.76295975 0.87531416]\n",
      "✅ Final Optimized Key Rate for L=73.67367367367368 km: 0.0003481771029025016\n",
      "✅ Final Optimized Parameters for L=74.27427427427428 km: [0.47584045 0.35167585 0.19638219 0.76280354 0.87529344]\n",
      "✅ Final Optimized Key Rate for L=74.27427427427428 km: 0.00033847351142490134\n",
      "✅ Final Optimized Parameters for L=74.87487487487488 km: [0.47596549 0.35161792 0.19655661 0.76264225 0.87527204]\n",
      "✅ Final Optimized Key Rate for L=74.87487487487488 km: 0.0003290352999268597\n"
     ]
    },
    {
     "name": "stderr",
     "output_type": "stream",
     "text": [
      "Optimizing:  38%|███▊      | 380/1000 [33:02<18:05,  1.75s/it]"
     ]
    },
    {
     "name": "stdout",
     "output_type": "stream",
     "text": [
      "✅ Final Optimized Parameters for L=75.67567567567568 km: [0.47613819 0.35153901 0.19679716 0.76241987 0.87524285]\n",
      "✅ Final Optimized Key Rate for L=75.67567567567568 km: 0.0003168513017305657\n",
      "✅ Final Optimized Parameters for L=75.07507507507508 km: [0.47600795 0.35159844 0.19661585 0.76258745 0.87526488]\n",
      "✅ Final Optimized Key Rate for L=75.07507507507508 km: 0.0003259469411059157\n"
     ]
    },
    {
     "name": "stderr",
     "output_type": "stream",
     "text": [
      "Optimizing:  38%|███▊      | 382/1000 [33:17<33:15,  3.23s/it]"
     ]
    },
    {
     "name": "stdout",
     "output_type": "stream",
     "text": [
      "✅ Final Optimized Parameters for L=76.27627627627628 km: [0.47627272 0.35147894 0.19698376 0.7622472  0.87522001]\n",
      "✅ Final Optimized Key Rate for L=76.27627627627628 km: 0.00030800439843639235\n",
      "✅ Final Optimized Parameters for L=76.47647647647648 km: [0.47631838 0.3514588  0.19704748 0.76218815 0.87521225]\n",
      "✅ Final Optimized Key Rate for L=76.47647647647648 km: 0.0003051095231928684\n",
      "✅ Final Optimized Parameters for L=76.07607607607608 km: [0.47622733 0.35149903 0.19692099 0.76230532 0.87522764]\n",
      "✅ Final Optimized Key Rate for L=76.07607607607608 km: 0.0003109261530181716\n",
      "✅ Final Optimized Parameters for L=76.67667667667668 km: [0.47636481 0.35143831 0.19711082 0.76212962 0.87520444]\n",
      "✅ Final Optimized Key Rate for L=76.67667667667668 km: 0.0003022412797983415\n",
      "\n",
      "--- [DEBUG] Starting optimization for L=76.87687687687688 km ---\n",
      "🔵 Initial Guess for L=76.87687687687688: [0.47636481 0.35143831 0.19711082 0.76212962 0.87520444]\n",
      "\n",
      "--- [DEBUG] Starting optimization for L=77.07707707707708 km ---\n",
      "🔵 Initial Guess for L=77.07707707707708: [0.47636481 0.35143831 0.19711082 0.76212962 0.87520444]\n",
      "\n",
      "--- [DEBUG] Starting optimization for L=77.27727727727728 km ---\n",
      "🔵 Initial Guess for L=77.27727727727728: [0.47636481 0.35143831 0.19711082 0.76212962 0.87520444]\n",
      "\n",
      "--- [DEBUG] Starting optimization for L=77.47747747747748 km ---\n",
      "🔵 Initial Guess for L=77.47747747747748: [0.47636481 0.35143831 0.19711082 0.76212962 0.87520444]\n",
      "\n",
      "--- [DEBUG] Starting optimization for L=77.67767767767768 km ---\n",
      "🔵 Initial Guess for L=77.67767767767768: [0.47636481 0.35143831 0.19711082 0.76212962 0.87520444]\n",
      "\n",
      "--- [DEBUG] Starting optimization for L=77.87787787787788 km ---\n",
      "🔵 Initial Guess for L=77.87787787787788: [0.47636481 0.35143831 0.19711082 0.76212962 0.87520444]\n",
      "\n",
      "--- [DEBUG] Starting optimization for L=78.07807807807808 km ---\n",
      "🔵 Initial Guess for L=78.07807807807808: [0.47636481 0.35143831 0.19711082 0.76212962 0.87520444]\n",
      "\n",
      "--- [DEBUG] Starting optimization for L=78.27827827827828 km ---\n",
      "🔵 Initial Guess for L=78.27827827827828: [0.47636481 0.35143831 0.19711082 0.76212962 0.87520444]\n",
      "\n",
      "--- [DEBUG] Starting optimization for L=78.47847847847848 km ---\n",
      "🔵 Initial Guess for L=78.47847847847848: [0.47636481 0.35143831 0.19711082 0.76212962 0.87520444]\n",
      "\n",
      "--- [DEBUG] Starting optimization for L=78.67867867867868 km ---\n",
      "🔵 Initial Guess for L=78.67867867867868: [0.47636481 0.35143831 0.19711082 0.76212962 0.87520444]\n",
      "\n",
      "--- [DEBUG] Starting optimization for L=78.87887887887888 km ---\n",
      "🔵 Initial Guess for L=78.87887887887888: [0.47636481 0.35143831 0.19711082 0.76212962 0.87520444]\n",
      "\n",
      "--- [DEBUG] Starting optimization for L=79.07907907907908 km ---\n",
      "🔵 Initial Guess for L=79.07907907907908: [0.47636481 0.35143831 0.19711082 0.76212962 0.87520444]\n"
     ]
    },
    {
     "name": "stderr",
     "output_type": "stream",
     "text": [
      "Optimizing:  38%|███▊      | 385/1000 [34:29<1:49:28, 10.68s/it]"
     ]
    },
    {
     "name": "stdout",
     "output_type": "stream",
     "text": [
      "✅ Final Optimized Parameters for L=76.87687687687688 km: [0.47641128 0.35141806 0.1971751  0.76207005 0.87519655]\n",
      "✅ Final Optimized Key Rate for L=76.87687687687688 km: 0.0002993994230525095\n",
      "\n",
      "--- [DEBUG] Starting optimization for L=79.27927927927928 km ---\n",
      "🔵 Initial Guess for L=79.27927927927928: [0.47641128 0.35141806 0.1971751  0.76207005 0.87519655]\n"
     ]
    },
    {
     "name": "stderr",
     "output_type": "stream",
     "text": [
      "Optimizing:  39%|███▉      | 388/1000 [34:30<1:06:10,  6.49s/it]"
     ]
    },
    {
     "name": "stdout",
     "output_type": "stream",
     "text": [
      "✅ Final Optimized Parameters for L=79.07907907907908 km: [0.47695697 0.35118441 0.19792956 0.76137052 0.87510442]\n",
      "✅ Final Optimized Key Rate for L=79.07907907907908 km: 0.0002698126187173704\n",
      "\n",
      "--- [DEBUG] Starting optimization for L=79.47947947947948 km ---\n",
      "🔵 Initial Guess for L=79.47947947947948: [0.47695697 0.35118441 0.19792956 0.76137052 0.87510442]\n",
      "✅ Final Optimized Parameters for L=77.87787787787788 km: [0.47665196 0.35131367 0.19750757 0.76176205 0.87515592]\n",
      "✅ Final Optimized Key Rate for L=77.87787787787788 km: 0.00028557751460527497\n",
      "\n",
      "--- [DEBUG] Starting optimization for L=79.67967967967968 km ---\n",
      "🔵 Initial Guess for L=79.67967967967968: [0.47665196 0.35131367 0.19750757 0.76176205 0.87515592]\n",
      "✅ Final Optimized Parameters for L=78.87887887887888 km: [0.47690489 0.35120633 0.19785754 0.76143742 0.87511321]\n",
      "✅ Final Optimized Key Rate for L=78.87887887887888 km: 0.00027237977181043983\n",
      "\n",
      "--- [DEBUG] Starting optimization for L=79.87987987987988 km ---\n",
      "🔵 Initial Guess for L=79.87987987987988: [0.47690489 0.35120633 0.19785754 0.76143742 0.87511321]\n",
      "✅ Final Optimized Parameters for L=78.07807807807808 km: [0.4767016  0.3512926  0.19757597 0.76169866 0.87514758]\n",
      "✅ Final Optimized Key Rate for L=78.07807807807808 km: 0.000282888954071495\n",
      "✅ Final Optimized Parameters for L=78.67867867867868 km: [0.47685334 0.35122805 0.19778632 0.76150347 0.87512191]\n",
      "✅ Final Optimized Key Rate for L=78.67867867867868 km: 0.0002749707594739213\n"
     ]
    },
    {
     "name": "stderr",
     "output_type": "stream",
     "text": [
      "Optimizing:  39%|███▉      | 391/1000 [34:30<40:35,  4.00s/it]  "
     ]
    },
    {
     "name": "stdout",
     "output_type": "stream",
     "text": [
      "✅ Final Optimized Parameters for L=77.47747747747748 km: [0.47655428 0.35135567 0.19737287 0.76188687 0.87517242]\n",
      "✅ Final Optimized Key Rate for L=77.47747747747748 km: 0.00029102975459227\n",
      "✅ Final Optimized Parameters for L=78.47847847847848 km: [0.47680226 0.35124965 0.19771544 0.76156917 0.87513062]\n",
      "✅ Final Optimized Key Rate for L=78.47847847847848 km: 0.00027758580309183956\n"
     ]
    },
    {
     "name": "stderr",
     "output_type": "stream",
     "text": [
      "Optimizing:  40%|███▉      | 395/1000 [34:30<21:46,  2.16s/it]"
     ]
    },
    {
     "name": "stdout",
     "output_type": "stream",
     "text": [
      "✅ Final Optimized Parameters for L=77.27727727727728 km: [0.47650609 0.35137668 0.19730653 0.76194834 0.87518055]\n",
      "✅ Final Optimized Key Rate for L=77.27727727727728 km: 0.0002937939000224404\n",
      "✅ Final Optimized Parameters for L=77.07707707707708 km: [0.47645854 0.35139719 0.19724118 0.76200883 0.87518864]\n",
      "✅ Final Optimized Key Rate for L=77.07707707707708 km: 0.0002965837100225769\n",
      "✅ Final Optimized Parameters for L=78.27827827827828 km: [0.47675166 0.35127111 0.1976455  0.76163411 0.87513908]\n",
      "✅ Final Optimized Key Rate for L=78.27827827827828 km: 0.00028022512611301494\n",
      "✅ Final Optimized Parameters for L=77.67767767767768 km: [0.47660299 0.35133485 0.19744026 0.76182434 0.87516422]\n",
      "✅ Final Optimized Key Rate for L=77.67767767767768 km: 0.0002882910374766019\n"
     ]
    },
    {
     "name": "stderr",
     "output_type": "stream",
     "text": [
      "Optimizing:  40%|███▉      | 397/1000 [34:47<39:10,  3.90s/it]"
     ]
    },
    {
     "name": "stdout",
     "output_type": "stream",
     "text": [
      "✅ Final Optimized Parameters for L=79.67967967967968 km: [0.47711641 0.35111813 0.19814991 0.76116583 0.87507748]\n",
      "✅ Final Optimized Key Rate for L=79.67967967967968 km: 0.0002622519836033255\n",
      "✅ Final Optimized Parameters for L=79.27927927927928 km: [0.47700984 0.35116251 0.19800198 0.76130331 0.87509559]\n",
      "✅ Final Optimized Key Rate for L=79.27927927927928 km: 0.0002672690808572388\n",
      "✅ Final Optimized Parameters for L=79.87987987987988 km: [0.47717042 0.35109554 0.19822474 0.76109627 0.8750684 ]\n",
      "✅ Final Optimized Key Rate for L=79.87987987987988 km: 0.00025977799559470416\n",
      "✅ Final Optimized Parameters for L=79.47947947947948 km: [0.47706268 0.35114023 0.19807555 0.76123502 0.87508659]\n",
      "✅ Final Optimized Key Rate for L=79.47947947947948 km: 0.0002647489409198286\n",
      "\n",
      "--- [DEBUG] Starting optimization for L=80.08008008008008 km ---\n",
      "🔵 Initial Guess for L=80.08008008008008: [0.47706268 0.35114023 0.19807555 0.76123502 0.87508659]\n",
      "\n",
      "--- [DEBUG] Starting optimization for L=80.28028028028028 km ---\n",
      "🔵 Initial Guess for L=80.28028028028028: [0.47706268 0.35114023 0.19807555 0.76123502 0.87508659]\n",
      "\n",
      "--- [DEBUG] Starting optimization for L=80.48048048048048 km ---\n",
      "🔵 Initial Guess for L=80.48048048048048: [0.47706268 0.35114023 0.19807555 0.76123502 0.87508659]\n",
      "\n",
      "--- [DEBUG] Starting optimization for L=80.68068068068068 km ---\n",
      "🔵 Initial Guess for L=80.68068068068068: [0.47706268 0.35114023 0.19807555 0.76123502 0.87508659]\n",
      "\n",
      "--- [DEBUG] Starting optimization for L=80.88088088088088 km ---\n",
      "🔵 Initial Guess for L=80.88088088088088: [0.47706268 0.35114023 0.19807555 0.76123502 0.87508659]\n",
      "\n",
      "--- [DEBUG] Starting optimization for L=81.08108108108108 km ---\n",
      "🔵 Initial Guess for L=81.08108108108108: [0.47706268 0.35114023 0.19807555 0.76123502 0.87508659]\n",
      "\n",
      "--- [DEBUG] Starting optimization for L=81.28128128128128 km ---\n",
      "🔵 Initial Guess for L=81.28128128128128: [0.47706268 0.35114023 0.19807555 0.76123502 0.87508659]\n",
      "\n",
      "--- [DEBUG] Starting optimization for L=81.48148148148148 km ---\n",
      "🔵 Initial Guess for L=81.48148148148148: [0.47706268 0.35114023 0.19807555 0.76123502 0.87508659]\n",
      "\n",
      "--- [DEBUG] Starting optimization for L=81.68168168168168 km ---\n",
      "🔵 Initial Guess for L=81.68168168168168: [0.47706268 0.35114023 0.19807555 0.76123502 0.87508659]\n",
      "\n",
      "--- [DEBUG] Starting optimization for L=81.88188188188188 km ---\n",
      "🔵 Initial Guess for L=81.88188188188188: [0.47706268 0.35114023 0.19807555 0.76123502 0.87508659]\n",
      "\n",
      "--- [DEBUG] Starting optimization for L=82.08208208208208 km ---\n",
      "🔵 Initial Guess for L=82.08208208208208: [0.47706268 0.35114023 0.19807555 0.76123502 0.87508659]\n",
      "\n",
      "--- [DEBUG] Starting optimization for L=82.28228228228228 km ---\n",
      "🔵 Initial Guess for L=82.28228228228228: [0.47706268 0.35114023 0.19807555 0.76123502 0.87508659]\n"
     ]
    },
    {
     "name": "stderr",
     "output_type": "stream",
     "text": [
      "Optimizing:  40%|████      | 401/1000 [35:57<1:39:58, 10.01s/it]"
     ]
    },
    {
     "name": "stdout",
     "output_type": "stream",
     "text": [
      "✅ Final Optimized Parameters for L=80.68068068068068 km: [0.47739236 0.3510045  0.19853161 0.76081117 0.87503071]\n",
      "✅ Final Optimized Key Rate for L=80.68068068068068 km: 0.0002501075390044309\n",
      "\n",
      "--- [DEBUG] Starting optimization for L=82.48248248248248 km ---\n",
      "🔵 Initial Guess for L=82.48248248248248: [0.47739236 0.3510045  0.19853161 0.76081117 0.87503071]\n"
     ]
    },
    {
     "name": "stderr",
     "output_type": "stream",
     "text": [
      "Optimizing:  40%|████      | 402/1000 [35:57<1:26:28,  8.68s/it]"
     ]
    },
    {
     "name": "stdout",
     "output_type": "stream",
     "text": [
      "✅ Final Optimized Parameters for L=80.08008008008008 km: [0.47722524 0.35107313 0.19829975 0.76102674 0.87505909]\n",
      "✅ Final Optimized Key Rate for L=80.08008008008008 km: 0.0002573267655537339\n",
      "\n",
      "--- [DEBUG] Starting optimization for L=82.68268268268268 km ---\n",
      "🔵 Initial Guess for L=82.68268268268268: [0.47722524 0.35107313 0.19829975 0.76102674 0.87505909]\n"
     ]
    },
    {
     "name": "stderr",
     "output_type": "stream",
     "text": [
      "Optimizing:  40%|████      | 404/1000 [35:58<1:02:19,  6.27s/it]"
     ]
    },
    {
     "name": "stdout",
     "output_type": "stream",
     "text": [
      "✅ Final Optimized Parameters for L=81.68168168168168 km: [0.47768182 0.35088736 0.19893327 0.76043734 0.87498166]\n",
      "✅ Final Optimized Key Rate for L=81.68168168168168 km: 0.00023851148722480356\n",
      "\n",
      "--- [DEBUG] Starting optimization for L=82.88288288288288 km ---\n",
      "🔵 Initial Guess for L=82.88288288288288: [0.47768182 0.35088736 0.19893327 0.76043734 0.87498166]\n",
      "✅ Final Optimized Parameters for L=82.08208208208208 km: [0.47780132 0.35083931 0.19909897 0.76028306 0.87496132]\n",
      "✅ Final Optimized Key Rate for L=82.08208208208208 km: 0.00023402103147914915\n",
      "\n",
      "--- [DEBUG] Starting optimization for L=83.08308308308308 km ---\n",
      "🔵 Initial Guess for L=83.08308308308308: [0.47780132 0.35083931 0.19909897 0.76028306 0.87496132]\n",
      "✅ Final Optimized Parameters for L=81.48148148148148 km: [0.47762271 0.35091131 0.19885075 0.76051414 0.87499169]\n",
      "✅ Final Optimized Key Rate for L=81.48148148148148 km: 0.00024078803124060385\n"
     ]
    },
    {
     "name": "stderr",
     "output_type": "stream",
     "text": [
      "Optimizing:  41%|████      | 407/1000 [35:58<37:15,  3.77s/it]  "
     ]
    },
    {
     "name": "stdout",
     "output_type": "stream",
     "text": [
      "✅ Final Optimized Parameters for L=81.88188188188188 km: [0.47774121 0.35086342 0.19901569 0.76036062 0.87497134]\n",
      "✅ Final Optimized Key Rate for L=81.88188188188188 km: 0.00023625588484070284\n",
      "✅ Final Optimized Parameters for L=81.28128128128128 km: [0.4775641  0.35093463 0.19877019 0.76058916 0.87500153]\n",
      "✅ Final Optimized Key Rate for L=81.28128128128128 km: 0.00024308571129284142\n",
      "✅ Final Optimized Parameters for L=80.28028028028028 km: [0.47728017 0.35105038 0.19837753 0.7609543  0.87504972]\n",
      "✅ Final Optimized Key Rate for L=80.28028028028028 km: 0.00025489808409116316\n"
     ]
    },
    {
     "name": "stderr",
     "output_type": "stream",
     "text": [
      "Optimizing:  41%|████      | 412/1000 [35:59<15:32,  1.59s/it]"
     ]
    },
    {
     "name": "stdout",
     "output_type": "stream",
     "text": [
      "✅ Final Optimized Parameters for L=80.48048048048048 km: [0.477336   0.35102763 0.19845369 0.76088359 0.8750403 ]\n",
      "✅ Final Optimized Key Rate for L=80.48048048048048 km: 0.0002524917437538918\n",
      "✅ Final Optimized Parameters for L=81.08108108108108 km: [0.47750637 0.35095828 0.19868933 0.76066436 0.87501148]\n",
      "✅ Final Optimized Key Rate for L=81.08108108108108 km: 0.0002454047235989372\n",
      "✅ Final Optimized Parameters for L=82.28228228228228 km: [0.4778615  0.35081504 0.19918386 0.76020387 0.87495093]\n",
      "✅ Final Optimized Key Rate for L=82.28228228228228 km: 0.0002318067363092545\n",
      "✅ Final Optimized Parameters for L=80.88088088088088 km: [0.47744926 0.35098167 0.19860965 0.76073853 0.8750211 ]\n",
      "✅ Final Optimized Key Rate for L=80.88088088088088 km: 0.00024774526620494953\n"
     ]
    },
    {
     "name": "stderr",
     "output_type": "stream",
     "text": [
      "Optimizing:  41%|████▏     | 413/1000 [36:13<37:32,  3.84s/it]"
     ]
    },
    {
     "name": "stdout",
     "output_type": "stream",
     "text": [
      "✅ Final Optimized Parameters for L=82.48248248248248 km: [0.477923   0.35079076 0.19926954 0.76012387 0.87494049]\n",
      "✅ Final Optimized Key Rate for L=82.48248248248248 km: 0.0002296128102632599\n",
      "✅ Final Optimized Parameters for L=82.68268268268268 km: [0.47798441 0.35076616 0.19935519 0.76004419 0.87492986]\n",
      "✅ Final Optimized Key Rate for L=82.68268268268268 km: 0.00022743906601937838\n",
      "✅ Final Optimized Parameters for L=82.88288288288288 km: [0.47804671 0.35074133 0.19944155 0.75996376 0.87491925]\n",
      "✅ Final Optimized Key Rate for L=82.88288288288288 km: 0.00022528531798473415\n",
      "✅ Final Optimized Parameters for L=83.08308308308308 km: [0.47810951 0.35071654 0.19952946 0.75988173 0.87490844]\n",
      "✅ Final Optimized Key Rate for L=83.08308308308308 km: 0.000223151382280997\n",
      "\n",
      "--- [DEBUG] Starting optimization for L=83.28328328328328 km ---\n",
      "🔵 Initial Guess for L=83.28328328328328: [0.47810951 0.35071654 0.19952946 0.75988173 0.87490844]\n",
      "\n",
      "--- [DEBUG] Starting optimization for L=83.48348348348348 km ---\n",
      "🔵 Initial Guess for L=83.48348348348348: [0.47810951 0.35071654 0.19952946 0.75988173 0.87490844]\n",
      "\n",
      "--- [DEBUG] Starting optimization for L=83.68368368368368 km ---\n",
      "🔵 Initial Guess for L=83.68368368368368: [0.47810951 0.35071654 0.19952946 0.75988173 0.87490844]\n",
      "\n",
      "--- [DEBUG] Starting optimization for L=83.88388388388388 km ---\n",
      "🔵 Initial Guess for L=83.88388388388388: [0.47810951 0.35071654 0.19952946 0.75988173 0.87490844]\n",
      "\n",
      "--- [DEBUG] Starting optimization for L=84.08408408408408 km ---\n",
      "🔵 Initial Guess for L=84.08408408408408: [0.47810951 0.35071654 0.19952946 0.75988173 0.87490844]\n",
      "\n",
      "--- [DEBUG] Starting optimization for L=84.28428428428428 km ---\n",
      "🔵 Initial Guess for L=84.28428428428428: [0.47810951 0.35071654 0.19952946 0.75988173 0.87490844]\n",
      "\n",
      "--- [DEBUG] Starting optimization for L=84.48448448448448 km ---\n",
      "🔵 Initial Guess for L=84.48448448448448: [0.47810951 0.35071654 0.19952946 0.75988173 0.87490844]\n",
      "\n",
      "--- [DEBUG] Starting optimization for L=84.68468468468468 km ---\n",
      "🔵 Initial Guess for L=84.68468468468468: [0.47810951 0.35071654 0.19952946 0.75988173 0.87490844]\n",
      "\n",
      "--- [DEBUG] Starting optimization for L=84.88488488488488 km ---\n",
      "🔵 Initial Guess for L=84.88488488488488: [0.47810951 0.35071654 0.19952946 0.75988173 0.87490844]\n",
      "\n",
      "--- [DEBUG] Starting optimization for L=85.08508508508508 km ---\n",
      "🔵 Initial Guess for L=85.08508508508508: [0.47810951 0.35071654 0.19952946 0.75988173 0.87490844]\n",
      "\n",
      "--- [DEBUG] Starting optimization for L=85.28528528528528 km ---\n",
      "🔵 Initial Guess for L=85.28528528528528: [0.47810951 0.35071654 0.19952946 0.75988173 0.87490844]\n",
      "\n",
      "--- [DEBUG] Starting optimization for L=85.4854854854855 km ---\n",
      "🔵 Initial Guess for L=85.4854854854855: [0.47810951 0.35071654 0.19952946 0.75988173 0.87490844]\n"
     ]
    },
    {
     "name": "stderr",
     "output_type": "stream",
     "text": [
      "Optimizing:  42%|████▏     | 421/1000 [37:23<59:23,  6.15s/it]  "
     ]
    },
    {
     "name": "stdout",
     "output_type": "stream",
     "text": [
      "✅ Final Optimized Parameters for L=84.88488488488488 km: [0.47870149 0.3504843  0.20036187 0.75910411 0.87480652]\n",
      "✅ Final Optimized Key Rate for L=84.88488488488488 km: 0.0002048080039615777\n",
      "\n",
      "--- [DEBUG] Starting optimization for L=85.6856856856857 km ---\n",
      "🔵 Initial Guess for L=85.6856856856857: [0.47870149 0.3504843  0.20036187 0.75910411 0.87480652]\n",
      "✅ Final Optimized Parameters for L=85.08508508508508 km: [0.47876988 0.35045731 0.20045969 0.75901272 0.87479441]\n",
      "✅ Final Optimized Key Rate for L=85.08508508508508 km: 0.00020286244408815354\n",
      "\n",
      "--- [DEBUG] Starting optimization for L=85.8858858858859 km ---\n",
      "🔵 Initial Guess for L=85.8858858858859: [0.47876988 0.35045731 0.20045969 0.75901272 0.87479441]\n",
      "✅ Final Optimized Parameters for L=84.28428428428428 km: [0.47849896 0.35056358 0.2000747  0.75937272 0.87484148]\n",
      "✅ Final Optimized Key Rate for L=84.28428428428428 km: 0.000210753741761765\n",
      "\n",
      "--- [DEBUG] Starting optimization for L=86.0860860860861 km ---\n",
      "🔵 Initial Guess for L=86.0860860860861: [0.47849896 0.35056358 0.2000747  0.75937272 0.87484148]\n",
      "✅ Final Optimized Parameters for L=85.4854854854855 km: [0.47890888 0.35040331 0.20065766 0.75882731 0.8747703 ]\n",
      "✅ Final Optimized Key Rate for L=85.4854854854855 km: 0.0001990248548200194\n",
      "\n",
      "--- [DEBUG] Starting optimization for L=86.2862862862863 km ---\n",
      "🔵 Initial Guess for L=86.2862862862863: [0.47890888 0.35040331 0.20065766 0.75882731 0.8747703 ]\n",
      "✅ Final Optimized Parameters for L=83.28328328328328 km: [0.47817315 0.35069141 0.19961818 0.75979898 0.87489758]\n",
      "✅ Final Optimized Key Rate for L=83.28328328328328 km: 0.00022103707672723672\n"
     ]
    },
    {
     "name": "stderr",
     "output_type": "stream",
     "text": [
      "Optimizing:  42%|████▏     | 423/1000 [37:23<45:50,  4.77s/it]"
     ]
    },
    {
     "name": "stdout",
     "output_type": "stream",
     "text": [
      "✅ Final Optimized Parameters for L=83.48348348348348 km: [0.47823711 0.35066632 0.19970865 0.75971445 0.87488654]\n",
      "✅ Final Optimized Key Rate for L=83.48348348348348 km: 0.0002189422208251043\n",
      "✅ Final Optimized Parameters for L=84.48448448448448 km: [0.47856579 0.35053712 0.20017081 0.75928276 0.8748299 ]\n",
      "✅ Final Optimized Key Rate for L=84.48448448448448 km: 0.0002087534844263526\n",
      "✅ Final Optimized Parameters for L=85.28528528528528 km: [0.47883925 0.35043051 0.20055764 0.75892114 0.87478234]\n",
      "✅ Final Optimized Key Rate for L=85.28528528528528 km: 0.00020093478254496348\n",
      "✅ Final Optimized Parameters for L=83.88388388388388 km: [0.47836664 0.35061505 0.19989032 0.75954478 0.87486428]\n",
      "✅ Final Optimized Key Rate for L=83.88388388388388 km: 0.00021481014429763597\n"
     ]
    },
    {
     "name": "stderr",
     "output_type": "stream",
     "text": [
      "Optimizing:  43%|████▎     | 428/1000 [37:23<23:40,  2.48s/it]"
     ]
    },
    {
     "name": "stdout",
     "output_type": "stream",
     "text": [
      "✅ Final Optimized Parameters for L=83.68368368368368 km: [0.47830126 0.3506409  0.19979913 0.75962988 0.87487543]\n",
      "✅ Final Optimized Key Rate for L=83.68368368368368 km: 0.0002168666357421382\n",
      "✅ Final Optimized Parameters for L=84.08408408408408 km: [0.4784325  0.35058935 0.19998264 0.75945869 0.87485288]\n",
      "✅ Final Optimized Key Rate for L=84.08408408408408 km: 0.00021277257094579063\n",
      "✅ Final Optimized Parameters for L=84.68468468468468 km: [0.47863413 0.35051149 0.20025989 0.75919986 0.8748184 ]\n",
      "✅ Final Optimized Key Rate for L=84.68468468468468 km: 0.00020677162820784568\n"
     ]
    },
    {
     "name": "stderr",
     "output_type": "stream",
     "text": [
      "Optimizing:  43%|████▎     | 430/1000 [37:37<34:41,  3.65s/it]"
     ]
    },
    {
     "name": "stdout",
     "output_type": "stream",
     "text": [
      "✅ Final Optimized Parameters for L=85.6856856856857 km: [0.47897961 0.35037599 0.20075775 0.75873367 0.874758  ]\n",
      "✅ Final Optimized Key Rate for L=85.6856856856857 km: 0.000197132497919165\n",
      "✅ Final Optimized Parameters for L=86.2862862862863 km: [0.47919489 0.35029279 0.20106458 0.75844618 0.87472015]\n",
      "✅ Final Optimized Key Rate for L=86.2862862862863 km: 0.00019155924470007387\n",
      "✅ Final Optimized Parameters for L=86.0860860860861 km: [0.47912224 0.35032082 0.20096096 0.75854332 0.87473283]\n",
      "✅ Final Optimized Key Rate for L=86.0860860860861 km: 0.00019339985212077007\n",
      "✅ Final Optimized Parameters for L=85.8858858858859 km: [0.47905087 0.35034837 0.2008588  0.75863913 0.87474547]\n",
      "✅ Final Optimized Key Rate for L=85.8858858858859 km: 0.00019525755035272778\n",
      "\n",
      "--- [DEBUG] Starting optimization for L=86.4864864864865 km ---\n",
      "🔵 Initial Guess for L=86.4864864864865: [0.47905087 0.35034837 0.2008588  0.75863913 0.87474547]\n",
      "\n",
      "--- [DEBUG] Starting optimization for L=86.6866866866867 km ---\n",
      "🔵 Initial Guess for L=86.6866866866867: [0.47905087 0.35034837 0.2008588  0.75863913 0.87474547]\n",
      "\n",
      "--- [DEBUG] Starting optimization for L=86.8868868868869 km ---\n",
      "🔵 Initial Guess for L=86.8868868868869: [0.47905087 0.35034837 0.2008588  0.75863913 0.87474547]\n",
      "\n",
      "--- [DEBUG] Starting optimization for L=87.0870870870871 km ---\n",
      "🔵 Initial Guess for L=87.0870870870871: [0.47905087 0.35034837 0.2008588  0.75863913 0.87474547]\n",
      "\n",
      "--- [DEBUG] Starting optimization for L=87.2872872872873 km ---\n",
      "🔵 Initial Guess for L=87.2872872872873: [0.47905087 0.35034837 0.2008588  0.75863913 0.87474547]\n",
      "\n",
      "--- [DEBUG] Starting optimization for L=87.4874874874875 km ---\n",
      "🔵 Initial Guess for L=87.4874874874875: [0.47905087 0.35034837 0.2008588  0.75863913 0.87474547]\n",
      "\n",
      "--- [DEBUG] Starting optimization for L=87.6876876876877 km ---\n",
      "🔵 Initial Guess for L=87.6876876876877: [0.47905087 0.35034837 0.2008588  0.75863913 0.87474547]\n",
      "\n",
      "--- [DEBUG] Starting optimization for L=87.8878878878879 km ---\n",
      "🔵 Initial Guess for L=87.8878878878879: [0.47905087 0.35034837 0.2008588  0.75863913 0.87474547]\n",
      "\n",
      "--- [DEBUG] Starting optimization for L=88.0880880880881 km ---\n",
      "🔵 Initial Guess for L=88.0880880880881: [0.47905087 0.35034837 0.2008588  0.75863913 0.87474547]\n",
      "\n",
      "--- [DEBUG] Starting optimization for L=88.2882882882883 km ---\n",
      "🔵 Initial Guess for L=88.2882882882883: [0.47905087 0.35034837 0.2008588  0.75863913 0.87474547]\n",
      "\n",
      "--- [DEBUG] Starting optimization for L=88.4884884884885 km ---\n",
      "🔵 Initial Guess for L=88.4884884884885: [0.47905087 0.35034837 0.2008588  0.75863913 0.87474547]\n",
      "\n",
      "--- [DEBUG] Starting optimization for L=88.6886886886887 km ---\n",
      "🔵 Initial Guess for L=88.6886886886887: [0.47905087 0.35034837 0.2008588  0.75863913 0.87474547]\n"
     ]
    },
    {
     "name": "stderr",
     "output_type": "stream",
     "text": [
      "Optimizing:  43%|████▎     | 433/1000 [38:44<1:35:49, 10.14s/it]"
     ]
    },
    {
     "name": "stdout",
     "output_type": "stream",
     "text": [
      "✅ Final Optimized Parameters for L=87.2872872872873 km: [0.47956594 0.35014958 0.20159665 0.75794749 0.87465446]\n",
      "✅ Final Optimized Key Rate for L=87.2872872872873 km: 0.00018260712309702847\n",
      "\n",
      "--- [DEBUG] Starting optimization for L=88.8888888888889 km ---\n",
      "🔵 Initial Guess for L=88.8888888888889: [0.47956594 0.35014958 0.20159665 0.75794749 0.87465446]\n"
     ]
    },
    {
     "name": "stderr",
     "output_type": "stream",
     "text": [
      "Optimizing:  43%|████▎     | 434/1000 [38:44<1:22:20,  8.73s/it]"
     ]
    },
    {
     "name": "stdout",
     "output_type": "stream",
     "text": [
      "✅ Final Optimized Parameters for L=88.6886886886887 km: [0.4801127  0.34993996 0.20239264 0.75719953 0.87455684]\n",
      "✅ Final Optimized Key Rate for L=88.6886886886887 km: 0.00017074929312961638\n",
      "\n",
      "--- [DEBUG] Starting optimization for L=89.0890890890891 km ---\n",
      "🔵 Initial Guess for L=89.0890890890891: [0.4801127  0.34993996 0.20239264 0.75719953 0.87455684]\n",
      "✅ Final Optimized Parameters for L=86.6866866866867 km: [0.4793413  0.35023625 0.20127396 0.75825001 0.87469434]\n",
      "✅ Final Optimized Key Rate for L=86.6866866866867 km: 0.00018792867550122716\n",
      "\n",
      "--- [DEBUG] Starting optimization for L=89.2892892892893 km ---\n",
      "🔵 Initial Guess for L=89.2892892892893: [0.4793413  0.35023625 0.20127396 0.75825001 0.87469434]\n"
     ]
    },
    {
     "name": "stderr",
     "output_type": "stream",
     "text": [
      "Optimizing:  44%|████▍     | 438/1000 [38:44<41:17,  4.41s/it]  "
     ]
    },
    {
     "name": "stdout",
     "output_type": "stream",
     "text": [
      "✅ Final Optimized Parameters for L=86.8868868868869 km: [0.47941536 0.35020755 0.20138209 0.75814858 0.87468109]\n",
      "✅ Final Optimized Key Rate for L=86.8868868868869 km: 0.00018613840393605556\n",
      "\n",
      "--- [DEBUG] Starting optimization for L=89.4894894894895 km ---\n",
      "🔵 Initial Guess for L=89.4894894894895: [0.47941536 0.35020755 0.20138209 0.75814858 0.87468109]\n",
      "✅ Final Optimized Parameters for L=87.0870870870871 km: [0.47949049 0.35017865 0.20148905 0.75804835 0.87466792]\n",
      "✅ Final Optimized Key Rate for L=87.0870870870871 km: 0.00018436460358269764\n",
      "✅ Final Optimized Parameters for L=86.4864864864865 km: [0.47926755 0.35026468 0.20116882 0.75834853 0.87470737]\n",
      "✅ Final Optimized Key Rate for L=86.4864864864865 km: 0.00018973557103075717\n",
      "✅ Final Optimized Parameters for L=88.2882882882883 km: [0.47995334 0.35000132 0.20215917 0.75741903 0.87458551]\n",
      "✅ Final Optimized Key Rate for L=88.2882882882883 km: 0.0001740593186848962\n"
     ]
    },
    {
     "name": "stderr",
     "output_type": "stream",
     "text": [
      "Optimizing:  44%|████▍     | 442/1000 [38:44<20:33,  2.21s/it]"
     ]
    },
    {
     "name": "stdout",
     "output_type": "stream",
     "text": [
      "✅ Final Optimized Parameters for L=88.4884884884885 km: [0.48003281 0.34997085 0.20227569 0.75730945 0.87457123]\n",
      "✅ Final Optimized Key Rate for L=88.4884884884885 km: 0.0001723966564856995\n",
      "✅ Final Optimized Parameters for L=88.0880880880881 km: [0.4798742  0.35003133 0.20204515 0.75752617 0.87459961]\n",
      "✅ Final Optimized Key Rate for L=88.0880880880881 km: 0.00017573742156394402\n",
      "✅ Final Optimized Parameters for L=87.8878878878879 km: [0.47979619 0.3500612  0.20193177 0.75763266 0.87461356]\n",
      "✅ Final Optimized Key Rate for L=87.8878878878879 km: 0.00017743110828049346\n"
     ]
    },
    {
     "name": "stderr",
     "output_type": "stream",
     "text": [
      "Optimizing:  44%|████▍     | 444/1000 [38:45<14:51,  1.60s/it]"
     ]
    },
    {
     "name": "stdout",
     "output_type": "stream",
     "text": [
      "✅ Final Optimized Parameters for L=87.6876876876877 km: [0.47971892 0.350091   0.20181867 0.75773889 0.87462744]\n",
      "✅ Final Optimized Key Rate for L=87.6876876876877 km: 0.00017914052332507432\n",
      "✅ Final Optimized Parameters for L=87.4874874874875 km: [0.47964174 0.35012045 0.20170796 0.75784277 0.87464113]\n",
      "✅ Final Optimized Key Rate for L=87.4874874874875 km: 0.00018086581253263105\n"
     ]
    },
    {
     "name": "stderr",
     "output_type": "stream",
     "text": [
      "Optimizing:  45%|████▍     | 446/1000 [38:59<30:02,  3.25s/it]"
     ]
    },
    {
     "name": "stdout",
     "output_type": "stream",
     "text": [
      "✅ Final Optimized Parameters for L=88.8888888888889 km: [0.4801935  0.34990939 0.20251108 0.7570881  0.87454221]\n",
      "✅ Final Optimized Key Rate for L=88.8888888888889 km: 0.00016911708808786517\n",
      "✅ Final Optimized Parameters for L=89.0890890890891 km: [0.48027524 0.34987834 0.20262921 0.75697711 0.87452757]\n",
      "✅ Final Optimized Key Rate for L=89.0890890890891 km: 0.00016749990212769673\n",
      "✅ Final Optimized Parameters for L=89.2892892892893 km: [0.48035688 0.34984678 0.20275087 0.75686238 0.87451271]\n",
      "✅ Final Optimized Key Rate for L=89.2892892892893 km: 0.0001658975973011329\n",
      "✅ Final Optimized Parameters for L=89.4894894894895 km: [0.48043997 0.34981529 0.20287167 0.7567488  0.87449756]\n",
      "✅ Final Optimized Key Rate for L=89.4894894894895 km: 0.0001643100369314956\n",
      "\n",
      "--- [DEBUG] Starting optimization for L=89.6896896896897 km ---\n",
      "🔵 Initial Guess for L=89.6896896896897: [0.48043997 0.34981529 0.20287167 0.7567488  0.87449756]\n",
      "\n",
      "--- [DEBUG] Starting optimization for L=89.8898898898899 km ---\n",
      "🔵 Initial Guess for L=89.8898898898899: [0.48043997 0.34981529 0.20287167 0.7567488  0.87449756]\n",
      "\n",
      "--- [DEBUG] Starting optimization for L=90.0900900900901 km ---\n",
      "🔵 Initial Guess for L=90.0900900900901: [0.48043997 0.34981529 0.20287167 0.7567488  0.87449756]\n",
      "\n",
      "--- [DEBUG] Starting optimization for L=90.2902902902903 km ---\n",
      "🔵 Initial Guess for L=90.2902902902903: [0.48043997 0.34981529 0.20287167 0.7567488  0.87449756]\n",
      "\n",
      "--- [DEBUG] Starting optimization for L=90.4904904904905 km ---\n",
      "🔵 Initial Guess for L=90.4904904904905: [0.48043997 0.34981529 0.20287167 0.7567488  0.87449756]\n",
      "\n",
      "--- [DEBUG] Starting optimization for L=90.6906906906907 km ---\n",
      "🔵 Initial Guess for L=90.6906906906907: [0.48043997 0.34981529 0.20287167 0.7567488  0.87449756]\n",
      "\n",
      "--- [DEBUG] Starting optimization for L=90.8908908908909 km ---\n",
      "🔵 Initial Guess for L=90.8908908908909: [0.48043997 0.34981529 0.20287167 0.7567488  0.87449756]\n",
      "\n",
      "--- [DEBUG] Starting optimization for L=91.0910910910911 km ---\n",
      "🔵 Initial Guess for L=91.0910910910911: [0.48043997 0.34981529 0.20287167 0.7567488  0.87449756]\n",
      "\n",
      "--- [DEBUG] Starting optimization for L=91.2912912912913 km ---\n",
      "🔵 Initial Guess for L=91.2912912912913: [0.48043997 0.34981529 0.20287167 0.7567488  0.87449756]\n",
      "\n",
      "--- [DEBUG] Starting optimization for L=91.4914914914915 km ---\n",
      "🔵 Initial Guess for L=91.4914914914915: [0.48043997 0.34981529 0.20287167 0.7567488  0.87449756]\n",
      "\n",
      "--- [DEBUG] Starting optimization for L=91.6916916916917 km ---\n",
      "🔵 Initial Guess for L=91.6916916916917: [0.48043997 0.34981529 0.20287167 0.7567488  0.87449756]\n",
      "\n",
      "--- [DEBUG] Starting optimization for L=91.8918918918919 km ---\n",
      "🔵 Initial Guess for L=91.8918918918919: [0.48043997 0.34981529 0.20287167 0.7567488  0.87449756]\n"
     ]
    },
    {
     "name": "stderr",
     "output_type": "stream",
     "text": [
      "Optimizing:  45%|████▌     | 450/1000 [40:05<1:21:59,  8.94s/it]"
     ]
    },
    {
     "name": "stdout",
     "output_type": "stream",
     "text": [
      "✅ Final Optimized Parameters for L=90.0900900900901 km: [0.48069233 0.34971887 0.20324644 0.75639556 0.87445166]\n",
      "✅ Final Optimized Key Rate for L=90.0900900900901 km: 0.00015963447464270537\n",
      "\n",
      "--- [DEBUG] Starting optimization for L=92.0920920920921 km ---\n",
      "🔵 Initial Guess for L=92.0920920920921: [0.48069233 0.34971887 0.20324644 0.75639556 0.87445166]\n",
      "✅ Final Optimized Parameters for L=91.4914914914915 km: [0.48130601 0.34948491 0.20416749 0.75552637 0.87433817]\n",
      "✅ Final Optimized Key Rate for L=91.4914914914915 km: 0.00014921619606971884\n",
      "\n",
      "--- [DEBUG] Starting optimization for L=92.2922922922923 km ---\n",
      "🔵 Initial Guess for L=92.2922922922923: [0.48130601 0.34948491 0.20416749 0.75552637 0.87433817]\n",
      "✅ Final Optimized Parameters for L=91.6916916916917 km: [0.48139616 0.3494506  0.20430249 0.7553989  0.87432123]\n",
      "✅ Final Optimized Key Rate for L=91.6916916916917 km: 0.00014778215640926862\n",
      "\n",
      "--- [DEBUG] Starting optimization for L=92.4924924924925 km ---\n",
      "🔵 Initial Guess for L=92.4924924924925: [0.48139616 0.3494506  0.20430249 0.7553989  0.87432123]\n"
     ]
    },
    {
     "name": "stderr",
     "output_type": "stream",
     "text": [
      "Optimizing:  45%|████▌     | 452/1000 [40:05<56:38,  6.20s/it]  "
     ]
    },
    {
     "name": "stdout",
     "output_type": "stream",
     "text": [
      "✅ Final Optimized Parameters for L=91.8918918918919 km: [0.48148741 0.34941579 0.20444135 0.75526757 0.87430416]\n",
      "✅ Final Optimized Key Rate for L=91.8918918918919 km: 0.0001463613161525926\n",
      "\n",
      "--- [DEBUG] Starting optimization for L=92.6926926926927 km ---\n",
      "🔵 Initial Guess for L=92.6926926926927: [0.48148741 0.34941579 0.20444135 0.75526757 0.87430416]\n",
      "✅ Final Optimized Parameters for L=90.4904904904905 km: [0.48086405 0.34965327 0.20350221 0.75615448 0.87442003]\n",
      "✅ Final Optimized Key Rate for L=90.4904904904905 km: 0.00015658870586262314\n"
     ]
    },
    {
     "name": "stderr",
     "output_type": "stream",
     "text": [
      "Optimizing:  46%|████▌     | 456/1000 [40:06<27:29,  3.03s/it]"
     ]
    },
    {
     "name": "stdout",
     "output_type": "stream",
     "text": [
      "✅ Final Optimized Parameters for L=89.8898898898899 km: [0.4806075  0.34975145 0.20312128 0.75651345 0.87446701]\n",
      "✅ Final Optimized Key Rate for L=89.8898898898899 km: 0.00016117860915063656\n",
      "✅ Final Optimized Parameters for L=90.2902902902903 km: [0.48077766 0.3496862  0.20337427 0.75627503 0.8744359 ]\n",
      "✅ Final Optimized Key Rate for L=90.2902902902903 km: 0.0001581045503763605\n",
      "✅ Final Optimized Parameters for L=90.6906906906907 km: [0.48095109 0.34962034 0.20363226 0.75603178 0.87440402]\n",
      "✅ Final Optimized Key Rate for L=90.6906906906907 km: 0.00015508681181558445\n",
      "✅ Final Optimized Parameters for L=90.8908908908909 km: [0.48103849 0.34958681 0.20376374 0.7559077  0.87438781]\n",
      "✅ Final Optimized Key Rate for L=90.8908908908909 km: 0.00015359874014124516\n"
     ]
    },
    {
     "name": "stderr",
     "output_type": "stream",
     "text": [
      "Optimizing:  46%|████▌     | 458/1000 [40:06<19:15,  2.13s/it]"
     ]
    },
    {
     "name": "stdout",
     "output_type": "stream",
     "text": [
      "✅ Final Optimized Parameters for L=91.2912912912913 km: [0.48121601 0.34951924 0.20403161 0.75565478 0.87435471]\n",
      "✅ Final Optimized Key Rate for L=91.2912912912913 km: 0.00015066355743114838\n",
      "✅ Final Optimized Parameters for L=89.6896896896897 km: [0.48052315 0.34978328 0.20299611 0.75663157 0.87448244]\n",
      "✅ Final Optimized Key Rate for L=89.6896896896897 km: 0.00016273708560376335\n",
      "✅ Final Optimized Parameters for L=91.0910910910911 km: [0.48112657 0.34955316 0.20389619 0.75578266 0.87437144]\n",
      "✅ Final Optimized Key Rate for L=91.0910910910911 km: 0.00015212436392736536\n"
     ]
    },
    {
     "name": "stderr",
     "output_type": "stream",
     "text": [
      "Optimizing:  46%|████▌     | 461/1000 [40:20<28:32,  3.18s/it]"
     ]
    },
    {
     "name": "stdout",
     "output_type": "stream",
     "text": [
      "✅ Final Optimized Parameters for L=92.0920920920921 km: [0.48157906 0.34938043 0.20458163 0.75513505 0.87428681]\n",
      "✅ Final Optimized Key Rate for L=92.0920920920921 km: 0.0001449535541314049\n",
      "✅ Final Optimized Parameters for L=92.2922922922923 km: [0.48167172 0.34934527 0.20472222 0.75500209 0.87426932]\n",
      "✅ Final Optimized Key Rate for L=92.2922922922923 km: 0.00014355875029355906\n",
      "✅ Final Optimized Parameters for L=92.4924924924925 km: [0.48176533 0.34930971 0.20486426 0.75486762 0.87425171]\n",
      "✅ Final Optimized Key Rate for L=92.4924924924925 km: 0.00014217678569457252\n",
      "✅ Final Optimized Parameters for L=92.6926926926927 km: [0.48185935 0.34927373 0.20500999 0.75472964 0.87423378]\n",
      "✅ Final Optimized Key Rate for L=92.6926926926927 km: 0.00014080754248559928\n",
      "\n",
      "--- [DEBUG] Starting optimization for L=92.8928928928929 km ---\n",
      "🔵 Initial Guess for L=92.8928928928929: [0.48185935 0.34927373 0.20500999 0.75472964 0.87423378]\n",
      "\n",
      "--- [DEBUG] Starting optimization for L=93.0930930930931 km ---\n",
      "🔵 Initial Guess for L=93.0930930930931: [0.48185935 0.34927373 0.20500999 0.75472964 0.87423378]\n",
      "\n",
      "--- [DEBUG] Starting optimization for L=93.2932932932933 km ---\n",
      "🔵 Initial Guess for L=93.2932932932933: [0.48185935 0.34927373 0.20500999 0.75472964 0.87423378]\n",
      "\n",
      "--- [DEBUG] Starting optimization for L=93.4934934934935 km ---\n",
      "🔵 Initial Guess for L=93.4934934934935: [0.48185935 0.34927373 0.20500999 0.75472964 0.87423378]\n",
      "\n",
      "--- [DEBUG] Starting optimization for L=93.6936936936937 km ---\n",
      "🔵 Initial Guess for L=93.6936936936937: [0.48185935 0.34927373 0.20500999 0.75472964 0.87423378]\n",
      "\n",
      "--- [DEBUG] Starting optimization for L=93.8938938938939 km ---\n",
      "🔵 Initial Guess for L=93.8938938938939: [0.48185935 0.34927373 0.20500999 0.75472964 0.87423378]\n",
      "\n",
      "--- [DEBUG] Starting optimization for L=94.0940940940941 km ---\n",
      "🔵 Initial Guess for L=94.0940940940941: [0.48185935 0.34927373 0.20500999 0.75472964 0.87423378]\n",
      "\n",
      "--- [DEBUG] Starting optimization for L=94.2942942942943 km ---\n",
      "🔵 Initial Guess for L=94.2942942942943: [0.48185935 0.34927373 0.20500999 0.75472964 0.87423378]\n",
      "\n",
      "--- [DEBUG] Starting optimization for L=94.4944944944945 km ---\n",
      "🔵 Initial Guess for L=94.4944944944945: [0.48185935 0.34927373 0.20500999 0.75472964 0.87423378]\n",
      "\n",
      "--- [DEBUG] Starting optimization for L=94.6946946946947 km ---\n",
      "🔵 Initial Guess for L=94.6946946946947: [0.48185935 0.34927373 0.20500999 0.75472964 0.87423378]\n",
      "\n",
      "--- [DEBUG] Starting optimization for L=94.8948948948949 km ---\n",
      "🔵 Initial Guess for L=94.8948948948949: [0.48185935 0.34927373 0.20500999 0.75472964 0.87423378]\n",
      "\n",
      "--- [DEBUG] Starting optimization for L=95.0950950950951 km ---\n",
      "🔵 Initial Guess for L=95.0950950950951: [0.48185935 0.34927373 0.20500999 0.75472964 0.87423378]\n"
     ]
    },
    {
     "name": "stderr",
     "output_type": "stream",
     "text": [
      "Optimizing:  47%|████▋     | 466/1000 [41:26<1:08:43,  7.72s/it]"
     ]
    },
    {
     "name": "stdout",
     "output_type": "stream",
     "text": [
      "✅ Final Optimized Parameters for L=92.8928928928929 km: [0.4819543  0.34923731 0.20515565 0.75459179 0.87421581]\n",
      "✅ Final Optimized Key Rate for L=92.8928928928929 km: 0.0001394509039048143\n",
      "\n",
      "--- [DEBUG] Starting optimization for L=95.2952952952953 km ---\n",
      "🔵 Initial Guess for L=95.2952952952953: [0.4819543  0.34923731 0.20515565 0.75459179 0.87421581]\n",
      "✅ Final Optimized Parameters for L=94.6946946946947 km: [0.48284211 0.34889761 0.20654002 0.75327893 0.87404438]\n",
      "✅ Final Optimized Key Rate for L=94.6946946946947 km: 0.00012778962421499545\n",
      "\n",
      "--- [DEBUG] Starting optimization for L=95.4954954954955 km ---\n",
      "🔵 Initial Guess for L=95.4954954954955: [0.48284211 0.34889761 0.20654002 0.75327893 0.87404438]\n",
      "✅ Final Optimized Parameters for L=93.0930930930931 km: [0.48204999 0.34920084 0.20530241 0.75445286 0.87419765]\n",
      "✅ Final Optimized Key Rate for L=93.0930930930931 km: 0.0001381067542665048\n",
      "\n",
      "--- [DEBUG] Starting optimization for L=95.6956956956957 km ---\n",
      "🔵 Initial Guess for L=95.6956956956957: [0.48204999 0.34920084 0.20530241 0.75445286 0.87419765]\n",
      "✅ Final Optimized Parameters for L=94.0940940940941 km: [0.48253936 0.34901366 0.2060638  0.75373098 0.87410339]\n",
      "✅ Final Optimized Key Rate for L=94.0940940940941 km: 0.00013156936531374982\n",
      "\n",
      "--- [DEBUG] Starting optimization for L=95.8958958958959 km ---\n",
      "🔵 Initial Guess for L=95.8958958958959: [0.48253936 0.34901366 0.2060638  0.75373098 0.87410339]\n",
      "✅ Final Optimized Parameters for L=93.2932932932933 km: [0.48214642 0.3491639  0.20545241 0.75431074 0.87417915]\n",
      "✅ Final Optimized Key Rate for L=93.2932932932933 km: 0.0001367749789515468\n"
     ]
    },
    {
     "name": "stderr",
     "output_type": "stream",
     "text": [
      "Optimizing:  47%|████▋     | 472/1000 [41:27<29:50,  3.39s/it]  "
     ]
    },
    {
     "name": "stdout",
     "output_type": "stream",
     "text": [
      "✅ Final Optimized Parameters for L=94.4944944944945 km: [0.48274053 0.3489365  0.20637969 0.75343131 0.87406425]\n",
      "✅ Final Optimized Key Rate for L=94.4944944944945 km: 0.000129037901074544\n",
      "✅ Final Optimized Parameters for L=93.6936936936937 km: [0.48234096 0.34908934 0.20575398 0.75402484 0.87414175]\n",
      "✅ Final Optimized Key Rate for L=93.6936936936937 km: 0.0001341480980870508\n",
      "✅ Final Optimized Parameters for L=94.8948948948949 km: [0.48294467 0.34885836 0.20670213 0.75312499 0.87402423]\n",
      "✅ Final Optimized Key Rate for L=94.8948948948949 km: 0.00012655284195205188\n"
     ]
    },
    {
     "name": "stderr",
     "output_type": "stream",
     "text": [
      "Optimizing:  47%|████▋     | 474/1000 [41:27<22:25,  2.56s/it]"
     ]
    },
    {
     "name": "stdout",
     "output_type": "stream",
     "text": [
      "✅ Final Optimized Parameters for L=93.4934934934935 km: [0.48224344 0.34912699 0.20560337 0.75416757 0.87416057]\n",
      "✅ Final Optimized Key Rate for L=93.4934934934935 km: 0.00013545546439694837\n",
      "✅ Final Optimized Parameters for L=93.8938938938939 km: [0.48243978 0.34905157 0.20590888 0.75387793 0.87412272]\n",
      "✅ Final Optimized Key Rate for L=93.8938938938939 km: 0.00013285276854305635\n"
     ]
    },
    {
     "name": "stderr",
     "output_type": "stream",
     "text": [
      "Optimizing:  48%|████▊     | 476/1000 [41:27<16:46,  1.92s/it]"
     ]
    },
    {
     "name": "stdout",
     "output_type": "stream",
     "text": [
      "✅ Final Optimized Parameters for L=94.2942942942943 km: [0.48263939 0.34897529 0.20622085 0.75358195 0.87408403]\n",
      "✅ Final Optimized Key Rate for L=94.2942942942943 km: 0.0001302977789655834\n",
      "✅ Final Optimized Parameters for L=95.0950950950951 km: [0.48304799 0.34881855 0.20686539 0.7529698  0.87400406]\n",
      "✅ Final Optimized Key Rate for L=95.0950950950951 km: 0.00012532744883125276\n"
     ]
    },
    {
     "name": "stderr",
     "output_type": "stream",
     "text": [
      "Optimizing:  48%|████▊     | 477/1000 [41:41<33:42,  3.87s/it]"
     ]
    },
    {
     "name": "stdout",
     "output_type": "stream",
     "text": [
      "✅ Final Optimized Parameters for L=95.2952952952953 km: [0.48315207 0.34877853 0.20703085 0.75281259 0.87398348]\n",
      "✅ Final Optimized Key Rate for L=95.2952952952953 km: 0.00012411334037052012\n",
      "✅ Final Optimized Parameters for L=95.8958958958959 km: [0.48346939 0.34865634 0.20753879 0.75232953 0.87392043]\n",
      "✅ Final Optimized Key Rate for L=95.8958958958959 km: 0.00012053769251600297\n",
      "✅ Final Optimized Parameters for L=95.4954954954955 km: [0.48325682 0.34873812 0.20719889 0.75265277 0.87396258]\n",
      "✅ Final Optimized Key Rate for L=95.4954954954955 km: 0.00012291041305052708\n",
      "✅ Final Optimized Parameters for L=95.6956956956957 km: [0.48336269 0.34869741 0.20736948 0.75249048 0.87394165]\n",
      "✅ Final Optimized Key Rate for L=95.6956956956957 km: 0.00012171856430571563\n",
      "\n",
      "--- [DEBUG] Starting optimization for L=96.0960960960961 km ---\n",
      "🔵 Initial Guess for L=96.0960960960961: [0.48336269 0.34869741 0.20736948 0.75249048 0.87394165]\n",
      "\n",
      "--- [DEBUG] Starting optimization for L=96.2962962962963 km ---\n",
      "🔵 Initial Guess for L=96.2962962962963: [0.48336269 0.34869741 0.20736948 0.75249048 0.87394165]\n",
      "\n",
      "--- [DEBUG] Starting optimization for L=96.4964964964965 km ---\n",
      "🔵 Initial Guess for L=96.4964964964965: [0.48336269 0.34869741 0.20736948 0.75249048 0.87394165]\n",
      "\n",
      "--- [DEBUG] Starting optimization for L=96.6966966966967 km ---\n",
      "🔵 Initial Guess for L=96.6966966966967: [0.48336269 0.34869741 0.20736948 0.75249048 0.87394165]\n",
      "\n",
      "--- [DEBUG] Starting optimization for L=96.8968968968969 km ---\n",
      "🔵 Initial Guess for L=96.8968968968969: [0.48336269 0.34869741 0.20736948 0.75249048 0.87394165]\n",
      "\n",
      "--- [DEBUG] Starting optimization for L=97.0970970970971 km ---\n",
      "🔵 Initial Guess for L=97.0970970970971: [0.48336269 0.34869741 0.20736948 0.75249048 0.87394165]\n",
      "\n",
      "--- [DEBUG] Starting optimization for L=97.2972972972973 km ---\n",
      "🔵 Initial Guess for L=97.2972972972973: [0.48336269 0.34869741 0.20736948 0.75249048 0.87394165]\n",
      "\n",
      "--- [DEBUG] Starting optimization for L=97.4974974974975 km ---\n",
      "🔵 Initial Guess for L=97.4974974974975: [0.48336269 0.34869741 0.20736948 0.75249048 0.87394165]\n",
      "\n",
      "--- [DEBUG] Starting optimization for L=97.6976976976977 km ---\n",
      "🔵 Initial Guess for L=97.6976976976977: [0.48336269 0.34869741 0.20736948 0.75249048 0.87394165]\n",
      "\n",
      "--- [DEBUG] Starting optimization for L=97.8978978978979 km ---\n",
      "🔵 Initial Guess for L=97.8978978978979: [0.48336269 0.34869741 0.20736948 0.75249048 0.87394165]\n",
      "\n",
      "--- [DEBUG] Starting optimization for L=98.0980980980981 km ---\n",
      "🔵 Initial Guess for L=98.0980980980981: [0.48336269 0.34869741 0.20736948 0.75249048 0.87394165]\n",
      "\n",
      "--- [DEBUG] Starting optimization for L=98.2982982982983 km ---\n",
      "🔵 Initial Guess for L=98.2982982982983: [0.48336269 0.34869741 0.20736948 0.75249048 0.87394165]\n"
     ]
    },
    {
     "name": "stderr",
     "output_type": "stream",
     "text": [
      "Optimizing:  48%|████▊     | 482/1000 [42:47<1:12:58,  8.45s/it]"
     ]
    },
    {
     "name": "stdout",
     "output_type": "stream",
     "text": [
      "✅ Final Optimized Parameters for L=96.6966966966967 km: [0.48390303 0.34848847 0.20824157 0.75166017 0.87383313]\n",
      "✅ Final Optimized Key Rate for L=96.6966966966967 km: 0.00011592197510050542\n",
      "\n",
      "--- [DEBUG] Starting optimization for L=98.4984984984985 km ---\n",
      "🔵 Initial Guess for L=98.4984984984985: [0.48390303 0.34848847 0.20824157 0.75166017 0.87383313]\n",
      "✅ Final Optimized Parameters for L=96.2962962962963 km: [0.48368425 0.34857314 0.20788841 0.75199652 0.87387725]\n",
      "✅ Final Optimized Key Rate for L=96.2962962962963 km: 0.00011820847799479442\n",
      "\n",
      "--- [DEBUG] Starting optimization for L=98.6986986986987 km ---\n",
      "🔵 Initial Guess for L=98.6986986986987: [0.48368425 0.34857314 0.20788841 0.75199652 0.87387725]\n",
      "✅ Final Optimized Parameters for L=97.0970970970971 km: [0.47807355 0.34896057 0.19859656 0.75461915 0.87530472]\n",
      "✅ Final Optimized Key Rate for L=97.0970970970971 km: 0.00011369987103702964\n",
      "\n",
      "--- [DEBUG] Starting optimization for L=98.8988988988989 km ---\n",
      "🔵 Initial Guess for L=98.8988988988989: [0.47807355 0.34896057 0.19859656 0.75461915 0.87530472]\n"
     ]
    },
    {
     "name": "stderr",
     "output_type": "stream",
     "text": [
      "Optimizing:  48%|████▊     | 484/1000 [42:48<51:44,  6.02s/it]  "
     ]
    },
    {
     "name": "stdout",
     "output_type": "stream",
     "text": [
      "✅ Final Optimized Parameters for L=96.0960960960961 km: [0.48357625 0.34861467 0.20771327 0.75216343 0.87389887]\n",
      "✅ Final Optimized Key Rate for L=96.0960960960961 km: 0.00011936769699754566\n",
      "\n",
      "--- [DEBUG] Starting optimization for L=99.0990990990991 km ---\n",
      "🔵 Initial Guess for L=99.0990990990991: [0.48357625 0.34861467 0.20771327 0.75216343 0.87389887]\n",
      "✅ Final Optimized Parameters for L=98.0980980980981 km: [0.47819931 0.34893602 0.19890926 0.75428526 0.87522253]\n",
      "✅ Final Optimized Key Rate for L=98.0980980980981 km: 0.00010833729712061573\n",
      "✅ Final Optimized Parameters for L=97.4974974974975 km: [0.47812353 0.34895072 0.19872252 0.75448489 0.87527197]\n",
      "✅ Final Optimized Key Rate for L=97.4974974974975 km: 0.00011152507097002929\n"
     ]
    },
    {
     "name": "stderr",
     "output_type": "stream",
     "text": [
      "Optimizing:  49%|████▉     | 490/1000 [42:48<20:35,  2.42s/it]"
     ]
    },
    {
     "name": "stdout",
     "output_type": "stream",
     "text": [
      "✅ Final Optimized Parameters for L=97.8978978978979 km: [0.47817396 0.34894094 0.19884624 0.7543522  0.87523936]\n",
      "✅ Final Optimized Key Rate for L=97.8978978978979 km: 0.00010939008644680624\n",
      "✅ Final Optimized Parameters for L=97.6976976976977 km: [0.47814873 0.348946   0.19878296 0.75442014 0.87525581]\n",
      "✅ Final Optimized Key Rate for L=97.6976976976977 km: 0.0001104526475553031\n",
      "✅ Final Optimized Parameters for L=98.2982982982983 km: [0.47822567 0.34893119 0.19897387 0.75421607 0.87520558]\n",
      "✅ Final Optimized Key Rate for L=98.2982982982983 km: 0.00010729418988463431\n",
      "✅ Final Optimized Parameters for L=96.4964964964965 km: [0.48379374 0.34853124 0.20806402 0.75182932 0.87385511]\n",
      "✅ Final Optimized Key Rate for L=96.4964964964965 km: 0.00011705993667111268\n",
      "✅ Final Optimized Parameters for L=96.8968968968969 km: [0.48401398 0.3484457  0.20842288 0.75148735 0.8738106 ]\n",
      "✅ Final Optimized Key Rate for L=96.8968968968969 km: 0.00011479449625952823\n",
      "✅ Final Optimized Parameters for L=97.2972972972973 km: [0.47809874 0.34895595 0.1986581  0.75455362 0.87528859]\n",
      "✅ Final Optimized Key Rate for L=97.2972972972973 km: 0.00011260744805851487\n"
     ]
    },
    {
     "name": "stderr",
     "output_type": "stream",
     "text": [
      "Optimizing:  49%|████▉     | 493/1000 [43:02<27:04,  3.20s/it]"
     ]
    },
    {
     "name": "stdout",
     "output_type": "stream",
     "text": [
      "✅ Final Optimized Parameters for L=98.8988988988989 km: [0.47830507 0.34891555 0.19916905 0.75400784 0.87515397]\n",
      "✅ Final Optimized Key Rate for L=98.8988988988989 km: 0.00010422207615600299\n",
      "✅ Final Optimized Parameters for L=98.6986986986987 km: [0.47827778 0.34892045 0.19910452 0.75407688 0.87517113]\n",
      "✅ Final Optimized Key Rate for L=98.6986986986987 km: 0.00010523666704273067\n",
      "✅ Final Optimized Parameters for L=98.4984984984985 km: [0.47825195 0.34892584 0.1990389  0.75414687 0.87518846]\n",
      "✅ Final Optimized Key Rate for L=98.4984984984985 km: 0.0001062606758742612\n",
      "✅ Final Optimized Parameters for L=99.0990990990991 km: [0.47833227 0.34891032 0.19923715 0.75393508 0.87513622]\n",
      "✅ Final Optimized Key Rate for L=99.0990990990991 km: 0.00010321681678142001\n",
      "\n",
      "--- [DEBUG] Starting optimization for L=99.2992992992993 km ---\n",
      "🔵 Initial Guess for L=99.2992992992993: [0.47833227 0.34891032 0.19923715 0.75393508 0.87513622]\n",
      "\n",
      "--- [DEBUG] Starting optimization for L=99.4994994994995 km ---\n",
      "🔵 Initial Guess for L=99.4994994994995: [0.47833227 0.34891032 0.19923715 0.75393508 0.87513622]\n",
      "\n",
      "--- [DEBUG] Starting optimization for L=99.6996996996997 km ---\n",
      "🔵 Initial Guess for L=99.6996996996997: [0.47833227 0.34891032 0.19923715 0.75393508 0.87513622]\n",
      "\n",
      "--- [DEBUG] Starting optimization for L=99.8998998998999 km ---\n",
      "🔵 Initial Guess for L=99.8998998998999: [0.47833227 0.34891032 0.19923715 0.75393508 0.87513622]\n",
      "\n",
      "--- [DEBUG] Starting optimization for L=100.10010010010011 km ---\n",
      "🔵 Initial Guess for L=100.10010010010011: [0.47833227 0.34891032 0.19923715 0.75393508 0.87513622]\n",
      "\n",
      "--- [DEBUG] Starting optimization for L=100.30030030030031 km ---\n",
      "🔵 Initial Guess for L=100.30030030030031: [0.47833227 0.34891032 0.19923715 0.75393508 0.87513622]\n",
      "\n",
      "--- [DEBUG] Starting optimization for L=100.50050050050051 km ---\n",
      "🔵 Initial Guess for L=100.50050050050051: [0.47833227 0.34891032 0.19923715 0.75393508 0.87513622]\n",
      "\n",
      "--- [DEBUG] Starting optimization for L=100.70070070070071 km ---\n",
      "🔵 Initial Guess for L=100.70070070070071: [0.47833227 0.34891032 0.19923715 0.75393508 0.87513622]\n",
      "\n",
      "--- [DEBUG] Starting optimization for L=100.90090090090091 km ---\n",
      "🔵 Initial Guess for L=100.90090090090091: [0.47833227 0.34891032 0.19923715 0.75393508 0.87513622]\n",
      "\n",
      "--- [DEBUG] Starting optimization for L=101.10110110110111 km ---\n",
      "🔵 Initial Guess for L=101.10110110110111: [0.47833227 0.34891032 0.19923715 0.75393508 0.87513622]\n",
      "\n",
      "--- [DEBUG] Starting optimization for L=101.30130130130131 km ---\n",
      "🔵 Initial Guess for L=101.30130130130131: [0.47833227 0.34891032 0.19923715 0.75393508 0.87513622]\n",
      "\n",
      "--- [DEBUG] Starting optimization for L=101.50150150150151 km ---\n",
      "🔵 Initial Guess for L=101.50150150150151: [0.47833227 0.34891032 0.19923715 0.75393508 0.87513622]\n"
     ]
    },
    {
     "name": "stderr",
     "output_type": "stream",
     "text": [
      "Optimizing:  50%|████▉     | 498/1000 [44:09<1:02:07,  7.43s/it]"
     ]
    },
    {
     "name": "stdout",
     "output_type": "stream",
     "text": [
      "✅ Final Optimized Parameters for L=99.8998998998999 km: [0.47844347 0.34888923 0.19950772 0.75364601 0.87506463]\n",
      "✅ Final Optimized Key Rate for L=99.8998998998999 km: 9.928739348822491e-05\n",
      "\n",
      "--- [DEBUG] Starting optimization for L=101.70170170170171 km ---\n",
      "🔵 Initial Guess for L=101.70170170170171: [0.47844347 0.34888923 0.19950772 0.75364601 0.87506463]\n",
      "✅ Final Optimized Parameters for L=100.10010010010011 km: [0.47847217 0.34888383 0.19957778 0.75357116 0.87504621]\n",
      "✅ Final Optimized Key Rate for L=100.10010010010011 km: 9.832752281284694e-05\n",
      "\n",
      "--- [DEBUG] Starting optimization for L=101.90190190190191 km ---\n",
      "🔵 Initial Guess for L=101.90190190190191: [0.47847217 0.34888383 0.19957778 0.75357116 0.87504621]\n"
     ]
    },
    {
     "name": "stderr",
     "output_type": "stream",
     "text": [
      "Optimizing:  50%|█████     | 502/1000 [44:09<33:32,  4.04s/it]  "
     ]
    },
    {
     "name": "stdout",
     "output_type": "stream",
     "text": [
      "✅ Final Optimized Parameters for L=99.4994994994995 km: [0.47838755 0.34889987 0.19937116 0.75379188 0.87510075]\n",
      "✅ Final Optimized Key Rate for L=99.4994994994995 km: 0.00010123395081669508\n",
      "\n",
      "--- [DEBUG] Starting optimization for L=102.10210210210211 km ---\n",
      "🔵 Initial Guess for L=102.10210210210211: [0.47838755 0.34889987 0.19937116 0.75379188 0.87510075]\n",
      "✅ Final Optimized Parameters for L=99.6996996996997 km: [0.47841527 0.3488947  0.19943976 0.7537187  0.87508271]\n",
      "✅ Final Optimized Key Rate for L=99.6996996996997 km: 0.00010025617531507396\n",
      "\n",
      "--- [DEBUG] Starting optimization for L=102.30230230230231 km ---\n",
      "🔵 Initial Guess for L=102.30230230230231: [0.47841527 0.3488947  0.19943976 0.7537187  0.87508271]\n",
      "✅ Final Optimized Parameters for L=101.30130130130131 km: [0.47864861 0.34885005 0.20000773 0.75311194 0.87493201]\n",
      "✅ Final Optimized Key Rate for L=101.30130130130131 km: 9.275090653241941e-05\n",
      "✅ Final Optimized Parameters for L=100.90090090090091 km: [0.47858837 0.34886145 0.1998617  0.75326785 0.87497081]\n",
      "✅ Final Optimized Key Rate for L=100.90090090090091 km: 9.457552761637986e-05\n",
      "✅ Final Optimized Parameters for L=101.10110110110111 km: [0.47861837 0.34885596 0.19993501 0.75318971 0.87495143]\n",
      "✅ Final Optimized Key Rate for L=101.10110110110111 km: 9.365900120869511e-05\n"
     ]
    },
    {
     "name": "stderr",
     "output_type": "stream",
     "text": [
      "Optimizing:  51%|█████     | 506/1000 [44:09<17:26,  2.12s/it]"
     ]
    },
    {
     "name": "stdout",
     "output_type": "stream",
     "text": [
      "✅ Final Optimized Parameters for L=100.30030030030031 km: [0.47849998 0.34887822 0.19964933 0.75349487 0.87502751]\n",
      "✅ Final Optimized Key Rate for L=100.30030030030031 km: 9.737648152543366e-05\n",
      "✅ Final Optimized Parameters for L=101.50150150150151 km: [0.47867909 0.34884424 0.20008175 0.75303307 0.87491246]\n",
      "✅ Final Optimized Key Rate for L=101.50150150150151 km: 9.185116624032143e-05\n",
      "✅ Final Optimized Parameters for L=99.2992992992993 km: [0.47835967 0.34890528 0.1993034  0.75386421 0.87511866]\n",
      "✅ Final Optimized Key Rate for L=99.2992992992993 km: 0.00010222080328385439\n",
      "✅ Final Optimized Parameters for L=100.50050050050051 km: [0.47853016 0.34887303 0.19971798 0.7534213  0.87500885]\n",
      "✅ Final Optimized Key Rate for L=100.50050050050051 km: 9.643418861640648e-05\n",
      "✅ Final Optimized Parameters for L=100.70070070070071 km: [0.47855906 0.34886726 0.19979051 0.75334395 0.87498986]\n",
      "✅ Final Optimized Key Rate for L=100.70070070070071 km: 9.550056382158815e-05\n"
     ]
    },
    {
     "name": "stderr",
     "output_type": "stream",
     "text": [
      "Optimizing:  51%|█████     | 509/1000 [44:24<26:01,  3.18s/it]"
     ]
    },
    {
     "name": "stdout",
     "output_type": "stream",
     "text": [
      "✅ Final Optimized Parameters for L=101.90190190190191 km: [0.47874056 0.3488324  0.20023144 0.75287319 0.8748725 ]\n",
      "✅ Final Optimized Key Rate for L=101.90190190190191 km: 9.007644297537472e-05\n",
      "✅ Final Optimized Parameters for L=101.70170170170171 km: [0.47870974 0.34883873 0.2001547  0.75295492 0.87489265]\n",
      "✅ Final Optimized Key Rate for L=101.70170170170171 km: 9.095970369751235e-05\n",
      "✅ Final Optimized Parameters for L=102.30230230230231 km: [0.47880435 0.34882072 0.20038355 0.7527106  0.87483176]\n",
      "✅ Final Optimized Key Rate for L=102.30230230230231 km: 8.833422676755081e-05\n",
      "✅ Final Optimized Parameters for L=102.10210210210211 km: [0.47877247 0.34882646 0.20030765 0.7527918  0.87485224]\n",
      "✅ Final Optimized Key Rate for L=102.10210210210211 km: 8.9201308844242e-05\n",
      "\n",
      "--- [DEBUG] Starting optimization for L=102.50250250250251 km ---\n",
      "🔵 Initial Guess for L=102.50250250250251: [0.47877247 0.34882646 0.20030765 0.7527918  0.87485224]\n",
      "\n",
      "--- [DEBUG] Starting optimization for L=102.70270270270271 km ---\n",
      "🔵 Initial Guess for L=102.70270270270271: [0.47877247 0.34882646 0.20030765 0.7527918  0.87485224]\n",
      "\n",
      "--- [DEBUG] Starting optimization for L=102.90290290290291 km ---\n",
      "🔵 Initial Guess for L=102.90290290290291: [0.47877247 0.34882646 0.20030765 0.7527918  0.87485224]\n",
      "\n",
      "--- [DEBUG] Starting optimization for L=103.10310310310311 km ---\n",
      "🔵 Initial Guess for L=103.10310310310311: [0.47877247 0.34882646 0.20030765 0.7527918  0.87485224]\n",
      "\n",
      "--- [DEBUG] Starting optimization for L=103.30330330330331 km ---\n",
      "🔵 Initial Guess for L=103.30330330330331: [0.47877247 0.34882646 0.20030765 0.7527918  0.87485224]\n",
      "\n",
      "--- [DEBUG] Starting optimization for L=103.50350350350351 km ---\n",
      "🔵 Initial Guess for L=103.50350350350351: [0.47877247 0.34882646 0.20030765 0.7527918  0.87485224]\n",
      "\n",
      "--- [DEBUG] Starting optimization for L=103.70370370370371 km ---\n",
      "🔵 Initial Guess for L=103.70370370370371: [0.47877247 0.34882646 0.20030765 0.7527918  0.87485224]\n",
      "\n",
      "--- [DEBUG] Starting optimization for L=103.90390390390391 km ---\n",
      "🔵 Initial Guess for L=103.90390390390391: [0.47877247 0.34882646 0.20030765 0.7527918  0.87485224]\n",
      "\n",
      "--- [DEBUG] Starting optimization for L=104.10410410410411 km ---\n",
      "🔵 Initial Guess for L=104.10410410410411: [0.47877247 0.34882646 0.20030765 0.7527918  0.87485224]\n",
      "\n",
      "--- [DEBUG] Starting optimization for L=104.30430430430431 km ---\n",
      "🔵 Initial Guess for L=104.30430430430431: [0.47877247 0.34882646 0.20030765 0.7527918  0.87485224]\n",
      "\n",
      "--- [DEBUG] Starting optimization for L=104.50450450450451 km ---\n",
      "🔵 Initial Guess for L=104.50450450450451: [0.47877247 0.34882646 0.20030765 0.7527918  0.87485224]\n",
      "\n",
      "--- [DEBUG] Starting optimization for L=104.70470470470471 km ---\n",
      "🔵 Initial Guess for L=104.70470470470471: [0.47877247 0.34882646 0.20030765 0.7527918  0.87485224]\n"
     ]
    },
    {
     "name": "stderr",
     "output_type": "stream",
     "text": [
      "Optimizing:  52%|█████▏    | 515/1000 [45:39<1:00:10,  7.45s/it]"
     ]
    },
    {
     "name": "stdout",
     "output_type": "stream",
     "text": [
      "✅ Final Optimized Parameters for L=104.30430430430431 km: [0.47913851 0.34875668 0.20118845 0.75185168 0.87461664]\n",
      "✅ Final Optimized Key Rate for L=104.30430430430431 km: 8.00903538045808e-05\n",
      "\n",
      "--- [DEBUG] Starting optimization for L=104.90490490490491 km ---\n",
      "🔵 Initial Guess for L=104.90490490490491: [0.47913851 0.34875668 0.20118845 0.75185168 0.87461664]\n",
      "✅ Final Optimized Parameters for L=103.70370370370371 km: [0.47903499 0.34877647 0.2009396  0.75211716 0.87468343]\n",
      "✅ Final Optimized Key Rate for L=103.70370370370371 km: 8.248399128257592e-05\n",
      "\n",
      "--- [DEBUG] Starting optimization for L=105.10510510510511 km ---\n",
      "🔵 Initial Guess for L=105.10510510510511: [0.47903499 0.34877647 0.2009396  0.75211716 0.87468343]\n",
      "✅ Final Optimized Parameters for L=104.70470470470471 km: [0.47920951 0.34874273 0.20135811 0.75167042 0.87457112]\n",
      "✅ Final Optimized Key Rate for L=104.70470470470471 km: 7.853108923847613e-05\n",
      "\n",
      "--- [DEBUG] Starting optimization for L=105.30530530530531 km ---\n",
      "🔵 Initial Guess for L=105.30530530530531: [0.47920951 0.34874273 0.20135811 0.75167042 0.87457112]\n"
     ]
    },
    {
     "name": "stderr",
     "output_type": "stream",
     "text": [
      "Optimizing:  52%|█████▏    | 520/1000 [45:39<30:32,  3.82s/it]  "
     ]
    },
    {
     "name": "stdout",
     "output_type": "stream",
     "text": [
      "✅ Final Optimized Parameters for L=102.50250250250251 km: [0.47883629 0.34881435 0.20046157 0.75262756 0.87481125]\n",
      "✅ Final Optimized Key Rate for L=102.50250250250251 km: 8.747512289556118e-05\n",
      "\n",
      "--- [DEBUG] Starting optimization for L=105.50550550550551 km ---\n",
      "🔵 Initial Guess for L=105.50550550550551: [0.47883629 0.34881435 0.20046157 0.75262756 0.87481125]\n",
      "✅ Final Optimized Parameters for L=102.70270270270271 km: [0.47886906 0.3488084  0.20053942 0.75254443 0.87479038]\n",
      "✅ Final Optimized Key Rate for L=102.70270270270271 km: 8.662392405815664e-05\n",
      "✅ Final Optimized Parameters for L=103.10310310310311 km: [0.47893382 0.34879578 0.20069795 0.75237524 0.87474823]\n",
      "✅ Final Optimized Key Rate for L=103.10310310310311 km: 8.494495217239257e-05\n",
      "✅ Final Optimized Parameters for L=103.30330330330331 km: [0.47896695 0.34878929 0.20077847 0.75228927 0.87472671]\n",
      "✅ Final Optimized Key Rate for L=103.30330330330331 km: 8.411703612945364e-05\n",
      "✅ Final Optimized Parameters for L=104.10410410410411 km: [0.47910373 0.34876318 0.20110473 0.75194103 0.87463901]\n",
      "✅ Final Optimized Key Rate for L=104.10410410410411 km: 8.088086688954201e-05\n",
      "✅ Final Optimized Parameters for L=102.90290290290291 km: [0.47890126 0.34880167 0.20061804 0.75246058 0.8747695 ]\n",
      "✅ Final Optimized Key Rate for L=102.90290290290291 km: 8.578055775973771e-05\n"
     ]
    },
    {
     "name": "stderr",
     "output_type": "stream",
     "text": [
      "Optimizing:  52%|█████▏    | 524/1000 [45:39<16:48,  2.12s/it]"
     ]
    },
    {
     "name": "stdout",
     "output_type": "stream",
     "text": [
      "✅ Final Optimized Parameters for L=103.50350350350351 km: [0.47900079 0.34878282 0.2008587  0.75220349 0.87470519]\n",
      "✅ Final Optimized Key Rate for L=103.50350350350351 km: 8.329673912005108e-05\n",
      "✅ Final Optimized Parameters for L=103.90390390390391 km: [0.47906882 0.34876962 0.20102303 0.75202814 0.87466127]\n",
      "✅ Final Optimized Key Rate for L=103.90390390390391 km: 8.167872339926714e-05\n",
      "✅ Final Optimized Parameters for L=104.50450450450451 km: [0.47917383 0.34874994 0.2012718  0.75176247 0.87459395]\n",
      "✅ Final Optimized Key Rate for L=104.50450450450451 km: 7.930711682195782e-05\n"
     ]
    },
    {
     "name": "stderr",
     "output_type": "stream",
     "text": [
      "Optimizing:  52%|█████▎    | 525/1000 [45:58<37:08,  4.69s/it]"
     ]
    },
    {
     "name": "stdout",
     "output_type": "stream",
     "text": [
      "✅ Final Optimized Parameters for L=104.90490490490491 km: [0.47924506 0.34873595 0.20144397 0.75157874 0.8745479 ]\n",
      "✅ Final Optimized Key Rate for L=104.90490490490491 km: 7.776220496605887e-05\n",
      "✅ Final Optimized Parameters for L=105.30530530530531 km: [0.4793176  0.34872175 0.20161952 0.75139149 0.87450097]\n",
      "✅ Final Optimized Key Rate for L=105.30530530530531 km: 7.624560503853768e-05\n",
      "✅ Final Optimized Parameters for L=105.50550550550551 km: [0.47935492 0.34871434 0.2017088  0.75129639 0.874477  ]\n",
      "✅ Final Optimized Key Rate for L=105.50550550550551 km: 7.549776022815919e-05\n",
      "✅ Final Optimized Parameters for L=105.10510510510511 km: [0.4792813  0.34872887 0.20153144 0.7514854  0.87452435]\n",
      "✅ Final Optimized Key Rate for L=105.10510510510511 km: 7.700039852483125e-05\n",
      "\n",
      "--- [DEBUG] Starting optimization for L=105.70570570570571 km ---\n",
      "🔵 Initial Guess for L=105.70570570570571: [0.4792813  0.34872887 0.20153144 0.7514854  0.87452435]\n",
      "\n",
      "--- [DEBUG] Starting optimization for L=105.90590590590591 km ---\n",
      "🔵 Initial Guess for L=105.90590590590591: [0.4792813  0.34872887 0.20153144 0.7514854  0.87452435]\n",
      "\n",
      "--- [DEBUG] Starting optimization for L=106.10610610610611 km ---\n",
      "🔵 Initial Guess for L=106.10610610610611: [0.4792813  0.34872887 0.20153144 0.7514854  0.87452435]\n",
      "\n",
      "--- [DEBUG] Starting optimization for L=106.30630630630631 km ---\n",
      "🔵 Initial Guess for L=106.30630630630631: [0.4792813  0.34872887 0.20153144 0.7514854  0.87452435]\n",
      "\n",
      "--- [DEBUG] Starting optimization for L=106.50650650650651 km ---\n",
      "🔵 Initial Guess for L=106.50650650650651: [0.4792813  0.34872887 0.20153144 0.7514854  0.87452435]\n",
      "\n",
      "--- [DEBUG] Starting optimization for L=106.70670670670671 km ---\n",
      "🔵 Initial Guess for L=106.70670670670671: [0.4792813  0.34872887 0.20153144 0.7514854  0.87452435]\n",
      "\n",
      "--- [DEBUG] Starting optimization for L=106.90690690690691 km ---\n",
      "🔵 Initial Guess for L=106.90690690690691: [0.4792813  0.34872887 0.20153144 0.7514854  0.87452435]\n",
      "\n",
      "--- [DEBUG] Starting optimization for L=107.10710710710711 km ---\n",
      "🔵 Initial Guess for L=107.10710710710711: [0.4792813  0.34872887 0.20153144 0.7514854  0.87452435]\n",
      "\n",
      "--- [DEBUG] Starting optimization for L=107.30730730730731 km ---\n",
      "🔵 Initial Guess for L=107.30730730730731: [0.4792813  0.34872887 0.20153144 0.7514854  0.87452435]\n",
      "\n",
      "--- [DEBUG] Starting optimization for L=107.50750750750751 km ---\n",
      "🔵 Initial Guess for L=107.50750750750751: [0.4792813  0.34872887 0.20153144 0.7514854  0.87452435]\n",
      "\n",
      "--- [DEBUG] Starting optimization for L=107.70770770770771 km ---\n",
      "🔵 Initial Guess for L=107.70770770770771: [0.4792813  0.34872887 0.20153144 0.7514854  0.87452435]\n",
      "\n",
      "--- [DEBUG] Starting optimization for L=107.90790790790791 km ---\n",
      "🔵 Initial Guess for L=107.90790790790791: [0.4792813  0.34872887 0.20153144 0.7514854  0.87452435]\n"
     ]
    },
    {
     "name": "stderr",
     "output_type": "stream",
     "text": [
      "Optimizing:  53%|█████▎    | 529/1000 [47:12<1:28:35, 11.28s/it]"
     ]
    },
    {
     "name": "stdout",
     "output_type": "stream",
     "text": [
      "✅ Final Optimized Parameters for L=107.30730730730731 km: [0.4797027  0.34864563 0.20253774 0.75041178 0.87425242]\n",
      "✅ Final Optimized Key Rate for L=107.30730730730731 km: 6.906953014677565e-05\n",
      "\n",
      "--- [DEBUG] Starting optimization for L=108.10810810810811 km ---\n",
      "🔵 Initial Guess for L=108.10810810810811: [0.4797027  0.34864563 0.20253774 0.75041178 0.87425242]\n",
      "✅ Final Optimized Parameters for L=106.10610610610611 km: [0.47946714 0.34869214 0.20197647 0.75101054 0.87440434]\n",
      "✅ Final Optimized Key Rate for L=106.10610610610611 km: 7.329528391266292e-05\n",
      "\n",
      "--- [DEBUG] Starting optimization for L=108.30830830830831 km ---\n",
      "🔵 Initial Guess for L=108.30830830830831: [0.47946714 0.34869214 0.20197647 0.75101054 0.87440434]\n"
     ]
    },
    {
     "name": "stderr",
     "output_type": "stream",
     "text": [
      "Optimizing:  53%|█████▎    | 531/1000 [47:12<1:05:58,  8.44s/it]"
     ]
    },
    {
     "name": "stdout",
     "output_type": "stream",
     "text": [
      "✅ Final Optimized Parameters for L=107.50750750750751 km: [0.47974301 0.3486375  0.20263372 0.7503091  0.8742263 ]\n",
      "✅ Final Optimized Key Rate for L=107.50750750750751 km: 6.838776435657468e-05\n",
      "\n",
      "--- [DEBUG] Starting optimization for L=108.50850850850851 km ---\n",
      "🔵 Initial Guess for L=108.50850850850851: [0.47974301 0.3486375  0.20263372 0.7503091  0.8742263 ]\n",
      "✅ Final Optimized Parameters for L=106.50650650650651 km: [0.47954474 0.34867679 0.20216158 0.75081316 0.87435461]\n",
      "✅ Final Optimized Key Rate for L=106.50650650650651 km: 7.186055769682007e-05\n",
      "\n",
      "--- [DEBUG] Starting optimization for L=108.70870870870871 km ---\n",
      "🔵 Initial Guess for L=108.70870870870871: [0.47954474 0.34867679 0.20216158 0.75081316 0.87435461]\n"
     ]
    },
    {
     "name": "stderr",
     "output_type": "stream",
     "text": [
      "Optimizing:  53%|█████▎    | 533/1000 [47:12<48:26,  6.22s/it]  "
     ]
    },
    {
     "name": "stdout",
     "output_type": "stream",
     "text": [
      "✅ Final Optimized Parameters for L=107.10710710710711 km: [0.47966292 0.34865381 0.20244128 0.75051442 0.87427844]\n",
      "✅ Final Optimized Key Rate for L=107.10710710710711 km: 6.975763350556023e-05\n",
      "✅ Final Optimized Parameters for L=107.70770770770771 km: [0.47978423 0.3486293  0.20273103 0.75020553 0.87419986]\n",
      "✅ Final Optimized Key Rate for L=107.70770770770771 km: 6.771227807742876e-05\n"
     ]
    },
    {
     "name": "stderr",
     "output_type": "stream",
     "text": [
      "Optimizing:  54%|█████▎    | 537/1000 [47:13<25:21,  3.29s/it]"
     ]
    },
    {
     "name": "stdout",
     "output_type": "stream",
     "text": [
      "✅ Final Optimized Parameters for L=105.70570570570571 km: [0.47939178 0.34870679 0.20179721 0.75120195 0.87445313]\n",
      "✅ Final Optimized Key Rate for L=105.70570570570571 km: 7.475680040705932e-05\n",
      "✅ Final Optimized Parameters for L=106.70670670670671 km: [0.47958358 0.3486692  0.20225453 0.750714   0.87432943]\n",
      "✅ Final Optimized Key Rate for L=106.70670670670671 km: 7.115308786351822e-05\n",
      "✅ Final Optimized Parameters for L=106.90690690690691 km: [0.47962367 0.34866182 0.20234613 0.75061604 0.8743041 ]\n",
      "✅ Final Optimized Key Rate for L=106.90690690690691 km: 7.04521330302983e-05\n"
     ]
    },
    {
     "name": "stderr",
     "output_type": "stream",
     "text": [
      "Optimizing:  54%|█████▍    | 539/1000 [47:13<18:11,  2.37s/it]"
     ]
    },
    {
     "name": "stdout",
     "output_type": "stream",
     "text": [
      "✅ Final Optimized Parameters for L=107.90790790790791 km: [0.4798252  0.34862075 0.20283004 0.75009986 0.87417291]\n",
      "✅ Final Optimized Key Rate for L=107.90790790790791 km: 6.704301378649505e-05\n",
      "✅ Final Optimized Parameters for L=105.90590590590591 km: [0.47942956 0.34869964 0.20188738 0.75110569 0.87442895]\n",
      "✅ Final Optimized Key Rate for L=105.90590590590591 km: 7.40226624748124e-05\n",
      "✅ Final Optimized Parameters for L=106.30630630630631 km: [0.47950552 0.34868448 0.20206882 0.75091202 0.87437974]\n",
      "✅ Final Optimized Key Rate for L=106.30630630630631 km: 7.257460277750823e-05\n"
     ]
    },
    {
     "name": "stderr",
     "output_type": "stream",
     "text": [
      "Optimizing:  54%|█████▍    | 542/1000 [47:31<27:27,  3.60s/it]"
     ]
    },
    {
     "name": "stdout",
     "output_type": "stream",
     "text": [
      "✅ Final Optimized Parameters for L=108.10810810810811 km: [0.47986699 0.34861249 0.20292993 0.74999337 0.87414598]\n",
      "✅ Final Optimized Key Rate for L=108.10810810810811 km: 6.63799144908366e-05\n",
      "✅ Final Optimized Parameters for L=108.50850850850851 km: [0.47995097 0.34859499 0.20313054 0.7497792  0.87409132]\n",
      "✅ Final Optimized Key Rate for L=108.50850850850851 km: 6.507198553416162e-05\n",
      "✅ Final Optimized Parameters for L=108.30830830830831 km: [0.47990898 0.34860393 0.2030292  0.74988748 0.87411881]\n",
      "✅ Final Optimized Key Rate for L=108.30830830830831 km: 6.572292372269633e-05\n",
      "✅ Final Optimized Parameters for L=108.70870870870871 km: [0.47999415 0.3485866  0.20323241 0.74967075 0.87406355]\n",
      "✅ Final Optimized Key Rate for L=108.70870870870871 km: 6.4427044493221e-05\n",
      "\n",
      "--- [DEBUG] Starting optimization for L=108.90890890890891 km ---\n",
      "🔵 Initial Guess for L=108.90890890890891: [0.47999415 0.3485866  0.20323241 0.74967075 0.87406355]\n",
      "\n",
      "--- [DEBUG] Starting optimization for L=109.10910910910911 km ---\n",
      "🔵 Initial Guess for L=109.10910910910911: [0.47999415 0.3485866  0.20323241 0.74967075 0.87406355]\n",
      "\n",
      "--- [DEBUG] Starting optimization for L=109.30930930930931 km ---\n",
      "🔵 Initial Guess for L=109.30930930930931: [0.47999415 0.3485866  0.20323241 0.74967075 0.87406355]\n",
      "\n",
      "--- [DEBUG] Starting optimization for L=109.50950950950951 km ---\n",
      "🔵 Initial Guess for L=109.50950950950951: [0.47999415 0.3485866  0.20323241 0.74967075 0.87406355]\n",
      "\n",
      "--- [DEBUG] Starting optimization for L=109.70970970970971 km ---\n",
      "🔵 Initial Guess for L=109.70970970970971: [0.47999415 0.3485866  0.20323241 0.74967075 0.87406355]\n",
      "\n",
      "--- [DEBUG] Starting optimization for L=109.90990990990991 km ---\n",
      "🔵 Initial Guess for L=109.90990990990991: [0.47999415 0.3485866  0.20323241 0.74967075 0.87406355]\n",
      "\n",
      "--- [DEBUG] Starting optimization for L=110.11011011011011 km ---\n",
      "🔵 Initial Guess for L=110.11011011011011: [0.47999415 0.3485866  0.20323241 0.74967075 0.87406355]\n",
      "\n",
      "--- [DEBUG] Starting optimization for L=110.31031031031031 km ---\n",
      "🔵 Initial Guess for L=110.31031031031031: [0.47999415 0.3485866  0.20323241 0.74967075 0.87406355]\n",
      "\n",
      "--- [DEBUG] Starting optimization for L=110.51051051051051 km ---\n",
      "🔵 Initial Guess for L=110.51051051051051: [0.47999415 0.3485866  0.20323241 0.74967075 0.87406355]\n",
      "\n",
      "--- [DEBUG] Starting optimization for L=110.71071071071071 km ---\n",
      "🔵 Initial Guess for L=110.71071071071071: [0.47999415 0.3485866  0.20323241 0.74967075 0.87406355]\n",
      "\n",
      "--- [DEBUG] Starting optimization for L=110.91091091091091 km ---\n",
      "🔵 Initial Guess for L=110.91091091091091: [0.47999415 0.3485866  0.20323241 0.74967075 0.87406355]\n",
      "\n",
      "--- [DEBUG] Starting optimization for L=111.11111111111111 km ---\n",
      "🔵 Initial Guess for L=111.11111111111111: [0.47999415 0.3485866  0.20323241 0.74967075 0.87406355]\n"
     ]
    },
    {
     "name": "stderr",
     "output_type": "stream",
     "text": [
      "Optimizing:  55%|█████▍    | 545/1000 [48:45<1:35:12, 12.55s/it]"
     ]
    },
    {
     "name": "stdout",
     "output_type": "stream",
     "text": [
      "✅ Final Optimized Parameters for L=110.71071071071071 km: [0.48044349 0.34849265 0.20430096 0.74853115 0.87377027]\n",
      "✅ Final Optimized Key Rate for L=110.71071071071071 km: 5.829564124407815e-05\n",
      "\n",
      "--- [DEBUG] Starting optimization for L=111.31131131131131 km ---\n",
      "🔵 Initial Guess for L=111.31131131131131: [0.48044349 0.34849265 0.20430096 0.74853115 0.87377027]\n",
      "✅ Final Optimized Parameters for L=109.10910910910911 km: [0.48008096 0.34856848 0.20343692 0.74945238 0.8740073 ]\n",
      "✅ Final Optimized Key Rate for L=109.10910910910911 km: 6.315493467313897e-05\n",
      "\n",
      "--- [DEBUG] Starting optimization for L=111.51151151151151 km ---\n",
      "🔵 Initial Guess for L=111.51151151151151: [0.48008096 0.34856848 0.20343692 0.74945238 0.8740073 ]\n"
     ]
    },
    {
     "name": "stderr",
     "output_type": "stream",
     "text": [
      "Optimizing:  55%|█████▍    | 547/1000 [48:45<1:07:50,  8.99s/it]"
     ]
    },
    {
     "name": "stdout",
     "output_type": "stream",
     "text": [
      "✅ Final Optimized Parameters for L=108.90890890890891 km: [0.4800371  0.34857713 0.20333441 0.749562   0.87403545]\n",
      "✅ Final Optimized Key Rate for L=108.90890890890891 km: 6.378804567803258e-05\n",
      "\n",
      "--- [DEBUG] Starting optimization for L=111.71171171171171 km ---\n",
      "🔵 Initial Guess for L=111.71171171171171: [0.4800371  0.34857713 0.20333441 0.749562   0.87403545]\n",
      "✅ Final Optimized Parameters for L=109.50950950950951 km: [0.48016922 0.34855014 0.20364787 0.74922757 0.8739497 ]\n",
      "✅ Final Optimized Key Rate for L=109.50950950950951 km: 6.190616093330633e-05\n",
      "\n",
      "--- [DEBUG] Starting optimization for L=111.91191191191191 km ---\n",
      "🔵 Initial Guess for L=111.91191191191191: [0.48016922 0.34855014 0.20364787 0.74922757 0.8739497 ]\n"
     ]
    },
    {
     "name": "stderr",
     "output_type": "stream",
     "text": [
      "Optimizing:  55%|█████▌    | 552/1000 [48:46<29:31,  3.95s/it]  "
     ]
    },
    {
     "name": "stdout",
     "output_type": "stream",
     "text": [
      "✅ Final Optimized Parameters for L=110.11011011011011 km: [0.48030484 0.34852158 0.20397037 0.74888384 0.87386132]\n",
      "✅ Final Optimized Key Rate for L=110.11011011011011 km: 6.0075827088457384e-05\n",
      "✅ Final Optimized Parameters for L=109.90990990990991 km: [0.48025901 0.34853113 0.20385934 0.74900193 0.87389126]\n",
      "✅ Final Optimized Key Rate for L=109.90990990990991 km: 6.068029789168021e-05\n",
      "✅ Final Optimized Parameters for L=110.31031031031031 km: [0.48035046 0.34851212 0.20408001 0.74876676 0.87383152]\n",
      "✅ Final Optimized Key Rate for L=110.31031031031031 km: 5.9476927968963666e-05\n",
      "✅ Final Optimized Parameters for L=110.51051051051051 km: [0.48039734 0.34850206 0.20419168 0.74864794 0.87380093]\n",
      "✅ Final Optimized Key Rate for L=110.51051051051051 km: 5.888354953155485e-05\n",
      "✅ Final Optimized Parameters for L=109.30930930930931 km: [0.48012497 0.34855949 0.20354155 0.74934088 0.87397871]\n",
      "✅ Final Optimized Key Rate for L=109.30930930930931 km: 6.252765756405081e-05\n"
     ]
    },
    {
     "name": "stderr",
     "output_type": "stream",
     "text": [
      "Optimizing:  56%|█████▌    | 556/1000 [48:46<15:44,  2.13s/it]"
     ]
    },
    {
     "name": "stdout",
     "output_type": "stream",
     "text": [
      "✅ Final Optimized Parameters for L=110.91091091091091 km: [0.48049086 0.348482   0.20441352 0.74841122 0.87373948]\n",
      "✅ Final Optimized Key Rate for L=110.91091091091091 km: 5.7713153040731964e-05\n",
      "✅ Final Optimized Parameters for L=109.70970970970971 km: [0.48021318 0.34854065 0.20375321 0.74911503 0.87392057]\n",
      "✅ Final Optimized Key Rate for L=109.70970970970971 km: 6.129039185504932e-05\n",
      "✅ Final Optimized Parameters for L=111.11111111111111 km: [0.4805386  0.34847177 0.20452659 0.74829068 0.87370837]\n",
      "✅ Final Optimized Key Rate for L=111.11111111111111 km: 5.71360353157824e-05\n"
     ]
    },
    {
     "name": "stderr",
     "output_type": "stream",
     "text": [
      "Optimizing:  56%|█████▌    | 559/1000 [49:04<24:04,  3.28s/it]"
     ]
    },
    {
     "name": "stdout",
     "output_type": "stream",
     "text": [
      "✅ Final Optimized Parameters for L=111.31131131131131 km: [0.48058715 0.34846159 0.20464038 0.74816935 0.87367673]\n",
      "✅ Final Optimized Key Rate for L=111.31131131131131 km: 5.6564238921536685e-05\n",
      "✅ Final Optimized Parameters for L=111.91191191191191 km: [0.48073426 0.3484299  0.20498726 0.74779937 0.87358039]\n",
      "✅ Final Optimized Key Rate for L=111.91191191191191 km: 5.488029301091752e-05\n",
      "✅ Final Optimized Parameters for L=111.71171171171171 km: [0.48068497 0.34844014 0.20487212 0.74792235 0.8736129 ]\n",
      "✅ Final Optimized Key Rate for L=111.71171171171171 km: 5.543641579328781e-05\n",
      "✅ Final Optimized Parameters for L=111.51151151151151 km: [0.48063589 0.34845094 0.20475573 0.74804638 0.87364499]\n",
      "✅ Final Optimized Key Rate for L=111.51151151151151 km: 5.599771516287869e-05\n",
      "\n",
      "--- [DEBUG] Starting optimization for L=112.11211211211211 km ---\n",
      "🔵 Initial Guess for L=112.11211211211211: [0.48063589 0.34845094 0.20475573 0.74804638 0.87364499]\n",
      "\n",
      "--- [DEBUG] Starting optimization for L=112.31231231231232 km ---\n",
      "🔵 Initial Guess for L=112.31231231231232: [0.48063589 0.34845094 0.20475573 0.74804638 0.87364499]\n",
      "\n",
      "--- [DEBUG] Starting optimization for L=112.51251251251252 km ---\n",
      "🔵 Initial Guess for L=112.51251251251252: [0.48063589 0.34845094 0.20475573 0.74804638 0.87364499]\n",
      "\n",
      "--- [DEBUG] Starting optimization for L=112.71271271271272 km ---\n",
      "🔵 Initial Guess for L=112.71271271271272: [0.48063589 0.34845094 0.20475573 0.74804638 0.87364499]\n",
      "\n",
      "--- [DEBUG] Starting optimization for L=112.91291291291292 km ---\n",
      "🔵 Initial Guess for L=112.91291291291292: [0.48063589 0.34845094 0.20475573 0.74804638 0.87364499]\n",
      "\n",
      "--- [DEBUG] Starting optimization for L=113.11311311311312 km ---\n",
      "🔵 Initial Guess for L=113.11311311311312: [0.48063589 0.34845094 0.20475573 0.74804638 0.87364499]\n",
      "\n",
      "--- [DEBUG] Starting optimization for L=113.31331331331332 km ---\n",
      "🔵 Initial Guess for L=113.31331331331332: [0.48063589 0.34845094 0.20475573 0.74804638 0.87364499]\n",
      "\n",
      "--- [DEBUG] Starting optimization for L=113.51351351351352 km ---\n",
      "🔵 Initial Guess for L=113.51351351351352: [0.48063589 0.34845094 0.20475573 0.74804638 0.87364499]\n",
      "\n",
      "--- [DEBUG] Starting optimization for L=113.71371371371372 km ---\n",
      "🔵 Initial Guess for L=113.71371371371372: [0.48063589 0.34845094 0.20475573 0.74804638 0.87364499]\n",
      "\n",
      "--- [DEBUG] Starting optimization for L=113.91391391391392 km ---\n",
      "🔵 Initial Guess for L=113.91391391391392: [0.48063589 0.34845094 0.20475573 0.74804638 0.87364499]\n",
      "\n",
      "--- [DEBUG] Starting optimization for L=114.11411411411412 km ---\n",
      "🔵 Initial Guess for L=114.11411411411412: [0.48063589 0.34845094 0.20475573 0.74804638 0.87364499]\n",
      "\n",
      "--- [DEBUG] Starting optimization for L=114.31431431431432 km ---\n",
      "🔵 Initial Guess for L=114.31431431431432: [0.48063589 0.34845094 0.20475573 0.74804638 0.87364499]\n"
     ]
    },
    {
     "name": "stderr",
     "output_type": "stream",
     "text": [
      "Optimizing:  56%|█████▌    | 561/1000 [50:19<1:41:36, 13.89s/it]"
     ]
    },
    {
     "name": "stdout",
     "output_type": "stream",
     "text": [
      "✅ Final Optimized Parameters for L=114.31431431431432 km: [0.48136193 0.34828752 0.20647877 0.7462097  0.8731652 ]\n",
      "✅ Final Optimized Key Rate for L=114.31431431431432 km: 4.859378282541823e-05\n",
      "\n",
      "--- [DEBUG] Starting optimization for L=114.51451451451452 km ---\n",
      "🔵 Initial Guess for L=114.51451451451452: [0.48136193 0.34828752 0.20647877 0.7462097  0.8731652 ]\n"
     ]
    },
    {
     "name": "stderr",
     "output_type": "stream",
     "text": [
      "Optimizing:  56%|█████▋    | 565/1000 [50:19<46:24,  6.40s/it]  "
     ]
    },
    {
     "name": "stdout",
     "output_type": "stream",
     "text": [
      "✅ Final Optimized Parameters for L=112.71271271271272 km: [0.48093603 0.3483843  0.20547195 0.74728287 0.87344744]\n",
      "✅ Final Optimized Key Rate for L=112.71271271271272 km: 5.270662704844168e-05\n",
      "\n",
      "--- [DEBUG] Starting optimization for L=114.71471471471472 km ---\n",
      "🔵 Initial Guess for L=114.71471471471472: [0.48093603 0.3483843  0.20547195 0.74728287 0.87344744]\n",
      "✅ Final Optimized Parameters for L=114.11411411411412 km: [0.48130705 0.34829997 0.20634982 0.74634707 0.87320144]\n",
      "✅ Final Optimized Key Rate for L=114.11411411411412 km: 4.909135875219668e-05\n",
      "\n",
      "--- [DEBUG] Starting optimization for L=114.91491491491492 km ---\n",
      "🔵 Initial Guess for L=114.91491491491492: [0.48130705 0.34829997 0.20634982 0.74634707 0.87320144]\n",
      "✅ Final Optimized Parameters for L=112.11211211211211 km: [0.48078337 0.34841868 0.20510653 0.74767219 0.87354773]\n",
      "✅ Final Optimized Key Rate for L=112.11211211211211 km: 5.432929945449893e-05\n",
      "\n",
      "--- [DEBUG] Starting optimization for L=115.11511511511512 km ---\n",
      "🔵 Initial Guess for L=115.11511511511512: [0.48078337 0.34841868 0.20510653 0.74767219 0.87354773]\n",
      "✅ Final Optimized Parameters for L=113.11311311311312 km: [0.48103891 0.348361   0.20571348 0.74702521 0.87337898]\n",
      "✅ Final Optimized Key Rate for L=113.11311311311312 km: 5.164964273783113e-05\n",
      "✅ Final Optimized Parameters for L=113.91391391391392 km: [0.48125241 0.34831282 0.20621851 0.74648677 0.87323782]\n",
      "✅ Final Optimized Key Rate for L=113.91391391391392 km: 4.959357086934545e-05\n"
     ]
    },
    {
     "name": "stderr",
     "output_type": "stream",
     "text": [
      "Optimizing:  57%|█████▋    | 569/1000 [50:19<25:10,  3.50s/it]"
     ]
    },
    {
     "name": "stdout",
     "output_type": "stream",
     "text": [
      "✅ Final Optimized Parameters for L=112.91291291291292 km: [0.48098759 0.34837307 0.20558927 0.74715771 0.87341327]\n",
      "✅ Final Optimized Key Rate for L=112.91291291291292 km: 5.217568545052434e-05\n",
      "✅ Final Optimized Parameters for L=113.71371371371372 km: [0.48119822 0.34832523 0.20608993 0.74662344 0.87327358]\n",
      "✅ Final Optimized Key Rate for L=113.71371371371372 km: 5.010046195163244e-05\n",
      "✅ Final Optimized Parameters for L=112.51251251251252 km: [0.48088521 0.34839615 0.20534693 0.74741614 0.87348112]\n",
      "✅ Final Optimized Key Rate for L=112.51251251251252 km: 5.3242512751774555e-05\n",
      "✅ Final Optimized Parameters for L=112.31231231231232 km: [0.48083358 0.34840724 0.20522569 0.74754553 0.87351464]\n",
      "✅ Final Optimized Key Rate for L=112.31231231231232 km: 5.3783388198887827e-05\n"
     ]
    },
    {
     "name": "stderr",
     "output_type": "stream",
     "text": [
      "Optimizing:  57%|█████▋    | 571/1000 [50:19<18:59,  2.66s/it]"
     ]
    },
    {
     "name": "stdout",
     "output_type": "stream",
     "text": [
      "✅ Final Optimized Parameters for L=113.51351351351352 km: [0.48114558 0.34833721 0.20596615 0.74675607 0.87330885]\n",
      "✅ Final Optimized Key Rate for L=113.51351351351352 km: 5.061207517330119e-05\n",
      "✅ Final Optimized Parameters for L=113.31331331331332 km: [0.48109252 0.34834976 0.2058385  0.74689203 0.87334429]\n",
      "✅ Final Optimized Key Rate for L=113.31331331331332 km: 5.11284541086359e-05\n"
     ]
    },
    {
     "name": "stderr",
     "output_type": "stream",
     "text": [
      "Optimizing:  57%|█████▋    | 573/1000 [50:38<30:59,  4.35s/it]"
     ]
    },
    {
     "name": "stdout",
     "output_type": "stream",
     "text": [
      "✅ Final Optimized Parameters for L=114.51451451451452 km: [0.48141731 0.34827426 0.20661095 0.74606891 0.87312799]\n",
      "✅ Final Optimized Key Rate for L=114.51451451451452 km: 4.810080070753354e-05\n",
      "✅ Final Optimized Parameters for L=115.11511511511512 km: [0.48158637 0.34823465 0.2070124  0.7456412  0.87301524]\n",
      "✅ Final Optimized Key Rate for L=115.11511511511512 km: 4.664899923586553e-05\n",
      "✅ Final Optimized Parameters for L=114.71471471471472 km: [0.48147308 0.34826174 0.20674274 0.74592847 0.87309083]\n",
      "✅ Final Optimized Key Rate for L=114.71471471471472 km: 4.761237040836803e-05\n",
      "✅ Final Optimized Parameters for L=114.91491491491492 km: [0.48152875 0.3482481  0.20687638 0.74578576 0.87305356]\n",
      "✅ Final Optimized Key Rate for L=114.91491491491492 km: 4.7128450324277386e-05\n",
      "\n",
      "--- [DEBUG] Starting optimization for L=115.31531531531532 km ---\n",
      "🔵 Initial Guess for L=115.31531531531532: [0.48152875 0.3482481  0.20687638 0.74578576 0.87305356]\n",
      "\n",
      "--- [DEBUG] Starting optimization for L=115.51551551551552 km ---\n",
      "🔵 Initial Guess for L=115.51551551551552: [0.48152875 0.3482481  0.20687638 0.74578576 0.87305356]\n",
      "\n",
      "--- [DEBUG] Starting optimization for L=115.71571571571572 km ---\n",
      "🔵 Initial Guess for L=115.71571571571572: [0.48152875 0.3482481  0.20687638 0.74578576 0.87305356]\n",
      "\n",
      "--- [DEBUG] Starting optimization for L=115.91591591591592 km ---\n",
      "🔵 Initial Guess for L=115.91591591591592: [0.48152875 0.3482481  0.20687638 0.74578576 0.87305356]\n",
      "\n",
      "--- [DEBUG] Starting optimization for L=116.11611611611612 km ---\n",
      "🔵 Initial Guess for L=116.11611611611612: [0.48152875 0.3482481  0.20687638 0.74578576 0.87305356]\n",
      "\n",
      "--- [DEBUG] Starting optimization for L=116.31631631631632 km ---\n",
      "🔵 Initial Guess for L=116.31631631631632: [0.48152875 0.3482481  0.20687638 0.74578576 0.87305356]\n",
      "\n",
      "--- [DEBUG] Starting optimization for L=116.51651651651652 km ---\n",
      "🔵 Initial Guess for L=116.51651651651652: [0.48152875 0.3482481  0.20687638 0.74578576 0.87305356]\n",
      "\n",
      "--- [DEBUG] Starting optimization for L=116.71671671671672 km ---\n",
      "🔵 Initial Guess for L=116.71671671671672: [0.48152875 0.3482481  0.20687638 0.74578576 0.87305356]\n",
      "\n",
      "--- [DEBUG] Starting optimization for L=116.91691691691692 km ---\n",
      "🔵 Initial Guess for L=116.91691691691692: [0.48152875 0.3482481  0.20687638 0.74578576 0.87305356]\n",
      "\n",
      "--- [DEBUG] Starting optimization for L=117.11711711711712 km ---\n",
      "🔵 Initial Guess for L=117.11711711711712: [0.48152875 0.3482481  0.20687638 0.74578576 0.87305356]\n",
      "\n",
      "--- [DEBUG] Starting optimization for L=117.31731731731732 km ---\n",
      "🔵 Initial Guess for L=117.31731731731732: [0.48152875 0.3482481  0.20687638 0.74578576 0.87305356]\n",
      "\n",
      "--- [DEBUG] Starting optimization for L=117.51751751751752 km ---\n",
      "🔵 Initial Guess for L=117.51751751751752: [0.48152875 0.3482481  0.20687638 0.74578576 0.87305356]\n"
     ]
    },
    {
     "name": "stderr",
     "output_type": "stream",
     "text": [
      "Optimizing:  58%|█████▊    | 578/1000 [51:52<1:03:38,  9.05s/it]"
     ]
    },
    {
     "name": "stdout",
     "output_type": "stream",
     "text": [
      "✅ Final Optimized Parameters for L=116.91691691691692 km: [0.48212067 0.34810491 0.20827785 0.74429264 0.87265593]\n",
      "✅ Final Optimized Key Rate for L=116.91691691691692 km: 4.252842829441724e-05\n",
      "\n",
      "--- [DEBUG] Starting optimization for L=117.71771771771772 km ---\n",
      "🔵 Initial Guess for L=117.71771771771772: [0.48212067 0.34810491 0.20827785 0.74429264 0.87265593]\n",
      "✅ Final Optimized Parameters for L=115.91591591591592 km: [0.48181884 0.3481792  0.2075615  0.74505576 0.87285953]\n",
      "✅ Final Optimized Key Rate for L=115.91591591591592 km: 4.477507366252059e-05\n",
      "\n",
      "--- [DEBUG] Starting optimization for L=117.91791791791792 km ---\n",
      "🔵 Initial Guess for L=117.91791791791792: [0.48181884 0.3481792  0.2075615  0.74505576 0.87285953]\n"
     ]
    },
    {
     "name": "stderr",
     "output_type": "stream",
     "text": [
      "Optimizing:  58%|█████▊    | 583/1000 [51:52<28:56,  4.17s/it]  "
     ]
    },
    {
     "name": "stdout",
     "output_type": "stream",
     "text": [
      "✅ Final Optimized Parameters for L=117.11711711711712 km: [0.48218249 0.34808923 0.20842903 0.74413193 0.87261376]\n",
      "✅ Final Optimized Key Rate for L=117.11711711711712 km: 4.2091481955204763e-05\n",
      "\n",
      "--- [DEBUG] Starting optimization for L=118.11811811811812 km ---\n",
      "🔵 Initial Guess for L=118.11811811811812: [0.48218249 0.34808923 0.20842903 0.74413193 0.87261376]\n",
      "✅ Final Optimized Parameters for L=116.11611611611612 km: [0.48187799 0.34816474 0.20770338 0.74490474 0.87281955]\n",
      "✅ Final Optimized Key Rate for L=116.11611611611612 km: 4.4317362429529276e-05\n",
      "\n",
      "--- [DEBUG] Starting optimization for L=118.31831831831832 km ---\n",
      "🔵 Initial Guess for L=118.31831831831832: [0.48187799 0.34816474 0.20770338 0.74490474 0.87281955]\n",
      "✅ Final Optimized Parameters for L=115.31531531531532 km: [0.48164432 0.3482214  0.20714745 0.74549702 0.87297703]\n",
      "✅ Final Optimized Key Rate for L=115.31531531531532 km: 4.617397630257563e-05\n",
      "✅ Final Optimized Parameters for L=117.51751751751752 km: [0.48230813 0.34805782 0.20872623 0.74381515 0.87252867]\n",
      "✅ Final Optimized Key Rate for L=117.51751751751752 km: 4.1229672099159016e-05\n",
      "✅ Final Optimized Parameters for L=115.71571571571572 km: [0.48175948 0.34819338 0.20742341 0.74520302 0.87289901]\n",
      "✅ Final Optimized Key Rate for L=115.71571571571572 km: 4.523705342161491e-05\n",
      "✅ Final Optimized Parameters for L=116.51651651651652 km: [0.48199802 0.34813508 0.20799098 0.74459843 0.87273849]\n",
      "✅ Final Optimized Key Rate for L=116.51651651651652 km: 4.341458993386834e-05\n",
      "✅ Final Optimized Parameters for L=115.51551551551552 km: [0.48170173 0.34820758 0.20728457 0.74535107 0.8729382 ]\n",
      "✅ Final Optimized Key Rate for L=115.51551551551552 km: 4.57033410613456e-05\n"
     ]
    },
    {
     "name": "stderr",
     "output_type": "stream",
     "text": [
      "Optimizing:  59%|█████▉    | 588/1000 [51:53<14:18,  2.08s/it]"
     ]
    },
    {
     "name": "stdout",
     "output_type": "stream",
     "text": [
      "✅ Final Optimized Parameters for L=117.31731731731732 km: [0.48224554 0.34807388 0.20857645 0.74397454 0.87257151]\n",
      "✅ Final Optimized Key Rate for L=117.31731731731732 km: 4.165857551804265e-05\n",
      "✅ Final Optimized Parameters for L=116.71671671671672 km: [0.4820596  0.34812009 0.20813535 0.74444472 0.87269735]\n",
      "✅ Final Optimized Key Rate for L=116.71671671671672 km: 4.2969451762867134e-05\n",
      "✅ Final Optimized Parameters for L=116.31631631631632 km: [0.48193792 0.34815003 0.20784488 0.74475403 0.87277921]\n",
      "✅ Final Optimized Key Rate for L=116.31631631631632 km: 4.3863880730724696e-05\n"
     ]
    },
    {
     "name": "stderr",
     "output_type": "stream",
     "text": [
      "Optimizing:  59%|█████▉    | 590/1000 [52:11<26:54,  3.94s/it]"
     ]
    },
    {
     "name": "stdout",
     "output_type": "stream",
     "text": [
      "✅ Final Optimized Parameters for L=117.71771771771772 km: [0.4823722  0.34804185 0.20887783 0.7436537  0.87248541]\n",
      "✅ Final Optimized Key Rate for L=117.71771771771772 km: 4.080473515491394e-05\n",
      "✅ Final Optimized Parameters for L=118.11811811811812 km: [0.48250065 0.34800872 0.2091848  0.74332685 0.87239738]\n",
      "✅ Final Optimized Key Rate for L=118.11811811811812 km: 3.9966616197770445e-05\n",
      "✅ Final Optimized Parameters for L=118.31831831831832 km: [0.48256622 0.34799212 0.20934017 0.74316141 0.87235279]\n",
      "✅ Final Optimized Key Rate for L=118.31831831831832 km: 3.955336277031342e-05\n",
      "✅ Final Optimized Parameters for L=117.91791791791792 km: [0.48243593 0.34802544 0.20903129 0.74349015 0.87244181]\n",
      "✅ Final Optimized Key Rate for L=117.91791791791792 km: 4.0383728478623225e-05\n",
      "\n",
      "--- [DEBUG] Starting optimization for L=118.51851851851852 km ---\n",
      "🔵 Initial Guess for L=118.51851851851852: [0.48243593 0.34802544 0.20903129 0.74349015 0.87244181]\n",
      "\n",
      "--- [DEBUG] Starting optimization for L=118.71871871871872 km ---\n",
      "🔵 Initial Guess for L=118.71871871871872: [0.48243593 0.34802544 0.20903129 0.74349015 0.87244181]\n",
      "\n",
      "--- [DEBUG] Starting optimization for L=118.91891891891892 km ---\n",
      "🔵 Initial Guess for L=118.91891891891892: [0.48243593 0.34802544 0.20903129 0.74349015 0.87244181]\n",
      "\n",
      "--- [DEBUG] Starting optimization for L=119.11911911911912 km ---\n",
      "🔵 Initial Guess for L=119.11911911911912: [0.48243593 0.34802544 0.20903129 0.74349015 0.87244181]\n",
      "\n",
      "--- [DEBUG] Starting optimization for L=119.31931931931932 km ---\n",
      "🔵 Initial Guess for L=119.31931931931932: [0.48243593 0.34802544 0.20903129 0.74349015 0.87244181]\n",
      "\n",
      "--- [DEBUG] Starting optimization for L=119.51951951951952 km ---\n",
      "🔵 Initial Guess for L=119.51951951951952: [0.48243593 0.34802544 0.20903129 0.74349015 0.87244181]\n",
      "\n",
      "--- [DEBUG] Starting optimization for L=119.71971971971973 km ---\n",
      "🔵 Initial Guess for L=119.71971971971973: [0.48243593 0.34802544 0.20903129 0.74349015 0.87244181]\n",
      "\n",
      "--- [DEBUG] Starting optimization for L=119.91991991991993 km ---\n",
      "🔵 Initial Guess for L=119.91991991991993: [0.48243593 0.34802544 0.20903129 0.74349015 0.87244181]\n",
      "\n",
      "--- [DEBUG] Starting optimization for L=120.12012012012013 km ---\n",
      "🔵 Initial Guess for L=120.12012012012013: [0.48243593 0.34802544 0.20903129 0.74349015 0.87244181]\n",
      "\n",
      "--- [DEBUG] Starting optimization for L=120.32032032032033 km ---\n",
      "🔵 Initial Guess for L=120.32032032032033: [0.48243593 0.34802544 0.20903129 0.74349015 0.87244181]\n",
      "\n",
      "--- [DEBUG] Starting optimization for L=120.52052052052053 km ---\n",
      "🔵 Initial Guess for L=120.52052052052053: [0.48243593 0.34802544 0.20903129 0.74349015 0.87244181]\n",
      "\n",
      "--- [DEBUG] Starting optimization for L=120.72072072072073 km ---\n",
      "🔵 Initial Guess for L=120.72072072072073: [0.48243593 0.34802544 0.20903129 0.74349015 0.87244181]\n"
     ]
    },
    {
     "name": "stderr",
     "output_type": "stream",
     "text": [
      "Optimizing:  59%|█████▉    | 594/1000 [53:26<1:06:48,  9.87s/it]"
     ]
    },
    {
     "name": "stdout",
     "output_type": "stream",
     "text": [
      "✅ Final Optimized Parameters for L=118.51851851851852 km: [0.48263068 0.34797479 0.20949619 0.74299492 0.87230842]\n",
      "✅ Final Optimized Key Rate for L=118.51851851851852 km: 3.914393298186113e-05\n",
      "\n",
      "--- [DEBUG] Starting optimization for L=120.92092092092093 km ---\n",
      "🔵 Initial Guess for L=120.92092092092093: [0.48263068 0.34797479 0.20949619 0.74299492 0.87230842]\n",
      "✅ Final Optimized Parameters for L=118.91891891891892 km: [0.48276474 0.3479402  0.20981185 0.74265868 0.87221674]\n",
      "✅ Final Optimized Key Rate for L=118.91891891891892 km: 3.8336405088624645e-05\n",
      "\n",
      "--- [DEBUG] Starting optimization for L=121.12112112112113 km ---\n",
      "🔵 Initial Guess for L=121.12112112112113: [0.48276474 0.3479402  0.20981185 0.74265868 0.87221674]\n",
      "✅ Final Optimized Parameters for L=120.12012012012013 km: [0.48317815 0.34782924 0.21079791 0.74160881 0.87193103]\n",
      "✅ Final Optimized Key Rate for L=120.12012012012013 km: 3.600202581821419e-05\n",
      "\n",
      "--- [DEBUG] Starting optimization for L=121.32132132132134 km ---\n",
      "🔵 Initial Guess for L=121.32132132132134: [0.48317815 0.34782924 0.21079791 0.74160881 0.87193103]\n",
      "✅ Final Optimized Parameters for L=120.72072072072073 km: [0.48339323 0.34777049 0.21131057 0.74106294 0.87178157]\n",
      "✅ Final Optimized Key Rate for L=120.72072072072073 km: 3.488281350464991e-05\n",
      "\n",
      "--- [DEBUG] Starting optimization for L=121.52152152152154 km ---\n",
      "🔵 Initial Guess for L=121.52152152152154: [0.48339323 0.34777049 0.21131057 0.74106294 0.87178157]\n",
      "✅ Final Optimized Parameters for L=118.71871871871872 km: [0.48269785 0.34795758 0.20965326 0.74282786 0.87226264]\n",
      "✅ Final Optimized Key Rate for L=118.71871871871872 km: 3.873829194414567e-05\n"
     ]
    },
    {
     "name": "stderr",
     "output_type": "stream",
     "text": [
      "Optimizing:  60%|█████▉    | 598/1000 [53:26<36:11,  5.40s/it]  "
     ]
    },
    {
     "name": "stdout",
     "output_type": "stream",
     "text": [
      "✅ Final Optimized Parameters for L=119.31931931931932 km: [0.48290052 0.34790445 0.21013392 0.74231576 0.87212337]\n",
      "✅ Final Optimized Key Rate for L=119.31931931931932 km: 3.754375724655981e-05\n"
     ]
    },
    {
     "name": "stderr",
     "output_type": "stream",
     "text": [
      "Optimizing:  60%|██████    | 600/1000 [53:27<27:28,  4.12s/it]"
     ]
    },
    {
     "name": "stdout",
     "output_type": "stream",
     "text": [
      "✅ Final Optimized Parameters for L=119.51951951951952 km: [0.48296895 0.34788577 0.2102983  0.74214062 0.87207599]\n",
      "✅ Final Optimized Key Rate for L=119.51951951951952 km: 3.715292870767186e-05\n",
      "✅ Final Optimized Parameters for L=120.32032032032033 km: [0.48324972 0.34780993 0.21096812 0.74142764 0.87188166]\n",
      "✅ Final Optimized Key Rate for L=120.32032032032033 km: 3.562547676874211e-05\n",
      "✅ Final Optimized Parameters for L=119.11911911911912 km: [0.48283246 0.34792245 0.20997344 0.74248681 0.87217012]\n",
      "✅ Final Optimized Key Rate for L=119.11911911911912 km: 3.793823816698798e-05\n"
     ]
    },
    {
     "name": "stderr",
     "output_type": "stream",
     "text": [
      "Optimizing:  60%|██████    | 602/1000 [53:27<20:22,  3.07s/it]"
     ]
    },
    {
     "name": "stdout",
     "output_type": "stream",
     "text": [
      "✅ Final Optimized Parameters for L=119.91991991991993 km: [0.48310824 0.34784878 0.21062845 0.74178903 0.87197981]\n",
      "✅ Final Optimized Key Rate for L=119.91991991991993 km: 3.6382095843525355e-05\n",
      "✅ Final Optimized Parameters for L=120.52052052052053 km: [0.48332076 0.34779032 0.21113553 0.74124915 0.87183188]\n",
      "✅ Final Optimized Key Rate for L=120.52052052052053 km: 3.525241659789817e-05\n"
     ]
    },
    {
     "name": "stderr",
     "output_type": "stream",
     "text": [
      "Optimizing:  60%|██████    | 604/1000 [53:27<14:58,  2.27s/it]"
     ]
    },
    {
     "name": "stdout",
     "output_type": "stream",
     "text": [
      "✅ Final Optimized Parameters for L=119.71971971971973 km: [0.48303834 0.34786746 0.21046255 0.74196598 0.87202802]\n",
      "✅ Final Optimized Key Rate for L=119.71971971971973 km: 3.676571924076029e-05\n"
     ]
    },
    {
     "name": "stderr",
     "output_type": "stream",
     "text": [
      "Optimizing:  60%|██████    | 605/1000 [53:46<32:06,  4.88s/it]"
     ]
    },
    {
     "name": "stdout",
     "output_type": "stream",
     "text": [
      "✅ Final Optimized Parameters for L=121.52152152152154 km: [0.48368751 0.34768785 0.21201352 0.7403144  0.8715752 ]\n",
      "✅ Final Optimized Key Rate for L=121.52152152152154 km: 3.343834610132024e-05\n",
      "✅ Final Optimized Parameters for L=120.92092092092093 km: [0.48346564 0.34775013 0.21148375 0.74087836 0.87173065]\n",
      "✅ Final Optimized Key Rate for L=120.92092092092093 km: 3.45166359814823e-05\n",
      "✅ Final Optimized Parameters for L=121.12112112112113 km: [0.48353956 0.34773019 0.21165771 0.74069328 0.87167946]\n",
      "✅ Final Optimized Key Rate for L=121.12112112112113 km: 3.415385281138537e-05\n",
      "✅ Final Optimized Parameters for L=121.32132132132134 km: [0.48361268 0.34770853 0.21183981 0.74049968 0.87162742]\n",
      "✅ Final Optimized Key Rate for L=121.32132132132134 km: 3.379443306561496e-05\n",
      "\n",
      "--- [DEBUG] Starting optimization for L=121.72172172172174 km ---\n",
      "🔵 Initial Guess for L=121.72172172172174: [0.48361268 0.34770853 0.21183981 0.74049968 0.87162742]\n",
      "\n",
      "--- [DEBUG] Starting optimization for L=121.92192192192194 km ---\n",
      "🔵 Initial Guess for L=121.92192192192194: [0.48361268 0.34770853 0.21183981 0.74049968 0.87162742]\n",
      "\n",
      "--- [DEBUG] Starting optimization for L=122.12212212212214 km ---\n",
      "🔵 Initial Guess for L=122.12212212212214: [0.48361268 0.34770853 0.21183981 0.74049968 0.87162742]\n",
      "\n",
      "--- [DEBUG] Starting optimization for L=122.32232232232234 km ---\n",
      "🔵 Initial Guess for L=122.32232232232234: [0.48361268 0.34770853 0.21183981 0.74049968 0.87162742]\n",
      "\n",
      "--- [DEBUG] Starting optimization for L=122.52252252252254 km ---\n",
      "🔵 Initial Guess for L=122.52252252252254: [0.48361268 0.34770853 0.21183981 0.74049968 0.87162742]\n",
      "\n",
      "--- [DEBUG] Starting optimization for L=122.72272272272274 km ---\n",
      "🔵 Initial Guess for L=122.72272272272274: [0.48361268 0.34770853 0.21183981 0.74049968 0.87162742]\n",
      "\n",
      "--- [DEBUG] Starting optimization for L=122.92292292292294 km ---\n",
      "🔵 Initial Guess for L=122.92292292292294: [0.48361268 0.34770853 0.21183981 0.74049968 0.87162742]\n",
      "\n",
      "--- [DEBUG] Starting optimization for L=123.12312312312314 km ---\n",
      "🔵 Initial Guess for L=123.12312312312314: [0.48361268 0.34770853 0.21183981 0.74049968 0.87162742]\n",
      "\n",
      "--- [DEBUG] Starting optimization for L=123.32332332332334 km ---\n",
      "🔵 Initial Guess for L=123.32332332332334: [0.48361268 0.34770853 0.21183981 0.74049968 0.87162742]\n",
      "\n",
      "--- [DEBUG] Starting optimization for L=123.52352352352354 km ---\n",
      "🔵 Initial Guess for L=123.52352352352354: [0.48361268 0.34770853 0.21183981 0.74049968 0.87162742]\n",
      "\n",
      "--- [DEBUG] Starting optimization for L=123.72372372372374 km ---\n",
      "🔵 Initial Guess for L=123.72372372372374: [0.48361268 0.34770853 0.21183981 0.74049968 0.87162742]\n",
      "\n",
      "--- [DEBUG] Starting optimization for L=123.92392392392394 km ---\n",
      "🔵 Initial Guess for L=123.92392392392394: [0.48361268 0.34770853 0.21183981 0.74049968 0.87162742]\n"
     ]
    },
    {
     "name": "stderr",
     "output_type": "stream",
     "text": [
      "Optimizing:  61%|██████    | 609/1000 [55:00<1:14:36, 11.45s/it]"
     ]
    },
    {
     "name": "stdout",
     "output_type": "stream",
     "text": [
      "✅ Final Optimized Parameters for L=122.12212212212214 km: [0.48391499 0.34762289 0.21255513 0.7397371  0.87141505]\n",
      "✅ Final Optimized Key Rate for L=122.12212212212214 km: 3.238977968750044e-05\n",
      "\n",
      "--- [DEBUG] Starting optimization for L=124.12412412412414 km ---\n",
      "🔵 Initial Guess for L=124.12412412412414: [0.48391499 0.34762289 0.21255513 0.7397371  0.87141505]\n"
     ]
    },
    {
     "name": "stderr",
     "output_type": "stream",
     "text": [
      "Optimizing:  61%|██████    | 612/1000 [55:00<44:49,  6.93s/it]  "
     ]
    },
    {
     "name": "stdout",
     "output_type": "stream",
     "text": [
      "✅ Final Optimized Parameters for L=121.92192192192194 km: [0.4838384  0.34764439 0.21237229 0.7399324  0.87146876]\n",
      "✅ Final Optimized Key Rate for L=121.92192192192194 km: 3.27360493536545e-05\n",
      "\n",
      "--- [DEBUG] Starting optimization for L=124.32432432432434 km ---\n",
      "🔵 Initial Guess for L=124.32432432432434: [0.4838384  0.34764439 0.21237229 0.7399324  0.87146876]\n",
      "✅ Final Optimized Parameters for L=123.92392392392394 km: [0.484633   0.34740993 0.21427657 0.73790536 0.87090211]\n",
      "✅ Final Optimized Key Rate for L=123.92392392392394 km: 2.9414483642338418e-05\n",
      "\n",
      "--- [DEBUG] Starting optimization for L=124.52452452452454 km ---\n",
      "🔵 Initial Guess for L=124.52452452452454: [0.484633   0.34740993 0.21427657 0.73790536 0.87090211]\n",
      "✅ Final Optimized Parameters for L=122.92292292292294 km: [0.4842275  0.34753113 0.21330793 0.73893662 0.87119266]\n",
      "✅ Final Optimized Key Rate for L=122.92292292292294 km: 3.1036539922390304e-05\n",
      "\n",
      "--- [DEBUG] Starting optimization for L=124.72472472472474 km ---\n",
      "🔵 Initial Guess for L=124.72472472472474: [0.4842275  0.34753113 0.21330793 0.73893662 0.87119266]\n",
      "✅ Final Optimized Parameters for L=123.72372372372374 km: [0.48455047 0.34743532 0.21407842 0.7381162  0.87096162]\n",
      "✅ Final Optimized Key Rate for L=123.72372372372374 km: 2.973286702124281e-05\n"
     ]
    },
    {
     "name": "stderr",
     "output_type": "stream",
     "text": [
      "Optimizing:  61%|██████▏   | 614/1000 [55:00<31:28,  4.89s/it]"
     ]
    },
    {
     "name": "stdout",
     "output_type": "stream",
     "text": [
      "✅ Final Optimized Parameters for L=123.32332332332334 km: [0.48438723 0.34748407 0.21368851 0.73853101 0.87107816]\n",
      "✅ Final Optimized Key Rate for L=123.32332332332334 km: 3.037862037907069e-05\n",
      "✅ Final Optimized Parameters for L=121.72172172172174 km: [0.48376344 0.34766685 0.21219282 0.7401232  0.8715222 ]\n",
      "✅ Final Optimized Key Rate for L=121.72172172172174 km: 3.308556155734851e-05\n"
     ]
    },
    {
     "name": "stderr",
     "output_type": "stream",
     "text": [
      "Optimizing:  62%|██████▏   | 620/1000 [55:01<12:00,  1.90s/it]"
     ]
    },
    {
     "name": "stdout",
     "output_type": "stream",
     "text": [
      "✅ Final Optimized Parameters for L=123.52352352352354 km: [0.48446891 0.3474597  0.21388141 0.73832603 0.87102041]\n",
      "✅ Final Optimized Key Rate for L=123.52352352352354 km: 3.0054236794851895e-05\n",
      "✅ Final Optimized Parameters for L=122.72272272272274 km: [0.48414845 0.34755474 0.21311592 0.73914075 0.87124901]\n",
      "✅ Final Optimized Key Rate for L=122.72272272272274 km: 3.1370132000404144e-05\n",
      "✅ Final Optimized Parameters for L=122.52252252252254 km: [0.48406957 0.34757755 0.21292921 0.73933952 0.8713047 ]\n",
      "✅ Final Optimized Key Rate for L=122.52252252252254 km: 3.170685013102493e-05\n",
      "✅ Final Optimized Parameters for L=122.32232232232234 km: [0.48399196 0.34760002 0.21274361 0.73953734 0.87135976]\n",
      "✅ Final Optimized Key Rate for L=122.32232232232234 km: 3.204672303176205e-05\n",
      "✅ Final Optimized Parameters for L=123.12312312312314 km: [0.48430695 0.34750761 0.21349544 0.73873663 0.87113606]\n",
      "✅ Final Optimized Key Rate for L=123.12312312312314 km: 3.070604544521124e-05\n"
     ]
    },
    {
     "name": "stderr",
     "output_type": "stream",
     "text": [
      "Optimizing:  62%|██████▏   | 621/1000 [55:19<26:33,  4.20s/it]"
     ]
    },
    {
     "name": "stdout",
     "output_type": "stream",
     "text": [
      "✅ Final Optimized Parameters for L=124.12412412412414 km: [0.48471514 0.34738486 0.21447591 0.73769332 0.87084228]\n",
      "✅ Final Optimized Key Rate for L=124.12412412412414 km: 2.9099059495511423e-05\n",
      "✅ Final Optimized Parameters for L=124.52452452452454 km: [0.48488394 0.34733274 0.21488229 0.73726056 0.87072044]\n",
      "✅ Final Optimized Key Rate for L=124.52452452452454 km: 2.8476981500119233e-05\n",
      "✅ Final Optimized Parameters for L=124.32432432432434 km: [0.48479942 0.34735902 0.21467762 0.73747845 0.87078164]\n",
      "✅ Final Optimized Key Rate for L=124.32432432432434 km: 2.8786567669313878e-05\n",
      "✅ Final Optimized Parameters for L=124.72472472472474 km: [0.48496884 0.34730686 0.21508365 0.73704594 0.87065869]\n",
      "✅ Final Optimized Key Rate for L=124.72472472472474 km: 2.8170274571416337e-05\n",
      "\n",
      "--- [DEBUG] Starting optimization for L=124.92492492492494 km ---\n",
      "🔵 Initial Guess for L=124.92492492492494: [0.48496884 0.34730686 0.21508365 0.73704594 0.87065869]\n",
      "\n",
      "--- [DEBUG] Starting optimization for L=125.12512512512514 km ---\n",
      "🔵 Initial Guess for L=125.12512512512514: [0.48496884 0.34730686 0.21508365 0.73704594 0.87065869]\n",
      "\n",
      "--- [DEBUG] Starting optimization for L=125.32532532532534 km ---\n",
      "🔵 Initial Guess for L=125.32532532532534: [0.48496884 0.34730686 0.21508365 0.73704594 0.87065869]\n",
      "\n",
      "--- [DEBUG] Starting optimization for L=125.52552552552554 km ---\n",
      "🔵 Initial Guess for L=125.52552552552554: [0.48496884 0.34730686 0.21508365 0.73704594 0.87065869]\n",
      "\n",
      "--- [DEBUG] Starting optimization for L=125.72572572572574 km ---\n",
      "🔵 Initial Guess for L=125.72572572572574: [0.48496884 0.34730686 0.21508365 0.73704594 0.87065869]\n",
      "\n",
      "--- [DEBUG] Starting optimization for L=125.92592592592594 km ---\n",
      "🔵 Initial Guess for L=125.92592592592594: [0.48496884 0.34730686 0.21508365 0.73704594 0.87065869]\n",
      "\n",
      "--- [DEBUG] Starting optimization for L=126.12612612612614 km ---\n",
      "🔵 Initial Guess for L=126.12612612612614: [0.48496884 0.34730686 0.21508365 0.73704594 0.87065869]\n",
      "\n",
      "--- [DEBUG] Starting optimization for L=126.32632632632634 km ---\n",
      "🔵 Initial Guess for L=126.32632632632634: [0.48496884 0.34730686 0.21508365 0.73704594 0.87065869]\n",
      "\n",
      "--- [DEBUG] Starting optimization for L=126.52652652652654 km ---\n",
      "🔵 Initial Guess for L=126.52652652652654: [0.48496884 0.34730686 0.21508365 0.73704594 0.87065869]\n",
      "\n",
      "--- [DEBUG] Starting optimization for L=126.72672672672674 km ---\n",
      "🔵 Initial Guess for L=126.72672672672674: [0.48496884 0.34730686 0.21508365 0.73704594 0.87065869]\n",
      "\n",
      "--- [DEBUG] Starting optimization for L=126.92692692692694 km ---\n",
      "🔵 Initial Guess for L=126.92692692692694: [0.48496884 0.34730686 0.21508365 0.73704594 0.87065869]\n",
      "\n",
      "--- [DEBUG] Starting optimization for L=127.12712712712714 km ---\n",
      "🔵 Initial Guess for L=127.12712712712714: [0.48496884 0.34730686 0.21508365 0.73704594 0.87065869]\n"
     ]
    },
    {
     "name": "stderr",
     "output_type": "stream",
     "text": [
      "Optimizing:  63%|██████▎   | 627/1000 [56:33<50:07,  8.06s/it]  "
     ]
    },
    {
     "name": "stdout",
     "output_type": "stream",
     "text": [
      "✅ Final Optimized Parameters for L=126.72672672672674 km: [0.4858582  0.34702102 0.21722477 0.73476701 0.87000372]\n",
      "✅ Final Optimized Key Rate for L=126.72672672672674 km: 2.5255923406849128e-05\n",
      "\n",
      "--- [DEBUG] Starting optimization for L=127.32732732732734 km ---\n",
      "🔵 Initial Guess for L=127.32732732732734: [0.4858582  0.34702102 0.21722477 0.73476701 0.87000372]\n",
      "✅ Final Optimized Parameters for L=125.12512512512514 km: [0.48514059 0.34725208 0.21549697 0.73660586 0.87053339]\n",
      "✅ Final Optimized Key Rate for L=125.12512512512514 km: 2.756539398494002e-05\n",
      "\n",
      "--- [DEBUG] Starting optimization for L=127.52752752752754 km ---\n",
      "🔵 Initial Guess for L=127.52752752752754: [0.48514059 0.34725208 0.21549697 0.73660586 0.87053339]\n",
      "✅ Final Optimized Parameters for L=125.52552552552554 km: [0.48531593 0.34719706 0.21591751 0.73615844 0.87040507]\n",
      "✅ Final Optimized Key Rate for L=125.52552552552554 km: 2.697171941500717e-05\n",
      "\n",
      "--- [DEBUG] Starting optimization for L=127.72772772772774 km ---\n",
      "🔵 Initial Guess for L=127.72772772772774: [0.48531593 0.34719706 0.21591751 0.73615844 0.87040507]\n"
     ]
    },
    {
     "name": "stderr",
     "output_type": "stream",
     "text": [
      "Optimizing:  63%|██████▎   | 629/1000 [56:33<37:08,  6.01s/it]"
     ]
    },
    {
     "name": "stdout",
     "output_type": "stream",
     "text": [
      "✅ Final Optimized Parameters for L=126.52652652652654 km: [0.48576688 0.34705141 0.2170071  0.73499852 0.87007189]\n",
      "✅ Final Optimized Key Rate for L=126.52652652652654 km: 2.55352382702581e-05\n",
      "\n",
      "--- [DEBUG] Starting optimization for L=127.92792792792794 km ---\n",
      "🔵 Initial Guess for L=127.92792792792794: [0.48576688 0.34705141 0.2170071  0.73499852 0.87007189]\n",
      "✅ Final Optimized Parameters for L=125.92592592592594 km: [0.48549339 0.34713979 0.21634634 0.73570205 0.87027407]\n",
      "✅ Final Optimized Key Rate for L=125.92592592592594 km: 2.6389048164180995e-05\n"
     ]
    },
    {
     "name": "stderr",
     "output_type": "stream",
     "text": [
      "Optimizing:  63%|██████▎   | 634/1000 [56:34<17:19,  2.84s/it]"
     ]
    },
    {
     "name": "stdout",
     "output_type": "stream",
     "text": [
      "✅ Final Optimized Parameters for L=126.12612612612614 km: [0.48558366 0.34711068 0.21656468 0.73546984 0.8702073 ]\n",
      "✅ Final Optimized Key Rate for L=126.12612612612614 km: 2.6101776462096635e-05\n",
      "✅ Final Optimized Parameters for L=125.72572572572574 km: [0.4854043  0.34716865 0.21613261 0.73592957 0.87033973]\n",
      "✅ Final Optimized Key Rate for L=125.72572572572574 km: 2.6679020896823365e-05\n",
      "✅ Final Optimized Parameters for L=126.32632632632634 km: [0.48567395 0.34708103 0.21678227 0.73523798 0.87014034]\n",
      "✅ Final Optimized Key Rate for L=126.32632632632634 km: 2.581718126413252e-05\n",
      "✅ Final Optimized Parameters for L=125.32532532532534 km: [0.48522838 0.34722553 0.21570704 0.73638257 0.87046935]\n",
      "✅ Final Optimized Key Rate for L=125.32532532532534 km: 2.726716870467459e-05\n",
      "✅ Final Optimized Parameters for L=127.12712712712714 km: [0.48604417 0.34695881 0.21767915 0.7342834  0.86986399]\n",
      "✅ Final Optimized Key Rate for L=127.12712712712714 km: 2.4705082877801547e-05\n",
      "✅ Final Optimized Parameters for L=124.92492492492494 km: [0.48505492 0.34728027 0.21529147 0.7368251  0.87059617]\n",
      "✅ Final Optimized Key Rate for L=124.92492492492494 km: 2.786642070997108e-05\n"
     ]
    },
    {
     "name": "stderr",
     "output_type": "stream",
     "text": [
      "Optimizing:  64%|██████▎   | 636/1000 [56:34<12:55,  2.13s/it]"
     ]
    },
    {
     "name": "stdout",
     "output_type": "stream",
     "text": [
      "✅ Final Optimized Parameters for L=126.92692692692694 km: [0.48595126 0.34699031 0.2174508  0.73452667 0.86993438]\n",
      "✅ Final Optimized Key Rate for L=126.92692692692694 km: 2.497921281983474e-05\n"
     ]
    },
    {
     "name": "stderr",
     "output_type": "stream",
     "text": [
      "Optimizing:  64%|██████▎   | 637/1000 [56:53<28:49,  4.77s/it]"
     ]
    },
    {
     "name": "stdout",
     "output_type": "stream",
     "text": [
      "✅ Final Optimized Parameters for L=127.32732732732734 km: [0.48613889 0.34692717 0.21790685 0.73404097 0.86979306]\n",
      "✅ Final Optimized Key Rate for L=127.32732732732734 km: 2.443351016714758e-05\n",
      "✅ Final Optimized Parameters for L=127.92792792792794 km: [0.48642592 0.34682873 0.21860183 0.73330148 0.86957607]\n",
      "✅ Final Optimized Key Rate for L=127.92792792792794 km: 2.3633904523422436e-05\n",
      "✅ Final Optimized Parameters for L=127.52752752752754 km: [0.48623392 0.34689484 0.2181355  0.73379797 0.86972174]\n",
      "✅ Final Optimized Key Rate for L=127.52752752752754 km: 2.416447149093411e-05\n",
      "✅ Final Optimized Parameters for L=127.72772772772774 km: [0.48632983 0.34686259 0.21836504 0.73355309 0.86964943]\n",
      "✅ Final Optimized Key Rate for L=127.72772772772774 km: 2.389794386641121e-05\n",
      "\n",
      "--- [DEBUG] Starting optimization for L=128.12812812812814 km ---\n",
      "🔵 Initial Guess for L=128.12812812812814: [0.48632983 0.34686259 0.21836504 0.73355309 0.86964943]\n",
      "\n",
      "--- [DEBUG] Starting optimization for L=128.32832832832833 km ---\n",
      "🔵 Initial Guess for L=128.32832832832833: [0.48632983 0.34686259 0.21836504 0.73355309 0.86964943]\n",
      "\n",
      "--- [DEBUG] Starting optimization for L=128.52852852852854 km ---\n",
      "🔵 Initial Guess for L=128.52852852852854: [0.48632983 0.34686259 0.21836504 0.73355309 0.86964943]\n",
      "\n",
      "--- [DEBUG] Starting optimization for L=128.72872872872873 km ---\n",
      "🔵 Initial Guess for L=128.72872872872873: [0.48632983 0.34686259 0.21836504 0.73355309 0.86964943]\n",
      "\n",
      "--- [DEBUG] Starting optimization for L=128.92892892892894 km ---\n",
      "🔵 Initial Guess for L=128.92892892892894: [0.48632983 0.34686259 0.21836504 0.73355309 0.86964943]\n",
      "\n",
      "--- [DEBUG] Starting optimization for L=129.12912912912913 km ---\n",
      "🔵 Initial Guess for L=129.12912912912913: [0.48632983 0.34686259 0.21836504 0.73355309 0.86964943]\n",
      "\n",
      "--- [DEBUG] Starting optimization for L=129.32932932932934 km ---\n",
      "🔵 Initial Guess for L=129.32932932932934: [0.48632983 0.34686259 0.21836504 0.73355309 0.86964943]\n",
      "\n",
      "--- [DEBUG] Starting optimization for L=129.52952952952953 km ---\n",
      "🔵 Initial Guess for L=129.52952952952953: [0.48632983 0.34686259 0.21836504 0.73355309 0.86964943]\n",
      "\n",
      "--- [DEBUG] Starting optimization for L=129.72972972972974 km ---\n",
      "🔵 Initial Guess for L=129.72972972972974: [0.48632983 0.34686259 0.21836504 0.73355309 0.86964943]\n",
      "\n",
      "--- [DEBUG] Starting optimization for L=129.92992992992993 km ---\n",
      "🔵 Initial Guess for L=129.92992992992993: [0.48632983 0.34686259 0.21836504 0.73355309 0.86964943]\n",
      "\n",
      "--- [DEBUG] Starting optimization for L=130.13013013013014 km ---\n",
      "🔵 Initial Guess for L=130.13013013013014: [0.48632983 0.34686259 0.21836504 0.73355309 0.86964943]\n",
      "\n",
      "--- [DEBUG] Starting optimization for L=130.33033033033033 km ---\n",
      "🔵 Initial Guess for L=130.33033033033033: [0.48632983 0.34686259 0.21836504 0.73355309 0.86964943]\n"
     ]
    },
    {
     "name": "stderr",
     "output_type": "stream",
     "text": [
      "Optimizing:  64%|██████▍   | 643/1000 [58:08<50:31,  8.49s/it]  "
     ]
    },
    {
     "name": "stdout",
     "output_type": "stream",
     "text": [
      "✅ Final Optimized Parameters for L=129.52952952952953 km: [0.48722686 0.34654749 0.22054292 0.73123531 0.86896173]\n",
      "✅ Final Optimized Key Rate for L=129.52952952952953 km: 2.1608504113161365e-05\n",
      "\n",
      "--- [DEBUG] Starting optimization for L=130.53053053053054 km ---\n",
      "🔵 Initial Guess for L=130.53053053053054: [0.48722686 0.34654749 0.22054292 0.73123531 0.86896173]\n",
      "✅ Final Optimized Parameters for L=128.12812812812814 km: [0.48652417 0.34679531 0.218838   0.73305035 0.86950232]\n",
      "✅ Final Optimized Key Rate for L=128.12812812812814 km: 2.3372330902616386e-05\n",
      "\n",
      "--- [DEBUG] Starting optimization for L=130.73073073073073 km ---\n",
      "🔵 Initial Guess for L=130.73073073073073: [0.48652417 0.34679531 0.218838   0.73305035 0.86950232]\n",
      "✅ Final Optimized Parameters for L=128.32832832832833 km: [0.48662187 0.34676178 0.2190751  0.73279763 0.86942723]\n",
      "✅ Final Optimized Key Rate for L=128.32832832832833 km: 2.3113200653077165e-05\n",
      "\n",
      "--- [DEBUG] Starting optimization for L=130.93093093093094 km ---\n",
      "🔵 Initial Guess for L=130.93093093093094: [0.48662187 0.34676178 0.2190751  0.73279763 0.86942723]\n",
      "✅ Final Optimized Parameters for L=129.12912912912913 km: [0.48702288 0.3466216  0.22004371 0.73176652 0.86912045]\n",
      "✅ Final Optimized Key Rate for L=129.12912912912913 km: 2.2100673545546518e-05\n",
      "\n",
      "--- [DEBUG] Starting optimization for L=131.13113113113113 km ---\n",
      "🔵 Initial Guess for L=131.13113113113113: [0.48702288 0.3466216  0.22004371 0.73176652 0.86912045]\n"
     ]
    },
    {
     "name": "stderr",
     "output_type": "stream",
     "text": [
      "Optimizing:  65%|██████▌   | 652/1000 [58:08<18:53,  3.26s/it]"
     ]
    },
    {
     "name": "stdout",
     "output_type": "stream",
     "text": [
      "✅ Final Optimized Parameters for L=129.92992992992993 km: [0.48743594 0.34647261 0.22104901 0.73069647 0.8688    ]\n",
      "✅ Final Optimized Key Rate for L=129.92992992992993 km: 2.112550526872515e-05\n",
      "✅ Final Optimized Parameters for L=128.52852852852854 km: [0.48672116 0.34672756 0.21931082 0.73254647 0.86935205]\n",
      "✅ Final Optimized Key Rate for L=128.52852852852854 km: 2.2856491630606105e-05\n",
      "✅ Final Optimized Parameters for L=128.92892892892894 km: [0.48692102 0.34665695 0.21979898 0.73202687 0.86919859]\n",
      "✅ Final Optimized Key Rate for L=128.92892892892894 km: 2.235024971269077e-05\n",
      "✅ Final Optimized Parameters for L=130.33033033033033 km: [0.48764621 0.34639487 0.22156398 0.73014821 0.86863402]\n",
      "✅ Final Optimized Key Rate for L=130.33033033033033 km: 2.06515117838591e-05\n",
      "✅ Final Optimized Parameters for L=128.72872872872873 km: [0.48682077 0.34669253 0.21955388 0.73228749 0.8692757 ]\n",
      "✅ Final Optimized Key Rate for L=128.72872872872873 km: 2.2602181895895076e-05\n",
      "✅ Final Optimized Parameters for L=130.13013013013014 km: [0.48754076 0.34643414 0.22130443 0.73042466 0.86871746]\n",
      "✅ Final Optimized Key Rate for L=130.13013013013014 km: 2.0887393063597877e-05\n",
      "✅ Final Optimized Parameters for L=129.72972972972974 km: [0.48733084 0.34650986 0.22079756 0.73096437 0.86888112]\n",
      "✅ Final Optimized Key Rate for L=129.72972972972974 km: 2.136586876626094e-05\n",
      "✅ Final Optimized Parameters for L=129.32932932932934 km: [0.48712534 0.34658541 0.22029147 0.73150252 0.86904113]\n",
      "✅ Final Optimized Key Rate for L=129.32932932932934 km: 2.1853432058417722e-05\n"
     ]
    },
    {
     "name": "stderr",
     "output_type": "stream",
     "text": [
      "Optimizing:  65%|██████▌   | 653/1000 [58:27<26:37,  4.60s/it]"
     ]
    },
    {
     "name": "stdout",
     "output_type": "stream",
     "text": [
      "✅ Final Optimized Parameters for L=130.53053053053054 km: [0.48775334 0.34635548 0.22182242 0.72987307 0.86855013]\n",
      "✅ Final Optimized Key Rate for L=130.53053053053054 km: 2.041784125136272e-05\n",
      "✅ Final Optimized Parameters for L=130.93093093093094 km: [0.48797009 0.34627489 0.22234997 0.72931158 0.86837909]\n",
      "✅ Final Optimized Key Rate for L=130.93093093093094 km: 1.9957052647238046e-05\n",
      "✅ Final Optimized Parameters for L=131.13113113113113 km: [0.48807896 0.34623382 0.22261785 0.72902627 0.86829193]\n",
      "✅ Final Optimized Key Rate for L=131.13113113113113 km: 1.97298951463955e-05\n",
      "✅ Final Optimized Parameters for L=130.73073073073073 km: [0.48786076 0.346315   0.22208675 0.72959191 0.86846506]\n",
      "✅ Final Optimized Key Rate for L=130.73073073073073 km: 2.018636147453822e-05\n",
      "\n",
      "--- [DEBUG] Starting optimization for L=131.33133133133134 km ---\n",
      "🔵 Initial Guess for L=131.33133133133134: [0.48786076 0.346315   0.22208675 0.72959191 0.86846506]\n",
      "\n",
      "--- [DEBUG] Starting optimization for L=131.53153153153153 km ---\n",
      "🔵 Initial Guess for L=131.53153153153153: [0.48786076 0.346315   0.22208675 0.72959191 0.86846506]\n",
      "\n",
      "--- [DEBUG] Starting optimization for L=131.73173173173174 km ---\n",
      "🔵 Initial Guess for L=131.73173173173174: [0.48786076 0.346315   0.22208675 0.72959191 0.86846506]\n",
      "\n",
      "--- [DEBUG] Starting optimization for L=131.93193193193193 km ---\n",
      "🔵 Initial Guess for L=131.93193193193193: [0.48786076 0.346315   0.22208675 0.72959191 0.86846506]\n",
      "\n",
      "--- [DEBUG] Starting optimization for L=132.13213213213214 km ---\n",
      "🔵 Initial Guess for L=132.13213213213214: [0.48786076 0.346315   0.22208675 0.72959191 0.86846506]\n",
      "\n",
      "--- [DEBUG] Starting optimization for L=132.33233233233233 km ---\n",
      "🔵 Initial Guess for L=132.33233233233233: [0.48786076 0.346315   0.22208675 0.72959191 0.86846506]\n",
      "\n",
      "--- [DEBUG] Starting optimization for L=132.53253253253254 km ---\n",
      "🔵 Initial Guess for L=132.53253253253254: [0.48786076 0.346315   0.22208675 0.72959191 0.86846506]\n",
      "\n",
      "--- [DEBUG] Starting optimization for L=132.73273273273273 km ---\n",
      "🔵 Initial Guess for L=132.73273273273273: [0.48786076 0.346315   0.22208675 0.72959191 0.86846506]\n",
      "\n",
      "--- [DEBUG] Starting optimization for L=132.93293293293294 km ---\n",
      "🔵 Initial Guess for L=132.93293293293294: [0.48786076 0.346315   0.22208675 0.72959191 0.86846506]\n",
      "\n",
      "--- [DEBUG] Starting optimization for L=133.13313313313313 km ---\n",
      "🔵 Initial Guess for L=133.13313313313313: [0.48786076 0.346315   0.22208675 0.72959191 0.86846506]\n",
      "\n",
      "--- [DEBUG] Starting optimization for L=133.33333333333334 km ---\n",
      "🔵 Initial Guess for L=133.33333333333334: [0.48786076 0.346315   0.22208675 0.72959191 0.86846506]\n",
      "\n",
      "--- [DEBUG] Starting optimization for L=133.53353353353353 km ---\n",
      "🔵 Initial Guess for L=133.53353353353353: [0.48786076 0.346315   0.22208675 0.72959191 0.86846506]\n"
     ]
    },
    {
     "name": "stderr",
     "output_type": "stream",
     "text": [
      "Optimizing:  66%|██████▌   | 658/1000 [59:41<47:26,  8.32s/it]"
     ]
    },
    {
     "name": "stdout",
     "output_type": "stream",
     "text": [
      "✅ Final Optimized Parameters for L=131.33133133133134 km: [0.48818981 0.34619231 0.22288868 0.72873808 0.86820422]\n",
      "✅ Final Optimized Key Rate for L=131.33133133133134 km: 1.9504869530759954e-05\n",
      "\n",
      "--- [DEBUG] Starting optimization for L=133.73373373373374 km ---\n",
      "🔵 Initial Guess for L=133.73373373373374: [0.48818981 0.34619231 0.22288868 0.72873808 0.86820422]\n",
      "✅ Final Optimized Parameters for L=131.93193193193193 km: [0.48852416 0.34606236 0.22370836 0.72786513 0.86793451]\n",
      "✅ Final Optimized Key Rate for L=131.93193193193193 km: 1.884239227551684e-05\n",
      "\n",
      "--- [DEBUG] Starting optimization for L=133.93393393393393 km ---\n",
      "🔵 Initial Guess for L=133.93393393393393: [0.48852416 0.34606236 0.22370836 0.72786513 0.86793451]\n",
      "✅ Final Optimized Parameters for L=132.33233233233233 km: [0.48875257 0.34597449 0.22426611 0.72727139 0.86774974]\n",
      "✅ Final Optimized Key Rate for L=132.33233233233233 km: 1.841105180488896e-05\n",
      "\n",
      "--- [DEBUG] Starting optimization for L=134.13413413413414 km ---\n",
      "🔵 Initial Guess for L=134.13413413413414: [0.48875257 0.34597449 0.22426611 0.72727139 0.86774974]\n",
      "✅ Final Optimized Parameters for L=131.53153153153153 km: [0.48830116 0.34615006 0.22315889 0.72845046 0.8681152 ]\n",
      "✅ Final Optimized Key Rate for L=131.53153153153153 km: 1.9281956539506935e-05\n",
      "\n",
      "--- [DEBUG] Starting optimization for L=134.33433433433433 km ---\n",
      "🔵 Initial Guess for L=134.33433433433433: [0.48830116 0.34615006 0.22315889 0.72845046 0.8681152 ]\n"
     ]
    },
    {
     "name": "stderr",
     "output_type": "stream",
     "text": [
      "Optimizing:  66%|██████▋   | 664/1000 [59:42<22:20,  3.99s/it]"
     ]
    },
    {
     "name": "stdout",
     "output_type": "stream",
     "text": [
      "✅ Final Optimized Parameters for L=133.33333333333334 km: [0.48392908 0.34676862 0.22522268 0.72016784 0.86616261]\n",
      "✅ Final Optimized Key Rate for L=133.33333333333334 km: 1.737721135433614e-05\n",
      "✅ Final Optimized Parameters for L=133.13313313313313 km: [0.48394477 0.34674892 0.22507186 0.72036495 0.86624509]\n",
      "✅ Final Optimized Key Rate for L=133.13313313313313 km: 1.757949518566592e-05\n",
      "✅ Final Optimized Parameters for L=132.93293293293294 km: [0.48396269 0.34672942 0.22492809 0.72055498 0.86632621]\n",
      "✅ Final Optimized Key Rate for L=132.93293293293294 km: 1.7783707604144576e-05\n",
      "✅ Final Optimized Parameters for L=132.13213213213214 km: [0.48863837 0.34601924 0.22398394 0.72757172 0.86784289]\n",
      "✅ Final Optimized Key Rate for L=132.13213213213214 km: 1.862570336639423e-05\n"
     ]
    },
    {
     "name": "stderr",
     "output_type": "stream",
     "text": [
      "Optimizing:  67%|██████▋   | 666/1000 [59:42<17:14,  3.10s/it]"
     ]
    },
    {
     "name": "stdout",
     "output_type": "stream",
     "text": [
      "✅ Final Optimized Parameters for L=132.53253253253254 km: [0.48886722 0.34592896 0.22454611 0.72697321 0.86765578]\n",
      "✅ Final Optimized Key Rate for L=132.53253253253254 km: 1.819841920604313e-05\n",
      "✅ Final Optimized Parameters for L=131.73173173173174 km: [0.48841236 0.34610697 0.2234297  0.72816167 0.86802554]\n",
      "✅ Final Optimized Key Rate for L=131.73173173173174 km: 1.9061137089793096e-05\n",
      "✅ Final Optimized Parameters for L=133.53353353353353 km: [0.48391157 0.34678895 0.22536522 0.71997855 0.86607866]\n",
      "✅ Final Optimized Key Rate for L=133.53353353353353 km: 1.7176838735067892e-05\n"
     ]
    },
    {
     "name": "stderr",
     "output_type": "stream",
     "text": [
      "Optimizing:  67%|██████▋   | 668/1000 [59:42<13:03,  2.36s/it]"
     ]
    },
    {
     "name": "stdout",
     "output_type": "stream",
     "text": [
      "✅ Final Optimized Parameters for L=132.73273273273273 km: [0.48397671 0.34670948 0.22478074 0.72074772 0.866408  ]\n",
      "✅ Final Optimized Key Rate for L=132.73273273273273 km: 1.7989866149255078e-05\n"
     ]
    },
    {
     "name": "stderr",
     "output_type": "stream",
     "text": [
      "Optimizing:  67%|██████▋   | 670/1000 [1:00:00<22:40,  4.12s/it]"
     ]
    },
    {
     "name": "stdout",
     "output_type": "stream",
     "text": [
      "✅ Final Optimized Parameters for L=133.73373373373374 km: [0.4838935  0.34680856 0.22551407 0.71978229 0.86599418]\n",
      "✅ Final Optimized Key Rate for L=133.73373373373374 km: 1.69783601118848e-05\n",
      "✅ Final Optimized Parameters for L=134.13413413413414 km: [0.48385781 0.34684866 0.22581435 0.71938612 0.86582189]\n",
      "✅ Final Optimized Key Rate for L=134.13413413413414 km: 1.6587016788153345e-05\n",
      "✅ Final Optimized Parameters for L=133.93393393393393 km: [0.48387533 0.34682805 0.22566152 0.71958733 0.86590876]\n",
      "✅ Final Optimized Key Rate for L=133.93393393393393 km: 1.678175842897255e-05\n",
      "✅ Final Optimized Parameters for L=134.33433433433433 km: [0.48383827 0.34686816 0.22596264 0.71918982 0.86573485]\n",
      "✅ Final Optimized Key Rate for L=134.33433433433433 km: 1.6394118448072425e-05\n",
      "\n",
      "--- [DEBUG] Starting optimization for L=134.53453453453454 km ---\n",
      "🔵 Initial Guess for L=134.53453453453454: [0.48383827 0.34686816 0.22596264 0.71918982 0.86573485]\n",
      "\n",
      "--- [DEBUG] Starting optimization for L=134.73473473473473 km ---\n",
      "🔵 Initial Guess for L=134.73473473473473: [0.48383827 0.34686816 0.22596264 0.71918982 0.86573485]\n",
      "\n",
      "--- [DEBUG] Starting optimization for L=134.93493493493494 km ---\n",
      "🔵 Initial Guess for L=134.93493493493494: [0.48383827 0.34686816 0.22596264 0.71918982 0.86573485]\n",
      "\n",
      "--- [DEBUG] Starting optimization for L=135.13513513513513 km ---\n",
      "🔵 Initial Guess for L=135.13513513513513: [0.48383827 0.34686816 0.22596264 0.71918982 0.86573485]\n",
      "\n",
      "--- [DEBUG] Starting optimization for L=135.33533533533534 km ---\n",
      "🔵 Initial Guess for L=135.33533533533534: [0.48383827 0.34686816 0.22596264 0.71918982 0.86573485]\n",
      "\n",
      "--- [DEBUG] Starting optimization for L=135.53553553553553 km ---\n",
      "🔵 Initial Guess for L=135.53553553553553: [0.48383827 0.34686816 0.22596264 0.71918982 0.86573485]\n",
      "\n",
      "--- [DEBUG] Starting optimization for L=135.73573573573574 km ---\n",
      "🔵 Initial Guess for L=135.73573573573574: [0.48383827 0.34686816 0.22596264 0.71918982 0.86573485]\n",
      "\n",
      "--- [DEBUG] Starting optimization for L=135.93593593593593 km ---\n",
      "🔵 Initial Guess for L=135.93593593593593: [0.48383827 0.34686816 0.22596264 0.71918982 0.86573485]\n",
      "\n",
      "--- [DEBUG] Starting optimization for L=136.13613613613614 km ---\n",
      "🔵 Initial Guess for L=136.13613613613614: [0.48383827 0.34686816 0.22596264 0.71918982 0.86573485]\n",
      "\n",
      "--- [DEBUG] Starting optimization for L=136.33633633633633 km ---\n",
      "🔵 Initial Guess for L=136.33633633633633: [0.48383827 0.34686816 0.22596264 0.71918982 0.86573485]\n",
      "\n",
      "--- [DEBUG] Starting optimization for L=136.53653653653654 km ---\n",
      "🔵 Initial Guess for L=136.53653653653654: [0.48383827 0.34686816 0.22596264 0.71918982 0.86573485]\n",
      "\n",
      "--- [DEBUG] Starting optimization for L=136.73673673673676 km ---\n",
      "🔵 Initial Guess for L=136.73673673673676: [0.48383827 0.34686816 0.22596264 0.71918982 0.86573485]\n"
     ]
    },
    {
     "name": "stderr",
     "output_type": "stream",
     "text": [
      "Optimizing:  67%|██████▋   | 674/1000 [1:01:17<54:28, 10.02s/it]  "
     ]
    },
    {
     "name": "stdout",
     "output_type": "stream",
     "text": [
      "✅ Final Optimized Parameters for L=135.33533533533534 km: [0.48373391 0.34696783 0.22672943 0.71817473 0.86528204]\n",
      "✅ Final Optimized Key Rate for L=135.33533533533534 km: 1.545670106365575e-05\n",
      "\n",
      "--- [DEBUG] Starting optimization for L=136.93693693693695 km ---\n",
      "🔵 Initial Guess for L=136.93693693693695: [0.48373391 0.34696783 0.22672943 0.71817473 0.86528204]\n",
      "✅ Final Optimized Parameters for L=134.53453453453454 km: [0.48381815 0.34688717 0.22611797 0.71898585 0.86564571]\n",
      "✅ Final Optimized Key Rate for L=134.53453453453454 km: 1.6203046821576873e-05\n",
      "\n",
      "--- [DEBUG] Starting optimization for L=137.13713713713716 km ---\n",
      "🔵 Initial Guess for L=137.13713713713716: [0.48381815 0.34688717 0.22611797 0.71898585 0.86564571]\n"
     ]
    },
    {
     "name": "stderr",
     "output_type": "stream",
     "text": [
      "Optimizing:  68%|██████▊   | 676/1000 [1:01:17<38:27,  7.12s/it]"
     ]
    },
    {
     "name": "stdout",
     "output_type": "stream",
     "text": [
      "✅ Final Optimized Parameters for L=134.73473473473473 km: [0.48379786 0.34690774 0.22626775 0.71878671 0.86555655]\n",
      "✅ Final Optimized Key Rate for L=134.73473473473473 km: 1.6013785475818913e-05\n",
      "\n",
      "--- [DEBUG] Starting optimization for L=137.33733733733735 km ---\n",
      "🔵 Initial Guess for L=137.33733733733735: [0.48379786 0.34690774 0.22626775 0.71878671 0.86555655]\n",
      "✅ Final Optimized Parameters for L=136.53653653653654 km: [0.4835901  0.34708705 0.2276816  0.71690976 0.86470381]\n",
      "✅ Final Optimized Key Rate for L=136.53653653653654 km: 1.4389258733268418e-05\n",
      "\n",
      "--- [DEBUG] Starting optimization for L=137.53753753753756 km ---\n",
      "🔵 Initial Guess for L=137.53753753753756: [0.4835901  0.34708705 0.2276816  0.71690976 0.86470381]\n",
      "✅ Final Optimized Parameters for L=136.13613613613614 km: [0.48364002 0.34704802 0.22736375 0.7173329  0.86490074]\n",
      "✅ Final Optimized Key Rate for L=136.13613613613614 km: 1.473829512509844e-05\n",
      "✅ Final Optimized Parameters for L=135.93593593593593 km: [0.48366472 0.34702787 0.22720036 0.71754937 0.86499777]\n",
      "✅ Final Optimized Key Rate for L=135.93593593593593 km: 1.4915332030213684e-05\n"
     ]
    },
    {
     "name": "stderr",
     "output_type": "stream",
     "text": [
      "Optimizing:  68%|██████▊   | 684/1000 [1:01:17<12:07,  2.30s/it]"
     ]
    },
    {
     "name": "stdout",
     "output_type": "stream",
     "text": [
      "✅ Final Optimized Parameters for L=135.53553553553553 km: [0.48371153 0.34698792 0.22688782 0.71796511 0.8651879 ]\n",
      "✅ Final Optimized Key Rate for L=135.53553553553553 km: 1.5274519530304637e-05\n",
      "✅ Final Optimized Parameters for L=135.73573573573574 km: [0.48368873 0.34700751 0.22704333 0.71775842 0.8650939 ]\n",
      "✅ Final Optimized Key Rate for L=135.73573573573574 km: 1.5094068366143748e-05\n",
      "✅ Final Optimized Parameters for L=135.13513513513513 km: [0.48375605 0.34694819 0.22657368 0.71838181 0.86537398]\n",
      "✅ Final Optimized Key Rate for L=135.13513513513513 km: 1.5640628652029334e-05\n",
      "✅ Final Optimized Parameters for L=136.33633633633633 km: [0.48361566 0.34706732 0.22752326 0.71712184 0.86480264]\n",
      "✅ Final Optimized Key Rate for L=136.33633633633633 km: 1.4562942397426272e-05\n",
      "✅ Final Optimized Parameters for L=136.73673673673676 km: [0.48356513 0.34710745 0.22784127 0.7166969  0.86460341]\n",
      "✅ Final Optimized Key Rate for L=136.73673673673676 km: 1.421722915997061e-05\n",
      "✅ Final Optimized Parameters for L=134.93493493493494 km: [0.48377634 0.34692808 0.22641816 0.71858598 0.86546649]\n",
      "✅ Final Optimized Key Rate for L=134.93493493493494 km: 1.582631812933943e-05\n"
     ]
    },
    {
     "name": "stderr",
     "output_type": "stream",
     "text": [
      "Optimizing:  68%|██████▊   | 685/1000 [1:01:36<22:43,  4.33s/it]"
     ]
    },
    {
     "name": "stdout",
     "output_type": "stream",
     "text": [
      "✅ Final Optimized Parameters for L=137.33733733733735 km: [0.48348006 0.34716665 0.22833279 0.71604102 0.8642953 ]\n",
      "✅ Final Optimized Key Rate for L=137.33733733733735 km: 1.3710917330369662e-05\n",
      "✅ Final Optimized Parameters for L=136.93693693693695 km: [0.48353751 0.34712805 0.22800746 0.71647604 0.86450163]\n",
      "✅ Final Optimized Key Rate for L=136.93693693693695 km: 1.404683884353407e-05\n",
      "✅ Final Optimized Parameters for L=137.53753753753756 km: [0.48345212 0.34718715 0.22849896 0.71582002 0.86418983]\n",
      "✅ Final Optimized Key Rate for L=137.53753753753756 km: 1.3545357147850817e-05\n",
      "✅ Final Optimized Parameters for L=137.13713713713716 km: [0.48350966 0.3471475  0.2281679  0.71626145 0.86439927]\n",
      "✅ Final Optimized Key Rate for L=137.13713713713716 km: 1.3878073087184813e-05\n",
      "\n",
      "--- [DEBUG] Starting optimization for L=137.73773773773775 km ---\n",
      "🔵 Initial Guess for L=137.73773773773775: [0.48350966 0.3471475  0.2281679  0.71626145 0.86439927]\n",
      "\n",
      "--- [DEBUG] Starting optimization for L=137.93793793793796 km ---\n",
      "🔵 Initial Guess for L=137.93793793793796: [0.48350966 0.3471475  0.2281679  0.71626145 0.86439927]\n",
      "\n",
      "--- [DEBUG] Starting optimization for L=138.13813813813815 km ---\n",
      "🔵 Initial Guess for L=138.13813813813815: [0.48350966 0.3471475  0.2281679  0.71626145 0.86439927]\n",
      "\n",
      "--- [DEBUG] Starting optimization for L=138.33833833833836 km ---\n",
      "🔵 Initial Guess for L=138.33833833833836: [0.48350966 0.3471475  0.2281679  0.71626145 0.86439927]\n",
      "\n",
      "--- [DEBUG] Starting optimization for L=138.53853853853855 km ---\n",
      "🔵 Initial Guess for L=138.53853853853855: [0.48350966 0.3471475  0.2281679  0.71626145 0.86439927]\n",
      "\n",
      "--- [DEBUG] Starting optimization for L=138.73873873873876 km ---\n",
      "🔵 Initial Guess for L=138.73873873873876: [0.48350966 0.3471475  0.2281679  0.71626145 0.86439927]\n",
      "\n",
      "--- [DEBUG] Starting optimization for L=138.93893893893895 km ---\n",
      "🔵 Initial Guess for L=138.93893893893895: [0.48350966 0.3471475  0.2281679  0.71626145 0.86439927]\n",
      "\n",
      "--- [DEBUG] Starting optimization for L=139.13913913913916 km ---\n",
      "🔵 Initial Guess for L=139.13913913913916: [0.48350966 0.3471475  0.2281679  0.71626145 0.86439927]\n",
      "\n",
      "--- [DEBUG] Starting optimization for L=139.33933933933935 km ---\n",
      "🔵 Initial Guess for L=139.33933933933935: [0.48350966 0.3471475  0.2281679  0.71626145 0.86439927]\n",
      "\n",
      "--- [DEBUG] Starting optimization for L=139.53953953953956 km ---\n",
      "🔵 Initial Guess for L=139.53953953953956: [0.48350966 0.3471475  0.2281679  0.71626145 0.86439927]\n",
      "\n",
      "--- [DEBUG] Starting optimization for L=139.73973973973975 km ---\n",
      "🔵 Initial Guess for L=139.73973973973975: [0.48350966 0.3471475  0.2281679  0.71626145 0.86439927]\n",
      "\n",
      "--- [DEBUG] Starting optimization for L=139.93993993993996 km ---\n",
      "🔵 Initial Guess for L=139.93993993993996: [0.48350966 0.3471475  0.2281679  0.71626145 0.86439927]\n"
     ]
    },
    {
     "name": "stderr",
     "output_type": "stream",
     "text": [
      "Optimizing:  69%|██████▉   | 690/1000 [1:02:54<47:07,  9.12s/it]"
     ]
    },
    {
     "name": "stdout",
     "output_type": "stream",
     "text": [
      "✅ Final Optimized Parameters for L=138.73873873873876 km: [0.48326265 0.34730593 0.22951311 0.71446231 0.86353276]\n",
      "✅ Final Optimized Key Rate for L=138.73873873873876 km: 1.2584711988995867e-05\n",
      "\n",
      "--- [DEBUG] Starting optimization for L=140.14014014014015 km ---\n",
      "🔵 Initial Guess for L=140.14014014014015: [0.48326265 0.34730593 0.22951311 0.71446231 0.86353276]\n",
      "✅ Final Optimized Parameters for L=137.73773773773775 km: [0.48342255 0.34720685 0.22866787 0.71559434 0.86408345]\n",
      "✅ Final Optimized Key Rate for L=137.73773773773775 km: 1.3381378247792337e-05\n",
      "\n",
      "--- [DEBUG] Starting optimization for L=140.34034034034036 km ---\n",
      "🔵 Initial Guess for L=140.34034034034036: [0.48342255 0.34720685 0.22866787 0.71559434 0.86408345]\n"
     ]
    },
    {
     "name": "stderr",
     "output_type": "stream",
     "text": [
      "Optimizing:  69%|██████▉   | 692/1000 [1:02:54<34:28,  6.72s/it]"
     ]
    },
    {
     "name": "stdout",
     "output_type": "stream",
     "text": [
      "✅ Final Optimized Parameters for L=138.33833833833836 km: [0.48332933 0.34726649 0.22917548 0.71491659 0.86375644]\n",
      "✅ Final Optimized Key Rate for L=138.33833833833836 km: 1.2898788307531125e-05\n",
      "\n",
      "--- [DEBUG] Starting optimization for L=140.54054054054055 km ---\n",
      "🔵 Initial Guess for L=140.54054054054055: [0.48332933 0.34726649 0.22917548 0.71491659 0.86375644]\n",
      "✅ Final Optimized Parameters for L=139.53953953953956 km: [0.48312109 0.34738452 0.23021537 0.71352087 0.86306682]\n",
      "✅ Final Optimized Key Rate for L=139.53953953953956 km: 1.1974432401757196e-05\n",
      "\n",
      "--- [DEBUG] Starting optimization for L=140.74074074074076 km ---\n",
      "🔵 Initial Guess for L=140.74074074074076: [0.48312109 0.34738452 0.23021537 0.71352087 0.86306682]\n",
      "✅ Final Optimized Parameters for L=139.13913913913916 km: [0.48319258 0.34734592 0.22986015 0.71399634 0.86330244]\n",
      "✅ Final Optimized Key Rate for L=139.13913913913916 km: 1.227662889232436e-05\n"
     ]
    },
    {
     "name": "stderr",
     "output_type": "stream",
     "text": [
      "Optimizing:  70%|██████▉   | 697/1000 [1:02:54<15:35,  3.09s/it]"
     ]
    },
    {
     "name": "stdout",
     "output_type": "stream",
     "text": [
      "✅ Final Optimized Parameters for L=138.13813813813815 km: [0.48336083 0.34724651 0.22900153 0.71514779 0.86386687]\n",
      "✅ Final Optimized Key Rate for L=138.13813813813815 km: 1.305810779041346e-05\n",
      "✅ Final Optimized Parameters for L=137.93793793793796 km: [0.48339055 0.34722697 0.22883418 0.71537141 0.86397609]\n",
      "✅ Final Optimized Key Rate for L=137.93793793793796 km: 1.3218966471264068e-05\n",
      "✅ Final Optimized Parameters for L=139.33933933933935 km: [0.48315733 0.34736509 0.23003663 0.71376015 0.86318541]\n",
      "✅ Final Optimized Key Rate for L=139.33933933933935 km: 1.212480140742607e-05\n",
      "✅ Final Optimized Parameters for L=138.93893893893895 km: [0.48322912 0.3473256  0.22969045 0.71422577 0.86341814]\n",
      "✅ Final Optimized Key Rate for L=138.93893893893895 km: 1.242992799803255e-05\n",
      "✅ Final Optimized Parameters for L=138.53853853853855 km: [0.48329494 0.34728578 0.22934458 0.71468887 0.8636451 ]\n",
      "✅ Final Optimized Key Rate for L=138.53853853853855 km: 1.2740994254043584e-05\n",
      "✅ Final Optimized Parameters for L=139.93993993993996 km: [0.48304549 0.34742378 0.23056985 0.71304392 0.86282587]\n",
      "✅ Final Optimized Key Rate for L=139.93993993993996 km: 1.1678017872259649e-05\n",
      "✅ Final Optimized Parameters for L=139.73973973973975 km: [0.4830838  0.3474043  0.23038809 0.71328678 0.86294725]\n",
      "✅ Final Optimized Key Rate for L=139.73973973973975 km: 1.1825508856116365e-05\n"
     ]
    },
    {
     "name": "stderr",
     "output_type": "stream",
     "text": [
      "Optimizing:  70%|███████   | 701/1000 [1:03:12<18:32,  3.72s/it]"
     ]
    },
    {
     "name": "stdout",
     "output_type": "stream",
     "text": [
      "✅ Final Optimized Parameters for L=140.34034034034036 km: [0.48296512 0.34746344 0.23092468 0.71256392 0.86257874]\n",
      "✅ Final Optimized Key Rate for L=140.34034034034036 km: 1.138728259413035e-05\n",
      "✅ Final Optimized Parameters for L=140.14014014014015 km: [0.48300584 0.34744368 0.23074632 0.71280516 0.86270285]\n",
      "✅ Final Optimized Key Rate for L=140.14014014014015 km: 1.153194667150842e-05\n",
      "✅ Final Optimized Parameters for L=140.54054054054055 km: [0.48292505 0.3474821  0.23111096 0.71231503 0.86245248]\n",
      "✅ Final Optimized Key Rate for L=140.54054054054055 km: 1.1244013098207333e-05\n",
      "✅ Final Optimized Parameters for L=140.74074074074076 km: [0.48288364 0.34750094 0.23129053 0.71207166 0.86232539]\n",
      "✅ Final Optimized Key Rate for L=140.74074074074076 km: 1.1102125758144383e-05\n",
      "\n",
      "--- [DEBUG] Starting optimization for L=140.94094094094095 km ---\n",
      "🔵 Initial Guess for L=140.94094094094095: [0.48288364 0.34750094 0.23129053 0.71207166 0.86232539]\n",
      "\n",
      "--- [DEBUG] Starting optimization for L=141.14114114114116 km ---\n",
      "🔵 Initial Guess for L=141.14114114114116: [0.48288364 0.34750094 0.23129053 0.71207166 0.86232539]\n",
      "\n",
      "--- [DEBUG] Starting optimization for L=141.34134134134135 km ---\n",
      "🔵 Initial Guess for L=141.34134134134135: [0.48288364 0.34750094 0.23129053 0.71207166 0.86232539]\n",
      "\n",
      "--- [DEBUG] Starting optimization for L=141.54154154154156 km ---\n",
      "🔵 Initial Guess for L=141.54154154154156: [0.48288364 0.34750094 0.23129053 0.71207166 0.86232539]\n",
      "\n",
      "--- [DEBUG] Starting optimization for L=141.74174174174175 km ---\n",
      "🔵 Initial Guess for L=141.74174174174175: [0.48288364 0.34750094 0.23129053 0.71207166 0.86232539]\n",
      "\n",
      "--- [DEBUG] Starting optimization for L=141.94194194194196 km ---\n",
      "🔵 Initial Guess for L=141.94194194194196: [0.48288364 0.34750094 0.23129053 0.71207166 0.86232539]\n",
      "\n",
      "--- [DEBUG] Starting optimization for L=142.14214214214215 km ---\n",
      "🔵 Initial Guess for L=142.14214214214215: [0.48288364 0.34750094 0.23129053 0.71207166 0.86232539]\n",
      "\n",
      "--- [DEBUG] Starting optimization for L=142.34234234234236 km ---\n",
      "🔵 Initial Guess for L=142.34234234234236: [0.48288364 0.34750094 0.23129053 0.71207166 0.86232539]\n",
      "\n",
      "--- [DEBUG] Starting optimization for L=142.54254254254255 km ---\n",
      "🔵 Initial Guess for L=142.54254254254255: [0.48288364 0.34750094 0.23129053 0.71207166 0.86232539]\n",
      "\n",
      "--- [DEBUG] Starting optimization for L=142.74274274274276 km ---\n",
      "🔵 Initial Guess for L=142.74274274274276: [0.48288364 0.34750094 0.23129053 0.71207166 0.86232539]\n",
      "\n",
      "--- [DEBUG] Starting optimization for L=142.94294294294295 km ---\n",
      "🔵 Initial Guess for L=142.94294294294295: [0.48288364 0.34750094 0.23129053 0.71207166 0.86232539]\n",
      "\n",
      "--- [DEBUG] Starting optimization for L=143.14314314314316 km ---\n",
      "🔵 Initial Guess for L=143.14314314314316: [0.48288364 0.34750094 0.23129053 0.71207166 0.86232539]\n"
     ]
    },
    {
     "name": "stderr",
     "output_type": "stream",
     "text": [
      "Optimizing:  71%|███████   | 708/1000 [1:04:27<32:20,  6.65s/it]"
     ]
    },
    {
     "name": "stdout",
     "output_type": "stream",
     "text": [
      "✅ Final Optimized Parameters for L=141.54154154154156 km: [0.48270608 0.34757714 0.2320331  0.71106916 0.86179986]\n",
      "✅ Final Optimized Key Rate for L=141.54154154154156 km: 1.0548153470632075e-05\n",
      "\n",
      "--- [DEBUG] Starting optimization for L=143.34334334334335 km ---\n",
      "🔵 Initial Guess for L=143.34334334334335: [0.48270608 0.34757714 0.2320331  0.71106916 0.86179986]\n",
      "✅ Final Optimized Parameters for L=142.34234234234236 km: [0.4825136  0.34765253 0.23279224 0.71004039 0.86124696]\n",
      "✅ Final Optimized Key Rate for L=142.34234234234236 km: 1.001533125174525e-05\n",
      "\n",
      "--- [DEBUG] Starting optimization for L=143.54354354354356 km ---\n",
      "🔵 Initial Guess for L=143.54354354354356: [0.4825136  0.34765253 0.23279224 0.71004039 0.86124696]\n",
      "✅ Final Optimized Parameters for L=142.54254254254255 km: [0.48246298 0.34767177 0.23298555 0.70977828 0.86110454]\n",
      "✅ Final Optimized Key Rate for L=142.54254254254255 km: 9.885342895994003e-06\n",
      "\n",
      "--- [DEBUG] Starting optimization for L=143.74374374374375 km ---\n",
      "🔵 Initial Guess for L=143.74374374374375: [0.48246298 0.34767177 0.23298555 0.70977828 0.86110454]\n",
      "✅ Final Optimized Parameters for L=142.74274274274276 km: [0.48241087 0.3476903  0.23318061 0.70951432 0.86095915]\n",
      "✅ Final Optimized Key Rate for L=142.74274274274276 km: 9.756618627962382e-06\n",
      "\n",
      "--- [DEBUG] Starting optimization for L=143.94394394394396 km ---\n",
      "🔵 Initial Guess for L=143.94394394394396: [0.48241087 0.3476903  0.23318061 0.70951432 0.86095915]\n",
      "✅ Final Optimized Parameters for L=140.94094094094095 km: [0.48284069 0.34752063 0.23147296 0.71182519 0.86219652]\n",
      "✅ Final Optimized Key Rate for L=140.94094094094095 km: 1.096160826414565e-05\n",
      "✅ Final Optimized Parameters for L=141.34134134134135 km: [0.48275203 0.34755882 0.23184586 0.71132206 0.86193319]\n",
      "✅ Final Optimized Key Rate for L=141.34134134134135 km: 1.0684634146115937e-05\n",
      "✅ Final Optimized Parameters for L=143.14314314314316 km: [0.48230399 0.34772752 0.23357016 0.70898347 0.86066514]\n",
      "✅ Final Optimized Key Rate for L=143.14314314314316 km: 9.50291761879508e-06\n"
     ]
    },
    {
     "name": "stderr",
     "output_type": "stream",
     "text": [
      "Optimizing:  71%|███████▏  | 713/1000 [1:04:27<18:59,  3.97s/it]"
     ]
    },
    {
     "name": "stdout",
     "output_type": "stream",
     "text": [
      "✅ Final Optimized Parameters for L=142.14214214214215 km: [0.48256373 0.34763473 0.23260173 0.71029959 0.86138733]\n",
      "✅ Final Optimized Key Rate for L=142.14214214214215 km: 1.0146595011070634e-05\n",
      "✅ Final Optimized Parameters for L=141.14114114114116 km: [0.4827962  0.34753944 0.23166144 0.71157155 0.8620657 ]\n",
      "✅ Final Optimized Key Rate for L=141.14114114114116 km: 1.0822448420752291e-05\n",
      "✅ Final Optimized Parameters for L=141.74174174174175 km: [0.4826593  0.34759646 0.23222186 0.71081361 0.86166379]\n",
      "✅ Final Optimized Key Rate for L=141.74174174174175 km: 1.0412994536571234e-05\n"
     ]
    },
    {
     "name": "stderr",
     "output_type": "stream",
     "text": [
      "Optimizing:  72%|███████▏  | 716/1000 [1:04:28<14:06,  2.98s/it]"
     ]
    },
    {
     "name": "stdout",
     "output_type": "stream",
     "text": [
      "✅ Final Optimized Parameters for L=142.94294294294295 km: [0.48235791 0.3477084  0.23337644 0.70924811 0.8608134 ]\n",
      "✅ Final Optimized Key Rate for L=142.94294294294295 km: 9.629147237465496e-06\n",
      "✅ Final Optimized Parameters for L=141.94194194194196 km: [0.48261129 0.3476161  0.23241193 0.71055614 0.86152662]\n",
      "✅ Final Optimized Key Rate for L=141.94194194194196 km: 1.0279145596028678e-05\n"
     ]
    },
    {
     "name": "stderr",
     "output_type": "stream",
     "text": [
      "Optimizing:  72%|███████▏  | 717/1000 [1:04:47<22:15,  4.72s/it]"
     ]
    },
    {
     "name": "stdout",
     "output_type": "stream",
     "text": [
      "✅ Final Optimized Parameters for L=143.54354354354356 km: [0.48219216 0.34776309 0.2339709  0.70844073 0.86036285]\n",
      "✅ Final Optimized Key Rate for L=143.54354354354356 km: 9.254139792189417e-06\n",
      "✅ Final Optimized Parameters for L=143.74374374374375 km: [0.48213567 0.34778131 0.2341752  0.70816393 0.86020857]\n",
      "✅ Final Optimized Key Rate for L=143.74374374374375 km: 9.131569887448471e-06\n",
      "✅ Final Optimized Parameters for L=143.34334334334335 km: [0.48224942 0.34774519 0.23377193 0.70871108 0.86051523]\n",
      "✅ Final Optimized Key Rate for L=143.34334334334335 km: 9.37791877012665e-06\n",
      "✅ Final Optimized Parameters for L=143.94394394394396 km: [0.48207752 0.34780009 0.23437216 0.70789382 0.86005249]\n",
      "✅ Final Optimized Key Rate for L=143.94394394394396 km: 9.010198359483199e-06\n",
      "\n",
      "--- [DEBUG] Starting optimization for L=144.14414414414415 km ---\n",
      "🔵 Initial Guess for L=144.14414414414415: [0.48207752 0.34780009 0.23437216 0.70789382 0.86005249]\n",
      "\n",
      "--- [DEBUG] Starting optimization for L=144.34434434434436 km ---\n",
      "🔵 Initial Guess for L=144.34434434434436: [0.48207752 0.34780009 0.23437216 0.70789382 0.86005249]\n",
      "\n",
      "--- [DEBUG] Starting optimization for L=144.54454454454455 km ---\n",
      "🔵 Initial Guess for L=144.54454454454455: [0.48207752 0.34780009 0.23437216 0.70789382 0.86005249]\n",
      "\n",
      "--- [DEBUG] Starting optimization for L=144.74474474474476 km ---\n",
      "🔵 Initial Guess for L=144.74474474474476: [0.48207752 0.34780009 0.23437216 0.70789382 0.86005249]\n",
      "\n",
      "--- [DEBUG] Starting optimization for L=144.94494494494495 km ---\n",
      "🔵 Initial Guess for L=144.94494494494495: [0.48207752 0.34780009 0.23437216 0.70789382 0.86005249]\n",
      "\n",
      "--- [DEBUG] Starting optimization for L=145.14514514514516 km ---\n",
      "🔵 Initial Guess for L=145.14514514514516: [0.48207752 0.34780009 0.23437216 0.70789382 0.86005249]\n",
      "\n",
      "--- [DEBUG] Starting optimization for L=145.34534534534535 km ---\n",
      "🔵 Initial Guess for L=145.34534534534535: [0.48207752 0.34780009 0.23437216 0.70789382 0.86005249]\n",
      "\n",
      "--- [DEBUG] Starting optimization for L=145.54554554554556 km ---\n",
      "🔵 Initial Guess for L=145.54554554554556: [0.48207752 0.34780009 0.23437216 0.70789382 0.86005249]\n",
      "\n",
      "--- [DEBUG] Starting optimization for L=145.74574574574575 km ---\n",
      "🔵 Initial Guess for L=145.74574574574575: [0.48207752 0.34780009 0.23437216 0.70789382 0.86005249]\n",
      "\n",
      "--- [DEBUG] Starting optimization for L=145.94594594594597 km ---\n",
      "🔵 Initial Guess for L=145.94594594594597: [0.48207752 0.34780009 0.23437216 0.70789382 0.86005249]\n",
      "\n",
      "--- [DEBUG] Starting optimization for L=146.14614614614615 km ---\n",
      "🔵 Initial Guess for L=146.14614614614615: [0.48207752 0.34780009 0.23437216 0.70789382 0.86005249]\n",
      "\n",
      "--- [DEBUG] Starting optimization for L=146.34634634634637 km ---\n",
      "🔵 Initial Guess for L=146.34634634634637: [0.48207752 0.34780009 0.23437216 0.70789382 0.86005249]\n"
     ]
    },
    {
     "name": "stderr",
     "output_type": "stream",
     "text": [
      "Optimizing:  72%|███████▏  | 722/1000 [1:06:03<41:52,  9.04s/it]"
     ]
    },
    {
     "name": "stdout",
     "output_type": "stream",
     "text": [
      "✅ Final Optimized Parameters for L=144.14414414414415 km: [0.48201642 0.34781733 0.23457651 0.70761576 0.85989438]\n",
      "✅ Final Optimized Key Rate for L=144.14414414414415 km: 8.89001461186331e-06\n",
      "\n",
      "--- [DEBUG] Starting optimization for L=146.54654654654655 km ---\n",
      "🔵 Initial Guess for L=146.54654654654655: [0.48201642 0.34781733 0.23457651 0.70761576 0.85989438]\n",
      "✅ Final Optimized Parameters for L=145.34534534534535 km: [0.48163132 0.34792121 0.23583006 0.7059074  0.85889981]\n",
      "✅ Final Optimized Key Rate for L=145.34534534534535 km: 8.193274484237615e-06\n",
      "\n",
      "--- [DEBUG] Starting optimization for L=146.74674674674677 km ---\n",
      "🔵 Initial Guess for L=146.74674674674677: [0.48163132 0.34792121 0.23583006 0.7059074  0.85889981]\n",
      "✅ Final Optimized Parameters for L=144.74474474474476 km: [0.48183101 0.34787105 0.23518491 0.70678312 0.85940825]\n",
      "✅ Final Optimized Key Rate for L=144.74474474474476 km: 8.53648556602717e-06\n",
      "\n",
      "--- [DEBUG] Starting optimization for L=146.94694694694695 km ---\n",
      "🔵 Initial Guess for L=146.94694694694695: [0.48183101 0.34787105 0.23518491 0.70678312 0.85940825]\n"
     ]
    },
    {
     "name": "stderr",
     "output_type": "stream",
     "text": [
      "Optimizing:  73%|███████▎  | 726/1000 [1:06:03<24:29,  5.36s/it]"
     ]
    },
    {
     "name": "stdout",
     "output_type": "stream",
     "text": [
      "✅ Final Optimized Parameters for L=144.54454454454455 km: [0.4818933  0.34785212 0.23498735 0.70705587 0.85957161]\n",
      "✅ Final Optimized Key Rate for L=144.54454454454455 km: 8.653168565793268e-06\n",
      "\n",
      "--- [DEBUG] Starting optimization for L=147.14714714714717 km ---\n",
      "🔵 Initial Guess for L=147.14714714714717: [0.4818933  0.34785212 0.23498735 0.70705587 0.85957161]\n",
      "✅ Final Optimized Parameters for L=145.74574574574575 km: [0.48149195 0.3479547  0.23625717 0.7053234  0.85855052]\n",
      "✅ Final Optimized Key Rate for L=145.74574574574575 km: 7.970065442217976e-06\n",
      "✅ Final Optimized Parameters for L=144.34434434434436 km: [0.48195555 0.3478351  0.23478502 0.70733334 0.85973365]\n",
      "✅ Final Optimized Key Rate for L=144.34434434434436 km: 8.77100814700583e-06\n",
      "✅ Final Optimized Parameters for L=146.34634634634637 km: [0.48127349 0.34800375 0.23691417 0.70442596 0.8580075 ]\n",
      "✅ Final Optimized Key Rate for L=146.34634634634637 km: 7.64345375689303e-06\n",
      "✅ Final Optimized Parameters for L=146.14614614614615 km: [0.48134824 0.34798784 0.2366927  0.70472831 0.85819118]\n",
      "✅ Final Optimized Key Rate for L=146.14614614614615 km: 7.751243563431767e-06\n",
      "✅ Final Optimized Parameters for L=144.94494494494495 km: [0.48176532 0.34788762 0.235406   0.70648585 0.85924046]\n",
      "✅ Final Optimized Key Rate for L=144.94494494494495 km: 8.420948943830086e-06\n"
     ]
    },
    {
     "name": "stderr",
     "output_type": "stream",
     "text": [
      "Optimizing:  73%|███████▎  | 730/1000 [1:06:04<15:19,  3.41s/it]"
     ]
    },
    {
     "name": "stdout",
     "output_type": "stream",
     "text": [
      "✅ Final Optimized Parameters for L=145.14514514514516 km: [0.4816996  0.34790418 0.23561926 0.70619535 0.85907144]\n",
      "✅ Final Optimized Key Rate for L=145.14514514514516 km: 8.30654858795451e-06\n",
      "✅ Final Optimized Parameters for L=145.54554554554556 km: [0.48156216 0.34793833 0.23604518 0.70561376 0.85872642]\n",
      "✅ Final Optimized Key Rate for L=145.54554554554556 km: 8.081116711534115e-06\n",
      "✅ Final Optimized Parameters for L=145.94594594594597 km: [0.48142079 0.34797142 0.23647448 0.70502681 0.85837184]\n",
      "✅ Final Optimized Key Rate for L=145.94594594594597 km: 7.860110940834608e-06\n"
     ]
    },
    {
     "name": "stderr",
     "output_type": "stream",
     "text": [
      "Optimizing:  73%|███████▎  | 733/1000 [1:06:23<18:52,  4.24s/it]"
     ]
    },
    {
     "name": "stdout",
     "output_type": "stream",
     "text": [
      "✅ Final Optimized Parameters for L=146.54654654654655 km: [0.48119798 0.34801984 0.237133   0.70412548 0.85782207]\n",
      "✅ Final Optimized Key Rate for L=146.54654654654655 km: 7.536732057736524e-06\n",
      "✅ Final Optimized Parameters for L=147.14714714714717 km: [0.48096114 0.34806675 0.23781231 0.70319806 0.85724798]\n",
      "✅ Final Optimized Key Rate for L=147.14714714714717 km: 7.222882305321493e-06\n",
      "✅ Final Optimized Parameters for L=146.74674674674677 km: [0.48111967 0.34803568 0.23736137 0.70381536 0.85763273]\n",
      "✅ Final Optimized Key Rate for L=146.74674674674677 km: 7.431069092027417e-06\n",
      "✅ Final Optimized Parameters for L=146.94694694694695 km: [0.48104237 0.34805148 0.23758632 0.70350775 0.85744204]\n",
      "✅ Final Optimized Key Rate for L=146.94694694694695 km: 7.326455573981451e-06\n",
      "\n",
      "--- [DEBUG] Starting optimization for L=147.34734734734735 km ---\n",
      "🔵 Initial Guess for L=147.34734734734735: [0.48104237 0.34805148 0.23758632 0.70350775 0.85744204]\n",
      "\n",
      "--- [DEBUG] Starting optimization for L=147.54754754754757 km ---\n",
      "🔵 Initial Guess for L=147.54754754754757: [0.48104237 0.34805148 0.23758632 0.70350775 0.85744204]\n",
      "\n",
      "--- [DEBUG] Starting optimization for L=147.74774774774775 km ---\n",
      "🔵 Initial Guess for L=147.74774774774775: [0.48104237 0.34805148 0.23758632 0.70350775 0.85744204]\n",
      "\n",
      "--- [DEBUG] Starting optimization for L=147.94794794794797 km ---\n",
      "🔵 Initial Guess for L=147.94794794794797: [0.48104237 0.34805148 0.23758632 0.70350775 0.85744204]\n",
      "\n",
      "--- [DEBUG] Starting optimization for L=148.14814814814815 km ---\n",
      "🔵 Initial Guess for L=148.14814814814815: [0.48104237 0.34805148 0.23758632 0.70350775 0.85744204]\n",
      "\n",
      "--- [DEBUG] Starting optimization for L=148.34834834834837 km ---\n",
      "🔵 Initial Guess for L=148.34834834834837: [0.48104237 0.34805148 0.23758632 0.70350775 0.85744204]\n",
      "\n",
      "--- [DEBUG] Starting optimization for L=148.54854854854855 km ---\n",
      "🔵 Initial Guess for L=148.54854854854855: [0.48104237 0.34805148 0.23758632 0.70350775 0.85744204]\n",
      "\n",
      "--- [DEBUG] Starting optimization for L=148.74874874874877 km ---\n",
      "🔵 Initial Guess for L=148.74874874874877: [0.48104237 0.34805148 0.23758632 0.70350775 0.85744204]\n",
      "\n",
      "--- [DEBUG] Starting optimization for L=148.94894894894895 km ---\n",
      "🔵 Initial Guess for L=148.94894894894895: [0.48104237 0.34805148 0.23758632 0.70350775 0.85744204]\n",
      "\n",
      "--- [DEBUG] Starting optimization for L=149.14914914914917 km ---\n",
      "🔵 Initial Guess for L=149.14914914914917: [0.48104237 0.34805148 0.23758632 0.70350775 0.85744204]\n",
      "\n",
      "--- [DEBUG] Starting optimization for L=149.34934934934935 km ---\n",
      "🔵 Initial Guess for L=149.34934934934935: [0.48104237 0.34805148 0.23758632 0.70350775 0.85744204]\n",
      "\n",
      "--- [DEBUG] Starting optimization for L=149.54954954954957 km ---\n",
      "🔵 Initial Guess for L=149.54954954954957: [0.48104237 0.34805148 0.23758632 0.70350775 0.85744204]\n"
     ]
    },
    {
     "name": "stderr",
     "output_type": "stream",
     "text": [
      "Optimizing:  74%|███████▎  | 737/1000 [1:07:39<41:26,  9.46s/it]"
     ]
    },
    {
     "name": "stdout",
     "output_type": "stream",
     "text": [
      "✅ Final Optimized Parameters for L=147.34734734734735 km: [0.48088019 0.34808135 0.23804089 0.70288561 0.85705083]\n",
      "✅ Final Optimized Key Rate for L=147.34734734734735 km: 7.1203401746826625e-06\n",
      "\n",
      "--- [DEBUG] Starting optimization for L=149.74974974974975 km ---\n",
      "🔵 Initial Guess for L=149.74974974974975: [0.48088019 0.34808135 0.23804089 0.70288561 0.85705083]\n"
     ]
    },
    {
     "name": "stderr",
     "output_type": "stream",
     "text": [
      "Optimizing:  74%|███████▍  | 738/1000 [1:07:40<36:48,  8.43s/it]"
     ]
    },
    {
     "name": "stdout",
     "output_type": "stream",
     "text": [
      "✅ Final Optimized Parameters for L=147.74774774774775 km: [0.48071219 0.34811331 0.23850418 0.70225082 0.85664991]\n",
      "✅ Final Optimized Key Rate for L=147.74774774774775 km: 6.91831331293376e-06\n",
      "\n",
      "--- [DEBUG] Starting optimization for L=149.94994994994997 km ---\n",
      "🔵 Initial Guess for L=149.94994994994997: [0.48071219 0.34811331 0.23850418 0.70225082 0.85664991]\n",
      "✅ Final Optimized Parameters for L=147.54754754754757 km: [0.48079724 0.34809722 0.23827606 0.70256501 0.8568519 ]\n",
      "✅ Final Optimized Key Rate for L=147.54754754754757 km: 7.01882015729155e-06\n",
      "\n",
      "--- [DEBUG] Starting optimization for L=150.15015015015015 km ---\n",
      "🔵 Initial Guess for L=150.15015015015015: [0.48079724 0.34809722 0.23827606 0.70256501 0.8568519 ]\n"
     ]
    },
    {
     "name": "stderr",
     "output_type": "stream",
     "text": [
      "Optimizing:  74%|███████▍  | 742/1000 [1:07:40<20:37,  4.80s/it]"
     ]
    },
    {
     "name": "stdout",
     "output_type": "stream",
     "text": [
      "✅ Final Optimized Parameters for L=148.34834834834837 km: [0.48044603 0.348156   0.23920774 0.70128608 0.85602541]\n",
      "✅ Final Optimized Key Rate for L=148.34834834834837 km: 6.622783686429334e-06\n",
      "\n",
      "--- [DEBUG] Starting optimization for L=150.35035035035037 km ---\n",
      "🔵 Initial Guess for L=150.35035035035037: [0.48044603 0.348156   0.23920774 0.70128608 0.85602541]\n",
      "✅ Final Optimized Parameters for L=148.74874874874877 km: [0.48026186 0.34818325 0.23969147 0.7006242  0.85559392]\n",
      "✅ Final Optimized Key Rate for L=148.74874874874877 km: 6.43066968104739e-06\n",
      "✅ Final Optimized Parameters for L=148.94894894894895 km: [0.48016558 0.34819768 0.2399373  0.70028811 0.85537268]\n",
      "✅ Final Optimized Key Rate for L=148.94894894894895 km: 6.336058830351831e-06\n",
      "✅ Final Optimized Parameters for L=149.14914914914917 km: [0.48007089 0.34821054 0.24018375 0.69995114 0.85514954]\n",
      "✅ Final Optimized Key Rate for L=149.14914914914917 km: 6.242400904647103e-06\n"
     ]
    },
    {
     "name": "stderr",
     "output_type": "stream",
     "text": [
      "Optimizing:  75%|███████▍  | 747/1000 [1:07:40<09:30,  2.25s/it]"
     ]
    },
    {
     "name": "stdout",
     "output_type": "stream",
     "text": [
      "✅ Final Optimized Parameters for L=147.94794794794797 km: [0.48062376 0.3481271  0.23873602 0.70193228 0.856445  ]\n",
      "✅ Final Optimized Key Rate for L=147.94794794794797 km: 6.818810786665722e-06\n",
      "✅ Final Optimized Parameters for L=149.34934934934935 km: [0.47997138 0.34822409 0.2404323  0.69961084 0.85492182]\n",
      "✅ Final Optimized Key Rate for L=149.34934934934935 km: 6.149687621876854e-06\n",
      "✅ Final Optimized Parameters for L=148.14814814814815 km: [0.48053526 0.34814149 0.23897167 0.7016093  0.85623693]\n",
      "✅ Final Optimized Key Rate for L=148.14814814814815 km: 6.7203038070961575e-06\n",
      "✅ Final Optimized Parameters for L=149.54954954954957 km: [0.47987094 0.34823689 0.24068536 0.69926493 0.85469067]\n",
      "✅ Final Optimized Key Rate for L=149.54954954954957 km: 6.057910778747372e-06\n",
      "✅ Final Optimized Parameters for L=148.54854854854855 km: [0.48035451 0.34816921 0.23944777 0.70095764 0.85581129]\n",
      "✅ Final Optimized Key Rate for L=148.54854854854855 km: 6.52624181886654e-06\n"
     ]
    },
    {
     "name": "stderr",
     "output_type": "stream",
     "text": [
      "Optimizing:  75%|███████▌  | 751/1000 [1:07:59<12:34,  3.03s/it]"
     ]
    },
    {
     "name": "stdout",
     "output_type": "stream",
     "text": [
      "✅ Final Optimized Parameters for L=149.94994994994997 km: [0.47966427 0.3482625  0.24118653 0.69857665 0.85422012]\n",
      "✅ Final Optimized Key Rate for L=149.94994994994997 km: 5.877133991620035e-06\n",
      "✅ Final Optimized Parameters for L=149.74974974974975 km: [0.47976898 0.34825007 0.24093232 0.69892476 0.85445763]\n",
      "✅ Final Optimized Key Rate for L=149.74974974974975 km: 5.967062250944462e-06\n",
      "✅ Final Optimized Parameters for L=150.15015015015015 km: [0.4795579  0.34827419 0.24144381 0.69822517 0.85397884]\n",
      "✅ Final Optimized Key Rate for L=150.15015015015015 km: 5.788118031291766e-06\n",
      "✅ Final Optimized Parameters for L=150.35035035035037 km: [0.47944917 0.34828589 0.24170966 0.69786327 0.85373363]\n",
      "✅ Final Optimized Key Rate for L=150.35035035035037 km: 5.700006477224966e-06\n",
      "\n",
      "--- [DEBUG] Starting optimization for L=150.55055055055055 km ---\n",
      "🔵 Initial Guess for L=150.55055055055055: [0.47944917 0.34828589 0.24170966 0.69786327 0.85373363]\n",
      "\n",
      "--- [DEBUG] Starting optimization for L=150.75075075075077 km ---\n",
      "🔵 Initial Guess for L=150.75075075075077: [0.47944917 0.34828589 0.24170966 0.69786327 0.85373363]\n",
      "\n",
      "--- [DEBUG] Starting optimization for L=150.95095095095095 km ---\n",
      "🔵 Initial Guess for L=150.95095095095095: [0.47944917 0.34828589 0.24170966 0.69786327 0.85373363]\n",
      "\n",
      "--- [DEBUG] Starting optimization for L=151.15115115115117 km ---\n",
      "🔵 Initial Guess for L=151.15115115115117: [0.47944917 0.34828589 0.24170966 0.69786327 0.85373363]\n",
      "\n",
      "--- [DEBUG] Starting optimization for L=151.35135135135135 km ---\n",
      "🔵 Initial Guess for L=151.35135135135135: [0.47944917 0.34828589 0.24170966 0.69786327 0.85373363]\n",
      "\n",
      "--- [DEBUG] Starting optimization for L=151.55155155155157 km ---\n",
      "🔵 Initial Guess for L=151.55155155155157: [0.47944917 0.34828589 0.24170966 0.69786327 0.85373363]\n",
      "\n",
      "--- [DEBUG] Starting optimization for L=151.75175175175175 km ---\n",
      "🔵 Initial Guess for L=151.75175175175175: [0.47944917 0.34828589 0.24170966 0.69786327 0.85373363]\n",
      "\n",
      "--- [DEBUG] Starting optimization for L=151.95195195195197 km ---\n",
      "🔵 Initial Guess for L=151.95195195195197: [0.47944917 0.34828589 0.24170966 0.69786327 0.85373363]\n",
      "\n",
      "--- [DEBUG] Starting optimization for L=152.15215215215215 km ---\n",
      "🔵 Initial Guess for L=152.15215215215215: [0.47944917 0.34828589 0.24170966 0.69786327 0.85373363]\n",
      "\n",
      "--- [DEBUG] Starting optimization for L=152.35235235235237 km ---\n",
      "🔵 Initial Guess for L=152.35235235235237: [0.47944917 0.34828589 0.24170966 0.69786327 0.85373363]\n",
      "\n",
      "--- [DEBUG] Starting optimization for L=152.55255255255256 km ---\n",
      "🔵 Initial Guess for L=152.55255255255256: [0.47944917 0.34828589 0.24170966 0.69786327 0.85373363]\n",
      "\n",
      "--- [DEBUG] Starting optimization for L=152.75275275275277 km ---\n",
      "🔵 Initial Guess for L=152.75275275275277: [0.47944917 0.34828589 0.24170966 0.69786327 0.85373363]\n"
     ]
    },
    {
     "name": "stderr",
     "output_type": "stream",
     "text": [
      "Optimizing:  75%|███████▌  | 754/1000 [1:09:13<42:35, 10.39s/it]"
     ]
    },
    {
     "name": "stdout",
     "output_type": "stream",
     "text": [
      "✅ Final Optimized Parameters for L=150.55055055055055 km: [0.47933965 0.34829851 0.24196907 0.69750812 0.85348428]\n",
      "✅ Final Optimized Key Rate for L=150.55055055055055 km: 5.612791512581553e-06\n",
      "\n",
      "--- [DEBUG] Starting optimization for L=152.95295295295296 km ---\n",
      "🔵 Initial Guess for L=152.95295295295296: [0.47933965 0.34829851 0.24196907 0.69750812 0.85348428]\n",
      "✅ Final Optimized Parameters for L=152.15215215215215 km: [0.47838394 0.34838041 0.24416221 0.69451358 0.85134815]\n",
      "✅ Final Optimized Key Rate for L=152.15215215215215 km: 4.946435617096496e-06\n",
      "\n",
      "--- [DEBUG] Starting optimization for L=153.15315315315317 km ---\n",
      "🔵 Initial Guess for L=153.15315315315317: [0.47838394 0.34838041 0.24416221 0.69451358 0.85134815]\n"
     ]
    },
    {
     "name": "stderr",
     "output_type": "stream",
     "text": [
      "Optimizing:  76%|███████▌  | 759/1000 [1:09:13<16:55,  4.21s/it]"
     ]
    },
    {
     "name": "stdout",
     "output_type": "stream",
     "text": [
      "✅ Final Optimized Parameters for L=151.75175175175175 km: [0.47863439 0.34836095 0.24359827 0.69528321 0.85190698]\n",
      "✅ Final Optimized Key Rate for L=151.75175175175175 km: 5.107901790179124e-06\n",
      "\n",
      "--- [DEBUG] Starting optimization for L=153.35335335335336 km ---\n",
      "🔵 Initial Guess for L=153.35335335335336: [0.47863439 0.34836095 0.24359827 0.69528321 0.85190698]\n",
      "✅ Final Optimized Parameters for L=150.75075075075077 km: [0.47922732 0.34830972 0.24223467 0.69714463 0.8532311 ]\n",
      "✅ Final Optimized Key Rate for L=150.75075075075077 km: 5.526465395905371e-06\n",
      "\n",
      "--- [DEBUG] Starting optimization for L=153.55355355355357 km ---\n",
      "🔵 Initial Guess for L=153.55355355355357: [0.47922732 0.34830972 0.24223467 0.69714463 0.8532311 ]\n",
      "✅ Final Optimized Parameters for L=150.95095095095095 km: [0.47911261 0.34832043 0.24249968 0.69678221 0.85297517]\n",
      "✅ Final Optimized Key Rate for L=150.95095095095095 km: 5.44102046081506e-06\n",
      "✅ Final Optimized Parameters for L=151.55155155155157 km: [0.47875861 0.348353   0.24331636 0.69566593 0.85218096]\n",
      "✅ Final Optimized Key Rate for L=151.55155155155157 km: 5.189897188732499e-06\n",
      "✅ Final Optimized Parameters for L=152.35235235235237 km: [0.47825439 0.34838964 0.24444408 0.69412799 0.85106152]\n",
      "✅ Final Optimized Key Rate for L=152.35235235235237 km: 4.8669504544675616e-06\n"
     ]
    },
    {
     "name": "stderr",
     "output_type": "stream",
     "text": [
      "Optimizing:  76%|███████▋  | 763/1000 [1:09:14<09:28,  2.40s/it]"
     ]
    },
    {
     "name": "stdout",
     "output_type": "stream",
     "text": [
      "✅ Final Optimized Parameters for L=152.55255255255256 km: [0.47812196 0.34839839 0.24473574 0.69373141 0.85076928]\n",
      "✅ Final Optimized Key Rate for L=152.55255255255256 km: 4.788287767051471e-06\n",
      "✅ Final Optimized Parameters for L=151.35135135135135 km: [0.47887898 0.34834123 0.24303853 0.69604485 0.85245071]\n",
      "✅ Final Optimized Key Rate for L=151.35135135135135 km: 5.27274383924204e-06\n",
      "✅ Final Optimized Parameters for L=151.15115115115117 km: [0.47899726 0.34833114 0.24276919 0.69641337 0.85271456]\n",
      "✅ Final Optimized Key Rate for L=151.15115115115117 km: 5.3564491148297765e-06\n",
      "✅ Final Optimized Parameters for L=151.95195195195197 km: [0.47851109 0.34837105 0.24387561 0.69490295 0.85163038]\n",
      "✅ Final Optimized Key Rate for L=151.95195195195197 km: 5.026750342813231e-06\n",
      "✅ Final Optimized Parameters for L=152.75275275275277 km: [0.47798795 0.34840659 0.24503209 0.69332921 0.8504735 ]\n",
      "✅ Final Optimized Key Rate for L=152.75275275275277 km: 4.710440536889984e-06\n"
     ]
    },
    {
     "name": "stderr",
     "output_type": "stream",
     "text": [
      "Optimizing:  76%|███████▋  | 765/1000 [1:09:29<14:09,  3.62s/it]"
     ]
    },
    {
     "name": "stdout",
     "output_type": "stream",
     "text": [
      "✅ Final Optimized Parameters for L=152.95295295295296 km: [0.47785242 0.34841469 0.24532654 0.69292923 0.85017223]\n",
      "✅ Final Optimized Key Rate for L=152.95295295295296 km: 4.633401815291438e-06\n",
      "✅ Final Optimized Parameters for L=153.35335335335336 km: [0.47757311 0.3484296  0.2459337  0.69210696 0.84955414]\n",
      "✅ Final Optimized Key Rate for L=153.35335335335336 km: 4.48172244833091e-06\n",
      "✅ Final Optimized Parameters for L=153.15315315315317 km: [0.47771217 0.3484214  0.24562854 0.69252022 0.84986578]\n",
      "✅ Final Optimized Key Rate for L=153.15315315315317 km: 4.5571647227538635e-06\n",
      "✅ Final Optimized Parameters for L=153.55355355355357 km: [0.47742719 0.3484358  0.24623811 0.69169237 0.84923821]\n",
      "✅ Final Optimized Key Rate for L=153.55355355355357 km: 4.407068249115222e-06\n",
      "\n",
      "--- [DEBUG] Starting optimization for L=153.75375375375376 km ---\n",
      "🔵 Initial Guess for L=153.75375375375376: [0.47742719 0.3484358  0.24623811 0.69169237 0.84923821]\n",
      "\n",
      "--- [DEBUG] Starting optimization for L=153.95395395395397 km ---\n",
      "🔵 Initial Guess for L=153.95395395395397: [0.47742719 0.3484358  0.24623811 0.69169237 0.84923821]\n",
      "\n",
      "--- [DEBUG] Starting optimization for L=154.15415415415416 km ---\n",
      "🔵 Initial Guess for L=154.15415415415416: [0.47742719 0.3484358  0.24623811 0.69169237 0.84923821]\n",
      "\n",
      "--- [DEBUG] Starting optimization for L=154.35435435435437 km ---\n",
      "🔵 Initial Guess for L=154.35435435435437: [0.47742719 0.3484358  0.24623811 0.69169237 0.84923821]\n",
      "\n",
      "--- [DEBUG] Starting optimization for L=154.55455455455456 km ---\n",
      "🔵 Initial Guess for L=154.55455455455456: [0.47742719 0.3484358  0.24623811 0.69169237 0.84923821]\n",
      "\n",
      "--- [DEBUG] Starting optimization for L=154.75475475475477 km ---\n",
      "🔵 Initial Guess for L=154.75475475475477: [0.47742719 0.3484358  0.24623811 0.69169237 0.84923821]\n",
      "\n",
      "--- [DEBUG] Starting optimization for L=154.95495495495496 km ---\n",
      "🔵 Initial Guess for L=154.95495495495496: [0.47742719 0.3484358  0.24623811 0.69169237 0.84923821]\n",
      "\n",
      "--- [DEBUG] Starting optimization for L=155.15515515515517 km ---\n",
      "🔵 Initial Guess for L=155.15515515515517: [0.47742719 0.3484358  0.24623811 0.69169237 0.84923821]\n",
      "\n",
      "--- [DEBUG] Starting optimization for L=155.35535535535536 km ---\n",
      "🔵 Initial Guess for L=155.35535535535536: [0.47742719 0.3484358  0.24623811 0.69169237 0.84923821]\n",
      "\n",
      "--- [DEBUG] Starting optimization for L=155.55555555555557 km ---\n",
      "🔵 Initial Guess for L=155.55555555555557: [0.47742719 0.3484358  0.24623811 0.69169237 0.84923821]\n",
      "\n",
      "--- [DEBUG] Starting optimization for L=155.75575575575576 km ---\n",
      "🔵 Initial Guess for L=155.75575575575576: [0.47742719 0.3484358  0.24623811 0.69169237 0.84923821]\n",
      "\n",
      "--- [DEBUG] Starting optimization for L=155.95595595595597 km ---\n",
      "🔵 Initial Guess for L=155.95595595595597: [0.47742719 0.3484358  0.24623811 0.69169237 0.84923821]\n"
     ]
    },
    {
     "name": "stderr",
     "output_type": "stream",
     "text": [
      "Optimizing:  77%|███████▋  | 769/1000 [1:10:36<34:30,  8.96s/it]"
     ]
    },
    {
     "name": "stdout",
     "output_type": "stream",
     "text": [
      "✅ Final Optimized Parameters for L=154.55455455455456 km: [0.47666769 0.34846473 0.2478353  0.68953591 0.84756985]\n",
      "✅ Final Optimized Key Rate for L=154.55455455455456 km: 4.045387089883815e-06\n",
      "\n",
      "--- [DEBUG] Starting optimization for L=156.15615615615616 km ---\n",
      "🔵 Initial Guess for L=156.15615615615616: [0.47666769 0.34846473 0.2478353  0.68953591 0.84756985]\n",
      "✅ Final Optimized Parameters for L=155.75575575575576 km: [0.47566687 0.34848715 0.24988906 0.68678082 0.84536369]\n",
      "✅ Final Optimized Key Rate for L=155.75575575575576 km: 3.636023438022448e-06\n",
      "\n",
      "--- [DEBUG] Starting optimization for L=156.35635635635637 km ---\n",
      "🔵 Initial Guess for L=156.35635635635637: [0.47566687 0.34848715 0.24988906 0.68678082 0.84536369]\n"
     ]
    },
    {
     "name": "stderr",
     "output_type": "stream",
     "text": [
      "Optimizing:  78%|███████▊  | 775/1000 [1:10:36<15:59,  4.26s/it]"
     ]
    },
    {
     "name": "stdout",
     "output_type": "stream",
     "text": [
      "✅ Final Optimized Parameters for L=154.15415415415416 km: [0.47697987 0.34845455 0.24717935 0.69041817 0.84825431]\n",
      "✅ Final Optimized Key Rate for L=154.15415415415416 km: 4.1877676853269254e-06\n",
      "\n",
      "--- [DEBUG] Starting optimization for L=156.55655655655656 km ---\n",
      "🔵 Initial Guess for L=156.55655655655656: [0.47697987 0.34845455 0.24717935 0.69041817 0.84825431]\n",
      "✅ Final Optimized Parameters for L=153.75375375375376 km: [0.47728166 0.34844368 0.24655366 0.69126706 0.84891501]\n",
      "✅ Final Optimized Key Rate for L=153.75375375375376 km: 4.333195449713755e-06\n",
      "\n",
      "--- [DEBUG] Starting optimization for L=156.75675675675677 km ---\n",
      "🔵 Initial Guess for L=156.75675675675677: [0.47728166 0.34844368 0.24655366 0.69126706 0.84891501]\n",
      "✅ Final Optimized Parameters for L=155.35535535535536 km: [0.4760118  0.34848053 0.24918515 0.68772324 0.84612495]\n",
      "✅ Final Optimized Key Rate for L=155.35535535535536 km: 3.7695644140751625e-06\n",
      "✅ Final Optimized Parameters for L=153.95395395395397 km: [0.47713552 0.34844919 0.24687239 0.6908361  0.84858831]\n",
      "✅ Final Optimized Key Rate for L=153.95395395395397 km: 4.260097441532159e-06\n",
      "✅ Final Optimized Parameters for L=155.95595595595597 km: [0.47548853 0.34848747 0.25024976 0.68629969 0.84497161]\n",
      "✅ Final Optimized Key Rate for L=155.95595595595597 km: 3.5703244130466773e-06\n",
      "✅ Final Optimized Parameters for L=154.75475475475477 km: [0.47650883 0.34846963 0.24816446 0.68909257 0.84721819]\n",
      "✅ Final Optimized Key Rate for L=154.75475475475477 km: 3.975323499311746e-06\n"
     ]
    },
    {
     "name": "stderr",
     "output_type": "stream",
     "text": [
      "Optimizing:  78%|███████▊  | 778/1000 [1:10:36<11:10,  3.02s/it]"
     ]
    },
    {
     "name": "stdout",
     "output_type": "stream",
     "text": [
      "✅ Final Optimized Parameters for L=155.55555555555557 km: [0.47584097 0.34848387 0.24953486 0.68725457 0.84574845]\n",
      "✅ Final Optimized Key Rate for L=155.55555555555557 km: 3.7024347861615877e-06\n",
      "✅ Final Optimized Parameters for L=154.35435435435437 km: [0.4768278  0.34845942 0.24750629 0.68997944 0.84791461]\n",
      "✅ Final Optimized Key Rate for L=154.35435435435437 km: 4.1161997040471995e-06\n",
      "✅ Final Optimized Parameters for L=155.15515515515517 km: [0.47617892 0.34847267 0.24890486 0.6881206  0.84649327]\n",
      "✅ Final Optimized Key Rate for L=155.15515515515517 km: 3.837418336115713e-06\n",
      "✅ Final Optimized Parameters for L=154.95495495495496 km: [0.47634578 0.34847386 0.24850004 0.68864183 0.84686041]\n",
      "✅ Final Optimized Key Rate for L=154.95495495495496 km: 3.9060026543662215e-06\n"
     ]
    },
    {
     "name": "stderr",
     "output_type": "stream",
     "text": [
      "Optimizing:  78%|███████▊  | 781/1000 [1:10:51<13:00,  3.57s/it]"
     ]
    },
    {
     "name": "stdout",
     "output_type": "stream",
     "text": [
      "✅ Final Optimized Parameters for L=156.15615615615616 km: [0.47530826 0.34848914 0.25061612 0.68581331 0.84457188]\n",
      "✅ Final Optimized Key Rate for L=156.15615615615616 km: 3.5053318182975217e-06\n",
      "✅ Final Optimized Parameters for L=156.35635635635637 km: [0.43828854 0.32518541 0.44126663 0.4314677  0.77718847]\n",
      "✅ Final Optimized Key Rate for L=156.35635635635637 km: 3.5834928383544407e-06\n",
      "✅ Final Optimized Parameters for L=156.75675675675677 km: [0.43804935 0.32432914 0.4442187  0.42884752 0.77634146]\n",
      "✅ Final Optimized Key Rate for L=156.75675675675677 km: 3.483348897379231e-06\n",
      "✅ Final Optimized Parameters for L=156.55655655655656 km: [0.43816931 0.32475874 0.44273796 0.43016181 0.7767665 ]\n",
      "✅ Final Optimized Key Rate for L=156.55655655655656 km: 3.5331621943097784e-06\n",
      "\n",
      "--- [DEBUG] Starting optimization for L=156.95695695695696 km ---\n",
      "🔵 Initial Guess for L=156.95695695695696: [0.43816931 0.32475874 0.44273796 0.43016181 0.7767665 ]\n",
      "\n",
      "--- [DEBUG] Starting optimization for L=157.15715715715717 km ---\n",
      "🔵 Initial Guess for L=157.15715715715717: [0.43816931 0.32475874 0.44273796 0.43016181 0.7767665 ]\n",
      "\n",
      "--- [DEBUG] Starting optimization for L=157.35735735735736 km ---\n",
      "🔵 Initial Guess for L=157.35735735735736: [0.43816931 0.32475874 0.44273796 0.43016181 0.7767665 ]\n",
      "\n",
      "--- [DEBUG] Starting optimization for L=157.55755755755757 km ---\n",
      "🔵 Initial Guess for L=157.55755755755757: [0.43816931 0.32475874 0.44273796 0.43016181 0.7767665 ]\n",
      "\n",
      "--- [DEBUG] Starting optimization for L=157.75775775775776 km ---\n",
      "🔵 Initial Guess for L=157.75775775775776: [0.43816931 0.32475874 0.44273796 0.43016181 0.7767665 ]\n",
      "\n",
      "--- [DEBUG] Starting optimization for L=157.95795795795797 km ---\n",
      "🔵 Initial Guess for L=157.95795795795797: [0.43816931 0.32475874 0.44273796 0.43016181 0.7767665 ]\n",
      "\n",
      "--- [DEBUG] Starting optimization for L=158.15815815815816 km ---\n",
      "🔵 Initial Guess for L=158.15815815815816: [0.43816931 0.32475874 0.44273796 0.43016181 0.7767665 ]\n",
      "\n",
      "--- [DEBUG] Starting optimization for L=158.35835835835837 km ---\n",
      "🔵 Initial Guess for L=158.35835835835837: [0.43816931 0.32475874 0.44273796 0.43016181 0.7767665 ]\n",
      "\n",
      "--- [DEBUG] Starting optimization for L=158.55855855855856 km ---\n",
      "🔵 Initial Guess for L=158.55855855855856: [0.43816931 0.32475874 0.44273796 0.43016181 0.7767665 ]\n",
      "\n",
      "--- [DEBUG] Starting optimization for L=158.75875875875877 km ---\n",
      "🔵 Initial Guess for L=158.75875875875877: [0.43816931 0.32475874 0.44273796 0.43016181 0.7767665 ]\n",
      "\n",
      "--- [DEBUG] Starting optimization for L=158.95895895895896 km ---\n",
      "🔵 Initial Guess for L=158.95895895895896: [0.43816931 0.32475874 0.44273796 0.43016181 0.7767665 ]\n",
      "\n",
      "--- [DEBUG] Starting optimization for L=159.15915915915917 km ---\n",
      "🔵 Initial Guess for L=159.15915915915917: [0.43816931 0.32475874 0.44273796 0.43016181 0.7767665 ]\n"
     ]
    },
    {
     "name": "stderr",
     "output_type": "stream",
     "text": [
      "Optimizing:  79%|███████▊  | 786/1000 [1:11:59<26:32,  7.44s/it]"
     ]
    },
    {
     "name": "stdout",
     "output_type": "stream",
     "text": [
      "✅ Final Optimized Parameters for L=156.95695695695696 km: [0.43793042 0.32389261 0.44571784 0.42751622 0.77590919]\n",
      "✅ Final Optimized Key Rate for L=156.95695695695696 km: 3.4340484552470606e-06\n",
      "\n",
      "--- [DEBUG] Starting optimization for L=159.35935935935936 km ---\n",
      "🔵 Initial Guess for L=159.35935935935936: [0.43793042 0.32389261 0.44571784 0.42751622 0.77590919]\n",
      "✅ Final Optimized Parameters for L=157.15715715715717 km: [0.43781034 0.32345156 0.44722961 0.42617361 0.77547185]\n",
      "✅ Final Optimized Key Rate for L=157.15715715715717 km: 3.385256418673921e-06\n",
      "\n",
      "--- [DEBUG] Starting optimization for L=159.55955955955957 km ---\n",
      "🔵 Initial Guess for L=159.55955955955957: [0.43781034 0.32345156 0.44722961 0.42617361 0.77547185]\n",
      "✅ Final Optimized Parameters for L=159.15915915915917 km: [0.43655993 0.31868247 0.46325545 0.41193207 0.77074782]\n",
      "✅ Final Optimized Key Rate for L=159.15915915915917 km: 2.9243493039354233e-06\n",
      "\n",
      "--- [DEBUG] Starting optimization for L=159.75975975975976 km ---\n",
      "🔵 Initial Guess for L=159.75975975975976: [0.43655993 0.31868247 0.46325545 0.41193207 0.77074782]\n"
     ]
    },
    {
     "name": "stderr",
     "output_type": "stream",
     "text": [
      "Optimizing:  79%|███████▉  | 790/1000 [1:11:59<14:37,  4.18s/it]"
     ]
    },
    {
     "name": "stdout",
     "output_type": "stream",
     "text": [
      "✅ Final Optimized Parameters for L=157.95795795795797 km: [0.43731876 0.32162166 0.45343728 0.42066053 0.77366071]\n",
      "✅ Final Optimized Key Rate for L=157.95795795795797 km: 3.195084814635777e-06\n",
      "\n",
      "--- [DEBUG] Starting optimization for L=159.95995995995997 km ---\n",
      "🔵 Initial Guess for L=159.95995995995997: [0.43731876 0.32162166 0.45343728 0.42066053 0.77366071]\n",
      "✅ Final Optimized Parameters for L=157.35735735735736 km: [0.43768835 0.32300342 0.44875057 0.42482393 0.77502834]\n",
      "✅ Final Optimized Key Rate for L=157.35735735735736 km: 3.3369683806362933e-06\n",
      "✅ Final Optimized Parameters for L=158.55855855855856 km: [0.43694384 0.32018321 0.4582678  0.41636663 0.77223636]\n",
      "✅ Final Optimized Key Rate for L=158.55855855855856 km: 3.0575825700619e-06\n",
      "✅ Final Optimized Parameters for L=158.95895895895896 km: [0.43668905 0.31919042 0.46157236 0.41342827 0.77125162]\n",
      "✅ Final Optimized Key Rate for L=158.95895895895896 km: 2.968292863735408e-06\n",
      "✅ Final Optimized Parameters for L=157.55755755755757 km: [0.43756497 0.32254966 0.45029644 0.42344989 0.77457848]\n",
      "✅ Final Optimized Key Rate for L=157.55755755755757 km: 3.2891799760657996e-06\n",
      "✅ Final Optimized Parameters for L=157.75775775775776 km: [0.43744043 0.32208816 0.45185911 0.42206158 0.77412339]\n",
      "✅ Final Optimized Key Rate for L=157.75775775775776 km: 3.2418868815062775e-06\n"
     ]
    },
    {
     "name": "stderr",
     "output_type": "stream",
     "text": [
      "Optimizing:  79%|███████▉  | 794/1000 [1:11:59<08:17,  2.41s/it]"
     ]
    },
    {
     "name": "stdout",
     "output_type": "stream",
     "text": [
      "✅ Final Optimized Parameters for L=158.75875875875877 km: [0.436815   0.31968965 0.45991463 0.41490344 0.77174607]\n",
      "✅ Final Optimized Key Rate for L=158.75875875875877 km: 3.012702605194367e-06\n",
      "✅ Final Optimized Parameters for L=158.35835835835837 km: [0.43706768 0.32066932 0.45664453 0.41780935 0.77271697]\n",
      "✅ Final Optimized Key Rate for L=158.35835835835837 km: 3.102936839639486e-06\n",
      "✅ Final Optimized Parameters for L=158.15815815815816 km: [0.43719315 0.32114782 0.45503357 0.41924083 0.77319192]\n",
      "✅ Final Optimized Key Rate for L=158.15815815815816 km: 3.1487695343223304e-06\n"
     ]
    },
    {
     "name": "stderr",
     "output_type": "stream",
     "text": [
      "Optimizing:  80%|███████▉  | 797/1000 [1:12:14<10:47,  3.19s/it]"
     ]
    },
    {
     "name": "stdout",
     "output_type": "stream",
     "text": [
      "✅ Final Optimized Parameters for L=159.35935935935936 km: [0.43643114 0.31816946 0.46495339 0.41042208 0.7702384 ]\n",
      "✅ Final Optimized Key Rate for L=159.35935935935936 km: 2.880867922926282e-06\n",
      "✅ Final Optimized Parameters for L=159.95995995995997 km: [0.43604399 0.31658207 0.4701505  0.40580004 0.76866438]\n",
      "✅ Final Optimized Key Rate for L=159.95995995995997 km: 2.753157400362233e-06\n",
      "✅ Final Optimized Parameters for L=159.55955955955957 km: [0.43630311 0.31764774 0.4666738  0.40889086 0.76972107]\n",
      "✅ Final Optimized Key Rate for L=159.55955955955957 km: 2.837844756317453e-06\n",
      "✅ Final Optimized Parameters for L=159.75975975975976 km: [0.43617347 0.31711907 0.46839843 0.40735729 0.76919659]\n",
      "✅ Final Optimized Key Rate for L=159.75975975975976 km: 2.795275878154296e-06\n",
      "\n",
      "--- [DEBUG] Starting optimization for L=160.16016016016016 km ---\n",
      "🔵 Initial Guess for L=160.16016016016016: [0.43617347 0.31711907 0.46839843 0.40735729 0.76919659]\n",
      "\n",
      "--- [DEBUG] Starting optimization for L=160.36036036036037 km ---\n",
      "🔵 Initial Guess for L=160.36036036036037: [0.43617347 0.31711907 0.46839843 0.40735729 0.76919659]\n",
      "\n",
      "--- [DEBUG] Starting optimization for L=160.56056056056056 km ---\n",
      "🔵 Initial Guess for L=160.56056056056056: [0.43617347 0.31711907 0.46839843 0.40735729 0.76919659]\n",
      "\n",
      "--- [DEBUG] Starting optimization for L=160.76076076076077 km ---\n",
      "🔵 Initial Guess for L=160.76076076076077: [0.43617347 0.31711907 0.46839843 0.40735729 0.76919659]\n",
      "\n",
      "--- [DEBUG] Starting optimization for L=160.96096096096096 km ---\n",
      "🔵 Initial Guess for L=160.96096096096096: [0.43617347 0.31711907 0.46839843 0.40735729 0.76919659]\n",
      "\n",
      "--- [DEBUG] Starting optimization for L=161.16116116116117 km ---\n",
      "🔵 Initial Guess for L=161.16116116116117: [0.43617347 0.31711907 0.46839843 0.40735729 0.76919659]\n",
      "\n",
      "--- [DEBUG] Starting optimization for L=161.36136136136136 km ---\n",
      "🔵 Initial Guess for L=161.36136136136136: [0.43617347 0.31711907 0.46839843 0.40735729 0.76919659]\n",
      "\n",
      "--- [DEBUG] Starting optimization for L=161.56156156156158 km ---\n",
      "🔵 Initial Guess for L=161.56156156156158: [0.43617347 0.31711907 0.46839843 0.40735729 0.76919659]\n",
      "\n",
      "--- [DEBUG] Starting optimization for L=161.76176176176176 km ---\n",
      "🔵 Initial Guess for L=161.76176176176176: [0.43617347 0.31711907 0.46839843 0.40735729 0.76919659]\n",
      "\n",
      "--- [DEBUG] Starting optimization for L=161.96196196196198 km ---\n",
      "🔵 Initial Guess for L=161.96196196196198: [0.43617347 0.31711907 0.46839843 0.40735729 0.76919659]\n",
      "\n",
      "--- [DEBUG] Starting optimization for L=162.16216216216216 km ---\n",
      "🔵 Initial Guess for L=162.16216216216216: [0.43617347 0.31711907 0.46839843 0.40735729 0.76919659]\n",
      "\n",
      "--- [DEBUG] Starting optimization for L=162.36236236236238 km ---\n",
      "🔵 Initial Guess for L=162.36236236236238: [0.43617347 0.31711907 0.46839843 0.40735729 0.76919659]\n"
     ]
    },
    {
     "name": "stderr",
     "output_type": "stream",
     "text": [
      "Optimizing:  80%|████████  | 804/1000 [1:13:23<19:50,  6.07s/it]"
     ]
    },
    {
     "name": "stdout",
     "output_type": "stream",
     "text": [
      "✅ Final Optimized Parameters for L=162.36236236236238 km: [0.43444565 0.30952626 0.49260009 0.38581961 0.76162836]\n",
      "✅ Final Optimized Key Rate for L=162.36236236236238 km: 2.2815021784951163e-06\n",
      "\n",
      "--- [DEBUG] Starting optimization for L=162.56256256256256 km ---\n",
      "🔵 Initial Guess for L=162.56256256256256: [0.43444565 0.30952626 0.49260009 0.38581961 0.76162836]\n",
      "✅ Final Optimized Parameters for L=160.96096096096096 km: [0.43538318 0.31378806 0.47917618 0.3977685  0.76588453]\n",
      "✅ Final Optimized Key Rate for L=160.96096096096096 km: 2.549187555773164e-06\n",
      "\n",
      "--- [DEBUG] Starting optimization for L=162.76276276276278 km ---\n",
      "🔵 Initial Guess for L=162.76276276276278: [0.43538318 0.31378806 0.47917618 0.3977685  0.76588453]\n",
      "✅ Final Optimized Parameters for L=160.36036036036037 km: [0.43578171 0.31548856 0.47370573 0.40263517 0.76757723]\n",
      "✅ Final Optimized Key Rate for L=160.36036036036037 km: 2.6702562818813477e-06\n",
      "\n",
      "--- [DEBUG] Starting optimization for L=162.96296296296296 km ---\n",
      "🔵 Initial Guess for L=162.96296296296296: [0.43578171 0.31548856 0.47370573 0.40263517 0.76757723]\n",
      "✅ Final Optimized Parameters for L=161.76176176176176 km: [0.43485022 0.31140246 0.48673821 0.39103642 0.76350593]\n",
      "✅ Final Optimized Key Rate for L=161.76176176176176 km: 2.3937360005565627e-06\n",
      "\n",
      "--- [DEBUG] Starting optimization for L=163.16316316316318 km ---\n",
      "🔵 Initial Guess for L=163.16316316316318: [0.43485022 0.31140246 0.48673821 0.39103642 0.76350593]\n",
      "✅ Final Optimized Parameters for L=162.16216216216216 km: [0.43457925 0.31016372 0.49062336 0.38758074 0.7622633 ]\n",
      "✅ Final Optimized Key Rate for L=162.16216216216216 km: 2.3185057025035794e-06\n",
      "✅ Final Optimized Parameters for L=160.16016016016016 km: [0.43591253 0.31603943 0.471918   0.40422702 0.76812486]\n",
      "✅ Final Optimized Key Rate for L=160.16016016016016 km: 2.7114854726758103e-06\n",
      "✅ Final Optimized Parameters for L=160.76076076076077 km: [0.43551659 0.3143634  0.47733604 0.39940613 0.7664568 ]\n",
      "✅ Final Optimized Key Rate for L=160.76076076076077 km: 2.589111044329235e-06\n"
     ]
    },
    {
     "name": "stderr",
     "output_type": "stream",
     "text": [
      "Optimizing:  81%|████████  | 808/1000 [1:13:24<12:37,  3.95s/it]"
     ]
    },
    {
     "name": "stdout",
     "output_type": "stream",
     "text": [
      "✅ Final Optimized Parameters for L=161.16116116116117 km: [0.43525156 0.31320465 0.48103687 0.39611271 0.76530428]\n",
      "✅ Final Optimized Key Rate for L=161.16116116116117 km: 2.509691919776134e-06\n",
      "✅ Final Optimized Parameters for L=161.96196196196198 km: [0.43471476 0.31078839 0.4886611  0.38932756 0.76289019]\n",
      "✅ Final Optimized Key Rate for L=161.96196196196198 km: 2.3559158248231953e-06\n"
     ]
    },
    {
     "name": "stderr",
     "output_type": "stream",
     "text": [
      "Optimizing:  81%|████████  | 811/1000 [1:13:24<09:07,  2.90s/it]"
     ]
    },
    {
     "name": "stdout",
     "output_type": "stream",
     "text": [
      "✅ Final Optimized Parameters for L=160.56056056056056 km: [0.43564975 0.31493052 0.47551155 0.40103072 0.76702039]\n",
      "✅ Final Optimized Key Rate for L=160.56056056056056 km: 2.6294660521391392e-06\n",
      "✅ Final Optimized Parameters for L=161.36136136136136 km: [0.43512065 0.31261322 0.48291616 0.39443895 0.76471181]\n",
      "✅ Final Optimized Key Rate for L=161.36136136136136 km: 2.470620505889616e-06\n",
      "✅ Final Optimized Parameters for L=161.56156156156158 km: [0.43498541 0.31201256 0.48482093 0.39274396 0.76411333]\n",
      "✅ Final Optimized Key Rate for L=161.56156156156158 km: 2.4319697195530034e-06\n"
     ]
    },
    {
     "name": "stderr",
     "output_type": "stream",
     "text": [
      "Optimizing:  81%|████████▏ | 813/1000 [1:13:43<13:14,  4.25s/it]"
     ]
    },
    {
     "name": "stdout",
     "output_type": "stream",
     "text": [
      "✅ Final Optimized Parameters for L=162.56256256256256 km: [0.43430927 0.30888512 0.49458586 0.3840529  0.76098224]\n",
      "✅ Final Optimized Key Rate for L=162.56256256256256 km: 2.2449018319678184e-06\n",
      "✅ Final Optimized Parameters for L=162.96296296296296 km: [0.43403827 0.30756641 0.49864243 0.38044278 0.75965885]\n",
      "✅ Final Optimized Key Rate for L=162.96296296296296 km: 2.172897158080808e-06\n",
      "✅ Final Optimized Parameters for L=162.76276276276278 km: [0.43417269 0.30823149 0.49660196 0.38225757 0.76032651]\n",
      "✅ Final Optimized Key Rate for L=162.76276276276278 km: 2.208701276137385e-06\n",
      "✅ Final Optimized Parameters for L=163.16316316316318 km: [0.43390321 0.3068928  0.5006933  0.37861732 0.75898281]\n",
      "✅ Final Optimized Key Rate for L=163.16316316316318 km: 2.1374861581478054e-06\n",
      "\n",
      "--- [DEBUG] Starting optimization for L=163.36336336336336 km ---\n",
      "🔵 Initial Guess for L=163.36336336336336: [0.43390321 0.3068928  0.5006933  0.37861732 0.75898281]\n",
      "\n",
      "--- [DEBUG] Starting optimization for L=163.56356356356358 km ---\n",
      "🔵 Initial Guess for L=163.56356356356358: [0.43390321 0.3068928  0.5006933  0.37861732 0.75898281]\n",
      "\n",
      "--- [DEBUG] Starting optimization for L=163.76376376376376 km ---\n",
      "🔵 Initial Guess for L=163.76376376376376: [0.43390321 0.3068928  0.5006933  0.37861732 0.75898281]\n",
      "\n",
      "--- [DEBUG] Starting optimization for L=163.96396396396398 km ---\n",
      "🔵 Initial Guess for L=163.96396396396398: [0.43390321 0.3068928  0.5006933  0.37861732 0.75898281]\n",
      "\n",
      "--- [DEBUG] Starting optimization for L=164.16416416416416 km ---\n",
      "🔵 Initial Guess for L=164.16416416416416: [0.43390321 0.3068928  0.5006933  0.37861732 0.75898281]\n",
      "\n",
      "--- [DEBUG] Starting optimization for L=164.36436436436438 km ---\n",
      "🔵 Initial Guess for L=164.36436436436438: [0.43390321 0.3068928  0.5006933  0.37861732 0.75898281]\n",
      "\n",
      "--- [DEBUG] Starting optimization for L=164.56456456456456 km ---\n",
      "🔵 Initial Guess for L=164.56456456456456: [0.43390321 0.3068928  0.5006933  0.37861732 0.75898281]\n",
      "\n",
      "--- [DEBUG] Starting optimization for L=164.76476476476478 km ---\n",
      "🔵 Initial Guess for L=164.76476476476478: [0.43390321 0.3068928  0.5006933  0.37861732 0.75898281]\n",
      "\n",
      "--- [DEBUG] Starting optimization for L=164.96496496496496 km ---\n",
      "🔵 Initial Guess for L=164.96496496496496: [0.43390321 0.3068928  0.5006933  0.37861732 0.75898281]\n",
      "\n",
      "--- [DEBUG] Starting optimization for L=165.16516516516518 km ---\n",
      "🔵 Initial Guess for L=165.16516516516518: [0.43390321 0.3068928  0.5006933  0.37861732 0.75898281]\n",
      "\n",
      "--- [DEBUG] Starting optimization for L=165.36536536536536 km ---\n",
      "🔵 Initial Guess for L=165.36536536536536: [0.43390321 0.3068928  0.5006933  0.37861732 0.75898281]\n",
      "\n",
      "--- [DEBUG] Starting optimization for L=165.56556556556558 km ---\n",
      "🔵 Initial Guess for L=165.56556556556558: [0.43390321 0.3068928  0.5006933  0.37861732 0.75898281]\n"
     ]
    },
    {
     "name": "stderr",
     "output_type": "stream",
     "text": [
      "Optimizing:  82%|████████▏ | 819/1000 [1:14:58<23:03,  7.64s/it]"
     ]
    },
    {
     "name": "stdout",
     "output_type": "stream",
     "text": [
      "✅ Final Optimized Parameters for L=163.36336336336336 km: [0.43376669 0.30621396 0.50275996 0.37677746 0.75829722]\n",
      "✅ Final Optimized Key Rate for L=163.36336336336336 km: 2.1024649902257064e-06\n",
      "\n",
      "--- [DEBUG] Starting optimization for L=165.76576576576576 km ---\n",
      "🔵 Initial Guess for L=165.76576576576576: [0.43376669 0.30621396 0.50275996 0.37677746 0.75829722]\n",
      "✅ Final Optimized Parameters for L=164.96496496496496 km: [0.43267647 0.30038804 0.52005463 0.3613899  0.75238714]\n",
      "✅ Final Optimized Key Rate for L=164.96496496496496 km: 1.8359460551612748e-06\n",
      "\n",
      "--- [DEBUG] Starting optimization for L=165.96596596596598 km ---\n",
      "🔵 Initial Guess for L=165.96596596596598: [0.43267647 0.30038804 0.52005463 0.3613899  0.75238714]\n",
      "✅ Final Optimized Parameters for L=163.96396396396398 km: [0.43335712 0.30410556 0.50909625 0.37113849 0.75616868]\n",
      "✅ Final Optimized Key Rate for L=163.96396396396398 km: 1.999708111189402e-06\n",
      "\n",
      "--- [DEBUG] Starting optimization for L=166.16616616616616 km ---\n",
      "🔵 Initial Guess for L=166.16616616616616: [0.43335712 0.30410556 0.50909625 0.37113849 0.75616868]\n",
      "✅ Final Optimized Parameters for L=164.36436436436438 km: [0.43308491 0.30265105 0.51342423 0.36728775 0.75469179]\n",
      "✅ Final Optimized Key Rate for L=164.36436436436438 km: 1.9330939148341554e-06\n",
      "\n",
      "--- [DEBUG] Starting optimization for L=166.36636636636638 km ---\n",
      "🔵 Initial Guess for L=166.36636636636638: [0.43308491 0.30265105 0.51342423 0.36728775 0.75469179]\n",
      "✅ Final Optimized Parameters for L=163.76376376376376 km: [0.43349354 0.30482034 0.50696177 0.37303855 0.75688918]\n",
      "✅ Final Optimized Key Rate for L=163.76376376376376 km: 2.03357917084698e-06\n"
     ]
    },
    {
     "name": "stderr",
     "output_type": "stream",
     "text": [
      "Optimizing:  82%|████████▏ | 822/1000 [1:14:58<15:41,  5.29s/it]"
     ]
    },
    {
     "name": "stdout",
     "output_type": "stream",
     "text": [
      "✅ Final Optimized Parameters for L=163.56356356356358 km: [0.43362901 0.30552107 0.5048547  0.37491345 0.75759822]\n",
      "✅ Final Optimized Key Rate for L=163.56356356356358 km: 2.067830401296328e-06\n",
      "✅ Final Optimized Parameters for L=164.16416416416416 km: [0.4332208  0.30338371 0.51124926 0.36922263 0.75543686]\n",
      "✅ Final Optimized Key Rate for L=164.16416416416416 km: 1.966214066950678e-06\n"
     ]
    },
    {
     "name": "stderr",
     "output_type": "stream",
     "text": [
      "Optimizing:  83%|████████▎ | 827/1000 [1:14:59<07:59,  2.77s/it]"
     ]
    },
    {
     "name": "stdout",
     "output_type": "stream",
     "text": [
      "✅ Final Optimized Parameters for L=165.16516516516518 km: [0.43254045 0.29961417 0.52230048 0.3593927  0.75159414]\n",
      "✅ Final Optimized Key Rate for L=165.16516516516518 km: 1.8042908730508318e-06\n",
      "✅ Final Optimized Parameters for L=165.56556556556558 km: [0.43227092 0.29802712 0.52686518 0.35533302 0.74996708]\n",
      "✅ Final Optimized Key Rate for L=165.56556556556558 km: 1.7420538230207537e-06\n",
      "✅ Final Optimized Parameters for L=165.36536536536536 km: [0.43240442 0.29882348 0.52457715 0.35736719 0.75078666]\n",
      "✅ Final Optimized Key Rate for L=165.36536536536536 km: 1.772994440803176e-06\n",
      "✅ Final Optimized Parameters for L=164.76476476476478 km: [0.43281291 0.30115302 0.5178252  0.3633727  0.75316719]\n",
      "✅ Final Optimized Key Rate for L=164.76476476476478 km: 1.8679629528966312e-06\n",
      "✅ Final Optimized Parameters for L=164.56456456456456 km: [0.43294857 0.30190837 0.51561217 0.36534062 0.75393653]\n",
      "✅ Final Optimized Key Rate for L=164.56456456456456 km: 1.9003445633758556e-06\n"
     ]
    },
    {
     "name": "stderr",
     "output_type": "stream",
     "text": [
      "Optimizing:  83%|████████▎ | 829/1000 [1:15:15<11:24,  4.00s/it]"
     ]
    },
    {
     "name": "stdout",
     "output_type": "stream",
     "text": [
      "✅ Final Optimized Parameters for L=165.76576576576576 km: [0.43213467 0.29721447 0.52918025 0.35327518 0.7491329 ]\n",
      "✅ Final Optimized Key Rate for L=165.76576576576576 km: 1.7114661154835847e-06\n",
      "✅ Final Optimized Parameters for L=165.96596596596598 km: [0.43199874 0.29639309 0.5315041  0.35120976 0.74828629]\n",
      "✅ Final Optimized Key Rate for L=165.96596596596598 km: 1.6812284439975569e-06\n",
      "✅ Final Optimized Parameters for L=166.16616616616616 km: [0.43186831 0.2955591  0.5338545  0.34912011 0.7474227 ]\n",
      "✅ Final Optimized Key Rate for L=166.16616616616616 km: 1.6513379646121577e-06\n",
      "✅ Final Optimized Parameters for L=166.36636636636638 km: [0.43173255 0.29470862 0.53622998 0.34701065 0.74654555]\n",
      "✅ Final Optimized Key Rate for L=166.36636636636638 km: 1.6217918641475102e-06\n",
      "\n",
      "--- [DEBUG] Starting optimization for L=166.56656656656656 km ---\n",
      "🔵 Initial Guess for L=166.56656656656656: [0.43173255 0.29470862 0.53622998 0.34701065 0.74654555]\n",
      "\n",
      "--- [DEBUG] Starting optimization for L=166.76676676676678 km ---\n",
      "🔵 Initial Guess for L=166.76676676676678: [0.43173255 0.29470862 0.53622998 0.34701065 0.74654555]\n",
      "\n",
      "--- [DEBUG] Starting optimization for L=166.96696696696696 km ---\n",
      "🔵 Initial Guess for L=166.96696696696696: [0.43173255 0.29470862 0.53622998 0.34701065 0.74654555]\n",
      "\n",
      "--- [DEBUG] Starting optimization for L=167.16716716716718 km ---\n",
      "🔵 Initial Guess for L=167.16716716716718: [0.43173255 0.29470862 0.53622998 0.34701065 0.74654555]\n",
      "\n",
      "--- [DEBUG] Starting optimization for L=167.36736736736736 km ---\n",
      "🔵 Initial Guess for L=167.36736736736736: [0.43173255 0.29470862 0.53622998 0.34701065 0.74654555]\n",
      "\n",
      "--- [DEBUG] Starting optimization for L=167.56756756756758 km ---\n",
      "🔵 Initial Guess for L=167.56756756756758: [0.43173255 0.29470862 0.53622998 0.34701065 0.74654555]\n",
      "\n",
      "--- [DEBUG] Starting optimization for L=167.76776776776777 km ---\n",
      "🔵 Initial Guess for L=167.76776776776777: [0.43173255 0.29470862 0.53622998 0.34701065 0.74654555]\n",
      "\n",
      "--- [DEBUG] Starting optimization for L=167.96796796796798 km ---\n",
      "🔵 Initial Guess for L=167.96796796796798: [0.43173255 0.29470862 0.53622998 0.34701065 0.74654555]\n",
      "\n",
      "--- [DEBUG] Starting optimization for L=168.16816816816817 km ---\n",
      "🔵 Initial Guess for L=168.16816816816817: [0.43173255 0.29470862 0.53622998 0.34701065 0.74654555]\n",
      "\n",
      "--- [DEBUG] Starting optimization for L=168.36836836836838 km ---\n",
      "🔵 Initial Guess for L=168.36836836836838: [0.43173255 0.29470862 0.53622998 0.34701065 0.74654555]\n",
      "\n",
      "--- [DEBUG] Starting optimization for L=168.56856856856857 km ---\n",
      "🔵 Initial Guess for L=168.56856856856857: [0.43173255 0.29470862 0.53622998 0.34701065 0.74654555]\n",
      "\n",
      "--- [DEBUG] Starting optimization for L=168.76876876876878 km ---\n",
      "🔵 Initial Guess for L=168.76876876876878: [0.43173255 0.29470862 0.53622998 0.34701065 0.74654555]\n"
     ]
    },
    {
     "name": "stderr",
     "output_type": "stream",
     "text": [
      "Optimizing:  84%|████████▎ | 835/1000 [1:16:22<19:42,  7.17s/it]"
     ]
    },
    {
     "name": "stdout",
     "output_type": "stream",
     "text": [
      "✅ Final Optimized Parameters for L=166.76676676676678 km: [0.43146361 0.29297702 0.5410224  0.34275569 0.74474886]\n",
      "✅ Final Optimized Key Rate for L=166.76676676676678 km: 1.5637216927223811e-06\n",
      "\n",
      "--- [DEBUG] Starting optimization for L=168.96896896896897 km ---\n",
      "🔵 Initial Guess for L=168.96896896896897: [0.43146361 0.29297702 0.5410224  0.34275569 0.74474886]\n",
      "✅ Final Optimized Parameters for L=168.76876876876878 km: [0.4301692  0.28353276 0.56616339 0.32046321 0.73476275]\n",
      "✅ Final Optimized Key Rate for L=168.76876876876878 km: 1.293116255332318e-06\n",
      "\n",
      "--- [DEBUG] Starting optimization for L=169.16916916916918 km ---\n",
      "🔵 Initial Guess for L=169.16916916916918: [0.4301692  0.28353276 0.56616339 0.32046321 0.73476275]\n",
      "✅ Final Optimized Parameters for L=166.96696696696696 km: [0.43133203 0.29209441 0.54345186 0.34059759 0.74382513]\n",
      "✅ Final Optimized Key Rate for L=166.96696696696696 km: 1.5351921433770863e-06\n",
      "\n",
      "--- [DEBUG] Starting optimization for L=169.36936936936937 km ---\n",
      "🔵 Initial Guess for L=169.36936936936937: [0.43133203 0.29209441 0.54345186 0.34059759 0.74382513]\n"
     ]
    },
    {
     "name": "stderr",
     "output_type": "stream",
     "text": [
      "Optimizing:  84%|████████▍ | 838/1000 [1:16:22<13:06,  4.85s/it]"
     ]
    },
    {
     "name": "stdout",
     "output_type": "stream",
     "text": [
      "✅ Final Optimized Parameters for L=167.16716716716718 km: [0.43119997 0.29119534 0.54590321 0.3384213  0.74288703]\n",
      "✅ Final Optimized Key Rate for L=167.16716716716718 km: 1.5069960145721713e-06\n",
      "\n",
      "--- [DEBUG] Starting optimization for L=169.56956956956958 km ---\n",
      "🔵 Initial Guess for L=169.56956956956958: [0.43119997 0.29119534 0.54590321 0.3384213  0.74288703]\n",
      "✅ Final Optimized Parameters for L=167.36736736736736 km: [0.43106949 0.29028564 0.5483673  0.33623514 0.7419327 ]\n",
      "✅ Final Optimized Key Rate for L=167.36736736736736 km: 1.4791306403963559e-06\n",
      "✅ Final Optimized Parameters for L=166.56656656656656 km: [0.43159807 0.29385066 0.53861221 0.34489436 0.74565594]\n",
      "✅ Final Optimized Key Rate for L=166.56656656656656 km: 1.5925873582237182e-06\n",
      "✅ Final Optimized Parameters for L=168.16816816816817 km: [0.43054953 0.28651188 0.55841994 0.32732101 0.73794453]\n",
      "✅ Final Optimized Key Rate for L=168.16816816816817 km: 1.3709243805380684e-06\n"
     ]
    },
    {
     "name": "stderr",
     "output_type": "stream",
     "text": [
      "Optimizing:  84%|████████▍ | 842/1000 [1:16:23<07:22,  2.80s/it]"
     ]
    },
    {
     "name": "stdout",
     "output_type": "stream",
     "text": [
      "✅ Final Optimized Parameters for L=168.36836836836838 km: [0.43042139 0.28553312 0.56097904 0.32505396 0.73690365]\n",
      "✅ Final Optimized Key Rate for L=168.36836836836838 km: 1.3446737985852628e-06\n",
      "✅ Final Optimized Parameters for L=167.56756756756758 km: [0.43093721 0.28936363 0.55084789 0.33403384 0.74096311]\n",
      "✅ Final Optimized Key Rate for L=167.56756756756758 km: 1.451593383726282e-06\n",
      "✅ Final Optimized Parameters for L=168.56856856856857 km: [0.43029549 0.2845411  0.56355769 0.32277081 0.73584334]\n",
      "✅ Final Optimized Key Rate for L=168.56856856856857 km: 1.318738578845745e-06\n",
      "✅ Final Optimized Parameters for L=167.96796796796798 km: [0.43067804 0.28747553 0.5558778  0.32957463 0.73896821]\n",
      "✅ Final Optimized Key Rate for L=167.96796796796798 km: 1.3974928190002228e-06\n",
      "✅ Final Optimized Parameters for L=167.76776776776777 km: [0.43080698 0.28842715 0.5533604  0.33180533 0.73997429]\n",
      "✅ Final Optimized Key Rate for L=167.76776776776777 km: 1.4243816363495887e-06\n"
     ]
    },
    {
     "name": "stderr",
     "output_type": "stream",
     "text": [
      "Optimizing:  84%|████████▍ | 845/1000 [1:16:37<08:58,  3.48s/it]"
     ]
    },
    {
     "name": "stdout",
     "output_type": "stream",
     "text": [
      "✅ Final Optimized Parameters for L=169.36936936936937 km: [0.42979544 0.2804287  0.57405241 0.31348474 0.73140956]\n",
      "✅ Final Optimized Key Rate for L=169.36936936936937 km: 1.2181024209746204e-06\n",
      "✅ Final Optimized Parameters for L=168.96896896896897 km: [0.43004111 0.28251454 0.56877408 0.3181531  0.73366606]\n",
      "✅ Final Optimized Key Rate for L=168.96896896896897 km: 1.267804390031458e-06\n",
      "✅ Final Optimized Parameters for L=169.16916916916918 km: [0.42991646 0.28147825 0.57140431 0.31582613 0.73254831]\n",
      "✅ Final Optimized Key Rate for L=169.16916916916918 km: 1.2428005727524964e-06\n",
      "✅ Final Optimized Parameters for L=169.56956956956958 km: [0.42966992 0.27936277 0.57672834 0.31111781 0.73025096]\n",
      "✅ Final Optimized Key Rate for L=169.56956956956958 km: 1.1937075801186493e-06\n",
      "\n",
      "--- [DEBUG] Starting optimization for L=169.76976976976977 km ---\n",
      "🔵 Initial Guess for L=169.76976976976977: [0.42966992 0.27936277 0.57672834 0.31111781 0.73025096]\n",
      "\n",
      "--- [DEBUG] Starting optimization for L=169.96996996996998 km ---\n",
      "🔵 Initial Guess for L=169.96996996996998: [0.42966992 0.27936277 0.57672834 0.31111781 0.73025096]\n",
      "\n",
      "--- [DEBUG] Starting optimization for L=170.17017017017017 km ---\n",
      "🔵 Initial Guess for L=170.17017017017017: [0.42966992 0.27936277 0.57672834 0.31111781 0.73025096]\n",
      "\n",
      "--- [DEBUG] Starting optimization for L=170.37037037037038 km ---\n",
      "🔵 Initial Guess for L=170.37037037037038: [0.42966992 0.27936277 0.57672834 0.31111781 0.73025096]\n",
      "\n",
      "--- [DEBUG] Starting optimization for L=170.57057057057057 km ---\n",
      "🔵 Initial Guess for L=170.57057057057057: [0.42966992 0.27936277 0.57672834 0.31111781 0.73025096]\n",
      "\n",
      "--- [DEBUG] Starting optimization for L=170.77077077077078 km ---\n",
      "🔵 Initial Guess for L=170.77077077077078: [0.42966992 0.27936277 0.57672834 0.31111781 0.73025096]\n",
      "\n",
      "--- [DEBUG] Starting optimization for L=170.970970970971 km ---\n",
      "🔵 Initial Guess for L=170.970970970971: [0.42966992 0.27936277 0.57672834 0.31111781 0.73025096]\n",
      "\n",
      "--- [DEBUG] Starting optimization for L=171.17117117117118 km ---\n",
      "🔵 Initial Guess for L=171.17117117117118: [0.42966992 0.27936277 0.57672834 0.31111781 0.73025096]\n",
      "\n",
      "--- [DEBUG] Starting optimization for L=171.3713713713714 km ---\n",
      "🔵 Initial Guess for L=171.3713713713714: [0.42966992 0.27936277 0.57672834 0.31111781 0.73025096]\n",
      "\n",
      "--- [DEBUG] Starting optimization for L=171.57157157157158 km ---\n",
      "🔵 Initial Guess for L=171.57157157157158: [0.42966992 0.27936277 0.57672834 0.31111781 0.73025096]\n",
      "\n",
      "--- [DEBUG] Starting optimization for L=171.7717717717718 km ---\n",
      "🔵 Initial Guess for L=171.7717717717718: [0.42966992 0.27936277 0.57672834 0.31111781 0.73025096]\n",
      "\n",
      "--- [DEBUG] Starting optimization for L=171.97197197197198 km ---\n",
      "🔵 Initial Guess for L=171.97197197197198: [0.42966992 0.27936277 0.57672834 0.31111781 0.73025096]\n"
     ]
    },
    {
     "name": "stderr",
     "output_type": "stream",
     "text": [
      "Optimizing:  85%|████████▍ | 849/1000 [1:17:44<22:13,  8.83s/it]"
     ]
    },
    {
     "name": "stdout",
     "output_type": "stream",
     "text": [
      "✅ Final Optimized Parameters for L=169.76976976976977 km: [0.42954949 0.2782817  0.57940946 0.30875104 0.72906948]\n",
      "✅ Final Optimized Key Rate for L=169.76976976976977 km: 1.1696137230658673e-06\n",
      "\n",
      "--- [DEBUG] Starting optimization for L=172.1721721721722 km ---\n",
      "🔵 Initial Guess for L=172.1721721721722: [0.42954949 0.2782817  0.57940946 0.30875104 0.72906948]\n"
     ]
    },
    {
     "name": "stderr",
     "output_type": "stream",
     "text": [
      "Optimizing:  85%|████████▌ | 852/1000 [1:17:45<14:11,  5.75s/it]"
     ]
    },
    {
     "name": "stdout",
     "output_type": "stream",
     "text": [
      "✅ Final Optimized Parameters for L=170.77077077077078 km: [0.42895856 0.27264403 0.59307939 0.29669563 0.72282824]\n",
      "✅ Final Optimized Key Rate for L=170.77077077077078 km: 1.0535796568360417e-06\n",
      "\n",
      "--- [DEBUG] Starting optimization for L=172.37237237237238 km ---\n",
      "🔵 Initial Guess for L=172.37237237237238: [0.42895856 0.27264403 0.59307939 0.29669563 0.72282824]\n",
      "✅ Final Optimized Parameters for L=170.37037037037038 km: [0.42918989 0.27494854 0.58756005 0.30155945 0.72539568]\n",
      "✅ Final Optimized Key Rate for L=170.37037037037038 km: 1.0991151929800997e-06\n",
      "\n",
      "--- [DEBUG] Starting optimization for L=172.5725725725726 km ---\n",
      "🔵 Initial Guess for L=172.5725725725726: [0.42918989 0.27494854 0.58756005 0.30155945 0.72539568]\n",
      "✅ Final Optimized Parameters for L=171.57157157157158 km: [0.42850432 0.26784983 0.6042932  0.28683311 0.7174004 ]\n",
      "✅ Final Optimized Key Rate for L=171.57157157157158 km: 9.659428010602917e-07\n",
      "\n",
      "--- [DEBUG] Starting optimization for L=172.77277277277278 km ---\n",
      "🔵 Initial Guess for L=172.77277277277278: [0.42850432 0.26784983 0.6042932  0.28683311 0.7174004 ]\n"
     ]
    },
    {
     "name": "stderr",
     "output_type": "stream",
     "text": [
      "Optimizing:  86%|████████▌ | 858/1000 [1:17:45<05:36,  2.37s/it]"
     ]
    },
    {
     "name": "stdout",
     "output_type": "stream",
     "text": [
      "✅ Final Optimized Parameters for L=171.3713713713714 km: [0.42861448 0.26907296 0.60147433 0.289309   0.71879677]\n",
      "✅ Final Optimized Key Rate for L=171.3713713713714 km: 9.874280299339768e-07\n",
      "✅ Final Optimized Parameters for L=169.96996996996998 km: [0.42942943 0.27718443 0.58211211 0.30636406 0.72786695]\n",
      "✅ Final Optimized Key Rate for L=169.96996996996998 km: 1.1458185498504314e-06\n",
      "✅ Final Optimized Parameters for L=171.97197197197198 km: [0.42828534 0.26534989 0.60998787 0.28183448 0.71452795]\n",
      "✅ Final Optimized Key Rate for L=171.97197197197198 km: 9.238079344820432e-07\n",
      "✅ Final Optimized Parameters for L=170.57057057057057 km: [0.42907243 0.2738061  0.59031293 0.29913257 0.72412427]\n",
      "✅ Final Optimized Key Rate for L=170.57057057057057 km: 1.0762025461778912e-06\n",
      "✅ Final Optimized Parameters for L=170.970970970971 km: [0.42884128 0.27147285 0.5958589  0.29424835 0.72151143]\n",
      "✅ Final Optimized Key Rate for L=170.970970970971 km: 1.0312443612245868e-06\n",
      "✅ Final Optimized Parameters for L=171.7717717717718 km: [0.42839309 0.2666099  0.60712788 0.28434252 0.71597957]\n",
      "✅ Final Optimized Key Rate for L=171.7717717717718 km: 9.447367791000373e-07\n",
      "✅ Final Optimized Parameters for L=170.17017017017017 km: [0.42930914 0.27607561 0.58482793 0.30396924 0.7266418 ]\n",
      "✅ Final Optimized Key Rate for L=170.17017017017017 km: 1.1223197882076175e-06\n",
      "✅ Final Optimized Parameters for L=171.17117117117118 km: [0.42872894 0.27027963 0.59865987 0.29178353 0.72016524]\n",
      "✅ Final Optimized Key Rate for L=171.17117117117118 km: 1.0091945222891856e-06\n"
     ]
    },
    {
     "name": "stderr",
     "output_type": "stream",
     "text": [
      "Optimizing:  86%|████████▌ | 862/1000 [1:18:01<06:41,  2.91s/it]"
     ]
    },
    {
     "name": "stdout",
     "output_type": "stream",
     "text": [
      "✅ Final Optimized Parameters for L=172.1721721721722 km: [0.42817738 0.26407533 0.61285435 0.27932094 0.71304947]\n",
      "✅ Final Optimized Key Rate for L=172.1721721721722 km: 9.031542640715119e-07\n",
      "✅ Final Optimized Parameters for L=172.37237237237238 km: [0.42807354 0.26277846 0.61574674 0.27678762 0.71154073]\n",
      "✅ Final Optimized Key Rate for L=172.37237237237238 km: 8.827737914069573e-07\n",
      "✅ Final Optimized Parameters for L=172.77277277277278 km: [0.42786306 0.2601477  0.62153053 0.27172678 0.7084391 ]\n",
      "✅ Final Optimized Key Rate for L=172.77277277277278 km: 8.428246686026104e-07\n",
      "✅ Final Optimized Parameters for L=172.5725725725726 km: [0.42796442 0.2614756  0.61862428 0.27426946 0.7100068 ]\n",
      "✅ Final Optimized Key Rate for L=172.5725725725726 km: 8.626645674241428e-07\n",
      "\n",
      "--- [DEBUG] Starting optimization for L=172.972972972973 km ---\n",
      "🔵 Initial Guess for L=172.972972972973: [0.42796442 0.2614756  0.61862428 0.27426946 0.7100068 ]\n",
      "\n",
      "--- [DEBUG] Starting optimization for L=173.17317317317318 km ---\n",
      "🔵 Initial Guess for L=173.17317317317318: [0.42796442 0.2614756  0.61862428 0.27426946 0.7100068 ]\n",
      "\n",
      "--- [DEBUG] Starting optimization for L=173.3733733733734 km ---\n",
      "🔵 Initial Guess for L=173.3733733733734: [0.42796442 0.2614756  0.61862428 0.27426946 0.7100068 ]\n",
      "\n",
      "--- [DEBUG] Starting optimization for L=173.57357357357358 km ---\n",
      "🔵 Initial Guess for L=173.57357357357358: [0.42796442 0.2614756  0.61862428 0.27426946 0.7100068 ]\n",
      "\n",
      "--- [DEBUG] Starting optimization for L=173.7737737737738 km ---\n",
      "🔵 Initial Guess for L=173.7737737737738: [0.42796442 0.2614756  0.61862428 0.27426946 0.7100068 ]\n",
      "\n",
      "--- [DEBUG] Starting optimization for L=173.97397397397398 km ---\n",
      "🔵 Initial Guess for L=173.97397397397398: [0.42796442 0.2614756  0.61862428 0.27426946 0.7100068 ]\n",
      "\n",
      "--- [DEBUG] Starting optimization for L=174.1741741741742 km ---\n",
      "🔵 Initial Guess for L=174.1741741741742: [0.42796442 0.2614756  0.61862428 0.27426946 0.7100068 ]\n",
      "\n",
      "--- [DEBUG] Starting optimization for L=174.37437437437438 km ---\n",
      "🔵 Initial Guess for L=174.37437437437438: [0.42796442 0.2614756  0.61862428 0.27426946 0.7100068 ]\n",
      "\n",
      "--- [DEBUG] Starting optimization for L=174.5745745745746 km ---\n",
      "🔵 Initial Guess for L=174.5745745745746: [0.42796442 0.2614756  0.61862428 0.27426946 0.7100068 ]\n",
      "\n",
      "--- [DEBUG] Starting optimization for L=174.77477477477478 km ---\n",
      "🔵 Initial Guess for L=174.77477477477478: [0.42796442 0.2614756  0.61862428 0.27426946 0.7100068 ]\n",
      "\n",
      "--- [DEBUG] Starting optimization for L=174.974974974975 km ---\n",
      "🔵 Initial Guess for L=174.974974974975: [0.42796442 0.2614756  0.61862428 0.27426946 0.7100068 ]\n",
      "\n",
      "--- [DEBUG] Starting optimization for L=175.17517517517518 km ---\n",
      "🔵 Initial Guess for L=175.17517517517518: [0.42796442 0.2614756  0.61862428 0.27426946 0.7100068 ]\n"
     ]
    },
    {
     "name": "stderr",
     "output_type": "stream",
     "text": [
      "Optimizing:  87%|████████▋ | 866/1000 [1:19:15<20:34,  9.21s/it]"
     ]
    },
    {
     "name": "stdout",
     "output_type": "stream",
     "text": [
      "✅ Final Optimized Parameters for L=175.17517517517518 km: [0.42673799 0.24282555 0.65723244 0.24070874 0.68697891]\n",
      "✅ Final Optimized Key Rate for L=175.17517517517518 km: 6.2508972564208e-07\n",
      "\n",
      "--- [DEBUG] Starting optimization for L=175.3753753753754 km ---\n",
      "🔵 Initial Guess for L=175.3753753753754: [0.42673799 0.24282555 0.65723244 0.24070874 0.68697891]\n",
      "✅ Final Optimized Parameters for L=173.3733733733734 km: [0.4275619  0.25606166 0.63031587 0.26405693 0.70355084]\n",
      "✅ Final Optimized Key Rate for L=173.3733733733734 km: 7.849020937090735e-07\n",
      "\n",
      "--- [DEBUG] Starting optimization for L=175.57557557557558 km ---\n",
      "🔵 Initial Guess for L=175.57557557557558: [0.4275619  0.25606166 0.63031587 0.26405693 0.70355084]\n"
     ]
    },
    {
     "name": "stderr",
     "output_type": "stream",
     "text": [
      "Optimizing:  87%|████████▋ | 868/1000 [1:19:16<14:21,  6.52s/it]"
     ]
    },
    {
     "name": "stdout",
     "output_type": "stream",
     "text": [
      "✅ Final Optimized Parameters for L=174.1741741741742 km: [0.42718072 0.25036194 0.64218763 0.25373064 0.69655729]\n",
      "✅ Final Optimized Key Rate for L=174.1741741741742 km: 7.113305537619503e-07\n",
      "\n",
      "--- [DEBUG] Starting optimization for L=175.7757757757758 km ---\n",
      "🔵 Initial Guess for L=175.7757757757758: [0.42718072 0.25036194 0.64218763 0.25373064 0.69655729]\n",
      "✅ Final Optimized Parameters for L=173.97397397397398 km: [0.42727282 0.25181614 0.63920367 0.25632314 0.69835808]\n",
      "✅ Final Optimized Key Rate for L=173.97397397397398 km: 7.293367787422112e-07\n",
      "\n",
      "--- [DEBUG] Starting optimization for L=175.97597597597598 km ---\n",
      "🔵 Initial Guess for L=175.97597597597598: [0.42727282 0.25181614 0.63920367 0.25632314 0.69835808]\n",
      "✅ Final Optimized Parameters for L=172.972972972973 km: [0.42776099 0.25880404 0.62445023 0.26917477 0.7068428 ]\n",
      "✅ Final Optimized Key Rate for L=172.972972972973 km: 8.232521986566792e-07\n"
     ]
    },
    {
     "name": "stderr",
     "output_type": "stream",
     "text": [
      "Optimizing:  87%|████████▋ | 871/1000 [1:19:16<08:38,  4.02s/it]"
     ]
    },
    {
     "name": "stdout",
     "output_type": "stream",
     "text": [
      "✅ Final Optimized Parameters for L=174.77477477477478 km: [0.42690755 0.24589689 0.65118911 0.24592911 0.69092959]\n",
      "✅ Final Optimized Key Rate for L=174.77477477477478 km: 6.588345910657492e-07\n",
      "✅ Final Optimized Parameters for L=173.57357357357358 km: [0.42746514 0.25466481 0.63326921 0.26148352 0.70185521]\n",
      "✅ Final Optimized Key Rate for L=173.57357357357358 km: 7.661207992839098e-07\n"
     ]
    },
    {
     "name": "stderr",
     "output_type": "stream",
     "text": [
      "Optimizing:  87%|████████▋ | 873/1000 [1:19:16<06:15,  2.96s/it]"
     ]
    },
    {
     "name": "stdout",
     "output_type": "stream",
     "text": [
      "✅ Final Optimized Parameters for L=174.37437437437438 km: [0.42708831 0.24889461 0.64517157 0.25114181 0.69472094]\n",
      "✅ Final Optimized Key Rate for L=174.37437437437438 km: 6.935792310798285e-07\n",
      "✅ Final Optimized Parameters for L=174.5745745745746 km: [0.42699873 0.24740438 0.64817679 0.24853681 0.69284363]\n",
      "✅ Final Optimized Key Rate for L=174.5745745745746 km: 6.760811286005965e-07\n",
      "✅ Final Optimized Parameters for L=173.17317317317318 km: [0.42766133 0.25744271 0.62738088 0.26661803 0.70521132]\n",
      "✅ Final Optimized Key Rate for L=173.17317317317318 km: 8.039452880469805e-07\n",
      "✅ Final Optimized Parameters for L=174.974974974975 km: [0.42682098 0.24437214 0.65420379 0.24332423 0.6889749 ]\n",
      "✅ Final Optimized Key Rate for L=174.974974974975 km: 6.418379904016075e-07\n",
      "✅ Final Optimized Parameters for L=173.7737737737738 km: [0.42736695 0.25324885 0.6362322  0.25890608 0.70012441]\n",
      "✅ Final Optimized Key Rate for L=173.7737737737738 km: 7.475996152768029e-07\n"
     ]
    },
    {
     "name": "stderr",
     "output_type": "stream",
     "text": [
      "Optimizing:  88%|████████▊ | 877/1000 [1:19:32<06:56,  3.38s/it]"
     ]
    },
    {
     "name": "stdout",
     "output_type": "stream",
     "text": [
      "✅ Final Optimized Parameters for L=175.3753753753754 km: [0.42665184 0.24126062 0.66026369 0.23809502 0.68494125]\n",
      "✅ Final Optimized Key Rate for L=175.3753753753754 km: 6.085882231311557e-07\n",
      "✅ Final Optimized Parameters for L=175.57557557557558 km: [0.42657148 0.23967678 0.66330657 0.23547643 0.68286062]\n",
      "✅ Final Optimized Key Rate for L=175.57557557557558 km: 5.923319366321229e-07\n",
      "✅ Final Optimized Parameters for L=175.7757757757758 km: [0.4264897  0.23807668 0.66635571 0.2328518  0.68073517]\n",
      "✅ Final Optimized Key Rate for L=175.7757757757758 km: 5.763193476123002e-07\n",
      "✅ Final Optimized Parameters for L=175.97597597597598 km: [0.4264118  0.23645584 0.66940929 0.23023094 0.67856341]\n",
      "✅ Final Optimized Key Rate for L=175.97597597597598 km: 5.605489647401676e-07\n",
      "\n",
      "--- [DEBUG] Starting optimization for L=176.1761761761762 km ---\n",
      "🔵 Initial Guess for L=176.1761761761762: [0.4264118  0.23645584 0.66940929 0.23023094 0.67856341]\n",
      "\n",
      "--- [DEBUG] Starting optimization for L=176.37637637637638 km ---\n",
      "🔵 Initial Guess for L=176.37637637637638: [0.4264118  0.23645584 0.66940929 0.23023094 0.67856341]\n",
      "\n",
      "--- [DEBUG] Starting optimization for L=176.5765765765766 km ---\n",
      "🔵 Initial Guess for L=176.5765765765766: [0.4264118  0.23645584 0.66940929 0.23023094 0.67856341]\n",
      "\n",
      "--- [DEBUG] Starting optimization for L=176.77677677677679 km ---\n",
      "🔵 Initial Guess for L=176.77677677677679: [0.4264118  0.23645584 0.66940929 0.23023094 0.67856341]\n",
      "\n",
      "--- [DEBUG] Starting optimization for L=176.976976976977 km ---\n",
      "🔵 Initial Guess for L=176.976976976977: [0.4264118  0.23645584 0.66940929 0.23023094 0.67856341]\n",
      "\n",
      "--- [DEBUG] Starting optimization for L=177.17717717717719 km ---\n",
      "🔵 Initial Guess for L=177.17717717717719: [0.4264118  0.23645584 0.66940929 0.23023094 0.67856341]\n",
      "\n",
      "--- [DEBUG] Starting optimization for L=177.3773773773774 km ---\n",
      "🔵 Initial Guess for L=177.3773773773774: [0.4264118  0.23645584 0.66940929 0.23023094 0.67856341]\n",
      "\n",
      "--- [DEBUG] Starting optimization for L=177.57757757757759 km ---\n",
      "🔵 Initial Guess for L=177.57757757757759: [0.4264118  0.23645584 0.66940929 0.23023094 0.67856341]\n",
      "\n",
      "--- [DEBUG] Starting optimization for L=177.7777777777778 km ---\n",
      "🔵 Initial Guess for L=177.7777777777778: [0.4264118  0.23645584 0.66940929 0.23023094 0.67856341]\n",
      "\n",
      "--- [DEBUG] Starting optimization for L=177.977977977978 km ---\n",
      "🔵 Initial Guess for L=177.977977977978: [0.4264118  0.23645584 0.66940929 0.23023094 0.67856341]\n",
      "\n",
      "--- [DEBUG] Starting optimization for L=178.1781781781782 km ---\n",
      "🔵 Initial Guess for L=178.1781781781782: [0.4264118  0.23645584 0.66940929 0.23023094 0.67856341]\n",
      "\n",
      "--- [DEBUG] Starting optimization for L=178.3783783783784 km ---\n",
      "🔵 Initial Guess for L=178.3783783783784: [0.4264118  0.23645584 0.66940929 0.23023094 0.67856341]\n"
     ]
    },
    {
     "name": "stderr",
     "output_type": "stream",
     "text": [
      "Optimizing:  88%|████████▊ | 882/1000 [1:20:41<15:06,  7.69s/it]"
     ]
    },
    {
     "name": "stdout",
     "output_type": "stream",
     "text": [
      "✅ Final Optimized Parameters for L=176.1761761761762 km: [0.42633345 0.23481753 0.67247336 0.2276027  0.67634524]\n",
      "✅ Final Optimized Key Rate for L=176.1761761761762 km: 5.450193247582269e-07\n",
      "\n",
      "--- [DEBUG] Starting optimization for L=178.5785785785786 km ---\n",
      "🔵 Initial Guess for L=178.5785785785786: [0.42633345 0.23481753 0.67247336 0.2276027  0.67634524]\n",
      "✅ Final Optimized Parameters for L=177.3773773773774 km: [0.42590799 0.22456913 0.69096303 0.21183718 0.6619792 ]\n",
      "✅ Final Optimized Key Rate for L=177.3773773773774 km: 4.56818679909972e-07\n",
      "\n",
      "--- [DEBUG] Starting optimization for L=178.7787787787788 km ---\n",
      "🔵 Initial Guess for L=178.7787787787788: [0.42590799 0.22456913 0.69096303 0.21183718 0.6619792 ]\n"
     ]
    },
    {
     "name": "stderr",
     "output_type": "stream",
     "text": [
      "Optimizing:  88%|████████▊ | 884/1000 [1:20:41<11:05,  5.74s/it]"
     ]
    },
    {
     "name": "stdout",
     "output_type": "stream",
     "text": [
      "✅ Final Optimized Parameters for L=176.976976976977 km: [0.42604216 0.2280622  0.6847778  0.2170937  0.66697881]\n",
      "✅ Final Optimized Key Rate for L=176.976976976977 km: 4.852799088863864e-07\n",
      "\n",
      "--- [DEBUG] Starting optimization for L=178.978978978979 km ---\n",
      "🔵 Initial Guess for L=178.978978978979: [0.42604216 0.2280622  0.6847778  0.2170937  0.66697881]\n",
      "✅ Final Optimized Parameters for L=176.37637637637638 km: [0.42626007 0.23315738 0.67554036 0.22497865 0.67407962]\n",
      "✅ Final Optimized Key Rate for L=176.37637637637638 km: 5.297289924177881e-07\n",
      "\n",
      "--- [DEBUG] Starting optimization for L=179.1791791791792 km ---\n",
      "🔵 Initial Guess for L=179.1791791791792: [0.42626007 0.23315738 0.67554036 0.22497865 0.67407962]\n",
      "✅ Final Optimized Parameters for L=178.3783783783784 km: [0.42560621 0.21549017 0.70648825 0.19872879 0.64844756]\n",
      "✅ Final Optimized Key Rate for L=178.3783783783784 km: 3.8969209221642196e-07\n"
     ]
    },
    {
     "name": "stderr",
     "output_type": "stream",
     "text": [
      "Optimizing:  89%|████████▉ | 889/1000 [1:20:41<04:59,  2.70s/it]"
     ]
    },
    {
     "name": "stdout",
     "output_type": "stream",
     "text": [
      "✅ Final Optimized Parameters for L=177.7777777777778 km: [0.42578041 0.22099492 0.69716093 0.20658997 0.65674971]\n",
      "✅ Final Optimized Key Rate for L=177.7777777777778 km: 4.2928264298806604e-07\n",
      "✅ Final Optimized Parameters for L=177.17717717717719 km: [0.42597576 0.22632446 0.68786279 0.21447072 0.66450689]\n",
      "✅ Final Optimized Key Rate for L=177.17717717717719 km: 4.7093301686516615e-07\n",
      "✅ Final Optimized Parameters for L=178.1781781781782 km: [0.42566337 0.21734367 0.7033784  0.20134351 0.65127791]\n",
      "✅ Final Optimized Key Rate for L=178.1781781781782 km: 4.026620337653932e-07\n",
      "✅ Final Optimized Parameters for L=176.5765765765766 km: [0.42618649 0.23147764 0.67861144 0.22235283 0.67176497]\n",
      "✅ Final Optimized Key Rate for L=176.5765765765766 km: 5.146765602878062e-07\n"
     ]
    },
    {
     "name": "stderr",
     "output_type": "stream",
     "text": [
      "Optimizing:  89%|████████▉ | 891/1000 [1:20:42<03:40,  2.02s/it]"
     ]
    },
    {
     "name": "stdout",
     "output_type": "stream",
     "text": [
      "✅ Final Optimized Parameters for L=177.977977977978 km: [0.42572168 0.21917947 0.70026529 0.20396824 0.65404414]\n",
      "✅ Final Optimized Key Rate for L=177.977977977978 km: 4.158585017955373e-07\n",
      "✅ Final Optimized Parameters for L=176.77677677677679 km: [0.42611504 0.2297791  0.68169142 0.2197233  0.66939813]\n",
      "✅ Final Optimized Key Rate for L=176.77677677677679 km: 4.998606493290342e-07\n",
      "✅ Final Optimized Parameters for L=177.57757757757759 km: [0.42584304 0.22279165 0.69405977 0.20921377 0.65939282]\n",
      "✅ Final Optimized Key Rate for L=177.57757757757759 km: 4.429356337479222e-07\n"
     ]
    },
    {
     "name": "stderr",
     "output_type": "stream",
     "text": [
      "Optimizing:  90%|████████▉ | 896/1000 [1:20:56<03:41,  2.13s/it]"
     ]
    },
    {
     "name": "stdout",
     "output_type": "stream",
     "text": [
      "✅ Final Optimized Parameters for L=178.5785785785786 km: [0.42555212 0.21361363 0.70960333 0.19611411 0.64555025]\n",
      "✅ Final Optimized Key Rate for L=178.5785785785786 km: 3.769475604605057e-07\n",
      "✅ Final Optimized Parameters for L=178.7787787787788 km: [0.42549975 0.2117187  0.71272369 0.19350133 0.64258502]\n",
      "✅ Final Optimized Key Rate for L=178.7787787787788 km: 3.644273519426975e-07\n",
      "✅ Final Optimized Parameters for L=178.978978978979 km: [0.42544726 0.20980374 0.71584092 0.19089622 0.63954802]\n",
      "✅ Final Optimized Key Rate for L=178.978978978979 km: 3.5213041041347217e-07\n",
      "✅ Final Optimized Parameters for L=179.1791791791792 km: [0.42539915 0.20787358 0.71897544 0.18828058 0.63644031]\n",
      "✅ Final Optimized Key Rate for L=179.1791791791792 km: 3.400557101346974e-07\n",
      "\n",
      "--- [DEBUG] Starting optimization for L=179.3793793793794 km ---\n",
      "🔵 Initial Guess for L=179.3793793793794: [0.42539915 0.20787358 0.71897544 0.18828058 0.63644031]\n",
      "\n",
      "--- [DEBUG] Starting optimization for L=179.5795795795796 km ---\n",
      "🔵 Initial Guess for L=179.5795795795796: [0.42539915 0.20787358 0.71897544 0.18828058 0.63644031]\n",
      "\n",
      "--- [DEBUG] Starting optimization for L=179.7797797797798 km ---\n",
      "🔵 Initial Guess for L=179.7797797797798: [0.42539915 0.20787358 0.71897544 0.18828058 0.63644031]\n",
      "\n",
      "--- [DEBUG] Starting optimization for L=179.97997997998 km ---\n",
      "🔵 Initial Guess for L=179.97997997998: [0.42539915 0.20787358 0.71897544 0.18828058 0.63644031]\n",
      "\n",
      "--- [DEBUG] Starting optimization for L=180.1801801801802 km ---\n",
      "🔵 Initial Guess for L=180.1801801801802: [0.42539915 0.20787358 0.71897544 0.18828058 0.63644031]\n",
      "\n",
      "--- [DEBUG] Starting optimization for L=180.3803803803804 km ---\n",
      "🔵 Initial Guess for L=180.3803803803804: [0.42539915 0.20787358 0.71897544 0.18828058 0.63644031]\n",
      "\n",
      "--- [DEBUG] Starting optimization for L=180.5805805805806 km ---\n",
      "🔵 Initial Guess for L=180.5805805805806: [0.42539915 0.20787358 0.71897544 0.18828058 0.63644031]\n",
      "\n",
      "--- [DEBUG] Starting optimization for L=180.7807807807808 km ---\n",
      "🔵 Initial Guess for L=180.7807807807808: [0.42539915 0.20787358 0.71897544 0.18828058 0.63644031]\n",
      "\n",
      "--- [DEBUG] Starting optimization for L=180.980980980981 km ---\n",
      "🔵 Initial Guess for L=180.980980980981: [0.42539915 0.20787358 0.71897544 0.18828058 0.63644031]\n",
      "\n",
      "--- [DEBUG] Starting optimization for L=181.1811811811812 km ---\n",
      "🔵 Initial Guess for L=181.1811811811812: [0.42539915 0.20787358 0.71897544 0.18828058 0.63644031]\n",
      "\n",
      "--- [DEBUG] Starting optimization for L=181.3813813813814 km ---\n",
      "🔵 Initial Guess for L=181.3813813813814: [0.42539915 0.20787358 0.71897544 0.18828058 0.63644031]\n",
      "\n",
      "--- [DEBUG] Starting optimization for L=181.5815815815816 km ---\n",
      "🔵 Initial Guess for L=181.5815815815816: [0.42539915 0.20787358 0.71897544 0.18828058 0.63644031]\n"
     ]
    },
    {
     "name": "stderr",
     "output_type": "stream",
     "text": [
      "Optimizing:  90%|████████▉ | 899/1000 [1:22:05<14:16,  8.48s/it]"
     ]
    },
    {
     "name": "stdout",
     "output_type": "stream",
     "text": [
      "✅ Final Optimized Parameters for L=180.3803803803804 km: [0.42516716 0.19583718 0.73775855 0.17274774 0.61613121]\n",
      "✅ Final Optimized Key Rate for L=180.3803803803804 km: 2.7222103887495485e-07\n",
      "\n",
      "--- [DEBUG] Starting optimization for L=181.7817817817818 km ---\n",
      "🔵 Initial Guess for L=181.7817817817818: [0.42516716 0.19583718 0.73775855 0.17274774 0.61613121]\n",
      "✅ Final Optimized Parameters for L=179.5795795795796 km: [0.425314   0.20393769 0.72522172 0.18309064 0.62999723]\n",
      "✅ Final Optimized Key Rate for L=179.5795795795796 km: 3.1656908545100015e-07\n",
      "\n",
      "--- [DEBUG] Starting optimization for L=181.981981981982 km ---\n",
      "🔵 Initial Guess for L=181.981981981982: [0.425314   0.20393769 0.72522172 0.18309064 0.62999723]\n",
      "✅ Final Optimized Parameters for L=181.1811811811812 km: [0.42506822 0.18741524 0.75031042 0.16250177 0.60080525]\n",
      "✅ Final Optimized Key Rate for L=181.1811811811812 km: 2.3132855280569886e-07\n",
      "\n",
      "--- [DEBUG] Starting optimization for L=182.1821821821822 km ---\n",
      "🔵 Initial Guess for L=182.1821821821822: [0.42506822 0.18741524 0.75031042 0.16250177 0.60080525]\n",
      "✅ Final Optimized Parameters for L=181.5815815815816 km: [0.42503605 0.18308451 0.75658762 0.15742213 0.59253526]\n",
      "✅ Final Optimized Key Rate for L=181.5815815815816 km: 2.1216328632536266e-07\n",
      "\n",
      "--- [DEBUG] Starting optimization for L=182.3823823823824 km ---\n",
      "🔵 Initial Guess for L=182.3823823823824: [0.42503605 0.18308451 0.75658762 0.15742213 0.59253526]\n"
     ]
    },
    {
     "name": "stderr",
     "output_type": "stream",
     "text": [
      "Optimizing:  90%|█████████ | 902/1000 [1:22:05<08:29,  5.20s/it]"
     ]
    },
    {
     "name": "stdout",
     "output_type": "stream",
     "text": [
      "✅ Final Optimized Parameters for L=179.3793793793794 km: [0.42535454 0.20591135 0.72210166 0.18567889 0.63325703]\n",
      "✅ Final Optimized Key Rate for L=179.3793793793794 km: 3.282022566335306e-07\n",
      "✅ Final Optimized Parameters for L=180.980980980981 km: [0.42508785 0.1895516  0.7471675  0.16505763 0.60478501]\n",
      "✅ Final Optimized Key Rate for L=180.980980980981 km: 2.412303995883432e-07\n",
      "✅ Final Optimized Parameters for L=179.7797797797798 km: [0.42527306 0.20194257 0.72835734 0.18049479 0.62665597]\n",
      "✅ Final Optimized Key Rate for L=179.7797797797798 km: 3.051552638780555e-07\n",
      "✅ Final Optimized Parameters for L=179.97997997998 km: [0.425234   0.19992844 0.73148614 0.17791022 0.62323476]\n",
      "✅ Final Optimized Key Rate for L=179.97997997998 km: 2.939598903787673e-07\n",
      "✅ Final Optimized Parameters for L=180.1801801801802 km: [0.4251991  0.19789248 0.73462434 0.17532492 0.61972467]\n",
      "✅ Final Optimized Key Rate for L=180.1801801801802 km: 2.8298209485528367e-07\n"
     ]
    },
    {
     "name": "stderr",
     "output_type": "stream",
     "text": [
      "Optimizing:  91%|█████████ | 906/1000 [1:22:05<04:41,  3.00s/it]"
     ]
    },
    {
     "name": "stdout",
     "output_type": "stream",
     "text": [
      "✅ Final Optimized Parameters for L=180.5805805805806 km: [0.4251393  0.19376075 0.74089493 0.17017652 0.61244272]\n",
      "✅ Final Optimized Key Rate for L=180.5805805805806 km: 2.6167591561921195e-07\n",
      "✅ Final Optimized Parameters for L=181.3813813813814 km: [0.42505189 0.18525975 0.75344676 0.15996159 0.59672622]\n",
      "✅ Final Optimized Key Rate for L=181.3813813813814 km: 2.2163973071079068e-07\n",
      "✅ Final Optimized Parameters for L=180.7807807807808 km: [0.42510895 0.19166827 0.74402914 0.16761438 0.60866685]\n",
      "✅ Final Optimized Key Rate for L=180.7807807807808 km: 2.513459501464199e-07\n"
     ]
    },
    {
     "name": "stderr",
     "output_type": "stream",
     "text": [
      "Optimizing:  91%|█████████ | 909/1000 [1:22:21<05:43,  3.78s/it]"
     ]
    },
    {
     "name": "stdout",
     "output_type": "stream",
     "text": [
      "✅ Final Optimized Parameters for L=182.1821821821822 km: [0.4250177  0.17644388 0.76600393 0.14986299 0.57927572]\n",
      "✅ Final Optimized Key Rate for L=182.1821821821822 km: 1.8500222520778107e-07\n",
      "✅ Final Optimized Parameters for L=181.7817817817818 km: [0.42502579 0.18089296 0.7597248  0.15489568 0.58823275]\n",
      "✅ Final Optimized Key Rate for L=181.7817817817818 km: 2.0289860430194436e-07\n",
      "✅ Final Optimized Parameters for L=182.3823823823824 km: [0.42501877 0.17419023 0.76914722 0.14735395 0.57461428]\n",
      "✅ Final Optimized Key Rate for L=182.3823823823824 km: 1.763694556886717e-07\n",
      "✅ Final Optimized Parameters for L=181.981981981982 km: [0.42501934 0.17867717 0.76286592 0.15237368 0.58381446]\n",
      "✅ Final Optimized Key Rate for L=181.981981981982 km: 1.9384510123679322e-07\n",
      "\n",
      "--- [DEBUG] Starting optimization for L=182.5825825825826 km ---\n",
      "🔵 Initial Guess for L=182.5825825825826: [0.42501934 0.17867717 0.76286592 0.15237368 0.58381446]\n",
      "\n",
      "--- [DEBUG] Starting optimization for L=182.7827827827828 km ---\n",
      "🔵 Initial Guess for L=182.7827827827828: [0.42501934 0.17867717 0.76286592 0.15237368 0.58381446]\n",
      "\n",
      "--- [DEBUG] Starting optimization for L=182.982982982983 km ---\n",
      "🔵 Initial Guess for L=182.982982982983: [0.42501934 0.17867717 0.76286592 0.15237368 0.58381446]\n",
      "\n",
      "--- [DEBUG] Starting optimization for L=183.1831831831832 km ---\n",
      "🔵 Initial Guess for L=183.1831831831832: [0.42501934 0.17867717 0.76286592 0.15237368 0.58381446]\n",
      "\n",
      "--- [DEBUG] Starting optimization for L=183.3833833833834 km ---\n",
      "🔵 Initial Guess for L=183.3833833833834: [0.42501934 0.17867717 0.76286592 0.15237368 0.58381446]\n",
      "\n",
      "--- [DEBUG] Starting optimization for L=183.5835835835836 km ---\n",
      "🔵 Initial Guess for L=183.5835835835836: [0.42501934 0.17867717 0.76286592 0.15237368 0.58381446]\n",
      "\n",
      "--- [DEBUG] Starting optimization for L=183.7837837837838 km ---\n",
      "🔵 Initial Guess for L=183.7837837837838: [0.42501934 0.17867717 0.76286592 0.15237368 0.58381446]\n",
      "\n",
      "--- [DEBUG] Starting optimization for L=183.983983983984 km ---\n",
      "🔵 Initial Guess for L=183.983983983984: [0.42501934 0.17867717 0.76286592 0.15237368 0.58381446]\n",
      "\n",
      "--- [DEBUG] Starting optimization for L=184.1841841841842 km ---\n",
      "🔵 Initial Guess for L=184.1841841841842: [0.42501934 0.17867717 0.76286592 0.15237368 0.58381446]\n",
      "\n",
      "--- [DEBUG] Starting optimization for L=184.3843843843844 km ---\n",
      "🔵 Initial Guess for L=184.3843843843844: [0.42501934 0.17867717 0.76286592 0.15237368 0.58381446]\n",
      "\n",
      "--- [DEBUG] Starting optimization for L=184.5845845845846 km ---\n",
      "🔵 Initial Guess for L=184.5845845845846: [0.42501934 0.17867717 0.76286592 0.15237368 0.58381446]\n",
      "\n",
      "--- [DEBUG] Starting optimization for L=184.7847847847848 km ---\n",
      "🔵 Initial Guess for L=184.7847847847848: [0.42501934 0.17867717 0.76286592 0.15237368 0.58381446]\n"
     ]
    },
    {
     "name": "stderr",
     "output_type": "stream",
     "text": [
      "Optimizing:  91%|█████████▏| 914/1000 [1:23:33<11:25,  7.98s/it]"
     ]
    },
    {
     "name": "stdout",
     "output_type": "stream",
     "text": [
      "✅ Final Optimized Parameters for L=184.7847847847848 km: [0.42534908 0.14566161 0.80671486 0.11808401 0.50699735]\n",
      "✅ Final Optimized Key Rate for L=184.7847847847848 km: 8.901574139933022e-08\n",
      "\n",
      "--- [DEBUG] Starting optimization for L=184.984984984985 km ---\n",
      "🔵 Initial Guess for L=184.984984984985: [0.42534908 0.14566161 0.80671486 0.11808401 0.50699735]\n",
      "✅ Final Optimized Parameters for L=182.5825825825826 km: [0.42502251 0.17191544 0.77227694 0.14486603 0.56982492]\n",
      "✅ Final Optimized Key Rate for L=182.5825825825826 km: 1.679463033143049e-07\n",
      "\n",
      "--- [DEBUG] Starting optimization for L=185.1851851851852 km ---\n",
      "🔵 Initial Guess for L=185.1851851851852: [0.42502251 0.17191544 0.77227694 0.14486603 0.56982492]\n",
      "✅ Final Optimized Parameters for L=184.5845845845846 km: [0.4252976  0.14813784 0.8035931  0.12046276 0.5135982 ]\n",
      "✅ Final Optimized Key Rate for L=184.5845845845846 km: 9.515713390912306e-08\n",
      "\n",
      "--- [DEBUG] Starting optimization for L=185.3853853853854 km ---\n",
      "🔵 Initial Guess for L=185.3853853853854: [0.4252976  0.14813784 0.8035931  0.12046276 0.5135982 ]\n",
      "✅ Final Optimized Parameters for L=182.7827827827828 km: [0.42502986 0.16962115 0.7754191  0.142375   0.56489928]\n",
      "✅ Final Optimized Key Rate for L=182.7827827827828 km: 1.5973230902891675e-07\n",
      "\n",
      "--- [DEBUG] Starting optimization for L=185.5855855855856 km ---\n",
      "🔵 Initial Guess for L=185.5855855855856: [0.42502986 0.16962115 0.7754191  0.142375   0.56489928]\n"
     ]
    },
    {
     "name": "stderr",
     "output_type": "stream",
     "text": [
      "Optimizing:  92%|█████████▏| 919/1000 [1:23:33<05:27,  4.04s/it]"
     ]
    },
    {
     "name": "stdout",
     "output_type": "stream",
     "text": [
      "✅ Final Optimized Parameters for L=183.1831831831832 km: [0.42506115 0.16497887 0.78168677 0.1374364  0.55462965]\n",
      "✅ Final Optimized Key Rate for L=183.1831831831832 km: 1.4393010974554209e-07\n",
      "✅ Final Optimized Parameters for L=184.1841841841842 km: [0.42520608 0.15304232 0.79734345 0.12525731 0.52620772]\n",
      "✅ Final Optimized Key Rate for L=184.1841841841842 km: 1.0805839860825273e-07\n",
      "✅ Final Optimized Parameters for L=183.7837837837838 km: [0.42513733 0.15787103 0.7910895  0.13009379 0.53807397]\n",
      "✅ Final Optimized Key Rate for L=183.7837837837838 km: 1.217857259374701e-07\n",
      "✅ Final Optimized Parameters for L=184.3843843843844 km: [0.4252491  0.15059666 0.80047074 0.12285213 0.5199985 ]\n",
      "✅ Final Optimized Key Rate for L=184.3843843843844 km: 1.015046203283227e-07\n"
     ]
    },
    {
     "name": "stderr",
     "output_type": "stream",
     "text": [
      "Optimizing:  92%|█████████▏| 921/1000 [1:23:33<03:59,  3.03s/it]"
     ]
    },
    {
     "name": "stdout",
     "output_type": "stream",
     "text": [
      "✅ Final Optimized Parameters for L=183.3833833833834 km: [0.4250801  0.16262757 0.78482423 0.13497758 0.54926905]\n",
      "✅ Final Optimized Key Rate for L=183.3833833833834 km: 1.3634113543168757e-07\n",
      "✅ Final Optimized Parameters for L=182.982982982983 km: [0.42504276 0.16731001 0.77855134 0.13990255 0.55983878]\n",
      "✅ Final Optimized Key Rate for L=182.982982982983 km: 1.517270442034587e-07\n"
     ]
    },
    {
     "name": "stderr",
     "output_type": "stream",
     "text": [
      "Optimizing:  92%|█████████▏| 923/1000 [1:23:34<02:53,  2.26s/it]"
     ]
    },
    {
     "name": "stdout",
     "output_type": "stream",
     "text": [
      "✅ Final Optimized Parameters for L=183.5835835835836 km: [0.42510547 0.16025739 0.7879589  0.13252853 0.54375175]\n",
      "✅ Final Optimized Key Rate for L=183.5835835835836 km: 1.2895977910202557e-07\n",
      "✅ Final Optimized Parameters for L=183.983983983984 km: [0.42517171 0.15546678 0.79421566 0.12767153 0.53222964]\n",
      "✅ Final Optimized Key Rate for L=183.983983983984 km: 1.1481868705389806e-07\n"
     ]
    },
    {
     "name": "stderr",
     "output_type": "stream",
     "text": [
      "Optimizing:  92%|█████████▎| 925/1000 [1:23:48<04:36,  3.69s/it]"
     ]
    },
    {
     "name": "stdout",
     "output_type": "stream",
     "text": [
      "✅ Final Optimized Parameters for L=185.5855855855856 km: [0.42560361 0.13558556 0.81915524 0.10870503 0.47839946]\n",
      "✅ Final Optimized Key Rate for L=185.5855855855856 km: 6.650775293555335e-08\n",
      "✅ Final Optimized Parameters for L=184.984984984985 km: [0.42540723 0.14316729 0.80983184 0.11571724 0.50018796]\n",
      "✅ Final Optimized Key Rate for L=184.984984984985 km: 8.308026330637592e-08\n",
      "✅ Final Optimized Parameters for L=185.3853853853854 km: [0.42553597 0.13812843 0.81605148 0.11103224 0.48589891]\n",
      "✅ Final Optimized Key Rate for L=185.3853853853854 km: 7.182641213168363e-08\n",
      "✅ Final Optimized Parameters for L=185.1851851851852 km: [0.42546883 0.14065658 0.81294047 0.11336821 0.49315877]\n",
      "✅ Final Optimized Key Rate for L=185.1851851851852 km: 7.735053656973171e-08\n",
      "\n",
      "--- [DEBUG] Starting optimization for L=185.7857857857858 km ---\n",
      "🔵 Initial Guess for L=185.7857857857858: [0.42546883 0.14065658 0.81294047 0.11336821 0.49315877]\n",
      "\n",
      "--- [DEBUG] Starting optimization for L=185.985985985986 km ---\n",
      "🔵 Initial Guess for L=185.985985985986: [0.42546883 0.14065658 0.81294047 0.11336821 0.49315877]\n",
      "\n",
      "--- [DEBUG] Starting optimization for L=186.1861861861862 km ---\n",
      "🔵 Initial Guess for L=186.1861861861862: [0.42546883 0.14065658 0.81294047 0.11336821 0.49315877]\n",
      "\n",
      "--- [DEBUG] Starting optimization for L=186.3863863863864 km ---\n",
      "🔵 Initial Guess for L=186.3863863863864: [0.42546883 0.14065658 0.81294047 0.11336821 0.49315877]\n",
      "\n",
      "--- [DEBUG] Starting optimization for L=186.5865865865866 km ---\n",
      "🔵 Initial Guess for L=186.5865865865866: [0.42546883 0.14065658 0.81294047 0.11336821 0.49315877]\n",
      "\n",
      "--- [DEBUG] Starting optimization for L=186.7867867867868 km ---\n",
      "🔵 Initial Guess for L=186.7867867867868: [0.42546883 0.14065658 0.81294047 0.11336821 0.49315877]\n",
      "\n",
      "--- [DEBUG] Starting optimization for L=186.986986986987 km ---\n",
      "🔵 Initial Guess for L=186.986986986987: [0.42546883 0.14065658 0.81294047 0.11336821 0.49315877]\n",
      "\n",
      "--- [DEBUG] Starting optimization for L=187.1871871871872 km ---\n",
      "🔵 Initial Guess for L=187.1871871871872: [0.42546883 0.14065658 0.81294047 0.11336821 0.49315877]\n",
      "\n",
      "--- [DEBUG] Starting optimization for L=187.3873873873874 km ---\n",
      "🔵 Initial Guess for L=187.3873873873874: [0.42546883 0.14065658 0.81294047 0.11336821 0.49315877]\n",
      "\n",
      "--- [DEBUG] Starting optimization for L=187.5875875875876 km ---\n",
      "🔵 Initial Guess for L=187.5875875875876: [0.42546883 0.14065658 0.81294047 0.11336821 0.49315877]\n",
      "\n",
      "--- [DEBUG] Starting optimization for L=187.7877877877878 km ---\n",
      "🔵 Initial Guess for L=187.7877877877878: [0.42546883 0.14065658 0.81294047 0.11336821 0.49315877]\n",
      "\n",
      "--- [DEBUG] Starting optimization for L=187.987987987988 km ---\n",
      "🔵 Initial Guess for L=187.987987987988: [0.42546883 0.14065658 0.81294047 0.11336821 0.49315877]\n"
     ]
    },
    {
     "name": "stderr",
     "output_type": "stream",
     "text": [
      "Optimizing:  93%|█████████▎| 931/1000 [1:24:56<08:21,  7.26s/it]"
     ]
    },
    {
     "name": "stdout",
     "output_type": "stream",
     "text": [
      "✅ Final Optimized Parameters for L=185.985985985986 km: [0.42575581 0.1304553  0.82534901 0.10409867 0.46262618]\n",
      "✅ Final Optimized Key Rate for L=185.985985985986 km: 5.64863232743161e-08\n",
      "\n",
      "--- [DEBUG] Starting optimization for L=188.1881881881882 km ---\n",
      "🔵 Initial Guess for L=188.1881881881882: [0.42575581 0.1304553  0.82534901 0.10409867 0.46262618]\n",
      "✅ Final Optimized Parameters for L=187.3873873873874 km: [0.42637674 0.11207792 0.84682506 0.08847273 0.39757446]\n",
      "✅ Final Optimized Key Rate for L=187.3873873873874 km: 2.7865340627481376e-08\n",
      "\n",
      "--- [DEBUG] Starting optimization for L=188.3883883883884 km ---\n",
      "🔵 Initial Guess for L=188.3883883883884: [0.42637674 0.11207792 0.84682506 0.08847273 0.39757446]\n",
      "✅ Final Optimized Parameters for L=187.5875875875876 km: [0.42647203 0.10941267 0.84985979 0.08630986 0.38673802]\n",
      "✅ Final Optimized Key Rate for L=187.5875875875876 km: 2.459437478577776e-08\n",
      "\n",
      "--- [DEBUG] Starting optimization for L=188.5885885885886 km ---\n",
      "🔵 Initial Guess for L=188.5885885885886: [0.42647203 0.10941267 0.84985979 0.08630986 0.38673802]\n"
     ]
    },
    {
     "name": "stderr",
     "output_type": "stream",
     "text": [
      "Optimizing:  94%|█████████▎| 936/1000 [1:24:56<04:11,  3.93s/it]"
     ]
    },
    {
     "name": "stdout",
     "output_type": "stream",
     "text": [
      "✅ Final Optimized Parameters for L=186.3863863863864 km: [0.42592169 0.12526468 0.83152182 0.09955234 0.44572063]\n",
      "✅ Final Optimized Key Rate for L=186.3863863863864 km: 4.728528070833115e-08\n",
      "\n",
      "--- [DEBUG] Starting optimization for L=188.7887887887888 km ---\n",
      "🔵 Initial Guess for L=188.7887887887888: [0.42592169 0.12526468 0.83152182 0.09955234 0.44572063]\n",
      "✅ Final Optimized Parameters for L=185.7857857857858 km: [0.42567919 0.13302722 0.82225604 0.10639257 0.47064471]\n",
      "✅ Final Optimized Key Rate for L=185.7857857857858 km: 6.139443059398836e-08\n",
      "✅ Final Optimized Parameters for L=187.7877877877878 km: [0.42656249 0.10673569 0.85287777 0.08416866 0.37542907]\n",
      "✅ Final Optimized Key Rate for L=187.7877877877878 km: 2.1527352885865353e-08\n",
      "✅ Final Optimized Parameters for L=187.987987987988 km: [0.42665405 0.10405546 0.85588682 0.0820474  0.36359357]\n",
      "✅ Final Optimized Key Rate for L=187.987987987988 km: 1.86640814876143e-08\n",
      "✅ Final Optimized Parameters for L=186.7867867867868 km: [0.42609607 0.12002541 0.83766992 0.09506868 0.42755558]\n",
      "✅ Final Optimized Key Rate for L=186.7867867867868 km: 3.890366562578629e-08\n",
      "✅ Final Optimized Parameters for L=186.1861861861862 km: [0.42583421 0.12786885 0.82844216 0.1018159  0.4543205 ]\n",
      "✅ Final Optimized Key Rate for L=186.1861861861862 km: 5.178331264262039e-08\n"
     ]
    },
    {
     "name": "stderr",
     "output_type": "stream",
     "text": [
      "Optimizing:  94%|█████████▍| 938/1000 [1:24:57<03:13,  3.12s/it]"
     ]
    },
    {
     "name": "stdout",
     "output_type": "stream",
     "text": [
      "✅ Final Optimized Parameters for L=186.5865865865866 km: [0.42600596 0.12265278 0.83460209 0.097299   0.43680908]\n",
      "✅ Final Optimized Key Rate for L=186.5865865865866 km: 4.2992106995175654e-08\n",
      "✅ Final Optimized Parameters for L=186.986986986987 km: [0.42618907 0.11739266 0.8407281  0.09285456 0.41795555]\n",
      "✅ Final Optimized Key Rate for L=186.986986986987 km: 3.5019822486298716e-08\n",
      "✅ Final Optimized Parameters for L=187.1871871871872 km: [0.42628488 0.11473782 0.84378194 0.09065425 0.40796834]\n",
      "✅ Final Optimized Key Rate for L=187.1871871871872 km: 3.134043317518848e-08\n"
     ]
    },
    {
     "name": "stderr",
     "output_type": "stream",
     "text": [
      "Optimizing:  94%|█████████▍| 942/1000 [1:25:11<03:07,  3.23s/it]"
     ]
    },
    {
     "name": "stdout",
     "output_type": "stream",
     "text": [
      "✅ Final Optimized Parameters for L=188.3883883883884 km: [0.42682493 0.09867582 0.86186507 0.07786346 0.33813381]\n",
      "✅ Final Optimized Key Rate for L=188.3883883883884 km: 1.3547997434121686e-08\n",
      "✅ Final Optimized Parameters for L=188.7887887887888 km: [0.42697026 0.09328283 0.86778474 0.07376311 0.3097723 ]\n",
      "✅ Final Optimized Key Rate for L=188.7887887887888 km: 9.244656080676863e-09\n",
      "✅ Final Optimized Parameters for L=188.1881881881882 km: [0.42674231 0.10136739 0.85888323 0.07994391 0.35118439]\n",
      "✅ Final Optimized Key Rate for L=188.1881881881882 km: 1.6004361679880976e-08\n",
      "✅ Final Optimized Parameters for L=188.5885885885886 km: [0.42690145 0.09598204 0.86483156 0.07580368 0.32436551]\n",
      "✅ Final Optimized Key Rate for L=188.5885885885886 km: 1.1294809444706422e-08\n",
      "\n",
      "--- [DEBUG] Starting optimization for L=188.988988988989 km ---\n",
      "🔵 Initial Guess for L=188.988988988989: [0.42690145 0.09598204 0.86483156 0.07580368 0.32436551]\n",
      "\n",
      "--- [DEBUG] Starting optimization for L=189.1891891891892 km ---\n",
      "🔵 Initial Guess for L=189.1891891891892: [0.42690145 0.09598204 0.86483156 0.07580368 0.32436551]\n",
      "\n",
      "--- [DEBUG] Starting optimization for L=189.3893893893894 km ---\n",
      "🔵 Initial Guess for L=189.3893893893894: [0.42690145 0.09598204 0.86483156 0.07580368 0.32436551]\n",
      "\n",
      "--- [DEBUG] Starting optimization for L=189.5895895895896 km ---\n",
      "🔵 Initial Guess for L=189.5895895895896: [0.42690145 0.09598204 0.86483156 0.07580368 0.32436551]\n",
      "\n",
      "--- [DEBUG] Starting optimization for L=189.7897897897898 km ---\n",
      "🔵 Initial Guess for L=189.7897897897898: [0.42690145 0.09598204 0.86483156 0.07580368 0.32436551]\n",
      "\n",
      "--- [DEBUG] Starting optimization for L=189.98998998999 km ---\n",
      "🔵 Initial Guess for L=189.98998998999: [0.42690145 0.09598204 0.86483156 0.07580368 0.32436551]\n",
      "\n",
      "--- [DEBUG] Starting optimization for L=190.1901901901902 km ---\n",
      "🔵 Initial Guess for L=190.1901901901902: [0.42690145 0.09598204 0.86483156 0.07580368 0.32436551]\n",
      "\n",
      "--- [DEBUG] Starting optimization for L=190.3903903903904 km ---\n",
      "🔵 Initial Guess for L=190.3903903903904: [0.42690145 0.09598204 0.86483156 0.07580368 0.32436551]\n",
      "\n",
      "--- [DEBUG] Starting optimization for L=190.5905905905906 km ---\n",
      "🔵 Initial Guess for L=190.5905905905906: [0.42690145 0.09598204 0.86483156 0.07580368 0.32436551]\n",
      "\n",
      "--- [DEBUG] Starting optimization for L=190.7907907907908 km ---\n",
      "🔵 Initial Guess for L=190.7907907907908: [0.42690145 0.09598204 0.86483156 0.07580368 0.32436551]\n",
      "\n",
      "--- [DEBUG] Starting optimization for L=190.990990990991 km ---\n",
      "🔵 Initial Guess for L=190.990990990991: [0.42690145 0.09598204 0.86483156 0.07580368 0.32436551]\n",
      "\n",
      "--- [DEBUG] Starting optimization for L=191.1911911911912 km ---\n",
      "🔵 Initial Guess for L=191.1911911911912: [0.42690145 0.09598204 0.86483156 0.07580368 0.32436551]\n"
     ]
    },
    {
     "name": "stderr",
     "output_type": "stream",
     "text": [
      "Optimizing:  95%|█████████▍| 946/1000 [1:26:19<07:44,  8.60s/it]"
     ]
    },
    {
     "name": "stdout",
     "output_type": "stream",
     "text": [
      "✅ Final Optimized Parameters for L=190.990990990991 km: [6.09922801e-01 2.41713626e-01 4.92089801e-01 6.75141754e-02\n",
      " 1.00000000e-12]\n",
      "✅ Final Optimized Key Rate for L=190.990990990991 km: -4.574173507428666e-34\n",
      "\n",
      "--- [DEBUG] Starting optimization for L=191.3913913913914 km ---\n",
      "🔵 Initial Guess for L=191.3913913913914: [6.09922801e-01 2.41713626e-01 4.92089801e-01 6.75141754e-02\n",
      " 1.00000000e-12]\n",
      "✅ Final Optimized Parameters for L=190.5905905905906 km: [7.92424533e-01 2.93044445e-02 9.11361585e-03 5.90375669e-02\n",
      " 1.00000000e-12]\n",
      "✅ Final Optimized Key Rate for L=190.5905905905906 km: -2.2828605785493493e-34\n",
      "\n",
      "--- [DEBUG] Starting optimization for L=191.5915915915916 km ---\n",
      "🔵 Initial Guess for L=191.5915915915916: [7.92424533e-01 2.93044445e-02 9.11361585e-03 5.90375669e-02\n",
      " 1.00000000e-12]\n"
     ]
    },
    {
     "name": "stderr",
     "output_type": "stream",
     "text": [
      "Optimizing:  95%|█████████▍| 948/1000 [1:26:19<05:18,  6.13s/it]"
     ]
    },
    {
     "name": "stdout",
     "output_type": "stream",
     "text": [
      "✅ Final Optimized Parameters for L=189.1891891891892 km: [0.42709279 0.08789081 0.87363662 0.06975409 0.27756457]\n",
      "✅ Final Optimized Key Rate for L=189.1891891891892 km: 5.753278055551098e-09\n",
      "\n",
      "--- [DEBUG] Starting optimization for L=191.7917917917918 km ---\n",
      "🔵 Initial Guess for L=191.7917917917918: [0.42709279 0.08789081 0.87363662 0.06975409 0.27756457]\n",
      "✅ Final Optimized Parameters for L=188.988988988989 km: [0.42703699 0.0905844  0.87071639 0.07174897 0.29423183]\n",
      "✅ Final Optimized Key Rate for L=188.988988988989 km: 7.397464747875718e-09\n",
      "\n",
      "--- [DEBUG] Starting optimization for L=191.991991991992 km ---\n",
      "🔵 Initial Guess for L=191.991991991992: [0.42703699 0.0905844  0.87071639 0.07174897 0.29423183]\n",
      "✅ Final Optimized Parameters for L=189.7897897897898 km: [0.42718746 0.07982012 0.88229035 0.06390615 0.21777894]\n",
      "✅ Final Optimized Key Rate for L=189.7897897897898 km: 2.042592473212791e-09\n",
      "✅ Final Optimized Parameters for L=190.7907907907908 km: [8.04790737e-01 2.94612380e-01 4.64826992e-01 4.97710289e-01\n",
      " 1.00000000e-12]\n",
      "✅ Final Optimized Key Rate for L=190.7907907907908 km: -2.2404330532358587e-39\n"
     ]
    },
    {
     "name": "stderr",
     "output_type": "stream",
     "text": [
      "Optimizing:  95%|█████████▌| 951/1000 [1:26:19<03:05,  3.79s/it]"
     ]
    },
    {
     "name": "stdout",
     "output_type": "stream",
     "text": [
      "✅ Final Optimized Parameters for L=189.3893893893894 km: [0.42713504 0.08519547 0.87653783 0.06778323 0.25952924]\n",
      "✅ Final Optimized Key Rate for L=189.3893893893894 km: 4.312322364800156e-09\n",
      "✅ Final Optimized Parameters for L=191.1911911911912 km: [6.56474109e-01 3.00837975e-01 3.58439311e-01 5.59669130e-01\n",
      " 1.00000000e-12]\n",
      "✅ Final Optimized Key Rate for L=191.1911911911912 km: -2.8819368333411853e-37\n"
     ]
    },
    {
     "name": "stderr",
     "output_type": "stream",
     "text": [
      "Optimizing:  95%|█████████▌| 953/1000 [1:26:20<02:12,  2.81s/it]"
     ]
    },
    {
     "name": "stdout",
     "output_type": "stream",
     "text": [
      "✅ Final Optimized Parameters for L=189.98998998999 km: [0.42720101 0.0771395  0.88515009 0.06199587 0.19263202]\n",
      "✅ Final Optimized Key Rate for L=189.98998998999 km: 1.2164064716641047e-09\n",
      "✅ Final Optimized Parameters for L=190.3903903903904 km: [6.51291611e-01 1.61446274e-01 1.54438962e-02 7.08210077e-01\n",
      " 1.00000000e-12]\n",
      "✅ Final Optimized Key Rate for L=190.3903903903904 km: -9.231510676500488e-37\n",
      "✅ Final Optimized Parameters for L=190.1901901901902 km: [4.68944088e-01 3.24808386e-01 5.38547514e-01 4.39629591e-01\n",
      " 1.00000000e-12]\n",
      "✅ Final Optimized Key Rate for L=190.1901901901902 km: -4.729313968862157e-34\n",
      "✅ Final Optimized Parameters for L=189.5895895895896 km: [0.42716451 0.08250593 0.87942228 0.0658327  0.2397867 ]\n",
      "✅ Final Optimized Key Rate for L=189.5895895895896 km: 3.0751096029912046e-09\n"
     ]
    },
    {
     "name": "stderr",
     "output_type": "stream",
     "text": [
      "Optimizing:  96%|█████████▌| 957/1000 [1:26:33<02:12,  3.08s/it]"
     ]
    },
    {
     "name": "stdout",
     "output_type": "stream",
     "text": [
      "✅ Final Optimized Parameters for L=191.5915915915916 km: [7.80269142e-01 3.56112517e-02 1.17027702e-02 6.97084069e-02\n",
      " 1.00000000e-12]\n",
      "✅ Final Optimized Key Rate for L=191.5915915915916 km: -9.562598830375175e-52\n",
      "✅ Final Optimized Parameters for L=191.3913913913914 km: [6.08391416e-01 3.08016035e-01 7.06705067e-01 8.50327958e-02\n",
      " 1.00000000e-12]\n",
      "✅ Final Optimized Key Rate for L=191.3913913913914 km: -1.3675787224673288e-51\n",
      "✅ Final Optimized Parameters for L=191.7917917917918 km: [8.91638790e-01 2.50918703e-02 8.75935659e-01 7.89693431e-02\n",
      " 1.00000000e-12]\n",
      "✅ Final Optimized Key Rate for L=191.7917917917918 km: -5.743815240187001e-36\n",
      "✅ Final Optimized Parameters for L=191.991991991992 km: [3.91895014e-01 3.76561160e-01 1.69447207e-01 3.62730074e-02\n",
      " 1.00000000e-12]\n",
      "✅ Final Optimized Key Rate for L=191.991991991992 km: -3.913933084551177e-36\n",
      "\n",
      "--- [DEBUG] Starting optimization for L=192.1921921921922 km ---\n",
      "🔵 Initial Guess for L=192.1921921921922: [3.91895014e-01 3.76561160e-01 1.69447207e-01 3.62730074e-02\n",
      " 1.00000000e-12]\n",
      "\n",
      "--- [DEBUG] Starting optimization for L=192.3923923923924 km ---\n",
      "🔵 Initial Guess for L=192.3923923923924: [3.91895014e-01 3.76561160e-01 1.69447207e-01 3.62730074e-02\n",
      " 1.00000000e-12]\n",
      "\n",
      "--- [DEBUG] Starting optimization for L=192.5925925925926 km ---\n",
      "🔵 Initial Guess for L=192.5925925925926: [3.91895014e-01 3.76561160e-01 1.69447207e-01 3.62730074e-02\n",
      " 1.00000000e-12]\n",
      "\n",
      "--- [DEBUG] Starting optimization for L=192.7927927927928 km ---\n",
      "🔵 Initial Guess for L=192.7927927927928: [3.91895014e-01 3.76561160e-01 1.69447207e-01 3.62730074e-02\n",
      " 1.00000000e-12]\n",
      "\n",
      "--- [DEBUG] Starting optimization for L=192.992992992993 km ---\n",
      "🔵 Initial Guess for L=192.992992992993: [3.91895014e-01 3.76561160e-01 1.69447207e-01 3.62730074e-02\n",
      " 1.00000000e-12]\n",
      "\n",
      "--- [DEBUG] Starting optimization for L=193.1931931931932 km ---\n",
      "🔵 Initial Guess for L=193.1931931931932: [3.91895014e-01 3.76561160e-01 1.69447207e-01 3.62730074e-02\n",
      " 1.00000000e-12]\n",
      "\n",
      "--- [DEBUG] Starting optimization for L=193.3933933933934 km ---\n",
      "🔵 Initial Guess for L=193.3933933933934: [3.91895014e-01 3.76561160e-01 1.69447207e-01 3.62730074e-02\n",
      " 1.00000000e-12]\n",
      "\n",
      "--- [DEBUG] Starting optimization for L=193.5935935935936 km ---\n",
      "🔵 Initial Guess for L=193.5935935935936: [3.91895014e-01 3.76561160e-01 1.69447207e-01 3.62730074e-02\n",
      " 1.00000000e-12]\n",
      "\n",
      "--- [DEBUG] Starting optimization for L=193.7937937937938 km ---\n",
      "🔵 Initial Guess for L=193.7937937937938: [3.91895014e-01 3.76561160e-01 1.69447207e-01 3.62730074e-02\n",
      " 1.00000000e-12]\n",
      "\n",
      "--- [DEBUG] Starting optimization for L=193.993993993994 km ---\n",
      "🔵 Initial Guess for L=193.993993993994: [3.91895014e-01 3.76561160e-01 1.69447207e-01 3.62730074e-02\n",
      " 1.00000000e-12]\n",
      "\n",
      "--- [DEBUG] Starting optimization for L=194.1941941941942 km ---\n",
      "🔵 Initial Guess for L=194.1941941941942: [3.91895014e-01 3.76561160e-01 1.69447207e-01 3.62730074e-02\n",
      " 1.00000000e-12]\n",
      "\n",
      "--- [DEBUG] Starting optimization for L=194.3943943943944 km ---\n",
      "🔵 Initial Guess for L=194.3943943943944: [3.91895014e-01 3.76561160e-01 1.69447207e-01 3.62730074e-02\n",
      " 1.00000000e-12]\n"
     ]
    },
    {
     "name": "stderr",
     "output_type": "stream",
     "text": [
      "Optimizing:  96%|█████████▌| 961/1000 [1:27:38<05:17,  8.13s/it]"
     ]
    },
    {
     "name": "stdout",
     "output_type": "stream",
     "text": [
      "✅ Final Optimized Parameters for L=192.1921921921922 km: [5.09891426e-01 3.08721736e-01 1.94740928e-01 5.43947401e-02\n",
      " 1.00000000e-12]\n",
      "✅ Final Optimized Key Rate for L=192.1921921921922 km: -7.701407662606774e-51\n",
      "\n",
      "--- [DEBUG] Starting optimization for L=194.5945945945946 km ---\n",
      "🔵 Initial Guess for L=194.5945945945946: [5.09891426e-01 3.08721736e-01 1.94740928e-01 5.43947401e-02\n",
      " 1.00000000e-12]\n"
     ]
    },
    {
     "name": "stderr",
     "output_type": "stream",
     "text": [
      "Optimizing:  96%|█████████▋| 964/1000 [1:27:39<03:12,  5.36s/it]"
     ]
    },
    {
     "name": "stdout",
     "output_type": "stream",
     "text": [
      "✅ Final Optimized Parameters for L=193.7937937937938 km: [5.09891426e-01 3.08721736e-01 1.94740928e-01 5.43947401e-02\n",
      " 1.00000000e-12]\n",
      "✅ Final Optimized Key Rate for L=193.7937937937938 km: -7.737529425677052e-51\n",
      "\n",
      "--- [DEBUG] Starting optimization for L=194.7947947947948 km ---\n",
      "🔵 Initial Guess for L=194.7947947947948: [5.09891426e-01 3.08721736e-01 1.94740928e-01 5.43947401e-02\n",
      " 1.00000000e-12]\n",
      "✅ Final Optimized Parameters for L=194.3943943943944 km: [3.89875944e-01 3.53814357e-01 2.28034096e-01 4.62898026e-02\n",
      " 1.00000000e-12]\n",
      "✅ Final Optimized Key Rate for L=194.3943943943944 km: -1.5012937518800092e-50\n",
      "\n",
      "--- [DEBUG] Starting optimization for L=194.994994994995 km ---\n",
      "🔵 Initial Guess for L=194.994994994995: [3.89875944e-01 3.53814357e-01 2.28034096e-01 4.62898026e-02\n",
      " 1.00000000e-12]\n",
      "✅ Final Optimized Parameters for L=192.3923923923924 km: [3.85883543e-01 1.50113586e-01 2.22422131e-01 1.08375543e-01\n",
      " 1.00000000e-12]\n",
      "✅ Final Optimized Key Rate for L=192.3923923923924 km: -5.363202818068595e-51\n",
      "✅ Final Optimized Parameters for L=192.7927927927928 km: [5.09891426e-01 3.08721736e-01 1.94740928e-01 5.43947401e-02\n",
      " 1.00000000e-12]\n",
      "✅ Final Optimized Key Rate for L=192.7927927927928 km: -7.718177809239693e-51\n",
      "\n",
      "--- [DEBUG] Starting optimization for L=195.1951951951952 km ---\n",
      "🔵 Initial Guess for L=195.1951951951952: [5.09891426e-01 3.08721736e-01 1.94740928e-01 5.43947401e-02\n",
      " 1.00000000e-12]\n",
      "✅ Final Optimized Parameters for L=192.5925925925926 km: [5.09891426e-01 3.08721736e-01 1.94740928e-01 5.43947401e-02\n",
      " 1.00000000e-12]\n",
      "✅ Final Optimized Key Rate for L=192.5925925925926 km: -7.713029867053364e-51\n",
      "✅ Final Optimized Parameters for L=193.993993993994 km: [5.09891426e-01 3.08721736e-01 1.94740928e-01 5.43947401e-02\n",
      " 1.00000000e-12]\n",
      "✅ Final Optimized Key Rate for L=193.993993993994 km: -7.740163889663217e-51\n",
      "✅ Final Optimized Parameters for L=194.1941941941942 km: [3.85883543e-01 2.25016073e-01 2.17586713e-01 4.28292304e-02\n",
      " 1.00000000e-12]\n",
      "✅ Final Optimized Key Rate for L=194.1941941941942 km: -3.267210715609759e-51\n"
     ]
    },
    {
     "name": "stderr",
     "output_type": "stream",
     "text": [
      "Optimizing:  97%|█████████▋| 971/1000 [1:27:39<01:04,  2.23s/it]"
     ]
    },
    {
     "name": "stdout",
     "output_type": "stream",
     "text": [
      "✅ Final Optimized Parameters for L=193.5935935935936 km: [5.09891426e-01 3.08721736e-01 1.94740928e-01 5.43947401e-02\n",
      " 1.00000000e-12]\n",
      "✅ Final Optimized Key Rate for L=193.5935935935936 km: -7.734490872759774e-51\n",
      "✅ Final Optimized Parameters for L=192.992992992993 km: [5.09891426e-01 3.08721736e-01 1.94740928e-01 5.43947401e-02\n",
      " 1.00000000e-12]\n",
      "✅ Final Optimized Key Rate for L=192.992992992993 km: -7.722891833287322e-51\n",
      "✅ Final Optimized Parameters for L=193.3933933933934 km: [5.09891426e-01 3.08721736e-01 1.94740928e-01 5.43947401e-02\n",
      " 1.00000000e-12]\n",
      "✅ Final Optimized Key Rate for L=193.3933933933934 km: -7.731042373533423e-51\n",
      "✅ Final Optimized Parameters for L=193.1931931931932 km: [5.09891426e-01 3.08721736e-01 1.94740928e-01 5.43947401e-02\n",
      " 1.00000000e-12]\n",
      "✅ Final Optimized Key Rate for L=193.1931931931932 km: -7.727178015255346e-51\n"
     ]
    },
    {
     "name": "stderr",
     "output_type": "stream",
     "text": [
      "Optimizing:  97%|█████████▋| 973/1000 [1:27:53<01:29,  3.32s/it]"
     ]
    },
    {
     "name": "stdout",
     "output_type": "stream",
     "text": [
      "✅ Final Optimized Parameters for L=194.5945945945946 km: [5.74312847e-01 3.84612309e-01 5.67111426e-01 3.61952835e-01\n",
      " 1.00000000e-12]\n",
      "✅ Final Optimized Key Rate for L=194.5945945945946 km: -9.049439468704591e-51\n",
      "✅ Final Optimized Parameters for L=194.7947947947948 km: [5.02069950e-01 3.96428771e-01 2.36652437e-01 6.42264049e-02\n",
      " 1.00000000e-12]\n",
      "✅ Final Optimized Key Rate for L=194.7947947947948 km: -4.5888210152812355e-51\n",
      "✅ Final Optimized Parameters for L=194.994994994995 km: [5.00638676e-01 3.48387024e-01 2.77110852e-01 5.46565273e-02\n",
      " 1.00000000e-12]\n",
      "✅ Final Optimized Key Rate for L=194.994994994995 km: -1.9246843177975422e-51\n",
      "✅ Final Optimized Parameters for L=195.1951951951952 km: [3.68133154e-01 6.26091279e-02 5.64197991e-01 3.94575805e-01\n",
      " 1.00000000e-12]\n",
      "✅ Final Optimized Key Rate for L=195.1951951951952 km: -6.051918459606129e-51\n",
      "\n",
      "--- [DEBUG] Starting optimization for L=195.3953953953954 km ---\n",
      "🔵 Initial Guess for L=195.3953953953954: [3.68133154e-01 6.26091279e-02 5.64197991e-01 3.94575805e-01\n",
      " 1.00000000e-12]\n",
      "\n",
      "--- [DEBUG] Starting optimization for L=195.5955955955956 km ---\n",
      "🔵 Initial Guess for L=195.5955955955956: [3.68133154e-01 6.26091279e-02 5.64197991e-01 3.94575805e-01\n",
      " 1.00000000e-12]\n",
      "\n",
      "--- [DEBUG] Starting optimization for L=195.7957957957958 km ---\n",
      "🔵 Initial Guess for L=195.7957957957958: [3.68133154e-01 6.26091279e-02 5.64197991e-01 3.94575805e-01\n",
      " 1.00000000e-12]\n",
      "\n",
      "--- [DEBUG] Starting optimization for L=195.995995995996 km ---\n",
      "🔵 Initial Guess for L=195.995995995996: [3.68133154e-01 6.26091279e-02 5.64197991e-01 3.94575805e-01\n",
      " 1.00000000e-12]\n",
      "\n",
      "--- [DEBUG] Starting optimization for L=196.1961961961962 km ---\n",
      "🔵 Initial Guess for L=196.1961961961962: [3.68133154e-01 6.26091279e-02 5.64197991e-01 3.94575805e-01\n",
      " 1.00000000e-12]\n",
      "\n",
      "--- [DEBUG] Starting optimization for L=196.3963963963964 km ---\n",
      "🔵 Initial Guess for L=196.3963963963964: [3.68133154e-01 6.26091279e-02 5.64197991e-01 3.94575805e-01\n",
      " 1.00000000e-12]\n",
      "\n",
      "--- [DEBUG] Starting optimization for L=196.5965965965966 km ---\n",
      "🔵 Initial Guess for L=196.5965965965966: [3.68133154e-01 6.26091279e-02 5.64197991e-01 3.94575805e-01\n",
      " 1.00000000e-12]\n",
      "\n",
      "--- [DEBUG] Starting optimization for L=196.7967967967968 km ---\n",
      "🔵 Initial Guess for L=196.7967967967968: [3.68133154e-01 6.26091279e-02 5.64197991e-01 3.94575805e-01\n",
      " 1.00000000e-12]\n",
      "\n",
      "--- [DEBUG] Starting optimization for L=196.996996996997 km ---\n",
      "🔵 Initial Guess for L=196.996996996997: [3.68133154e-01 6.26091279e-02 5.64197991e-01 3.94575805e-01\n",
      " 1.00000000e-12]\n",
      "\n",
      "--- [DEBUG] Starting optimization for L=197.1971971971972 km ---\n",
      "🔵 Initial Guess for L=197.1971971971972: [3.68133154e-01 6.26091279e-02 5.64197991e-01 3.94575805e-01\n",
      " 1.00000000e-12]\n",
      "\n",
      "--- [DEBUG] Starting optimization for L=197.3973973973974 km ---\n",
      "🔵 Initial Guess for L=197.3973973973974: [3.68133154e-01 6.26091279e-02 5.64197991e-01 3.94575805e-01\n",
      " 1.00000000e-12]\n",
      "\n",
      "--- [DEBUG] Starting optimization for L=197.5975975975976 km ---\n",
      "🔵 Initial Guess for L=197.5975975975976: [3.68133154e-01 6.26091279e-02 5.64197991e-01 3.94575805e-01\n",
      " 1.00000000e-12]\n"
     ]
    },
    {
     "name": "stderr",
     "output_type": "stream",
     "text": [
      "Optimizing:  98%|█████████▊| 979/1000 [1:28:58<02:18,  6.61s/it]"
     ]
    },
    {
     "name": "stdout",
     "output_type": "stream",
     "text": [
      "✅ Final Optimized Parameters for L=196.996996996997 km: [5.23123048e-01 9.60417253e-02 3.91886877e-01 4.61943434e-01\n",
      " 1.00000000e-12]\n",
      "✅ Final Optimized Key Rate for L=196.996996996997 km: -4.2746349807393655e-54\n",
      "\n",
      "--- [DEBUG] Starting optimization for L=197.7977977977978 km ---\n",
      "🔵 Initial Guess for L=197.7977977977978: [5.23123048e-01 9.60417253e-02 3.91886877e-01 4.61943434e-01\n",
      " 1.00000000e-12]\n",
      "✅ Final Optimized Parameters for L=197.5975975975976 km: [5.23123048e-01 9.60417253e-02 3.91886877e-01 4.61943434e-01\n",
      " 1.00000000e-12]\n",
      "✅ Final Optimized Key Rate for L=197.5975975975976 km: -4.3909869135384914e-54\n",
      "\n",
      "--- [DEBUG] Starting optimization for L=197.997997997998 km ---\n",
      "🔵 Initial Guess for L=197.997997997998: [5.23123048e-01 9.60417253e-02 3.91886877e-01 4.61943434e-01\n",
      " 1.00000000e-12]\n",
      "✅ Final Optimized Parameters for L=197.1971971971972 km: [5.23123048e-01 9.60417253e-02 3.91886877e-01 4.61943434e-01\n",
      " 1.00000000e-12]\n",
      "✅ Final Optimized Key Rate for L=197.1971971971972 km: -4.314134123017546e-54\n",
      "\n",
      "--- [DEBUG] Starting optimization for L=198.1981981981982 km ---\n",
      "🔵 Initial Guess for L=198.1981981981982: [5.23123048e-01 9.60417253e-02 3.91886877e-01 4.61943434e-01\n",
      " 1.00000000e-12]\n",
      "✅ Final Optimized Parameters for L=195.7957957957958 km: [5.23123048e-01 9.60417253e-02 3.91886877e-01 4.61943434e-01\n",
      " 1.00000000e-12]\n",
      "✅ Final Optimized Key Rate for L=195.7957957957958 km: -4.0221247189527875e-54\n",
      "\n",
      "--- [DEBUG] Starting optimization for L=198.3983983983984 km ---\n",
      "🔵 Initial Guess for L=198.3983983983984: [5.23123048e-01 9.60417253e-02 3.91886877e-01 4.61943434e-01\n",
      " 1.00000000e-12]\n"
     ]
    },
    {
     "name": "stderr",
     "output_type": "stream",
     "text": [
      "Optimizing:  98%|█████████▊| 983/1000 [1:28:58<01:03,  3.76s/it]"
     ]
    },
    {
     "name": "stdout",
     "output_type": "stream",
     "text": [
      "✅ Final Optimized Parameters for L=196.1961961961962 km: [5.23123048e-01 9.60417253e-02 3.91886877e-01 4.61943434e-01\n",
      " 1.00000000e-12]\n",
      "✅ Final Optimized Key Rate for L=196.1961961961962 km: -4.1093034884431317e-54\n",
      "✅ Final Optimized Parameters for L=195.3953953953954 km: [5.23123048e-01 9.60417253e-02 3.91886877e-01 4.61943434e-01\n",
      " 1.00000000e-12]\n",
      "✅ Final Optimized Key Rate for L=195.3953953953954 km: -3.931850267528652e-54\n",
      "✅ Final Optimized Parameters for L=197.3973973973974 km: [5.23123048e-01 9.60417253e-02 3.91886877e-01 4.61943434e-01\n",
      " 1.00000000e-12]\n",
      "✅ Final Optimized Key Rate for L=197.3973973973974 km: -4.352915513733434e-54\n",
      "✅ Final Optimized Parameters for L=195.5955955955956 km: [5.23123048e-01 9.60417253e-02 3.91886877e-01 4.61943434e-01\n",
      " 1.00000000e-12]\n",
      "✅ Final Optimized Key Rate for L=195.5955955955956 km: -3.9773785908587566e-54\n",
      "✅ Final Optimized Parameters for L=195.995995995996 km: [5.23123048e-01 9.60417253e-02 3.91886877e-01 4.61943434e-01\n",
      " 1.00000000e-12]\n",
      "✅ Final Optimized Key Rate for L=195.995995995996 km: -4.066096943572701e-54\n",
      "✅ Final Optimized Parameters for L=196.3963963963964 km: [5.23123048e-01 9.60417253e-02 3.91886877e-01 4.61943434e-01\n",
      " 1.00000000e-12]\n",
      "✅ Final Optimized Key Rate for L=196.3963963963964 km: -4.1517525098356744e-54\n"
     ]
    },
    {
     "name": "stderr",
     "output_type": "stream",
     "text": [
      "Optimizing:  99%|█████████▊| 987/1000 [1:28:58<00:28,  2.19s/it]"
     ]
    },
    {
     "name": "stdout",
     "output_type": "stream",
     "text": [
      "✅ Final Optimized Parameters for L=196.5965965965966 km: [5.23123048e-01 9.60417253e-02 3.91886877e-01 4.61943434e-01\n",
      " 1.00000000e-12]\n",
      "✅ Final Optimized Key Rate for L=196.5965965965966 km: -4.193452096355427e-54\n",
      "✅ Final Optimized Parameters for L=196.7967967967968 km: [5.23123048e-01 9.60417253e-02 3.91886877e-01 4.61943434e-01\n",
      " 1.00000000e-12]\n",
      "✅ Final Optimized Key Rate for L=196.7967967967968 km: -4.234410269327725e-54\n"
     ]
    },
    {
     "name": "stderr",
     "output_type": "stream",
     "text": [
      "Optimizing:  99%|█████████▉| 989/1000 [1:29:12<00:36,  3.29s/it]"
     ]
    },
    {
     "name": "stdout",
     "output_type": "stream",
     "text": [
      "✅ Final Optimized Parameters for L=198.1981981981982 km: [5.73705921e-01 1.37113129e-01 4.54802701e-01 5.31680173e-01\n",
      " 1.00000000e-12]\n",
      "✅ Final Optimized Key Rate for L=198.1981981981982 km: -1.792997867496801e-52\n",
      "✅ Final Optimized Parameters for L=197.7977977977978 km: [5.73705921e-01 1.16609544e-01 4.54802701e-01 5.31680173e-01\n",
      " 1.00000000e-12]\n",
      "✅ Final Optimized Key Rate for L=197.7977977977978 km: -1.7556792018176486e-52\n",
      "✅ Final Optimized Parameters for L=197.997997997998 km: [5.73705921e-01 1.37113129e-01 4.54802701e-01 5.31680173e-01\n",
      " 1.00000000e-12]\n",
      "✅ Final Optimized Key Rate for L=197.997997997998 km: -1.7761786185105515e-52\n",
      "✅ Final Optimized Parameters for L=198.3983983983984 km: [5.73705921e-01 1.37113129e-01 4.54802701e-01 5.31680173e-01\n",
      " 1.00000000e-12]\n",
      "✅ Final Optimized Key Rate for L=198.3983983983984 km: -1.809523845703092e-52\n",
      "\n",
      "--- [DEBUG] Starting optimization for L=198.5985985985986 km ---\n",
      "🔵 Initial Guess for L=198.5985985985986: [5.73705921e-01 1.37113129e-01 4.54802701e-01 5.31680173e-01\n",
      " 1.00000000e-12]\n",
      "\n",
      "--- [DEBUG] Starting optimization for L=198.7987987987988 km ---\n",
      "🔵 Initial Guess for L=198.7987987987988: [5.73705921e-01 1.37113129e-01 4.54802701e-01 5.31680173e-01\n",
      " 1.00000000e-12]\n",
      "\n",
      "--- [DEBUG] Starting optimization for L=198.998998998999 km ---\n",
      "🔵 Initial Guess for L=198.998998998999: [5.73705921e-01 1.37113129e-01 4.54802701e-01 5.31680173e-01\n",
      " 1.00000000e-12]\n",
      "\n",
      "--- [DEBUG] Starting optimization for L=199.1991991991992 km ---\n",
      "🔵 Initial Guess for L=199.1991991991992: [5.73705921e-01 1.37113129e-01 4.54802701e-01 5.31680173e-01\n",
      " 1.00000000e-12]\n",
      "\n",
      "--- [DEBUG] Starting optimization for L=199.3993993993994 km ---\n",
      "🔵 Initial Guess for L=199.3993993993994: [5.73705921e-01 1.37113129e-01 4.54802701e-01 5.31680173e-01\n",
      " 1.00000000e-12]\n",
      "\n",
      "--- [DEBUG] Starting optimization for L=199.5995995995996 km ---\n",
      "🔵 Initial Guess for L=199.5995995995996: [5.73705921e-01 1.37113129e-01 4.54802701e-01 5.31680173e-01\n",
      " 1.00000000e-12]\n",
      "\n",
      "--- [DEBUG] Starting optimization for L=199.7997997997998 km ---\n",
      "🔵 Initial Guess for L=199.7997997997998: [5.73705921e-01 1.37113129e-01 4.54802701e-01 5.31680173e-01\n",
      " 1.00000000e-12]\n",
      "\n",
      "--- [DEBUG] Starting optimization for L=200.0 km ---\n",
      "🔵 Initial Guess for L=200.0: [5.73705921e-01 1.37113129e-01 4.54802701e-01 5.31680173e-01\n",
      " 1.00000000e-12]\n"
     ]
    },
    {
     "name": "stderr",
     "output_type": "stream",
     "text": [
      "Optimizing: 100%|██████████| 1000/1000 [1:29:55<00:00,  5.40s/it]"
     ]
    },
    {
     "name": "stdout",
     "output_type": "stream",
     "text": [
      "✅ Final Optimized Parameters for L=198.998998998999 km: [6.24507941e-01 2.24705582e-01 3.55359045e-01 5.15340673e-01\n",
      " 1.00000000e-12]\n",
      "✅ Final Optimized Key Rate for L=198.998998998999 km: -6.832335698668746e-52\n",
      "✅ Final Optimized Parameters for L=198.7987987987988 km: [6.24507941e-01 2.24705582e-01 3.55359045e-01 5.15340673e-01\n",
      " 1.00000000e-12]\n",
      "✅ Final Optimized Key Rate for L=198.7987987987988 km: -6.781070459721626e-52\n",
      "✅ Final Optimized Parameters for L=199.5995995995996 km: [4.72780759e-01 2.11527090e-01 3.88470731e-01 3.44148302e-01\n",
      " 1.00000000e-12]\n",
      "✅ Final Optimized Key Rate for L=199.5995995995996 km: -6.771138577848594e-51\n",
      "✅ Final Optimized Parameters for L=198.5985985985986 km: [6.24507941e-01 2.24705582e-01 3.55359045e-01 5.15340673e-01\n",
      " 1.00000000e-12]\n",
      "✅ Final Optimized Key Rate for L=198.5985985985986 km: -6.728844580380382e-52\n",
      "✅ Final Optimized Parameters for L=199.1991991991992 km: [4.46874667e-01 2.14004842e-01 2.97826132e-01 6.84269083e-01\n",
      " 1.00000000e-12]\n",
      "✅ Final Optimized Key Rate for L=199.1991991991992 km: -1.1617575803443763e-52\n",
      "✅ Final Optimized Parameters for L=199.3993993993994 km: [6.24507941e-01 2.24705582e-01 3.55359045e-01 5.15340673e-01\n",
      " 1.00000000e-12]\n",
      "✅ Final Optimized Key Rate for L=199.3993993993994 km: -6.932024310424813e-52\n",
      "✅ Final Optimized Parameters for L=200.0 km: [6.24507941e-01 2.24705582e-01 3.55359045e-01 5.15340673e-01\n",
      " 1.00000000e-12]\n",
      "✅ Final Optimized Key Rate for L=200.0 km: -7.074600666051027e-52\n",
      "✅ Final Optimized Parameters for L=199.7997997997998 km: [6.24507941e-01 2.24705582e-01 3.55359045e-01 5.15340673e-01\n",
      " 1.00000000e-12]\n",
      "✅ Final Optimized Key Rate for L=199.7997997997998 km: -7.027989724918548e-52\n",
      "\n",
      "Dataset Summary:\n",
      "Total Entries: 1000\n",
      "Fiber Length Range: 1.4014014014014016 km to 199.7997997997998 km\n",
      "n_X Values: 1000000000.0\n"
     ]
    },
    {
     "name": "stderr",
     "output_type": "stream",
     "text": [
      "\n"
     ]
    }
   ],
   "source": [
    "# Setup basic logging\n",
    "logging.basicConfig(level=logging.INFO, format='%(asctime)s - %(levelname)s - %(message)s')\n",
    "\n",
    "def optimize_single_instance(L, n_X, bounds, initial_guess, alpha, eta_Bob, P_dc_value, epsilon_sec, epsilon_cor, f_EC, e_mis, P_ap, n_event):\n",
    "    \"\"\"Optimize key rate for a given fiber length L and fixed n_X.\"\"\"\n",
    "    global x0, last_valid_x0\n",
    "    print(f\"\\n--- [DEBUG] Starting optimization for L={L} km ---\")\n",
    "\n",
    "    try:\n",
    "        def wrapped_objective(params):\n",
    "            key_rate = objective(params, L, n_X, alpha, eta_Bob, P_dc_value, epsilon_sec, epsilon_cor, f_EC, e_mis, P_ap, n_event)[0]\n",
    "            return  -key_rate\n",
    "\n",
    "        print(f\"🔵 Initial Guess for L={L}: {x0}\")\n",
    "\n",
    "        # Global optimization\n",
    "        # Perform global optimization\n",
    "        global_result = dual_annealing(\n",
    "            func=wrapped_objective,\n",
    "            bounds=bounds,\n",
    "\n",
    "            x0=x0\n",
    "        )\n",
    "        # Local refinement\n",
    "        local_result = minimize(\n",
    "            fun=wrapped_objective,\n",
    "            x0=global_result.x,\n",
    "            method='Nelder-Mead',\n",
    "            options={'maxiter': 10000, 'xatol': 1e-10, 'fatol': 1e-10}\n",
    "        )\n",
    "\n",
    "        optimized_params = local_result.x\n",
    "        optimized_params = np.clip(optimized_params,  \n",
    "                           [b[0] for b in bounds], \n",
    "                           [b[1] for b in bounds])\n",
    "        optimized_key_rate = -local_result.fun\n",
    "\n",
    "        print(f\"✅ Final Optimized Parameters for L={L} km: {optimized_params}\")\n",
    "        print(f\"✅ Final Optimized Key Rate for L={L} km: {optimized_key_rate}\")\n",
    "\n",
    "        # Update x0 with the latest optimized parameters\n",
    "        x0 = optimized_params.copy()\n",
    "\n",
    "        # Check if parameters are within bounds\n",
    "        out_of_bounds_flags = [param < b[0] or param > b[1] for param, b in zip(optimized_params, bounds)]\n",
    "        out_of_bounds = any(out_of_bounds_flags)  \n",
    "\n",
    "        if not out_of_bounds:\n",
    "            return L, n_X, optimized_key_rate, optimized_params, optimized_params.copy()  \n",
    "        else:\n",
    "            print(f\"⚠️ Parameters out of bounds for L={L} km, but keeping best parameters seen so far.\")\n",
    "            return L, n_X, optimized_key_rate, optimized_params, x0  \n",
    "\n",
    "    except Exception as e:\n",
    "        print(f\"❌ Error at L={L}: {e}\")\n",
    "        return L, n_X, float('nan'), [float('nan')] * len(bounds), x0\n",
    "    \n",
    "def submit_in_batches(executor, L_values, n_X_values, bounds, initial_guess, alpha, eta_Bob, P_dc_value, epsilon_sec, epsilon_cor, f_EC, e_mis, P_ap, n_event, batch_size=16 ):\n",
    "    all_results = []\n",
    "    tasks = [(L, n_X) for L in L_values for n_X in n_X_values]\n",
    "    total = len(tasks)\n",
    "    with tqdm(total=total, desc=\"Optimizing\") as pbar:\n",
    "        for i in range(0, total, batch_size):\n",
    "            batch = tasks[i:i + batch_size]\n",
    "            futures = [executor.submit(optimize_single_instance, L, n_X, bounds, initial_guess, alpha, eta_Bob, P_dc_value, epsilon_sec, epsilon_cor, f_EC, e_mis, P_ap, n_event) for L, n_X in batch]\n",
    "            for future in concurrent.futures.as_completed(futures):\n",
    "                result = future.result()\n",
    "                all_results.append(result)\n",
    "                pbar.update(1)\n",
    "    return all_results\n",
    "\n",
    "if __name__ == '__main__':\n",
    "    # Define constants and bounds\n",
    "    bounds = [(4e-4, 0.9), (2e-4, 0.5), (1e-12, 1.0 - 1e-12), (1e-12, 1.0 - 1e-12), (1e-12, 1.0 - 1e-12)]\n",
    "    initial_guess = np.array([0.52, 0.40, 0.18, 0.785, 0.88])\n",
    "    # 0.65, 0.15, 0.05, 0.61, 0.425 for 1e4\n",
    "    # 0.62, 0.24, 0.10, 0.70, 0.55 for 1e5\n",
    "    # 0.68, 0.30, 0.14, 0.74, 0.66 for 1e6\n",
    "    # 0.55, 0.34, 0.15, 0.75, 0.75 for 1e7 \n",
    "    # 0.54, 0.375, 0.16, 0.775, 0.83 for 1e8\n",
    "    # 0.52, 0.40, 0.18, 0.785, 0.88 for 1e9\n",
    "\n",
    "    L_values = np.linspace(0, 200, 1000)\n",
    "    n_X_values = [1e9] # Detected events\n",
    "\n",
    "    # Optimization parameters\n",
    "    alpha = 0.2\n",
    "    eta_Bob = 0.1\n",
    "    P_dc_value = 6*10**-7\n",
    "    epsilon_sec = 1e-10\n",
    "    epsilon_cor = 1e-15\n",
    "    f_EC = 1.16\n",
    "    e_mis = 0.01\n",
    "    P_ap = 0\n",
    "    n_event = 1\n",
    "\n",
    "    # Run optimization using ThreadPoolExecutor\n",
    "    with concurrent.futures.ThreadPoolExecutor(max_workers=12) as executor:\n",
    "        all_results_sorted = submit_in_batches(executor, L_values, n_X_values, bounds, initial_guess, alpha, eta_Bob, P_dc_value, epsilon_sec, epsilon_cor, f_EC, e_mis, P_ap, n_event)\n",
    "\n",
    "    # Generate and save dataset\n",
    "    dataset = [{\n",
    "        \"fiber_length\": float(L),\n",
    "        \"n_X\": int(n_X),\n",
    "        \"key_rate\": float(key_rate),\n",
    "        \"optimized_parameters\": { \"mu_1\": float(params[0]), \"mu_2\": float(params[1]), \"P_mu_1\": float(params[2]), \"P_mu_2\": float(params[3]), \"P_X_value\": float(params[4]) },\n",
    "        \"initial_guess\": { \"mu_1\": float(init_guess[0]), \"mu_2\": float(init_guess[1]), \"P_mu_1\": float(init_guess[2]), \"P_mu_2\": float(init_guess[3]), \"P_X_value\": float(init_guess[4]) }\n",
    "    } for L, n_X, key_rate, params, init_guess in all_results_sorted]\n",
    "\n",
    "    timestamp = time.strftime(\"%Y%m%d_%H%M%S\")\n",
    "    filename = f'qkd_optimization_results_{timestamp}.json'\n",
    "    with open(filename, 'w') as f:\n",
    "        json.dump(dataset, f, indent=2)\n",
    "\n",
    "    # Print dataset summary\n",
    "    print(\"\\nDataset Summary:\")\n",
    "    print(f\"Total Entries: {len(dataset)}\")\n",
    "    print(f\"Fiber Length Range: {dataset[0]['fiber_length']} km to {dataset[-1]['fiber_length']} km\")\n",
    "    print(f\"n_X Values: {', '.join(map(str, n_X_values))}\")"
   ]
  },
  {
   "cell_type": "code",
   "execution_count": 12,
   "metadata": {},
   "outputs": [
    {
     "name": "stdout",
     "output_type": "stream",
     "text": [
      "\n",
      "✅ Dataset saved as: qkd_optimization_results_20250427_162829.json\n",
      "\n",
      "📊 **Dataset Summary** 📊\n",
      "Total Entries: 1000\n",
      "Fiber Length Range: 1.4014014014014016 km to 199.7997997997998 km\n",
      "n_X Values: 1000000000.0\n",
      "====================================================================================================\n"
     ]
    }
   ],
   "source": [
    "# ✅ Prepare dataset dictionary\n",
    "dataset = []\n",
    "\n",
    "# ✅ Convert results into a structured format\n",
    "for L, n_X, key_rate, params, init_guess in all_results_sorted: \n",
    "    dataset.append({\n",
    "        \"fiber_length\": float(L),\n",
    "        \"n_X\": int(n_X),\n",
    "        \"key_rate\": float(key_rate),\n",
    "        \"optimized_parameters\": {\n",
    "            \"mu_1\": float(params[0]),\n",
    "            \"mu_2\": float(params[1]),\n",
    "            \"P_mu_1\": float(params[2]),\n",
    "            \"P_mu_2\": float(params[3]),\n",
    "            \"P_X_value\": float(params[4]),\n",
    "        },\n",
    "        \"initial_guess\": {\n",
    "            \"mu_1\": float(init_guess[0]),\n",
    "            \"mu_2\": float(init_guess[1]),\n",
    "            \"P_mu_1\": float(init_guess[2]),\n",
    "            \"P_mu_2\": float(init_guess[3]),\n",
    "            \"P_X_value\": float(init_guess[4]),\n",
    "        }\n",
    "    })\n",
    "\n",
    "# ✅ Save dataset to a JSON file with a timestamp\n",
    "timestamp = time.strftime(\"%Y%m%d_%H%M%S\")\n",
    "filename = f'qkd_optimization_results_{timestamp}.json'\n",
    "with open(filename, 'w') as f:\n",
    "    json.dump(dataset, f, indent=2)\n",
    "\n",
    "print(f\"\\n✅ Dataset saved as: {filename}\")\n",
    "\n",
    "# ✅ Print dataset summary\n",
    "print(\"\\n📊 **Dataset Summary** 📊\")\n",
    "print(f\"Total Entries: {len(dataset)}\")\n",
    "print(f\"Fiber Length Range: {dataset[0]['fiber_length']} km to {dataset[-1]['fiber_length']} km\")\n",
    "print(f\"n_X Values: {', '.join(map(str, n_X_values))}\")\n",
    "print(\"=\" * 100)"
   ]
  },
  {
   "cell_type": "code",
   "execution_count": 15,
   "metadata": {},
   "outputs": [
    {
     "name": "stdout",
     "output_type": "stream",
     "text": [
      "\n",
      "✅ Dataset saved as: qkd_grouped_dataset_20250427_163038.json\n",
      "\n",
      "📊 **Dataset Summary** 📊\n",
      "n_X = 1000000000.0: 1000 entries\n",
      "Sample Entry:\n",
      "{\n",
      "  \"fiber_length\": 1.4014014014014016,\n",
      "  \"e_1\": 0.014014014014014016,\n",
      "  \"e_2\": 6.221848749616356,\n",
      "  \"e_3\": 0.5,\n",
      "  \"e_4\": 9.0,\n",
      "  \"key_rate\": 0.010197400299898504,\n",
      "  \"optimized_params\": {\n",
      "    \"mu_1\": 0.4889790170788987,\n",
      "    \"mu_2\": 0.366796513033134,\n",
      "    \"P_mu_1\": 0.18671182986913296,\n",
      "    \"P_mu_2\": 0.7724245487225507,\n",
      "    \"P_X_value\": 0.8765348632856348\n",
      "  }\n",
      "}\n",
      "\n"
     ]
    }
   ],
   "source": [
    "import json\n",
    "import time\n",
    "import numpy as np\n",
    "\n",
    "# ✅ Load the original dataset\n",
    "with open(\"qkd_optimization_results_20250427_162829.json\", \"r\") as f:\n",
    "    dataset = json.load(f)\n",
    "\n",
    "# ✅ Fixed parameters\n",
    "P_dc_value = 6e-7  # Dark count probability\n",
    "e_mis = 5e-3  # Misalignment error\n",
    "\n",
    "# ✅ Grouped dictionary structure\n",
    "grouped_data = {}\n",
    "\n",
    "for entry in dataset:\n",
    "    fiber_length = entry[\"fiber_length\"]\n",
    "    n_X = float(entry[\"n_X\"])  # Convert to float for consistency\n",
    "\n",
    "    # ✅ Compute missing feature values\n",
    "    e_1 = fiber_length / 100  # Normalize fiber length\n",
    "    e_2 = -np.log10(P_dc_value)  # Dark count processing\n",
    "    e_3 = e_mis * 100  # Misalignment error\n",
    "    e_4 = np.log10(n_X)  # Log-transformed detected events\n",
    "\n",
    "    # ✅ Format the new entry\n",
    "    formatted_entry = {\n",
    "        \"fiber_length\": fiber_length,\n",
    "        \"e_1\": e_1,\n",
    "        \"e_2\": e_2,\n",
    "        \"e_3\": e_3,\n",
    "        \"e_4\": e_4,\n",
    "        \"key_rate\": entry[\"key_rate\"],\n",
    "        \"optimized_params\": entry[\"optimized_parameters\"],  # Keep only optimized parameters\n",
    "    }\n",
    "\n",
    "    # ✅ Store entries under their respective `n_X` group\n",
    "    n_X_str = str(n_X)  # Convert to string for JSON keys\n",
    "    if n_X_str not in grouped_data:\n",
    "        grouped_data[n_X_str] = []\n",
    "    grouped_data[n_X_str].append(formatted_entry)\n",
    "\n",
    "# ✅ Save the formatted dataset with a timestamp\n",
    "timestamp = time.strftime(\"%Y%m%d_%H%M%S\")\n",
    "filename = f'qkd_grouped_dataset_{timestamp}.json'\n",
    "with open(filename, 'w') as f:\n",
    "    json.dump(grouped_data, f, indent=2)\n",
    "\n",
    "print(f\"\\n✅ Dataset saved as: {filename}\")\n",
    "\n",
    "# ✅ Print dataset summary\n",
    "print(\"\\n📊 **Dataset Summary** 📊\")\n",
    "for n_X_key, entries in grouped_data.items():\n",
    "    print(f\"n_X = {n_X_key}: {len(entries)} entries\")\n",
    "    print(f\"Sample Entry:\\n{json.dumps(entries[0], indent=2)}\\n\")"
   ]
  },
  {
   "cell_type": "code",
   "execution_count": 16,
   "metadata": {},
   "outputs": [],
   "source": [
    "import json\n",
    "\n",
    "def reorder_json_by_fiber_length(file_path):\n",
    "    \"\"\"\n",
    "    Reorders the JSON data from a file based on the 'fiber_length'\n",
    "    field within the first list found in the dictionary.\n",
    "\n",
    "    Args:\n",
    "        file_path: The path to the JSON file.\n",
    "\n",
    "    Returns:\n",
    "        A new Python dictionary with the same structure as the input, but with the\n",
    "        first list found sorted by the 'fiber_length' value in ascending order.\n",
    "        Returns None if the input is not in the expected format or if no suitable\n",
    "        list is found, or if there's an error reading or parsing the file.\n",
    "    \"\"\"\n",
    "\n",
    "    try:\n",
    "        with open(file_path, 'r') as f:\n",
    "            json_data = json.load(f)\n",
    "    except FileNotFoundError:\n",
    "        print(f\"Error: File not found at path: {file_path}\")\n",
    "        return None\n",
    "    except json.JSONDecodeError as e:\n",
    "        print(f\"Error decoding JSON from file: {e}\")\n",
    "        return None\n",
    "\n",
    "    if not isinstance(json_data, dict):\n",
    "        print(\"Error: Input must be a dictionary.\")\n",
    "        return None\n",
    "\n",
    "    # Find the first list in the dictionary\n",
    "    data_list = None\n",
    "    target_key = None\n",
    "    for key, value in json_data.items():\n",
    "        if isinstance(value, list):\n",
    "            data_list = value\n",
    "            target_key = key\n",
    "            break  # Stop after finding the first list\n",
    "\n",
    "    if data_list is None:\n",
    "        print(\"Error: No list found in the dictionary.\")\n",
    "        return None\n",
    "\n",
    "    # Validate the list elements\n",
    "    for item in data_list:\n",
    "        if not isinstance(item, dict) or \"fiber_length\" not in item:\n",
    "            print(\"Error: List elements must be dictionaries containing the key 'fiber_length'.\")\n",
    "            return None\n",
    "\n",
    "    # Sort the list by 'fiber_length'\n",
    "    sorted_data_list = sorted(data_list, key=lambda x: x[\"fiber_length\"])\n",
    "\n",
    "    # Create a new dictionary with the sorted list\n",
    "    reordered_json_data = json_data.copy() # Avoid modifying the original\n",
    "    reordered_json_data[target_key] = sorted_data_list\n",
    "\n",
    "    return reordered_json_data"
   ]
  },
  {
   "cell_type": "code",
   "execution_count": 17,
   "metadata": {},
   "outputs": [],
   "source": [
    "file_path = 'qkd_grouped_dataset_20250427_163031.json' # Replace with the actual file path' # Replace with the actual file path\n",
    "reordered_data = reorder_json_by_fiber_length(file_path)"
   ]
  },
  {
   "cell_type": "code",
   "execution_count": 18,
   "metadata": {},
   "outputs": [],
   "source": [
    "output_file_path = \"../Training_Data/n_X/good/reordered_qkd_grouped_dataset_20250427_163031.json\" # Choose a name for the output file\n",
    "with open(output_file_path, 'w') as outfile:\n",
    "    json.dump(reordered_data, outfile, indent=2)"
   ]
  },
  {
   "cell_type": "code",
   "execution_count": 19,
   "metadata": {},
   "outputs": [],
   "source": [
    "import json\n",
    "import numpy as np\n",
    "import matplotlib.pyplot as plt\n",
    "\n",
    "def plot_for_nx(data, target_nx):\n",
    "    \"\"\"\n",
    "    Plot results for a specific n_X value, filtering out zero key rates.\n",
    "    \"\"\"\n",
    "    # Convert to string for dictionary key lookup\n",
    "    target_nx_str = str(float(target_nx))  # Ensure it matches JSON key format\n",
    "\n",
    "    # Retrieve data correctly from grouped dictionary\n",
    "    if target_nx_str not in data:\n",
    "        print(f\"No data found for n_X = {target_nx}\")\n",
    "        return\n",
    "    \n",
    "    filtered_data = data[target_nx_str]  # Get the list of entries\n",
    "    \n",
    "    # Filter out key rates that are zero or too small\n",
    "    filtered_data = [entry for entry in filtered_data if entry[\"key_rate\"] > 1e-30]  # Adjust threshold if needed\n",
    "\n",
    "    if not filtered_data:\n",
    "        print(f\"No non-zero key rates found for n_X = {target_nx}\")\n",
    "        return\n",
    "\n",
    "    # Extract data\n",
    "    fiber_lengths = [entry[\"fiber_length\"] for entry in filtered_data]\n",
    "    key_rates = [entry[\"key_rate\"] for entry in filtered_data]\n",
    "\n",
    "    # ✅ Improved visualization\n",
    "    plt.figure(figsize=(12, 6))\n",
    "    \n",
    "    # ✅ Key Rate vs Fiber Length\n",
    "    plt.subplot(1, 2, 1)\n",
    "    plt.plot(fiber_lengths, np.log10(key_rates), linestyle='-', color='b', label=\"Key Rate\")\n",
    "    plt.xlabel(\"Fiber Length (km)\")\n",
    "    plt.ylabel(\"log10(Key Rate)\")\n",
    "    plt.title(f\"Key Rate vs Fiber Length (n_X = {target_nx:.0e})\")\n",
    "    plt.ylim(-8.5, 1.0)\n",
    "    plt.legend()\n",
    "    plt.grid(True)\n",
    "    \n",
    "    # ✅ Optimized Parameters vs Fiber Length\n",
    "    plt.subplot(1, 2, 2)\n",
    "    params_names = list(filtered_data[0][\"optimized_params\"].keys())\n",
    "    for param_name in params_names:\n",
    "        params_values = [entry[\"optimized_params\"][param_name] for entry in filtered_data]\n",
    "        plt.plot(fiber_lengths, params_values, linestyle='-', label=param_name)\n",
    "    \n",
    "    plt.xlabel(\"Fiber Length (km)\")\n",
    "    plt.ylabel(\"Parameter Value\")\n",
    "    plt.title(f\"Optimized Parameters vs Fiber Length (n_X = {target_nx:.0e})\")\n",
    "    plt.legend()\n",
    "    plt.ylim(0.0, 1.0)\n",
    "    # plt.yticks(np.arange(0.0, 1.05, 0.05))\n",
    "    plt.grid(True)\n",
    "    \n",
    "    plt.tight_layout()\n",
    "    plt.savefig(f\"../Training_Data/n_X/good/qkd_results_nx_{target_nx:.0e}.png\", dpi=300, bbox_inches=\"tight\")\n",
    "    plt.show()"
   ]
  },
  {
   "cell_type": "code",
   "execution_count": 21,
   "metadata": {},
   "outputs": [
    {
     "name": "stdout",
     "output_type": "stream",
     "text": [
      "Available n_X values: ['1000000000.0']\n",
      "\n",
      "Plotting results for n_X = 1e+04\n",
      "No data found for n_X = 10000\n",
      "\n",
      "Plotting results for n_X = 1e+05\n",
      "No data found for n_X = 100000\n",
      "\n",
      "Plotting results for n_X = 1e+06\n",
      "No data found for n_X = 1000000\n",
      "\n",
      "Plotting results for n_X = 1e+07\n",
      "No data found for n_X = 10000000\n",
      "\n",
      "Plotting results for n_X = 1e+08\n",
      "No data found for n_X = 100000000\n",
      "\n",
      "Plotting results for n_X = 1e+09\n"
     ]
    },
    {
     "data": {
      "image/png": "[encoded data removed]",
      "text/plain": [
       "<Figure size 1200x600 with 2 Axes>"
      ]
     },
     "metadata": {},
     "output_type": "display_data"
    },
    {
     "name": "stdout",
     "output_type": "stream",
     "text": [
      "\n",
      "Plotting results for n_X = 1e+10\n",
      "No data found for n_X = 10000000000\n"
     ]
    }
   ],
   "source": [
    "# Load dataset\n",
    "# with open(\"qkd_grouped_dataset_20250213_110036.json\", 'r') as f:\n",
    "#     dataset = json.load(f)\n",
    "with open(\"../Training_Data/n_X/good/reordered_qkd_grouped_dataset_20250427_163031.json\", 'r') as f:\n",
    "    dataset = json.load(f)\n",
    "\n",
    "# plot_for_nx(dataset, 500000000)  # Example plot for n_X = 5e8\n",
    "\n",
    "# Print available n_X values\n",
    "print(\"Available n_X values:\", list(dataset.keys())[:5])  # Print first 5 unique n_X values\n",
    "\n",
    "# List of n_X values to plot\n",
    "n_X_values = [10**s for s in range(4, 11)]  # Generates [10^4, 10^5, ..., 10^9]\n",
    "\n",
    "# Loop through n_X values and plot\n",
    "for n_X in n_X_values:\n",
    "    print(f\"\\nPlotting results for n_X = {n_X:.0e}\")\n",
    "\n",
    "    plot_for_nx(dataset, n_X)"
   ]
  },
  {
   "cell_type": "code",
   "execution_count": 31,
   "metadata": {},
   "outputs": [
    {
     "name": "stdout",
     "output_type": "stream",
     "text": [
      "Available n_X values: ['10000.0', '100000.0', '1000000.0', '10000000.0', '100000000.0', '1000000000.0']\n"
     ]
    },
    {
     "data": {
      "image/png": "[encoded data removed]",
      "text/plain": [
       "<Figure size 1000x600 with 1 Axes>"
      ]
     },
     "metadata": {},
     "output_type": "display_data"
    }
   ],
   "source": [
    "import json\n",
    "import numpy as np\n",
    "import matplotlib.pyplot as plt\n",
    "\n",
    "# Enable LaTeX rendering for text (using MathText, not full LaTeX)\n",
    "plt.rc('text', usetex=False)\n",
    "\n",
    "# Load dataset\n",
    "with open(\"../Training_Data/n_X/good/cleaned_combined_datasets.json\", 'r') as f:\n",
    "    dataset = json.load(f)\n",
    "\n",
    "# Print available keys (debugging)\n",
    "print(\"Available n_X values:\", list(dataset.keys()))  \n",
    "\n",
    "# Define n_X values\n",
    "n_X_values = [10**s for s in range(4, 10)]  # [10^4, 10^5, ..., 10^9]\n",
    "\n",
    "# Initialize figure\n",
    "plt.figure(figsize=(10, 6))\n",
    "\n",
    "# Plot key rate vs fiber length for each n_X\n",
    "for i, n_X in enumerate(n_X_values):\n",
    "    target_nx_str = str(float(n_X))  # Ensure correct format\n",
    "\n",
    "    if target_nx_str not in dataset:\n",
    "        print(f\"❌ No data found for n_X = {n_X}\")\n",
    "        continue\n",
    "\n",
    "    filtered_data = dataset[target_nx_str]\n",
    "    filtered_data = [entry for entry in filtered_data if entry[\"key_rate\"] > 1e-30]  \n",
    "\n",
    "    if not filtered_data:\n",
    "        print(f\"⚠️ No non-zero key rates for n_X = {n_X}\")\n",
    "        continue\n",
    "\n",
    "    # Extract fiber lengths and key rates\n",
    "    fiber_lengths = [entry[\"fiber_length\"] for entry in filtered_data]\n",
    "    key_rates = [entry[\"key_rate\"] for entry in filtered_data]\n",
    "\n",
    "    # Plot with LaTeX-formatted legend label\n",
    "    exponent = int(np.log10(n_X))  # Get the exponent for 10^k\n",
    "    plt.plot(fiber_lengths, np.log10(key_rates), linestyle='-', label=r'$n_X = 10^{{{}}}$'.format(exponent))\n",
    "\n",
    "# Graph formatting\n",
    "plt.xlabel(\"Fiber Length (km)\")\n",
    "plt.ylabel(\"Secret Key Rate per Pulse\")\n",
    "plt.xlim(0, 200)  # Set x-axis range from 0 to 200 km\n",
    "plt.ylim(-7, -1.8)\n",
    "plt.yticks(np.arange(-7, -1), [f\"$10^{{{i}}}$\" for i in range(-7, -1)])\n",
    "plt.title(\"Key Rate vs Fiber Length for Different $n_X$ Values\")\n",
    "plt.legend()\n",
    "plt.grid(True)\n",
    "\n",
    "# Save and show plot\n",
    "plt.savefig(\"../Training_Data/n_X/good/key_rate_vs_fiber_length.png\", dpi=300, bbox_inches=\"tight\")\n",
    "plt.show()"
   ]
  },
  {
   "cell_type": "code",
   "execution_count": null,
   "metadata": {},
   "outputs": [
    {
     "data": {
      "image/png": "[encoded data removed]",
      "text/plain": [
       "<Figure size 1000x600 with 1 Axes>"
      ]
     },
     "metadata": {},
     "output_type": "display_data"
    }
   ],
   "source": [
    "import numpy as np\n",
    "import matplotlib.pyplot as plt\n",
    "import jax.numpy as jnp  # Assuming JAX is used based on your code\n",
    "\n",
    "# Your optimal_parameters function\n",
    "def optimal_parameters(params):\n",
    "    mu_1, mu_2, P_mu_1, P_mu_2, P_X_value = params\n",
    "    mu_3 = 2e-4\n",
    "    P_mu_3 = 1 - P_mu_1 - P_mu_2\n",
    "    P_Z_value = 1 - P_X_value\n",
    "    mu_k_values = jnp.array([mu_1, mu_2, mu_3])\n",
    "    return params, mu_3, P_mu_3, P_Z_value, mu_k_values\n",
    "\n",
    "# Optimized parameters from your input\n",
    "optimized_params = {\n",
    "    \"mu_1\": 0.34479867337905723,\n",
    "    \"mu_2\": 0.19526100517866424,\n",
    "    \"P_mu_1\": 0.21504895346866,\n",
    "    \"P_mu_2\": 0.4645950203307233,\n",
    "    \"P_X_value\": 0.1\n",
    "}\n",
    "\n",
    "# Extract params as a tuple for the function\n",
    "params_tuple = (\n",
    "    optimized_params[\"mu_1\"],\n",
    "    optimized_params[\"mu_2\"],\n",
    "    optimized_params[\"P_mu_1\"],\n",
    "    optimized_params[\"P_mu_2\"],\n",
    "    optimized_params[\"P_X_value\"]\n",
    ")\n",
    "\n",
    "# Placeholder for the objective function (replace with your actual function)\n",
    "def another_objective(params_dict, L, n_X, alpha, eta_Bob, P_dc_value, epsilon_sec, epsilon_cor, f_EC, e_mis, P_ap, n_event):\n",
    "    # This is a dummy implementation; replace with your actual key rate calculation\n",
    "    # For now, assume a simple exponential decay model as a placeholder\n",
    "    params, mu_3, P_mu_3, P_Z_value, mu_k_values = optimal_parameters(params_tuple)\n",
    "    key_rate = objective(optimized_params, L, n_X, alpha, eta_Bob, P_dc_value, epsilon_sec, epsilon_cor, f_EC, e_mis, P_ap, n_event)[0]\n",
    "    return key_rate  # Assuming it returns a tuple with key_rate as first element\n",
    "\n",
    "# Define distance range\n",
    "L_values = np.linspace(0, 200, 100)  # 0 to 200 km, 1000 points\n",
    "\n",
    "alpha = 0.2  # Attenuation coefficient (dB/km), given in the paper\n",
    "eta_Bob = 0.1  # Detector efficiency, given in the paper\n",
    "P_ap = 0  # After-pulse probability\n",
    "f_EC = 1.16  # Error correction efficiency\n",
    "# secutity error \n",
    "epsilon_sec = 1e-10 # is equal to kappa * secrecy length Kl, range around 1e-10 Scalar, as it is a single value throughout the calculations.\n",
    "# correlation error\n",
    "epsilon_cor = 1e-15 # given in the paper, discussed with range from 0 to 10e-10\n",
    "# Dark count probability\n",
    "n_event = 1  # for single photon event\n",
    "# Misalignment error probability\n",
    "# 4*1e-2          # given in the paper, discussed with range from 0 to 0.1\n",
    "kappa = 1e-15           # given in the paper\n",
    "f_EC = 1.16             # given in the paper, range around 1.1\n",
    "\n",
    "\n",
    "# Calculate key rates for each L value\n",
    "key_rates = []\n",
    "for L in L_values:\n",
    "    key_rate = objective(params_tuple, L, n_X, alpha, eta_Bob, P_dc_value, \n",
    "                         epsilon_sec, epsilon_cor, f_EC, e_mis, P_ap, n_event)[0]\n",
    "    key_rates.append(float(key_rate))  # Convert JAX array to float if needed\n",
    "\n",
    "# Plotting with logarithmic y-axis\n",
    "plt.figure(figsize=(10, 6))\n",
    "plt.semilogy(L_values, key_rates, label='Key Rate', color='blue')  # Use semilogy for log scale\n",
    "plt.xlabel('Distance (km)')\n",
    "plt.ylabel('Key Rate (log scale)')\n",
    "plt.title('Log of Key Rate vs Distance (0 to 200 km)')\n",
    "plt.grid(True, which=\"both\", ls=\"--\")  # Grid for both major and minor ticks\n",
    "plt.legend()\n",
    "plt.show()"
   ]
  },
  {
   "cell_type": "code",
   "execution_count": null,
   "metadata": {},
   "outputs": [],
   "source": []
  }
 ],
 "metadata": {
  "kernelspec": {
   "display_name": "Python 3",
   "language": "python",
   "name": "python3"
  },
  "language_info": {
   "codemirror_mode": {
    "name": "ipython",
    "version": 3
   },
   "file_extension": ".py",
   "mimetype": "text/x-python",
   "name": "python",
   "nbconvert_exporter": "python",
   "pygments_lexer": "ipython3",
   "version": "3.9.20"
  }
 },
 "nbformat": 4,
 "nbformat_minor": 2
}
