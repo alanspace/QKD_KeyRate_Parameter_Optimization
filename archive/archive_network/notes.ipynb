{
 "cells": [
  {
   "cell_type": "markdown",
   "metadata": {},
   "source": [
    "look at the training loss why it is sometimes higher than the validation loss\n",
    "\n",
    "lower the learning rate to 1e-5\n",
    "\n",
    "generate more variant of dataset\n",
    "\n",
    "generate each n_x and then merege the dataset together\n",
    "6000 dataset 10^4 - 10^9\n",
    "shuffle before splitting\n",
    "\n",
    "more epochs 2000 to 5000 \n",
    "\n",
    "\n",
    "\n",
    "look at the trend of the key rate \n",
    "\n",
    "\n",
    "\n",
    "I will do the report\n",
    "\n",
    "\n",
    "\n",
    "a new n_X havent seen before and put to the model and see if the optimized key rate and the predicted key rate reasonably coincide\n",
    "\n",
    "optimization for the n_X only 100 points\n",
    "\n",
    "n_x = 10^8.3 and 10^10\n",
    "\n",
    "\n",
    "\n",
    "\n",
    "\n",
    "\n"
   ]
  }
 ],
 "metadata": {
  "language_info": {
   "name": "python"
  }
 },
 "nbformat": 4,
 "nbformat_minor": 2
}
